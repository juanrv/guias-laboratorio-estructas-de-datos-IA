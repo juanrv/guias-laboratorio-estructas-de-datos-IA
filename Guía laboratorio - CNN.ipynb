{
 "cells": [
  {
   "cell_type": "markdown",
   "id": "f85995d1",
   "metadata": {
    "editable": true,
    "slideshow": {
     "slide_type": ""
    },
    "tags": []
   },
   "source": [
    "# Guía de Laboratorio - CNN y Autoencoder"
   ]
  },
  {
   "cell_type": "markdown",
   "id": "6f07beba-1f0c-4cb7-b47c-c2ebe312b402",
   "metadata": {
    "jp-MarkdownHeadingCollapsed": true
   },
   "source": [
    "## Objetivos"
   ]
  },
  {
   "cell_type": "markdown",
   "id": "5935c407-7a61-4b4d-a37c-51e551076594",
   "metadata": {},
   "source": [
    "Los objetivos de esta guía de laboratorio son los siguientes:\n",
    "* Familiarizar a los estudiantes con el entorno de desarrollo de Jupyter Notebook.\n",
    "* Comprender las bases de la inteligencia artificial.\n",
    "* Comprender las bases y la creacion de las redes neuronales convolucionales.\n",
    "* Entender la creación del autoencoder.\n",
    "\n",
    "Debido a la naturaleza de jupyter notebook el papel de \"ejercicio\" lo cumplen las múltiples celdas de codigo presentes en esta guía de laboratorio, las cuales los estudiantes pueden modificar a su gusto e incluso romper la ejecución natural de este, por ese motivo se recomienda visualizar el funcionamiento base de todo antes de comenzar con la modificación de parámetros."
   ]
  },
  {
   "cell_type": "markdown",
   "id": "5cb54cb9",
   "metadata": {},
   "source": [
    "## Bases para Jupyter Notebook"
   ]
  },
  {
   "cell_type": "markdown",
   "id": "5f6c02cb",
   "metadata": {},
   "source": [
    "Las notebook son documentos creados con celdas, en algunas de ellas puedes escribir texto usando __markdown__ y en otras puedes ejecutar código en python.\n",
    "\n",
    "Puedes ejecutar una celda usando `Shift + Enter` o dando al boton `▶ Run`."
   ]
  },
  {
   "cell_type": "markdown",
   "id": "2bfb347b",
   "metadata": {},
   "source": [
    "Hay dos tipos de celda:\n",
    " - _`Markdown Cell`_: Son las celdas donde puedes escribir texto e incluso adjuntar imágenes, también aceptan LaTeX para la escritura de formulas. \n",
    " \n",
    " $$a_{n} = 2^{(4-n)}$$\n",
    " \n",
    " \n",
    " $$\\lim_{n\\to\\infty}a_n = L$$\n",
    "\n",
    "  \n",
    "      Para ver como hacer esto puedes dar doble click a esta celda para ver su estructura.\n",
    "      \n",
    "  - _`Code Cell`_: Son las celdas donde puedes ejecutar codigo en python, el orden de ejecución aparece al lado izquierdo de la celda marcado con <kbd>In [#]</kbd>, en caso de tener algún tipo de salida esta aparecerá debajo de la celda y marcada al lado izquierdo con <kbd>Out [#]</kbd>."
   ]
  },
  {
   "cell_type": "code",
   "execution_count": 11,
   "id": "01a1007c",
   "metadata": {},
   "outputs": [
    {
     "data": {
      "text/plain": [
       "0.6666666666666666"
      ]
     },
     "execution_count": 11,
     "metadata": {},
     "output_type": "execute_result"
    }
   ],
   "source": [
    "2/3"
   ]
  },
  {
   "cell_type": "markdown",
   "id": "2550882b",
   "metadata": {},
   "source": [
    "Hay que tener en cuenta que no es necesario colocar `print()` ya que jupyter notebook ya asume que queremos ver el resultado de operaciones directas o variables"
   ]
  },
  {
   "cell_type": "code",
   "execution_count": 13,
   "id": "fcdae215",
   "metadata": {},
   "outputs": [
    {
     "data": {
      "text/plain": [
       "(37, 40, 35460612558)"
      ]
     },
     "execution_count": 13,
     "metadata": {},
     "output_type": "execute_result"
    }
   ],
   "source": [
    "a = 37\n",
    "a, a + 3, a*958394934"
   ]
  },
  {
   "cell_type": "markdown",
   "id": "6478dc0f",
   "metadata": {},
   "source": [
    "### Modos"
   ]
  },
  {
   "cell_type": "markdown",
   "id": "6f287b8a",
   "metadata": {},
   "source": [
    "En jupyter notebook hay dos modos, `Edit Mode` y `Command Mode`.\n",
    "\n",
    "- `Edit Mode`: Te permite editar las celdas, para editar una celda puedes dar doble click si es una _markdown cell_ o darle al `Enter`, la celda tendrá un borde verde en este modo.\n",
    "- `Command Mode`: Te permite editar la estructura general de la notebook."
   ]
  },
  {
   "cell_type": "markdown",
   "id": "b1ed6971",
   "metadata": {},
   "source": [
    "### Comandos"
   ]
  },
  {
   "cell_type": "markdown",
   "id": "dc1468c4",
   "metadata": {},
   "source": [
    "Comandos importantes a tener en cuenta para un correcto uso de las notebook:\n",
    "\n",
    "- `Shift + Enter`: Ejecutar las celdas seleccionadas y seleccionar la siguiente.\n",
    "- `Ctrl + Enter`: Ejecutar las celdas seleccionadas.\n",
    "- `Shift + Tab`: Ver información de una función.\n",
    "- `D+D`: En _command mode_, eliminar las celdas seleccionadas.\n",
    "- `0+0`: Reiniciar el kernel para ejecutar todo de nuevo.\n",
    "- `A`: En _command mode_, crea una celda arriba de la seleccionada\n",
    "- `B`: En _command mode_, crea una celda debajo de la seleccionada\n",
    "- `M`: En _command mode_, convierte la celda seleccionada en una _markdown cell_\n",
    "- `Y`: En _command mode_, convierte la celda seleccionada en una _code cell_\n",
    "\n",
    "Para ver más comandos es recomendado ver la sección <kbd>Help > Edit Keyboard Shortcuts</kbd> y agregar uno para el <kbd>Run All Cells Above</kbd>"
   ]
  },
  {
   "cell_type": "markdown",
   "id": "a5749334",
   "metadata": {},
   "source": [
    "## Imports Necesarios"
   ]
  },
  {
   "cell_type": "markdown",
   "id": "e8423140",
   "metadata": {},
   "source": [
    "Imports necesarios para la guía de laboratorio"
   ]
  },
  {
   "cell_type": "code",
   "execution_count": 20,
   "id": "bae609db",
   "metadata": {},
   "outputs": [],
   "source": [
    "import pickle,gzip,math,os,time,shutil,torch,matplotlib as mpl,numpy as np,matplotlib.pyplot as plt\n",
    "import fastcore.all as fc\n",
    "import pandas as pd\n",
    "from collections.abc import Mapping\n",
    "from pathlib import Path\n",
    "from operator import attrgetter,itemgetter\n",
    "from functools import partial\n",
    "from __future__ import annotations\n",
    "from itertools import zip_longest\n",
    "\n",
    "from torch import tensor,nn,optim\n",
    "from torch.utils.data import DataLoader,default_collate, SequentialSampler, RandomSampler, BatchSampler\n",
    "import torch.nn.functional as F\n",
    "import torchvision.transforms.functional as TF\n",
    "from datasets import load_dataset,load_dataset_builder\n",
    "\n",
    "from fastprogress import progress_bar,master_bar\n",
    "from typing import Mapping\n",
    "from fastcore.test import test_close"
   ]
  },
  {
   "cell_type": "code",
   "execution_count": 21,
   "id": "0e2c71c8",
   "metadata": {},
   "outputs": [],
   "source": [
    "import logging\n",
    "logging.disable(logging.WARNING)"
   ]
  },
  {
   "cell_type": "markdown",
   "id": "30302ff9",
   "metadata": {},
   "source": [
    "## Bases"
   ]
  },
  {
   "cell_type": "markdown",
   "id": "20112afa",
   "metadata": {
    "jp-MarkdownHeadingCollapsed": true
   },
   "source": [
    "### Tensores"
   ]
  },
  {
   "cell_type": "code",
   "execution_count": 24,
   "id": "cc6f7706",
   "metadata": {},
   "outputs": [],
   "source": [
    "from torch import tensor"
   ]
  },
  {
   "cell_type": "markdown",
   "id": "50a6e8d5",
   "metadata": {},
   "source": [
    "En matemáticas los tensores son una generalización de escalares, vectores y matrices, los tensores se pueden clasificar segun su rango, teniendo n-rangos."
   ]
  },
  {
   "cell_type": "markdown",
   "id": "9c21848c",
   "metadata": {},
   "source": [
    "Ejemplo de un tensor de rango 0 o simplemente un escalar."
   ]
  },
  {
   "cell_type": "code",
   "execution_count": 27,
   "id": "a99725bb",
   "metadata": {},
   "outputs": [
    {
     "data": {
      "text/plain": [
       "tensor(14029309)"
      ]
     },
     "execution_count": 27,
     "metadata": {},
     "output_type": "execute_result"
    }
   ],
   "source": [
    "a = torch.tensor(14029309)\n",
    "a"
   ]
  },
  {
   "cell_type": "code",
   "execution_count": 28,
   "id": "e9bd9037",
   "metadata": {},
   "outputs": [
    {
     "data": {
      "text/plain": [
       "tensor(9902320)"
      ]
     },
     "execution_count": 28,
     "metadata": {},
     "output_type": "execute_result"
    }
   ],
   "source": [
    "a = 9902320\n",
    "b = torch.tensor(a)\n",
    "b"
   ]
  },
  {
   "cell_type": "markdown",
   "id": "ef9e5598",
   "metadata": {},
   "source": [
    "Ejemplo de un tensor de rango 1 o vector."
   ]
  },
  {
   "cell_type": "code",
   "execution_count": 30,
   "id": "d1d519af",
   "metadata": {},
   "outputs": [
    {
     "data": {
      "text/plain": [
       "tensor([ 3.0000,  2.1000, 42.0000, 13.0000])"
      ]
     },
     "execution_count": 30,
     "metadata": {},
     "output_type": "execute_result"
    }
   ],
   "source": [
    "a = [3,2.1,42,13]\n",
    "b = torch.tensor(a)\n",
    "b"
   ]
  },
  {
   "cell_type": "markdown",
   "id": "2b1ecced",
   "metadata": {},
   "source": [
    "Ejemplo de un tensor de rango 2 o matriz."
   ]
  },
  {
   "cell_type": "code",
   "execution_count": 32,
   "id": "59cabf8c",
   "metadata": {},
   "outputs": [
    {
     "data": {
      "text/plain": [
       "tensor([[4, 3, 1],\n",
       "        [4, 4, 1]])"
      ]
     },
     "execution_count": 32,
     "metadata": {},
     "output_type": "execute_result"
    }
   ],
   "source": [
    "a = [[4,3,1], [4,4,1]]\n",
    "a = torch.tensor(a)\n",
    "a"
   ]
  },
  {
   "cell_type": "markdown",
   "id": "c86b980c",
   "metadata": {},
   "source": [
    "Podemos crear tensores de diferentes formas y tamaños."
   ]
  },
  {
   "cell_type": "code",
   "execution_count": 34,
   "id": "fb347906",
   "metadata": {},
   "outputs": [
    {
     "data": {
      "text/plain": [
       "tensor([[0.1285, 0.6291, 0.5716],\n",
       "        [0.6030, 0.3901, 0.9650]])"
      ]
     },
     "execution_count": 34,
     "metadata": {},
     "output_type": "execute_result"
    }
   ],
   "source": [
    "shape = (2,3)\n",
    "a = torch.rand(shape)\n",
    "a"
   ]
  },
  {
   "cell_type": "markdown",
   "id": "f6a398b4",
   "metadata": {},
   "source": [
    "Tensor de rango 3"
   ]
  },
  {
   "cell_type": "code",
   "execution_count": 36,
   "id": "e63d78e9",
   "metadata": {},
   "outputs": [
    {
     "data": {
      "text/plain": [
       "tensor([[[0.4493, 0.0734, 0.4009, 0.5304],\n",
       "         [0.1788, 0.8315, 0.2731, 0.8790],\n",
       "         [0.7296, 0.4188, 0.7903, 0.9022]],\n",
       "\n",
       "        [[0.8894, 0.0755, 0.5262, 0.6048],\n",
       "         [0.4797, 0.6211, 0.2939, 0.7071],\n",
       "         [0.6548, 0.9709, 0.0704, 0.5537]],\n",
       "\n",
       "        [[0.4484, 0.6457, 0.6047, 0.7035],\n",
       "         [0.7989, 0.8245, 0.6689, 0.5128],\n",
       "         [0.7572, 0.2100, 0.7431, 0.0439]],\n",
       "\n",
       "        [[0.4857, 0.0781, 0.1138, 0.4328],\n",
       "         [0.4432, 0.3210, 0.0761, 0.4074],\n",
       "         [0.3467, 0.0521, 0.2013, 0.5384]],\n",
       "\n",
       "        [[0.0868, 0.0313, 0.5759, 0.1467],\n",
       "         [0.7837, 0.4743, 0.1285, 0.4539],\n",
       "         [0.9609, 0.0713, 0.3028, 0.5968]]])"
      ]
     },
     "execution_count": 36,
     "metadata": {},
     "output_type": "execute_result"
    }
   ],
   "source": [
    "shape = (5,3,4)\n",
    "a = torch.rand(shape)\n",
    "a"
   ]
  },
  {
   "cell_type": "markdown",
   "id": "818a41d3",
   "metadata": {},
   "source": [
    "Tensor de rango 4"
   ]
  },
  {
   "cell_type": "code",
   "execution_count": 38,
   "id": "473ab101",
   "metadata": {
    "scrolled": true
   },
   "outputs": [
    {
     "data": {
      "text/plain": [
       "tensor([[[[0.8502, 0.5302],\n",
       "          [0.0019, 0.3564],\n",
       "          [0.0306, 0.0144],\n",
       "          [0.3462, 0.9917]],\n",
       "\n",
       "         [[0.4852, 0.3828],\n",
       "          [0.4704, 0.1050],\n",
       "          [0.8343, 0.5196],\n",
       "          [0.7110, 0.2242]],\n",
       "\n",
       "         [[0.9757, 0.8111],\n",
       "          [0.9208, 0.3595],\n",
       "          [0.0898, 0.0265],\n",
       "          [0.9561, 0.4828]]],\n",
       "\n",
       "\n",
       "        [[[0.7073, 0.4636],\n",
       "          [0.2527, 0.7594],\n",
       "          [0.6644, 0.2373],\n",
       "          [0.8782, 0.4773]],\n",
       "\n",
       "         [[0.2802, 0.8531],\n",
       "          [0.7375, 0.0937],\n",
       "          [0.9830, 0.7051],\n",
       "          [0.7687, 0.6651]],\n",
       "\n",
       "         [[0.4721, 0.5381],\n",
       "          [0.8133, 0.5257],\n",
       "          [0.7631, 0.7217],\n",
       "          [0.1631, 0.8457]]],\n",
       "\n",
       "\n",
       "        [[[0.4302, 0.6345],\n",
       "          [0.0991, 0.9914],\n",
       "          [0.2819, 0.2162],\n",
       "          [0.7482, 0.5843]],\n",
       "\n",
       "         [[0.6058, 0.6808],\n",
       "          [0.9062, 0.4537],\n",
       "          [0.0944, 0.3366],\n",
       "          [0.4408, 0.8992]],\n",
       "\n",
       "         [[0.0131, 0.0738],\n",
       "          [0.8156, 0.7340],\n",
       "          [0.1207, 0.3895],\n",
       "          [0.8195, 0.3545]]],\n",
       "\n",
       "\n",
       "        [[[0.9680, 0.7537],\n",
       "          [0.6590, 0.0159],\n",
       "          [0.0273, 0.2224],\n",
       "          [0.8004, 0.6322]],\n",
       "\n",
       "         [[0.6375, 0.3735],\n",
       "          [0.8263, 0.4595],\n",
       "          [0.2591, 0.3953],\n",
       "          [0.0242, 0.8303]],\n",
       "\n",
       "         [[0.2635, 0.9261],\n",
       "          [0.0476, 0.1924],\n",
       "          [0.9787, 0.2825],\n",
       "          [0.4541, 0.8884]]],\n",
       "\n",
       "\n",
       "        [[[0.3383, 0.8463],\n",
       "          [0.5938, 0.1657],\n",
       "          [0.1234, 0.7392],\n",
       "          [0.8764, 0.0224]],\n",
       "\n",
       "         [[0.8015, 0.8845],\n",
       "          [0.0091, 0.6195],\n",
       "          [0.2950, 0.2929],\n",
       "          [0.3106, 0.3489]],\n",
       "\n",
       "         [[0.2561, 0.9979],\n",
       "          [0.3711, 0.2414],\n",
       "          [0.1201, 0.1410],\n",
       "          [0.2266, 0.4275]]]])"
      ]
     },
     "execution_count": 38,
     "metadata": {},
     "output_type": "execute_result"
    }
   ],
   "source": [
    "shape = (5,3,4,2)\n",
    "a = torch.rand(shape)\n",
    "a"
   ]
  },
  {
   "cell_type": "markdown",
   "id": "a5779b40",
   "metadata": {},
   "source": [
    "Suma de tensores con escalares"
   ]
  },
  {
   "cell_type": "code",
   "execution_count": 40,
   "id": "dd01ffcd",
   "metadata": {},
   "outputs": [
    {
     "data": {
      "text/plain": [
       "(tensor([0.3467, 0.8244]), tensor([1.3467, 1.8244]))"
      ]
     },
     "execution_count": 40,
     "metadata": {},
     "output_type": "execute_result"
    }
   ],
   "source": [
    "a = torch.rand(2)\n",
    "a, a + 1"
   ]
  },
  {
   "cell_type": "markdown",
   "id": "d68c2033",
   "metadata": {},
   "source": [
    "Multiplicación de tensores por escalar"
   ]
  },
  {
   "cell_type": "code",
   "execution_count": 42,
   "id": "c4dd1c60",
   "metadata": {},
   "outputs": [
    {
     "data": {
      "text/plain": [
       "(tensor([1., 1., 1.]), tensor([2., 2., 2.]), tensor([45., 45., 45.]))"
      ]
     },
     "execution_count": 42,
     "metadata": {},
     "output_type": "execute_result"
    }
   ],
   "source": [
    "a = torch.ones(3)\n",
    "a, a * 2, a * 45"
   ]
  },
  {
   "cell_type": "markdown",
   "id": "51951fef",
   "metadata": {},
   "source": [
    "Internamente cuando multiplicas un tensor de X dimensión por un escalar se usa algo llamado __Broadcasting__"
   ]
  },
  {
   "cell_type": "markdown",
   "id": "fc37b202",
   "metadata": {
    "jp-MarkdownHeadingCollapsed": true
   },
   "source": [
    "### Broadcasting "
   ]
  },
  {
   "cell_type": "markdown",
   "id": "7fdac6f9",
   "metadata": {},
   "source": [
    "Internamente para las operaciones de multiplicaciones entre tensores y por consiguiente optimizar procesos como la multiplicación de matrices se usa algo conocido como __broadcasting__, inicialmente es un concepto procedente de un lenguaje de programación conocido como [APL](https://tryapl.org/) donde se podia para las operaciones como la de un tensor por un escalar."
   ]
  },
  {
   "cell_type": "code",
   "execution_count": 46,
   "id": "7627e5a2",
   "metadata": {},
   "outputs": [
    {
     "data": {
      "text/plain": [
       "(tensor([2., 2., 2., 2., 2.]),\n",
       " tensor([3., 3., 3., 3., 3.]),\n",
       " tensor([True, True, True, True, True]))"
      ]
     },
     "execution_count": 46,
     "metadata": {},
     "output_type": "execute_result"
    }
   ],
   "source": [
    "a = torch.ones(5)\n",
    "a + 1, a * 3, a > 0"
   ]
  },
  {
   "cell_type": "markdown",
   "id": "0f7bfae8",
   "metadata": {},
   "source": [
    "Sin embargo la idea del broadcasting no se quedó ahí, gracias a otro lenguaje de programación algo desconocido llamado [Yorick](https://software.llnl.gov/yorick-doc/manual/yorick_50.html) se implemento una forma de realizar broadcasting con tensores de rango superior y no solo escalares.\n",
    "\n",
    "De esta manera podemos hacer cosas como un broadcast de una matriz con un vector"
   ]
  },
  {
   "cell_type": "code",
   "execution_count": 48,
   "id": "ed025681",
   "metadata": {},
   "outputs": [
    {
     "data": {
      "text/plain": [
       "tensor([[1., 1., 1.],\n",
       "        [1., 1., 1.],\n",
       "        [1., 1., 1.]])"
      ]
     },
     "execution_count": 48,
     "metadata": {},
     "output_type": "execute_result"
    }
   ],
   "source": [
    "matrix = torch.ones(3,3);matrix"
   ]
  },
  {
   "cell_type": "code",
   "execution_count": 49,
   "id": "5b30107c",
   "metadata": {},
   "outputs": [
    {
     "data": {
      "text/plain": [
       "tensor([0.0935, 0.8740, 0.9046])"
      ]
     },
     "execution_count": 49,
     "metadata": {},
     "output_type": "execute_result"
    }
   ],
   "source": [
    "vector = torch.rand(3);vector"
   ]
  },
  {
   "cell_type": "code",
   "execution_count": 50,
   "id": "834ad559",
   "metadata": {},
   "outputs": [
    {
     "data": {
      "text/plain": [
       "(tensor([[1.0935, 1.8740, 1.9046],\n",
       "         [1.0935, 1.8740, 1.9046],\n",
       "         [1.0935, 1.8740, 1.9046]]),\n",
       " tensor([[0.0935, 0.8740, 0.9046],\n",
       "         [0.0935, 0.8740, 0.9046],\n",
       "         [0.0935, 0.8740, 0.9046]]),\n",
       " tensor([[10.6975,  1.1441,  1.1055],\n",
       "         [10.6975,  1.1441,  1.1055],\n",
       "         [10.6975,  1.1441,  1.1055]]))"
      ]
     },
     "execution_count": 50,
     "metadata": {},
     "output_type": "execute_result"
    }
   ],
   "source": [
    "matrix + vector, matrix * vector, matrix / vector"
   ]
  },
  {
   "cell_type": "markdown",
   "id": "2a8c5a83",
   "metadata": {},
   "source": [
    "Los tensores también nos permiten agregar ejes colocando `[:]` que sigifica que tomamos todo de ese eje y `[None]` para agregar un eje más."
   ]
  },
  {
   "cell_type": "code",
   "execution_count": 52,
   "id": "5496dd26",
   "metadata": {},
   "outputs": [
    {
     "data": {
      "text/plain": [
       "(torch.Size([3]),\n",
       " torch.Size([1, 3, 1, 1]),\n",
       " tensor([[[[0.0935]],\n",
       " \n",
       "          [[0.8740]],\n",
       " \n",
       "          [[0.9046]]]]))"
      ]
     },
     "execution_count": 52,
     "metadata": {},
     "output_type": "execute_result"
    }
   ],
   "source": [
    "vector.shape, vector[None,:,None,None].shape, vector[None,:,None,None]"
   ]
  },
  {
   "cell_type": "markdown",
   "id": "72e6fec4",
   "metadata": {},
   "source": [
    "De esta manera podemos hacer el broadcasting con un \"vector vertical\" y hacerlo en las columnas en vez de las filas"
   ]
  },
  {
   "cell_type": "code",
   "execution_count": 54,
   "id": "ea3ea901",
   "metadata": {},
   "outputs": [
    {
     "data": {
      "text/plain": [
       "tensor([[0.0935],\n",
       "        [0.8740],\n",
       "        [0.9046]])"
      ]
     },
     "execution_count": 54,
     "metadata": {},
     "output_type": "execute_result"
    }
   ],
   "source": [
    "vertical_vector = vector[:,None]; vertical_vector"
   ]
  },
  {
   "cell_type": "code",
   "execution_count": 55,
   "id": "50551002",
   "metadata": {},
   "outputs": [
    {
     "data": {
      "text/plain": [
       "(tensor([[1.0935, 1.0935, 1.0935],\n",
       "         [1.8740, 1.8740, 1.8740],\n",
       "         [1.9046, 1.9046, 1.9046]]),\n",
       " tensor([[0.0935, 0.0935, 0.0935],\n",
       "         [0.8740, 0.8740, 0.8740],\n",
       "         [0.9046, 0.9046, 0.9046]]),\n",
       " tensor([[10.6975, 10.6975, 10.6975],\n",
       "         [ 1.1441,  1.1441,  1.1441],\n",
       "         [ 1.1055,  1.1055,  1.1055]]))"
      ]
     },
     "execution_count": 55,
     "metadata": {},
     "output_type": "execute_result"
    }
   ],
   "source": [
    "matrix + vertical_vector, matrix * vertical_vector, matrix / vertical_vector"
   ]
  },
  {
   "cell_type": "markdown",
   "id": "4e352a99",
   "metadata": {},
   "source": [
    "La matriz no necesariamente tiene que ser cuadrada"
   ]
  },
  {
   "cell_type": "code",
   "execution_count": 57,
   "id": "8750c604",
   "metadata": {},
   "outputs": [
    {
     "data": {
      "text/plain": [
       "tensor([[1., 1., 1.],\n",
       "        [1., 1., 1.],\n",
       "        [1., 1., 1.],\n",
       "        [1., 1., 1.],\n",
       "        [1., 1., 1.],\n",
       "        [1., 1., 1.],\n",
       "        [1., 1., 1.],\n",
       "        [1., 1., 1.],\n",
       "        [1., 1., 1.],\n",
       "        [1., 1., 1.]])"
      ]
     },
     "execution_count": 57,
     "metadata": {},
     "output_type": "execute_result"
    }
   ],
   "source": [
    "matrix = torch.ones(10,3); matrix"
   ]
  },
  {
   "cell_type": "code",
   "execution_count": 58,
   "id": "0922d95d",
   "metadata": {},
   "outputs": [
    {
     "data": {
      "text/plain": [
       "(tensor([[0.0935, 0.8740, 0.9046],\n",
       "         [0.0935, 0.8740, 0.9046],\n",
       "         [0.0935, 0.8740, 0.9046],\n",
       "         [0.0935, 0.8740, 0.9046],\n",
       "         [0.0935, 0.8740, 0.9046],\n",
       "         [0.0935, 0.8740, 0.9046],\n",
       "         [0.0935, 0.8740, 0.9046],\n",
       "         [0.0935, 0.8740, 0.9046],\n",
       "         [0.0935, 0.8740, 0.9046],\n",
       "         [0.0935, 0.8740, 0.9046]]),\n",
       " tensor([[1.0935, 1.8740, 1.9046],\n",
       "         [1.0935, 1.8740, 1.9046],\n",
       "         [1.0935, 1.8740, 1.9046],\n",
       "         [1.0935, 1.8740, 1.9046],\n",
       "         [1.0935, 1.8740, 1.9046],\n",
       "         [1.0935, 1.8740, 1.9046],\n",
       "         [1.0935, 1.8740, 1.9046],\n",
       "         [1.0935, 1.8740, 1.9046],\n",
       "         [1.0935, 1.8740, 1.9046],\n",
       "         [1.0935, 1.8740, 1.9046]]))"
      ]
     },
     "execution_count": 58,
     "metadata": {},
     "output_type": "execute_result"
    }
   ],
   "source": [
    "matrix * vector, matrix + vector"
   ]
  },
  {
   "cell_type": "markdown",
   "id": "59bdf783",
   "metadata": {},
   "source": [
    "Pero si lo hacemos con el \"vector vertical\" no podremos."
   ]
  },
  {
   "cell_type": "code",
   "execution_count": 60,
   "id": "1ef17805",
   "metadata": {
    "scrolled": true,
    "tags": [
     "raises-exception"
    ]
   },
   "outputs": [
    {
     "ename": "RuntimeError",
     "evalue": "The size of tensor a (10) must match the size of tensor b (3) at non-singleton dimension 0",
     "output_type": "error",
     "traceback": [
      "\u001b[1;31m---------------------------------------------------------------------------\u001b[0m",
      "\u001b[1;31mRuntimeError\u001b[0m                              Traceback (most recent call last)",
      "Cell \u001b[1;32mIn[60], line 1\u001b[0m\n\u001b[1;32m----> 1\u001b[0m matrix \u001b[38;5;241m*\u001b[39m vertical_vector\n",
      "\u001b[1;31mRuntimeError\u001b[0m: The size of tensor a (10) must match the size of tensor b (3) at non-singleton dimension 0"
     ]
    }
   ],
   "source": [
    "matrix * vertical_vector"
   ]
  },
  {
   "cell_type": "markdown",
   "id": "08076a39",
   "metadata": {},
   "source": [
    "Esto es debido a que el broadcasting tiene normas y no se puede usar con cualquier tamaño o rango de tensor, debido a que internamente lo que está haciendo es expandir los valores al tamaño necesario, no ocupa memoria ya que usa un truco a la hora de leer en memoria.\n",
    "\n",
    " - La dimension debe tener el mismo tamaño o ser 1\n",
    " - Numpy/Pytorch empieza a verificar los tamaños de derecha a izquierda\n",
    " \n",
    "Por ejemplo si tenemos algo como una imagen de 256x256x3 por los 3 canales RGB, podemos hacer algo así\n",
    "        \n",
    "        Imagen      (256 x 256 x 3)\n",
    "        Escalar                  3\n",
    "        Resultado   (256 x 256 x 3)"
   ]
  },
  {
   "cell_type": "code",
   "execution_count": 62,
   "id": "eaecc2a1",
   "metadata": {},
   "outputs": [
    {
     "data": {
      "text/plain": [
       "torch.Size([256, 256, 3])"
      ]
     },
     "execution_count": 62,
     "metadata": {},
     "output_type": "execute_result"
    }
   ],
   "source": [
    "a = torch.rand(256,256,3)\n",
    "b = torch.ones(3)\n",
    "(a*b).shape"
   ]
  },
  {
   "cell_type": "code",
   "execution_count": 63,
   "id": "d36d2649",
   "metadata": {},
   "outputs": [
    {
     "data": {
      "text/plain": [
       "torch.Size([9, 9, 5, 5])"
      ]
     },
     "execution_count": 63,
     "metadata": {},
     "output_type": "execute_result"
    }
   ],
   "source": [
    "a = torch.ones(9,9,5,5)\n",
    "b = torch.rand(9,1,5,5)\n",
    "(a*b).shape"
   ]
  },
  {
   "cell_type": "code",
   "execution_count": 64,
   "id": "6c1f18a4",
   "metadata": {
    "tags": [
     "raises-exception"
    ]
   },
   "outputs": [
    {
     "ename": "RuntimeError",
     "evalue": "The size of tensor a (40) must match the size of tensor b (39) at non-singleton dimension 1",
     "output_type": "error",
     "traceback": [
      "\u001b[1;31m---------------------------------------------------------------------------\u001b[0m",
      "\u001b[1;31mRuntimeError\u001b[0m                              Traceback (most recent call last)",
      "Cell \u001b[1;32mIn[64], line 3\u001b[0m\n\u001b[0;32m      1\u001b[0m a \u001b[38;5;241m=\u001b[39m torch\u001b[38;5;241m.\u001b[39mones(\u001b[38;5;241m10\u001b[39m,\u001b[38;5;241m40\u001b[39m,\u001b[38;5;241m2\u001b[39m,\u001b[38;5;241m54\u001b[39m)\n\u001b[0;32m      2\u001b[0m b \u001b[38;5;241m=\u001b[39m torch\u001b[38;5;241m.\u001b[39mones(\u001b[38;5;241m10\u001b[39m,\u001b[38;5;241m39\u001b[39m,\u001b[38;5;241m2\u001b[39m,\u001b[38;5;241m54\u001b[39m)\n\u001b[1;32m----> 3\u001b[0m a\u001b[38;5;241m*\u001b[39mb\n",
      "\u001b[1;31mRuntimeError\u001b[0m: The size of tensor a (40) must match the size of tensor b (39) at non-singleton dimension 1"
     ]
    }
   ],
   "source": [
    "a = torch.ones(10,40,2,54)\n",
    "b = torch.ones(10,39,2,54)\n",
    "a*b"
   ]
  },
  {
   "cell_type": "markdown",
   "id": "56fdec7c",
   "metadata": {},
   "source": [
    "### Multiplicación de Matrices"
   ]
  },
  {
   "attachments": {
    "image.png": {
     "image/png": "[encoded data removed]"
    }
   },
   "cell_type": "markdown",
   "id": "e25d84c7",
   "metadata": {},
   "source": [
    "Internamente toda inteligencia artficial que use redes neuronales utilizan como base la multiplicación de matrices, por ejemplo esta red neuronal convolucional en excel.\n",
    "\n",
    "![image.png](attachment:image.png)"
   ]
  },
  {
   "cell_type": "markdown",
   "id": "110c69b3",
   "metadata": {},
   "source": [
    "Por este motivo es importante recordar la multiplicación de matrices.\n",
    "\n",
    " $$ \\begin{bmatrix}\n",
    "         a_{11} & a_{12} & \\cdots & a_{1n}\\\\\n",
    "         a_{21} & a_{22} & \\cdots & a_{2n}\\\\\n",
    "         \\vdots & \\vdots & \\ddots & \\vdots\\\\\n",
    "         a_{m1} & a_{m2} & \\cdots & a_{mn}\\\\ \n",
    "     \\end{bmatrix}\n",
    "     \\times\n",
    "     \\begin{bmatrix}\n",
    "         b_{11} & b_{12} & \\cdots & b_{1p}\\\\\n",
    "         b_{21} & b_{22} & \\cdots & b_{2p}\\\\\n",
    "         \\vdots & \\vdots & \\ddots & \\vdots\\\\\n",
    "         b_{n1} & b_{n2} & \\cdots & b_{np}\\\\\n",
    "     \\end{bmatrix}\n",
    "      =\n",
    "     \\begin{bmatrix}\n",
    "         c_{11} & c_{12} & \\cdots & c_{1p}\\\\\n",
    "         c_{21} & c_{22} & \\cdots & c_{2p}\\\\\n",
    "         \\vdots & \\vdots & \\ddots & \\vdots\\\\\n",
    "         c_{m1} & c_{m2} & \\cdots & c_{mp}\\\\\n",
    "     \\end{bmatrix}\\\\\n",
    "  c_{ij}= a_{i1} b_{1j} + a_{i2} b_{2j} +\\cdots+ a_{in} + b_{nj} = \\sum_{k=1}^n a_{ik}b_{kj}  $$"
   ]
  },
  {
   "cell_type": "markdown",
   "id": "a0802a3d",
   "metadata": {},
   "source": [
    "Con _broadcasting_"
   ]
  },
  {
   "cell_type": "code",
   "execution_count": 69,
   "id": "c8a83e41",
   "metadata": {},
   "outputs": [],
   "source": [
    "a = torch.rand(5,10)\n",
    "b = torch.rand(10,6)"
   ]
  },
  {
   "cell_type": "code",
   "execution_count": 70,
   "id": "bee6989f",
   "metadata": {},
   "outputs": [],
   "source": [
    "def matmul(a,b):\n",
    "    (ar,ac),(br,bc) = a.shape,b.shape\n",
    "    c = torch.zeros(ar, bc)\n",
    "    for i in range(ar):\n",
    "        c[i]   = (a[i,:,None] * b).sum(dim=0) \n",
    "    return c"
   ]
  },
  {
   "cell_type": "code",
   "execution_count": 71,
   "id": "69ad19cc",
   "metadata": {},
   "outputs": [
    {
     "data": {
      "text/plain": [
       "torch.Size([5, 6])"
      ]
     },
     "execution_count": 71,
     "metadata": {},
     "output_type": "execute_result"
    }
   ],
   "source": [
    "c = matmul(a,b)\n",
    "c.shape"
   ]
  },
  {
   "cell_type": "markdown",
   "id": "10007e95",
   "metadata": {},
   "source": [
    "Además de cosas como el broadcasting también se hace uso de algo llamado __Einstein Summation__ que es una forma compacta de representar la combinación de productos y sumas, lo que hay que tener en cuenta para usarlo es lo siguiente: \n",
    "\n",
    "- Letras repetidas en la cadena de entrada signfica que los valores en esos ejes se van a multiplicar juntos\n",
    "- Ignorar una letra en l cadena de salida signfica que los valores en ese eje se van a sumar"
   ]
  },
  {
   "cell_type": "code",
   "execution_count": 73,
   "id": "e369b02c",
   "metadata": {},
   "outputs": [
    {
     "data": {
      "text/plain": [
       "(torch.Size([4, 3]), torch.Size([3, 5]))"
      ]
     },
     "execution_count": 73,
     "metadata": {},
     "output_type": "execute_result"
    }
   ],
   "source": [
    "a = torch.rand(4,3)\n",
    "b = torch.rand(3,5)\n",
    "a.shape, b.shape"
   ]
  },
  {
   "attachments": {
    "image-5.png": {
     "image/png": "[encoded data removed]"
    }
   },
   "cell_type": "markdown",
   "id": "850e9753",
   "metadata": {},
   "source": [
    "$$a[i,j]$$  $$b[j,k]$$\n",
    "\n",
    "Entonces $$c[i, k] = (a[i,1] * b[1,k] + a[i,2] * b[2,k] + ... + a[i,j] * b[j,k])$$\n",
    "\n",
    "La matriz ___c[i, k]___ también lo podemos conseguir de la siguiente manera\n",
    "\n",
    "$$c[i, k] = (a[i,:] * b[:,k]).sum()$$\n",
    "\n",
    "Porque recuerda que `[:]` significa que tomas todos los valores de ese eje y la multiplicacion de matrices es el producto punto de esos dos vectores \n",
    "![image-5.png](attachment:image-5.png)\n",
    "Y así con todo lo demás.\n",
    "\n",
    "Ahora con __`Einsum`__"
   ]
  },
  {
   "cell_type": "code",
   "execution_count": 75,
   "id": "77c64f80",
   "metadata": {
    "scrolled": true
   },
   "outputs": [
    {
     "data": {
      "text/plain": [
       "(tensor([[0.6477, 0.3758, 0.1451, 0.1230, 0.6175],\n",
       "         [0.8164, 0.4795, 0.1878, 0.1956, 0.7717],\n",
       "         [1.7329, 0.9399, 0.4192, 0.6050, 1.4815],\n",
       "         [1.4103, 0.9559, 0.3424, 0.4683, 1.4412]]),\n",
       " torch.Size([4, 5]))"
      ]
     },
     "execution_count": 75,
     "metadata": {},
     "output_type": "execute_result"
    }
   ],
   "source": [
    "c = torch.einsum('ij,jk->ik', a,b)\n",
    "c, c.shape"
   ]
  },
  {
   "cell_type": "markdown",
   "id": "ebd85ade",
   "metadata": {},
   "source": [
    "Pytorch ya tiene su propia implementación de la multiplicación de matrices y se hace con `@`"
   ]
  },
  {
   "cell_type": "code",
   "execution_count": 77,
   "id": "4c382685",
   "metadata": {},
   "outputs": [
    {
     "data": {
      "text/plain": [
       "(tensor([[0.6477, 0.3758, 0.1451, 0.1230, 0.6175],\n",
       "         [0.8164, 0.4795, 0.1878, 0.1956, 0.7717],\n",
       "         [1.7329, 0.9399, 0.4192, 0.6050, 1.4815],\n",
       "         [1.4103, 0.9559, 0.3424, 0.4683, 1.4412]]),\n",
       " torch.Size([4, 5]))"
      ]
     },
     "execution_count": 77,
     "metadata": {},
     "output_type": "execute_result"
    }
   ],
   "source": [
    "a@b,(a@b).shape"
   ]
  },
  {
   "cell_type": "markdown",
   "id": "12e99c60",
   "metadata": {
    "jp-MarkdownHeadingCollapsed": true
   },
   "source": [
    "### Red Neuronal"
   ]
  },
  {
   "attachments": {
    "image.png": {
     "image/png": "[encoded data removed]"
    }
   },
   "cell_type": "markdown",
   "id": "7f732433",
   "metadata": {},
   "source": [
    "Una red neuronal es un conjunto de nodos o neuronas separadas en capas y conectadas entre si, cada neurona tiene una serie de valores de entrada, un peso asignado a cada valor y una o multiples salidas.\n",
    "\n",
    "![image.png](attachment:image.png)\n",
    "\n",
    "Cuando se entrena una red neuronal lo que se hace es actualizar los pesos de cada capa haciendo uso de multiples tecnicas, una de las más comunes es el _Stochastic Gradient Descent_."
   ]
  },
  {
   "cell_type": "markdown",
   "id": "f61b93d2",
   "metadata": {
    "jp-MarkdownHeadingCollapsed": true
   },
   "source": [
    "### Modelo"
   ]
  },
  {
   "cell_type": "markdown",
   "id": "a73517c2",
   "metadata": {},
   "source": [
    "Un modelo en inteligencia artificial es una estructura que agrupa al algoritmo de inteligencia artificial como tal, en este caso las diferentes redes neuronales, estas se entrenan posteriormente en base a un conjunto de datos."
   ]
  },
  {
   "cell_type": "markdown",
   "id": "545126a5",
   "metadata": {
    "jp-MarkdownHeadingCollapsed": true
   },
   "source": [
    "### _Learning Rate_"
   ]
  },
  {
   "cell_type": "markdown",
   "id": "4093ab43",
   "metadata": {},
   "source": [
    "En inteligencia artificial existe un concepto y parámetro general llamado _learning rate_, dicta que tanto van a cambiar los pesos dentro de la cada capa de la red neuronal.\n",
    "\n",
    "Encontrar un _learning rate_ adecuado para un modelo es una tarea compleja debido a que si este es muy pequeño se tiene un aprendizaje mermado y que posiblemente se quede estancado, por lo contrario si se usa un _learning rate_ elevado el entrenamiento será descontrolado y erróneo, una recomendación general es usar valores dentro del rango __(0.0, 0.5]__."
   ]
  },
  {
   "cell_type": "markdown",
   "id": "42dfb2aa",
   "metadata": {
    "jp-MarkdownHeadingCollapsed": true
   },
   "source": [
    "### Derivadas y Regla de la cadena"
   ]
  },
  {
   "cell_type": "markdown",
   "id": "2c77529c",
   "metadata": {},
   "source": [
    "Otra base para crear una IA con redes neuronales son las derivadas y la regla de la cadena\n",
    "\n",
    "Para empezar una capa de una red neuronal se toma como la función ___f(x)___ y cuando vamos a realizar una actualización de la matriz de los pesos se debe realizar la derivada de esa función ___f'(x)___, debido a que por lo general los modelos de inteligencia artificial se componen de redes neuronales con multiples capas llegara el punto en el que se tendrá una cadena de funciones\n",
    "\n",
    "Por ejemplo.\n",
    "\n",
    "Se tiene una red neuronal de dos capas, la primera ___f(x)___ y la segunda ___g(x)___ debido a que la segunda capa de la red usa los resultados de la primera capa se tiene que el resultado final de la red tiene la forma ___g(f(x))___.\n",
    "Ya que para realizar una actualización de los pesos dentro de la red se tiene que hacer una derivada para obtener un gradiente y multiplicarlo por un _learning rate_ para actualizar los pesos de cada capa se debe hacer estas derivadas, para ello se hace uso de la regla de la cadena.\n",
    "\n",
    "Teniendo \n",
    "$$ f(x) = y     $$\n",
    "$$f'(x) = \\frac{dy}{dx} $$\n",
    "$$ g(y) = z  $$\n",
    "$$ g'(y) = \\frac{dz}{dy}$$ \n",
    "\n",
    "_z_ e _y_ son variables dependientes de _x_\n",
    "\n",
    "Para obtener la derivada de _g(y)_ se hace uso de la regla de la cadena que dice:\n",
    "\n",
    "$$ g'(y) =  \\frac{dz}{dx} = \\frac{dz}{dy} \\cdot \\frac{dy}{dx} $$\n",
    "\n",
    "Afortunadamente pytorch ya hace todo este proceso automaticamente y es llamado __backpropagation__."
   ]
  },
  {
   "cell_type": "markdown",
   "id": "c3d755fb",
   "metadata": {
    "jp-MarkdownHeadingCollapsed": true
   },
   "source": [
    "### Épocas"
   ]
  },
  {
   "cell_type": "markdown",
   "id": "afd66ed7",
   "metadata": {},
   "source": [
    "Se le llama época a un ciclo de entrenamiento del modelo de inteligencia artificial"
   ]
  },
  {
   "cell_type": "markdown",
   "id": "33923656",
   "metadata": {
    "jp-MarkdownHeadingCollapsed": true
   },
   "source": [
    "### _Loss_"
   ]
  },
  {
   "cell_type": "markdown",
   "id": "dc01cf5f",
   "metadata": {},
   "source": [
    "La _loss_ o perdida es un valor que nos dice que tan alejadas las predicciones del modelo con respecto a los datos de entrenamiento, de esta manera podemos medir u observar el ritmo al que está entrenando el modelo.\n",
    "\n",
    "La perdida se puede calcular de multiples formas, pero la más común en procesamiento de imágenes es usando el _mean shift error_ o _cross entropy_."
   ]
  },
  {
   "cell_type": "code",
   "execution_count": 90,
   "id": "c55f5693-e72c-4cde-9b4c-c6df9f3b868a",
   "metadata": {
    "scrolled": true
   },
   "outputs": [
    {
     "data": {
      "text/plain": [
       "\u001b[1;31mSignature:\u001b[0m\n",
       "\u001b[0mF\u001b[0m\u001b[1;33m.\u001b[0m\u001b[0mcross_entropy\u001b[0m\u001b[1;33m(\u001b[0m\u001b[1;33m\n",
       "\u001b[0m    \u001b[0minput\u001b[0m\u001b[1;33m:\u001b[0m \u001b[0mtorch\u001b[0m\u001b[1;33m.\u001b[0m\u001b[0mTensor\u001b[0m\u001b[1;33m,\u001b[0m\u001b[1;33m\n",
       "\u001b[0m    \u001b[0mtarget\u001b[0m\u001b[1;33m:\u001b[0m \u001b[0mtorch\u001b[0m\u001b[1;33m.\u001b[0m\u001b[0mTensor\u001b[0m\u001b[1;33m,\u001b[0m\u001b[1;33m\n",
       "\u001b[0m    \u001b[0mweight\u001b[0m\u001b[1;33m:\u001b[0m \u001b[0mOptional\u001b[0m\u001b[1;33m[\u001b[0m\u001b[0mtorch\u001b[0m\u001b[1;33m.\u001b[0m\u001b[0mTensor\u001b[0m\u001b[1;33m]\u001b[0m \u001b[1;33m=\u001b[0m \u001b[1;32mNone\u001b[0m\u001b[1;33m,\u001b[0m\u001b[1;33m\n",
       "\u001b[0m    \u001b[0msize_average\u001b[0m\u001b[1;33m:\u001b[0m \u001b[0mOptional\u001b[0m\u001b[1;33m[\u001b[0m\u001b[0mbool\u001b[0m\u001b[1;33m]\u001b[0m \u001b[1;33m=\u001b[0m \u001b[1;32mNone\u001b[0m\u001b[1;33m,\u001b[0m\u001b[1;33m\n",
       "\u001b[0m    \u001b[0mignore_index\u001b[0m\u001b[1;33m:\u001b[0m \u001b[0mint\u001b[0m \u001b[1;33m=\u001b[0m \u001b[1;33m-\u001b[0m\u001b[1;36m100\u001b[0m\u001b[1;33m,\u001b[0m\u001b[1;33m\n",
       "\u001b[0m    \u001b[0mreduce\u001b[0m\u001b[1;33m:\u001b[0m \u001b[0mOptional\u001b[0m\u001b[1;33m[\u001b[0m\u001b[0mbool\u001b[0m\u001b[1;33m]\u001b[0m \u001b[1;33m=\u001b[0m \u001b[1;32mNone\u001b[0m\u001b[1;33m,\u001b[0m\u001b[1;33m\n",
       "\u001b[0m    \u001b[0mreduction\u001b[0m\u001b[1;33m:\u001b[0m \u001b[0mstr\u001b[0m \u001b[1;33m=\u001b[0m \u001b[1;34m'mean'\u001b[0m\u001b[1;33m,\u001b[0m\u001b[1;33m\n",
       "\u001b[0m    \u001b[0mlabel_smoothing\u001b[0m\u001b[1;33m:\u001b[0m \u001b[0mfloat\u001b[0m \u001b[1;33m=\u001b[0m \u001b[1;36m0.0\u001b[0m\u001b[1;33m,\u001b[0m\u001b[1;33m\n",
       "\u001b[0m\u001b[1;33m)\u001b[0m \u001b[1;33m->\u001b[0m \u001b[0mtorch\u001b[0m\u001b[1;33m.\u001b[0m\u001b[0mTensor\u001b[0m\u001b[1;33m\u001b[0m\u001b[1;33m\u001b[0m\u001b[0m\n",
       "\u001b[1;31mSource:\u001b[0m   \n",
       "\u001b[1;32mdef\u001b[0m \u001b[0mcross_entropy\u001b[0m\u001b[1;33m(\u001b[0m\u001b[1;33m\n",
       "\u001b[0m    \u001b[0minput\u001b[0m\u001b[1;33m:\u001b[0m \u001b[0mTensor\u001b[0m\u001b[1;33m,\u001b[0m\u001b[1;33m\n",
       "\u001b[0m    \u001b[0mtarget\u001b[0m\u001b[1;33m:\u001b[0m \u001b[0mTensor\u001b[0m\u001b[1;33m,\u001b[0m\u001b[1;33m\n",
       "\u001b[0m    \u001b[0mweight\u001b[0m\u001b[1;33m:\u001b[0m \u001b[0mOptional\u001b[0m\u001b[1;33m[\u001b[0m\u001b[0mTensor\u001b[0m\u001b[1;33m]\u001b[0m \u001b[1;33m=\u001b[0m \u001b[1;32mNone\u001b[0m\u001b[1;33m,\u001b[0m\u001b[1;33m\n",
       "\u001b[0m    \u001b[0msize_average\u001b[0m\u001b[1;33m:\u001b[0m \u001b[0mOptional\u001b[0m\u001b[1;33m[\u001b[0m\u001b[0mbool\u001b[0m\u001b[1;33m]\u001b[0m \u001b[1;33m=\u001b[0m \u001b[1;32mNone\u001b[0m\u001b[1;33m,\u001b[0m\u001b[1;33m\n",
       "\u001b[0m    \u001b[0mignore_index\u001b[0m\u001b[1;33m:\u001b[0m \u001b[0mint\u001b[0m \u001b[1;33m=\u001b[0m \u001b[1;33m-\u001b[0m\u001b[1;36m100\u001b[0m\u001b[1;33m,\u001b[0m\u001b[1;33m\n",
       "\u001b[0m    \u001b[0mreduce\u001b[0m\u001b[1;33m:\u001b[0m \u001b[0mOptional\u001b[0m\u001b[1;33m[\u001b[0m\u001b[0mbool\u001b[0m\u001b[1;33m]\u001b[0m \u001b[1;33m=\u001b[0m \u001b[1;32mNone\u001b[0m\u001b[1;33m,\u001b[0m\u001b[1;33m\n",
       "\u001b[0m    \u001b[0mreduction\u001b[0m\u001b[1;33m:\u001b[0m \u001b[0mstr\u001b[0m \u001b[1;33m=\u001b[0m \u001b[1;34m\"mean\"\u001b[0m\u001b[1;33m,\u001b[0m\u001b[1;33m\n",
       "\u001b[0m    \u001b[0mlabel_smoothing\u001b[0m\u001b[1;33m:\u001b[0m \u001b[0mfloat\u001b[0m \u001b[1;33m=\u001b[0m \u001b[1;36m0.0\u001b[0m\u001b[1;33m,\u001b[0m\u001b[1;33m\n",
       "\u001b[0m\u001b[1;33m)\u001b[0m \u001b[1;33m->\u001b[0m \u001b[0mTensor\u001b[0m\u001b[1;33m:\u001b[0m\u001b[1;33m\n",
       "\u001b[0m    \u001b[1;34mr\"\"\"Compute the cross entropy loss between input logits and target.\n",
       "\n",
       "    See :class:`~torch.nn.CrossEntropyLoss` for details.\n",
       "\n",
       "    Args:\n",
       "        input (Tensor) : Predicted unnormalized logits;\n",
       "            see Shape section below for supported shapes.\n",
       "        target (Tensor) : Ground truth class indices or class probabilities;\n",
       "            see Shape section below for supported shapes.\n",
       "        weight (Tensor, optional): a manual rescaling weight given to each\n",
       "            class. If given, has to be a Tensor of size `C`\n",
       "        size_average (bool, optional): Deprecated (see :attr:`reduction`). By default,\n",
       "            the losses are averaged over each loss element in the batch. Note that for\n",
       "            some losses, there multiple elements per sample. If the field :attr:`size_average`\n",
       "            is set to ``False``, the losses are instead summed for each minibatch. Ignored\n",
       "            when reduce is ``False``. Default: ``True``\n",
       "        ignore_index (int, optional): Specifies a target value that is ignored\n",
       "            and does not contribute to the input gradient. When :attr:`size_average` is\n",
       "            ``True``, the loss is averaged over non-ignored targets. Note that\n",
       "            :attr:`ignore_index` is only applicable when the target contains class indices.\n",
       "            Default: -100\n",
       "        reduce (bool, optional): Deprecated (see :attr:`reduction`). By default, the\n",
       "            losses are averaged or summed over observations for each minibatch depending\n",
       "            on :attr:`size_average`. When :attr:`reduce` is ``False``, returns a loss per\n",
       "            batch element instead and ignores :attr:`size_average`. Default: ``True``\n",
       "        reduction (str, optional): Specifies the reduction to apply to the output:\n",
       "            ``'none'`` | ``'mean'`` | ``'sum'``. ``'none'``: no reduction will be applied,\n",
       "            ``'mean'``: the sum of the output will be divided by the number of\n",
       "            elements in the output, ``'sum'``: the output will be summed. Note: :attr:`size_average`\n",
       "            and :attr:`reduce` are in the process of being deprecated, and in the meantime,\n",
       "            specifying either of those two args will override :attr:`reduction`. Default: ``'mean'``\n",
       "        label_smoothing (float, optional): A float in [0.0, 1.0]. Specifies the amount\n",
       "            of smoothing when computing the loss, where 0.0 means no smoothing. The targets\n",
       "            become a mixture of the original ground truth and a uniform distribution as described in\n",
       "            `Rethinking the Inception Architecture for Computer Vision <https://arxiv.org/abs/1512.00567>`__. Default: :math:`0.0`.\n",
       "\n",
       "    Shape:\n",
       "        - Input: Shape :math:`(C)`, :math:`(N, C)` or :math:`(N, C, d_1, d_2, ..., d_K)` with :math:`K \\geq 1`\n",
       "          in the case of `K`-dimensional loss.\n",
       "        - Target: If containing class indices, shape :math:`()`, :math:`(N)` or :math:`(N, d_1, d_2, ..., d_K)` with\n",
       "          :math:`K \\geq 1` in the case of K-dimensional loss where each value should be between :math:`[0, C)`.\n",
       "          If containing class probabilities, same shape as the input and each value should be between :math:`[0, 1]`.\n",
       "\n",
       "        where:\n",
       "\n",
       "        .. math::\n",
       "            \\begin{aligned}\n",
       "                C ={} & \\text{number of classes} \\\\\n",
       "                N ={} & \\text{batch size} \\\\\n",
       "            \\end{aligned}\n",
       "\n",
       "    Examples::\n",
       "\n",
       "        >>> # Example of target with class indices\n",
       "        >>> input = torch.randn(3, 5, requires_grad=True)\n",
       "        >>> target = torch.randint(5, (3,), dtype=torch.int64)\n",
       "        >>> loss = F.cross_entropy(input, target)\n",
       "        >>> loss.backward()\n",
       "        >>>\n",
       "        >>> # Example of target with class probabilities\n",
       "        >>> input = torch.randn(3, 5, requires_grad=True)\n",
       "        >>> target = torch.randn(3, 5).softmax(dim=1)\n",
       "        >>> loss = F.cross_entropy(input, target)\n",
       "        >>> loss.backward()\n",
       "    \"\"\"\u001b[0m\u001b[1;33m\n",
       "\u001b[0m    \u001b[1;32mif\u001b[0m \u001b[0mhas_torch_function_variadic\u001b[0m\u001b[1;33m(\u001b[0m\u001b[0minput\u001b[0m\u001b[1;33m,\u001b[0m \u001b[0mtarget\u001b[0m\u001b[1;33m,\u001b[0m \u001b[0mweight\u001b[0m\u001b[1;33m)\u001b[0m\u001b[1;33m:\u001b[0m\u001b[1;33m\n",
       "\u001b[0m        \u001b[1;32mreturn\u001b[0m \u001b[0mhandle_torch_function\u001b[0m\u001b[1;33m(\u001b[0m\u001b[1;33m\n",
       "\u001b[0m            \u001b[0mcross_entropy\u001b[0m\u001b[1;33m,\u001b[0m\u001b[1;33m\n",
       "\u001b[0m            \u001b[1;33m(\u001b[0m\u001b[0minput\u001b[0m\u001b[1;33m,\u001b[0m \u001b[0mtarget\u001b[0m\u001b[1;33m,\u001b[0m \u001b[0mweight\u001b[0m\u001b[1;33m)\u001b[0m\u001b[1;33m,\u001b[0m\u001b[1;33m\n",
       "\u001b[0m            \u001b[0minput\u001b[0m\u001b[1;33m,\u001b[0m\u001b[1;33m\n",
       "\u001b[0m            \u001b[0mtarget\u001b[0m\u001b[1;33m,\u001b[0m\u001b[1;33m\n",
       "\u001b[0m            \u001b[0mweight\u001b[0m\u001b[1;33m=\u001b[0m\u001b[0mweight\u001b[0m\u001b[1;33m,\u001b[0m\u001b[1;33m\n",
       "\u001b[0m            \u001b[0msize_average\u001b[0m\u001b[1;33m=\u001b[0m\u001b[0msize_average\u001b[0m\u001b[1;33m,\u001b[0m\u001b[1;33m\n",
       "\u001b[0m            \u001b[0mignore_index\u001b[0m\u001b[1;33m=\u001b[0m\u001b[0mignore_index\u001b[0m\u001b[1;33m,\u001b[0m\u001b[1;33m\n",
       "\u001b[0m            \u001b[0mreduce\u001b[0m\u001b[1;33m=\u001b[0m\u001b[0mreduce\u001b[0m\u001b[1;33m,\u001b[0m\u001b[1;33m\n",
       "\u001b[0m            \u001b[0mreduction\u001b[0m\u001b[1;33m=\u001b[0m\u001b[0mreduction\u001b[0m\u001b[1;33m,\u001b[0m\u001b[1;33m\n",
       "\u001b[0m            \u001b[0mlabel_smoothing\u001b[0m\u001b[1;33m=\u001b[0m\u001b[0mlabel_smoothing\u001b[0m\u001b[1;33m,\u001b[0m\u001b[1;33m\n",
       "\u001b[0m        \u001b[1;33m)\u001b[0m\u001b[1;33m\n",
       "\u001b[0m    \u001b[1;32mif\u001b[0m \u001b[0msize_average\u001b[0m \u001b[1;32mis\u001b[0m \u001b[1;32mnot\u001b[0m \u001b[1;32mNone\u001b[0m \u001b[1;32mor\u001b[0m \u001b[0mreduce\u001b[0m \u001b[1;32mis\u001b[0m \u001b[1;32mnot\u001b[0m \u001b[1;32mNone\u001b[0m\u001b[1;33m:\u001b[0m\u001b[1;33m\n",
       "\u001b[0m        \u001b[0mreduction\u001b[0m \u001b[1;33m=\u001b[0m \u001b[0m_Reduction\u001b[0m\u001b[1;33m.\u001b[0m\u001b[0mlegacy_get_string\u001b[0m\u001b[1;33m(\u001b[0m\u001b[0msize_average\u001b[0m\u001b[1;33m,\u001b[0m \u001b[0mreduce\u001b[0m\u001b[1;33m)\u001b[0m\u001b[1;33m\n",
       "\u001b[0m    \u001b[1;32mreturn\u001b[0m \u001b[0mtorch\u001b[0m\u001b[1;33m.\u001b[0m\u001b[0m_C\u001b[0m\u001b[1;33m.\u001b[0m\u001b[0m_nn\u001b[0m\u001b[1;33m.\u001b[0m\u001b[0mcross_entropy_loss\u001b[0m\u001b[1;33m(\u001b[0m\u001b[0minput\u001b[0m\u001b[1;33m,\u001b[0m \u001b[0mtarget\u001b[0m\u001b[1;33m,\u001b[0m \u001b[0mweight\u001b[0m\u001b[1;33m,\u001b[0m \u001b[0m_Reduction\u001b[0m\u001b[1;33m.\u001b[0m\u001b[0mget_enum\u001b[0m\u001b[1;33m(\u001b[0m\u001b[0mreduction\u001b[0m\u001b[1;33m)\u001b[0m\u001b[1;33m,\u001b[0m \u001b[0mignore_index\u001b[0m\u001b[1;33m,\u001b[0m \u001b[0mlabel_smoothing\u001b[0m\u001b[1;33m)\u001b[0m\u001b[1;33m\u001b[0m\u001b[1;33m\u001b[0m\u001b[0m\n",
       "\u001b[1;31mFile:\u001b[0m      c:\\programdata\\anaconda3\\lib\\site-packages\\torch\\nn\\functional.py\n",
       "\u001b[1;31mType:\u001b[0m      function"
      ]
     },
     "metadata": {},
     "output_type": "display_data"
    }
   ],
   "source": [
    "F.cross_entropy??"
   ]
  },
  {
   "cell_type": "code",
   "execution_count": 91,
   "id": "5143957a-3b91-4499-9948-710ad3fdb76c",
   "metadata": {
    "scrolled": true
   },
   "outputs": [
    {
     "data": {
      "text/plain": [
       "\u001b[1;31mSignature:\u001b[0m\n",
       "\u001b[0mF\u001b[0m\u001b[1;33m.\u001b[0m\u001b[0mmse_loss\u001b[0m\u001b[1;33m(\u001b[0m\u001b[1;33m\n",
       "\u001b[0m    \u001b[0minput\u001b[0m\u001b[1;33m:\u001b[0m \u001b[0mtorch\u001b[0m\u001b[1;33m.\u001b[0m\u001b[0mTensor\u001b[0m\u001b[1;33m,\u001b[0m\u001b[1;33m\n",
       "\u001b[0m    \u001b[0mtarget\u001b[0m\u001b[1;33m:\u001b[0m \u001b[0mtorch\u001b[0m\u001b[1;33m.\u001b[0m\u001b[0mTensor\u001b[0m\u001b[1;33m,\u001b[0m\u001b[1;33m\n",
       "\u001b[0m    \u001b[0msize_average\u001b[0m\u001b[1;33m:\u001b[0m \u001b[0mOptional\u001b[0m\u001b[1;33m[\u001b[0m\u001b[0mbool\u001b[0m\u001b[1;33m]\u001b[0m \u001b[1;33m=\u001b[0m \u001b[1;32mNone\u001b[0m\u001b[1;33m,\u001b[0m\u001b[1;33m\n",
       "\u001b[0m    \u001b[0mreduce\u001b[0m\u001b[1;33m:\u001b[0m \u001b[0mOptional\u001b[0m\u001b[1;33m[\u001b[0m\u001b[0mbool\u001b[0m\u001b[1;33m]\u001b[0m \u001b[1;33m=\u001b[0m \u001b[1;32mNone\u001b[0m\u001b[1;33m,\u001b[0m\u001b[1;33m\n",
       "\u001b[0m    \u001b[0mreduction\u001b[0m\u001b[1;33m:\u001b[0m \u001b[0mstr\u001b[0m \u001b[1;33m=\u001b[0m \u001b[1;34m'mean'\u001b[0m\u001b[1;33m,\u001b[0m\u001b[1;33m\n",
       "\u001b[0m\u001b[1;33m)\u001b[0m \u001b[1;33m->\u001b[0m \u001b[0mtorch\u001b[0m\u001b[1;33m.\u001b[0m\u001b[0mTensor\u001b[0m\u001b[1;33m\u001b[0m\u001b[1;33m\u001b[0m\u001b[0m\n",
       "\u001b[1;31mSource:\u001b[0m   \n",
       "\u001b[1;32mdef\u001b[0m \u001b[0mmse_loss\u001b[0m\u001b[1;33m(\u001b[0m\u001b[1;33m\n",
       "\u001b[0m    \u001b[0minput\u001b[0m\u001b[1;33m:\u001b[0m \u001b[0mTensor\u001b[0m\u001b[1;33m,\u001b[0m\u001b[1;33m\n",
       "\u001b[0m    \u001b[0mtarget\u001b[0m\u001b[1;33m:\u001b[0m \u001b[0mTensor\u001b[0m\u001b[1;33m,\u001b[0m\u001b[1;33m\n",
       "\u001b[0m    \u001b[0msize_average\u001b[0m\u001b[1;33m:\u001b[0m \u001b[0mOptional\u001b[0m\u001b[1;33m[\u001b[0m\u001b[0mbool\u001b[0m\u001b[1;33m]\u001b[0m \u001b[1;33m=\u001b[0m \u001b[1;32mNone\u001b[0m\u001b[1;33m,\u001b[0m\u001b[1;33m\n",
       "\u001b[0m    \u001b[0mreduce\u001b[0m\u001b[1;33m:\u001b[0m \u001b[0mOptional\u001b[0m\u001b[1;33m[\u001b[0m\u001b[0mbool\u001b[0m\u001b[1;33m]\u001b[0m \u001b[1;33m=\u001b[0m \u001b[1;32mNone\u001b[0m\u001b[1;33m,\u001b[0m\u001b[1;33m\n",
       "\u001b[0m    \u001b[0mreduction\u001b[0m\u001b[1;33m:\u001b[0m \u001b[0mstr\u001b[0m \u001b[1;33m=\u001b[0m \u001b[1;34m\"mean\"\u001b[0m\u001b[1;33m,\u001b[0m\u001b[1;33m\n",
       "\u001b[0m\u001b[1;33m)\u001b[0m \u001b[1;33m->\u001b[0m \u001b[0mTensor\u001b[0m\u001b[1;33m:\u001b[0m  \u001b[1;31m# noqa: D400,D402\u001b[0m\u001b[1;33m\n",
       "\u001b[0m    \u001b[1;34mr\"\"\"mse_loss(input, target, size_average=None, reduce=None, reduction='mean') -> Tensor\n",
       "\n",
       "    Measures the element-wise mean squared error.\n",
       "    See :class:`~torch.nn.MSELoss` for details.\n",
       "    \"\"\"\u001b[0m\u001b[1;33m\n",
       "\u001b[0m    \u001b[1;32mif\u001b[0m \u001b[0mhas_torch_function_variadic\u001b[0m\u001b[1;33m(\u001b[0m\u001b[0minput\u001b[0m\u001b[1;33m,\u001b[0m \u001b[0mtarget\u001b[0m\u001b[1;33m)\u001b[0m\u001b[1;33m:\u001b[0m\u001b[1;33m\n",
       "\u001b[0m        \u001b[1;32mreturn\u001b[0m \u001b[0mhandle_torch_function\u001b[0m\u001b[1;33m(\u001b[0m\u001b[1;33m\n",
       "\u001b[0m            \u001b[0mmse_loss\u001b[0m\u001b[1;33m,\u001b[0m \u001b[1;33m(\u001b[0m\u001b[0minput\u001b[0m\u001b[1;33m,\u001b[0m \u001b[0mtarget\u001b[0m\u001b[1;33m)\u001b[0m\u001b[1;33m,\u001b[0m \u001b[0minput\u001b[0m\u001b[1;33m,\u001b[0m \u001b[0mtarget\u001b[0m\u001b[1;33m,\u001b[0m \u001b[0msize_average\u001b[0m\u001b[1;33m=\u001b[0m\u001b[0msize_average\u001b[0m\u001b[1;33m,\u001b[0m \u001b[0mreduce\u001b[0m\u001b[1;33m=\u001b[0m\u001b[0mreduce\u001b[0m\u001b[1;33m,\u001b[0m \u001b[0mreduction\u001b[0m\u001b[1;33m=\u001b[0m\u001b[0mreduction\u001b[0m\u001b[1;33m\n",
       "\u001b[0m        \u001b[1;33m)\u001b[0m\u001b[1;33m\n",
       "\u001b[0m    \u001b[1;32mif\u001b[0m \u001b[1;32mnot\u001b[0m \u001b[1;33m(\u001b[0m\u001b[0mtarget\u001b[0m\u001b[1;33m.\u001b[0m\u001b[0msize\u001b[0m\u001b[1;33m(\u001b[0m\u001b[1;33m)\u001b[0m \u001b[1;33m==\u001b[0m \u001b[0minput\u001b[0m\u001b[1;33m.\u001b[0m\u001b[0msize\u001b[0m\u001b[1;33m(\u001b[0m\u001b[1;33m)\u001b[0m\u001b[1;33m)\u001b[0m\u001b[1;33m:\u001b[0m\u001b[1;33m\n",
       "\u001b[0m        \u001b[0mwarnings\u001b[0m\u001b[1;33m.\u001b[0m\u001b[0mwarn\u001b[0m\u001b[1;33m(\u001b[0m\u001b[1;33m\n",
       "\u001b[0m            \u001b[1;34mf\"Using a target size ({target.size()}) that is different to the input size ({input.size()}). \"\u001b[0m\u001b[1;33m\n",
       "\u001b[0m            \u001b[1;34m\"This will likely lead to incorrect results due to broadcasting. \"\u001b[0m\u001b[1;33m\n",
       "\u001b[0m            \u001b[1;34m\"Please ensure they have the same size.\"\u001b[0m\u001b[1;33m,\u001b[0m\u001b[1;33m\n",
       "\u001b[0m            \u001b[0mstacklevel\u001b[0m\u001b[1;33m=\u001b[0m\u001b[1;36m2\u001b[0m\u001b[1;33m,\u001b[0m\u001b[1;33m\n",
       "\u001b[0m        \u001b[1;33m)\u001b[0m\u001b[1;33m\n",
       "\u001b[0m    \u001b[1;32mif\u001b[0m \u001b[0msize_average\u001b[0m \u001b[1;32mis\u001b[0m \u001b[1;32mnot\u001b[0m \u001b[1;32mNone\u001b[0m \u001b[1;32mor\u001b[0m \u001b[0mreduce\u001b[0m \u001b[1;32mis\u001b[0m \u001b[1;32mnot\u001b[0m \u001b[1;32mNone\u001b[0m\u001b[1;33m:\u001b[0m\u001b[1;33m\n",
       "\u001b[0m        \u001b[0mreduction\u001b[0m \u001b[1;33m=\u001b[0m \u001b[0m_Reduction\u001b[0m\u001b[1;33m.\u001b[0m\u001b[0mlegacy_get_string\u001b[0m\u001b[1;33m(\u001b[0m\u001b[0msize_average\u001b[0m\u001b[1;33m,\u001b[0m \u001b[0mreduce\u001b[0m\u001b[1;33m)\u001b[0m\u001b[1;33m\n",
       "\u001b[0m\u001b[1;33m\n",
       "\u001b[0m    \u001b[0mexpanded_input\u001b[0m\u001b[1;33m,\u001b[0m \u001b[0mexpanded_target\u001b[0m \u001b[1;33m=\u001b[0m \u001b[0mtorch\u001b[0m\u001b[1;33m.\u001b[0m\u001b[0mbroadcast_tensors\u001b[0m\u001b[1;33m(\u001b[0m\u001b[0minput\u001b[0m\u001b[1;33m,\u001b[0m \u001b[0mtarget\u001b[0m\u001b[1;33m)\u001b[0m\u001b[1;33m\n",
       "\u001b[0m    \u001b[1;32mreturn\u001b[0m \u001b[0mtorch\u001b[0m\u001b[1;33m.\u001b[0m\u001b[0m_C\u001b[0m\u001b[1;33m.\u001b[0m\u001b[0m_nn\u001b[0m\u001b[1;33m.\u001b[0m\u001b[0mmse_loss\u001b[0m\u001b[1;33m(\u001b[0m\u001b[0mexpanded_input\u001b[0m\u001b[1;33m,\u001b[0m \u001b[0mexpanded_target\u001b[0m\u001b[1;33m,\u001b[0m \u001b[0m_Reduction\u001b[0m\u001b[1;33m.\u001b[0m\u001b[0mget_enum\u001b[0m\u001b[1;33m(\u001b[0m\u001b[0mreduction\u001b[0m\u001b[1;33m)\u001b[0m\u001b[1;33m)\u001b[0m\u001b[1;33m\u001b[0m\u001b[1;33m\u001b[0m\u001b[0m\n",
       "\u001b[1;31mFile:\u001b[0m      c:\\programdata\\anaconda3\\lib\\site-packages\\torch\\nn\\functional.py\n",
       "\u001b[1;31mType:\u001b[0m      function"
      ]
     },
     "metadata": {},
     "output_type": "display_data"
    }
   ],
   "source": [
    "F.mse_loss??"
   ]
  },
  {
   "cell_type": "markdown",
   "id": "514832fc",
   "metadata": {
    "jp-MarkdownHeadingCollapsed": true
   },
   "source": [
    "### Conjunto de Entrenamiento y Validación"
   ]
  },
  {
   "cell_type": "markdown",
   "id": "5f972816",
   "metadata": {},
   "source": [
    "Para entrenar un modelo se necesitan un conjunto de datos de entrenamiento y un conjunto de datos de validación, cuando un modelo se está entrenando usa datos del conjunto de entrenamiento y compara los valores con el conjunto de validación, un modelo está entrenando cuando la perdida disminuye.\n",
    "\n",
    "Por lo general no se quiere un modelo extremadamente preciso en la fase de entrenamiento debido a que es más probable que este no tenga un buen rendimiento fuera de el, cuando esto ocurre se le llama _overfitting_ y el caso contrario cuando se entrena muy poco _underfitting_, para solucionarlo se debe encontrar un equilibrio entre el numero de epocas y también se puede hacer _data augmentation_ en caso de tener pocos datos de entrenamiento, este consiste en randomizar el orden de los datos de entrenamiento, en imágenes se puede hacer _padding_, eliminar canales de color, distorcionar las imagenes o cortalas, entre otras maneras de aumentar artificialmente los datos de entrenamiento."
   ]
  },
  {
   "cell_type": "markdown",
   "id": "a9bcef56",
   "metadata": {
    "jp-MarkdownHeadingCollapsed": true
   },
   "source": [
    "### Optimizer, Data Set y Data Loader"
   ]
  },
  {
   "cell_type": "markdown",
   "id": "42d70cec-7c1f-40ab-a9b9-36f3355954b5",
   "metadata": {},
   "source": [
    "El _optimizer_ se encarga de actualizar los pesos de la red neuronal, a este es al que se le pasa el valor del _learning rate_"
   ]
  },
  {
   "cell_type": "code",
   "execution_count": 96,
   "id": "e543fefc",
   "metadata": {},
   "outputs": [],
   "source": [
    "class Optimizer():\n",
    "    def __init__(self, params, lr=0.5): \n",
    "        self.params = list(params)\n",
    "        self.lr = lr\n",
    "\n",
    "    def step(self):\n",
    "        with torch.no_grad():\n",
    "            for p in self.params: p -= p.grad * self.lr\n",
    "\n",
    "    def zero_grad(self):\n",
    "        for p in self.params: p.grad.data.zero_()"
   ]
  },
  {
   "cell_type": "markdown",
   "id": "de463347-f17f-47d7-a1af-1b290df21c09",
   "metadata": {},
   "source": [
    "El Data set es el conjunto de datos, organizado a modo de tuplas `(x , y)`"
   ]
  },
  {
   "cell_type": "code",
   "execution_count": 98,
   "id": "dfadb6be",
   "metadata": {},
   "outputs": [],
   "source": [
    "class Dataset():\n",
    "    def __init__(self, x, y): self.x,self.y = x,y\n",
    "    def __len__(self): return len(self.x)\n",
    "    #El __getitem__ es lo que nos da los valores cuando hacemos por ejemplo \n",
    "    #Dataset[n:m]\n",
    "    def __getitem__(self, i): return self.x[i],self.y[i]"
   ]
  },
  {
   "cell_type": "markdown",
   "id": "fcf7c477-7388-4ee8-9bf4-f20a07856181",
   "metadata": {},
   "source": [
    "Los Dataloaders son los conjuntos de datos con los que trabajará directamente el modelo de inteligencia artificial, estos se encargana de cargar los datos de acuerdo a un _batch size_."
   ]
  },
  {
   "cell_type": "code",
   "execution_count": 100,
   "id": "b9957ac7",
   "metadata": {},
   "outputs": [],
   "source": [
    "class DataLoaders:\n",
    "    def __init__(self, *dls): self.train,self.valid = dls[:2]\n",
    "\n",
    "    @classmethod\n",
    "    def from_dd(cls, dd, batch_size, as_tuple=True, **kwargs):\n",
    "        f = collate_dict(dd['train'])\n",
    "        return cls(*get_dls(*dd.values(), bs=batch_size, collate_fn=f, **kwargs))"
   ]
  },
  {
   "cell_type": "markdown",
   "id": "58f7ccfb",
   "metadata": {},
   "source": [
    "Una función `collate` se encarga de convertir un conjunto de datos en otro que nos interesa, en este caso tenemos una función `collate_dict`que se encarga de convertir un diccionario en un DataSet de tuplas de la forma `(x , y)`, con `x` siendo los datos de entrenamiento y `y` las labels."
   ]
  },
  {
   "cell_type": "code",
   "execution_count": 102,
   "id": "a8aa1adc",
   "metadata": {},
   "outputs": [],
   "source": [
    "def collate_dict(ds):\n",
    "    get = itemgetter(*ds.features)\n",
    "    def _f(b): return get(default_collate(b))\n",
    "    return _f"
   ]
  },
  {
   "cell_type": "markdown",
   "id": "409a28dc",
   "metadata": {},
   "source": [
    "La función `accuracy` o precisión se encarga de hacer una media de las _loss_ de la capa."
   ]
  },
  {
   "cell_type": "code",
   "execution_count": 104,
   "id": "00d78c20",
   "metadata": {},
   "outputs": [],
   "source": [
    "def accuracy(out, yb): return (out.argmax(dim=1)==yb).float().mean()"
   ]
  },
  {
   "cell_type": "markdown",
   "id": "adb68154-ef7b-4588-bb33-a16bfb35fdec",
   "metadata": {},
   "source": [
    "`Report` simplemente se encarga de imprimir en pantalla la precisión."
   ]
  },
  {
   "cell_type": "code",
   "execution_count": 106,
   "id": "c305ce14",
   "metadata": {},
   "outputs": [],
   "source": [
    "def report(loss, preds, yb): print(f'{loss:.2f}, {accuracy(preds, yb):.2f}')"
   ]
  },
  {
   "cell_type": "markdown",
   "id": "38ea7e60-7821-4477-949d-d2ffac325098",
   "metadata": {
    "jp-MarkdownHeadingCollapsed": true
   },
   "source": [
    "### _Forward_ y _Backward_"
   ]
  },
  {
   "cell_type": "markdown",
   "id": "64f1707c-23d4-4990-b0cd-16a8fed87685",
   "metadata": {},
   "source": [
    "Dentro de las redes neuronales se hace un proceso llamado _forward pass_ y _backward pass_, el primero de ellos siendo simplemente el paso normal de los valores de una capa de la red neuronal a la otra, dicho de otra forma los datos \"avanzan\", en este punto no hay demasiadas complicaciones.\n",
    "\n",
    "Por otra parte el _backward pass_ es el proceso de entrenamiento en sí mismo, en este paso es donde se hace una actualización de los pesos de las capas de la red neuronal, haciendo uso de los valores obtenidos al final del _forward pass_, la _loss_ y los gradientes obtenidos mediante la regla de la cadena o _backpropagation_. "
   ]
  },
  {
   "cell_type": "markdown",
   "id": "0add1eb0",
   "metadata": {
    "jp-MarkdownHeadingCollapsed": true
   },
   "source": [
    "### Función de Entrenamiento"
   ]
  },
  {
   "cell_type": "markdown",
   "id": "4601a6de",
   "metadata": {},
   "source": [
    "La función `fit` es la encargada de empezar el entrenamiento de un modelo que le pasamos, internamente es la encargada de todo el proceso y la que realiza el _forward_ y el _backward_.\n",
    "* `epochs`: Número de epocas que queremos que dure el entrenamiento.\n",
    "* `model`: Modelo que vamos a entrenar.\n",
    "* `loss_func`: La función de perdida que queramos usar.\n",
    "* `train_dl`: _Dataloader_ de entrenamiento.\n",
    "* `valid_dl`: _Dataloader_ de validación."
   ]
  },
  {
   "cell_type": "code",
   "execution_count": 111,
   "id": "6c5cd897",
   "metadata": {},
   "outputs": [],
   "source": [
    "def fit(epochs, model, loss_func, opt, train_dl, valid_dl):\n",
    "    for epoch in range(epochs):\n",
    "        model.train()\n",
    "        for xb,yb in train_dl:\n",
    "            loss = loss_func(model(xb), yb)\n",
    "            loss.backward()\n",
    "            opt.step()\n",
    "            opt.zero_grad()\n",
    "\n",
    "        model.eval()\n",
    "        with torch.no_grad():\n",
    "            tot_loss,tot_acc,count = 0.,0.,0\n",
    "            for xb,yb in valid_dl:\n",
    "                pred = model(xb)\n",
    "                n = len(xb)\n",
    "                count += n\n",
    "                tot_loss += loss_func(pred,yb).item()*n\n",
    "                tot_acc  += accuracy (pred,yb).item()*n\n",
    "        print(epoch, tot_loss/count, tot_acc/count)\n",
    "    return tot_loss/count, tot_acc/count"
   ]
  },
  {
   "cell_type": "markdown",
   "id": "b26adbc4",
   "metadata": {},
   "source": [
    "La función `get_dls` se encarga de crear los Data Loaders de los Data Sets que pasamos.\n",
    "\n",
    "* `train_ds`: Data set de entrenamiento.\n",
    "* `valid_ds`: Data set de validación.\n",
    "* `bs`: _Batch size_.\n",
    "* `**kwargs`: Otros argumentos nombrados, como <kbd>shuffle = False</kbd>.\n",
    "* `shuffle = True`: Crea data loaders tomando datos aleatorios del data set, \n",
    "* `shuffle = False`: Crea los data loaders en orden\n",
    "\n",
    "Ejemplo para llamar la función:\n",
    "```\n",
    "DataLoaders = get_dls(train_ds, valid_ds, 256, shuffle = False, collate_fn = collate_dict)\n",
    "```"
   ]
  },
  {
   "cell_type": "code",
   "execution_count": 113,
   "id": "15e55b16",
   "metadata": {},
   "outputs": [],
   "source": [
    "def get_dls(train_ds, valid_ds, bs, **kwargs):\n",
    "    return (DataLoader(train_ds, batch_size=bs, shuffle=True, **kwargs),\n",
    "            DataLoader(valid_ds, batch_size=bs*2, **kwargs))"
   ]
  },
  {
   "cell_type": "markdown",
   "id": "cc43a478",
   "metadata": {
    "jp-MarkdownHeadingCollapsed": true
   },
   "source": [
    "### Funciones de Impresion de Imágenes"
   ]
  },
  {
   "cell_type": "markdown",
   "id": "893e5009",
   "metadata": {},
   "source": [
    "Las siguientes 3 celdas solo son funciones para mostrar las imágenes, no es necesario prestarles demasiada atención"
   ]
  },
  {
   "cell_type": "code",
   "execution_count": 116,
   "id": "62d2c60b",
   "metadata": {},
   "outputs": [],
   "source": [
    "@fc.delegates(plt.Axes.imshow)\n",
    "def show_image(im, ax=None, figsize=None, title=None, noframe=True, **kwargs):\n",
    "    \"Show a PIL or PyTorch image on `ax`.\"\n",
    "    if fc.hasattrs(im, ('cpu','permute','detach')):\n",
    "        im = im.detach().cpu()\n",
    "        if len(im.shape)==3 and im.shape[0]<5: im=im.permute(1,2,0)\n",
    "    elif not isinstance(im,np.ndarray): im=np.array(im)\n",
    "    if im.shape[-1]==1: im=im[...,0]\n",
    "    if ax is None: _,ax = plt.subplots(figsize=figsize)\n",
    "    ax.imshow(im, **kwargs)\n",
    "    if title is not None: ax.set_title(title)\n",
    "    ax.set_xticks([]) \n",
    "    ax.set_yticks([]) \n",
    "    if noframe: ax.axis('off')\n",
    "    return ax"
   ]
  },
  {
   "cell_type": "code",
   "execution_count": 117,
   "id": "1fa667d6",
   "metadata": {},
   "outputs": [],
   "source": [
    "@fc.delegates(plt.subplots, keep=True)\n",
    "def subplots(\n",
    "    nrows:int=1, # Number of rows in returned axes grid\n",
    "    ncols:int=1, # Number of columns in returned axes grid\n",
    "    figsize:tuple=None, # Width, height in inches of the returned figure\n",
    "    imsize:int=3, # Size (in inches) of images that will be displayed in the returned figure\n",
    "    suptitle:str=None, # Title to be set to returned figure\n",
    "    **kwargs\n",
    "): # fig and axs\n",
    "    \"A figure and set of subplots to display images of `imsize` inches\"\n",
    "    if figsize is None: figsize=(ncols*imsize, nrows*imsize)\n",
    "    fig,ax = plt.subplots(nrows, ncols, figsize=figsize, **kwargs)\n",
    "    if suptitle is not None: fig.suptitle(suptitle)\n",
    "    if nrows*ncols==1: ax = np.array([ax])\n",
    "    return fig,ax"
   ]
  },
  {
   "cell_type": "code",
   "execution_count": 118,
   "id": "2bb2f59a",
   "metadata": {},
   "outputs": [],
   "source": [
    "@fc.delegates(subplots)\n",
    "def get_grid(\n",
    "    n:int, # Number of axes\n",
    "    nrows:int=None, # Number of rows, defaulting to `int(math.sqrt(n))`\n",
    "    ncols:int=None, # Number of columns, defaulting to `ceil(n/rows)`\n",
    "    title:str=None, # If passed, title set to the figure\n",
    "    weight:str='bold', # Title font weight\n",
    "    size:int=14, # Title font size\n",
    "    **kwargs,\n",
    "): # fig and axs\n",
    "    \"Return a grid of `n` axes, `rows` by `cols`\"\n",
    "    if nrows: ncols = ncols or int(np.floor(n/nrows))\n",
    "    elif ncols: nrows = nrows or int(np.ceil(n/ncols))\n",
    "    else:\n",
    "        nrows = int(math.sqrt(n))\n",
    "        ncols = int(np.floor(n/nrows))\n",
    "    fig,axs = subplots(nrows, ncols, **kwargs)\n",
    "    for i in range(n, nrows*ncols): axs.flat[i].set_axis_off()\n",
    "    if title is not None: fig.suptitle(title, weight=weight, size=size)\n",
    "    return fig,axs"
   ]
  },
  {
   "cell_type": "code",
   "execution_count": 119,
   "id": "2d69963f",
   "metadata": {},
   "outputs": [],
   "source": [
    "@fc.delegates(subplots)\n",
    "def show_images(ims:list, # Images to show\n",
    "                nrows:int|None=None, # Number of rows in grid\n",
    "                ncols:int|None=None, # Number of columns in grid (auto-calculated if None)\n",
    "                titles:list|None=None, # Optional list of titles for each image\n",
    "                **kwargs):\n",
    "    \"Show all images `ims` as subplots with `rows` using `titles`\"\n",
    "    axs = get_grid(len(ims), nrows, ncols, **kwargs)[1].flat\n",
    "    for im,t,ax in zip_longest(ims, titles or [], axs): show_image(im, ax=ax, title=t)"
   ]
  },
  {
   "cell_type": "markdown",
   "id": "862b82bd",
   "metadata": {},
   "source": [
    "Configuración adicional para mostrar las imágenes"
   ]
  },
  {
   "cell_type": "code",
   "execution_count": 121,
   "id": "f37e9297",
   "metadata": {},
   "outputs": [],
   "source": [
    "torch.set_printoptions(precision=2, linewidth=140, sci_mode=False)\n",
    "torch.manual_seed(1)\n",
    "mpl.rcParams['image.cmap'] = 'gray'\n",
    "mpl.rcParams['figure.dpi'] = 70"
   ]
  },
  {
   "cell_type": "markdown",
   "id": "048045dc-57e7-45be-bd5a-d3389101b25d",
   "metadata": {
    "jp-MarkdownHeadingCollapsed": true
   },
   "source": [
    "### Generales"
   ]
  },
  {
   "cell_type": "markdown",
   "id": "4dd4110a",
   "metadata": {},
   "source": [
    "En esta parte solo definimos unas funciones para envíar los datos al dispositivo\n",
    "\n",
    "* `mps`: Para dispositivos Apple que usen un chip M1 en adelante.\n",
    "* `cuda`: Para dispositivos que tengan tarjetas gráficas compatibles de NVIDIA\n",
    "* `cpu`: En caso de no tener alguno de estos dispositivos lo enviamos a la CPU"
   ]
  },
  {
   "cell_type": "code",
   "execution_count": 124,
   "id": "21d2a8d9",
   "metadata": {},
   "outputs": [],
   "source": [
    "def_device = 'mps' if torch.backends.mps.is_available() else 'cuda' if torch.cuda.is_available() else 'cpu'\n",
    "\n",
    "def to_device(x, device=def_device):\n",
    "    if isinstance(x, torch.Tensor): return x.to(device)\n",
    "    if isinstance(x, Mapping): return {k:v.to(device) for k,v in x.items()}\n",
    "    return type(x)(to_device(o, device) for o in x)\n",
    "\n",
    "def collate_device(b): return to_device(default_collate(b))"
   ]
  },
  {
   "cell_type": "markdown",
   "id": "86ebbc4d",
   "metadata": {
    "jp-MarkdownHeadingCollapsed": true
   },
   "source": [
    "## Presentación de los Datos"
   ]
  },
  {
   "cell_type": "markdown",
   "id": "2670f19b",
   "metadata": {},
   "source": [
    "Se va a tomar los datos de **Fashion Mnist**, es un conjunto de datos que consiste en 60.000 ejemplares de entrenamiento y 10.000 ejemplares de validación, cada ejemplar consiste en una imagen de 28x28 pixeles en escala de grises además de una etiqueta correspondiente."
   ]
  },
  {
   "cell_type": "code",
   "execution_count": 127,
   "id": "8cde1d4d",
   "metadata": {},
   "outputs": [
    {
     "name": "stdout",
     "output_type": "stream",
     "text": [
      "Fashion-MNIST is a dataset of Zalando's article images—consisting of a training set of\n",
      "60,000 examples and a test set of 10,000 examples. Each example is a 28x28 grayscale image,\n",
      "associated with a label from 10 classes. We intend Fashion-MNIST to serve as a direct drop-in\n",
      "replacement for the original MNIST dataset for benchmarking machine learning algorithms.\n",
      "It shares the same image size and structure of training and testing splits.\n",
      "\n"
     ]
    }
   ],
   "source": [
    "name = \"fashion_mnist\"\n",
    "ds_builder = load_dataset_builder(name, trust_remote_code=True)\n",
    "print(ds_builder.info.description)"
   ]
  },
  {
   "cell_type": "markdown",
   "id": "0d9a48bd",
   "metadata": {},
   "source": [
    "Con `ds_builder.info.features` se puede ver las caracteríticas de los datos."
   ]
  },
  {
   "cell_type": "code",
   "execution_count": 129,
   "id": "122de261",
   "metadata": {},
   "outputs": [
    {
     "data": {
      "text/plain": [
       "{'image': Image(mode=None, decode=True, id=None),\n",
       " 'label': ClassLabel(names=['T - shirt / top', 'Trouser', 'Pullover', 'Dress', 'Coat', 'Sandal', 'Shirt', 'Sneaker', 'Bag', 'Ankle boot'], id=None)}"
      ]
     },
     "execution_count": 129,
     "metadata": {},
     "output_type": "execute_result"
    }
   ],
   "source": [
    "ds_builder.info.features"
   ]
  },
  {
   "cell_type": "markdown",
   "id": "8af7f508",
   "metadata": {},
   "source": [
    "Con `ds_builder.info.splits` se puede ver como están separados los datos."
   ]
  },
  {
   "cell_type": "code",
   "execution_count": 131,
   "id": "5bcf927a",
   "metadata": {},
   "outputs": [
    {
     "data": {
      "text/plain": [
       "{'train': SplitInfo(name='train', num_bytes=31296607, num_examples=60000, shard_lengths=None, dataset_name='fashion_mnist'),\n",
       " 'test': SplitInfo(name='test', num_bytes=5233810, num_examples=10000, shard_lengths=None, dataset_name='fashion_mnist')}"
      ]
     },
     "execution_count": 131,
     "metadata": {},
     "output_type": "execute_result"
    }
   ],
   "source": [
    "ds_builder.info.splits"
   ]
  },
  {
   "cell_type": "code",
   "execution_count": 132,
   "id": "e3bd38a9",
   "metadata": {},
   "outputs": [],
   "source": [
    "x,y = 'image','label'\n",
    "dsd = load_dataset(name, trust_remote_code=True)"
   ]
  },
  {
   "cell_type": "markdown",
   "id": "d3e41f0e-6b6f-455e-b4a7-fb2c84d9a5d0",
   "metadata": {},
   "source": [
    "_Inplace_ es una función que recibe otra función y la retorna."
   ]
  },
  {
   "cell_type": "code",
   "execution_count": 134,
   "id": "7dfc4ce0",
   "metadata": {},
   "outputs": [],
   "source": [
    "def inplace(f):\n",
    "    def _f(b):\n",
    "        f(b)\n",
    "        return b\n",
    "    return _f"
   ]
  },
  {
   "cell_type": "markdown",
   "id": "ee8cef86",
   "metadata": {},
   "source": [
    "En este punto es donde se hará uso de la función _inplace_\n",
    "\n",
    "Esta función simplemente se encarga de transformar los datos en tensores"
   ]
  },
  {
   "cell_type": "code",
   "execution_count": 136,
   "id": "e6b32b13",
   "metadata": {},
   "outputs": [],
   "source": [
    "@inplace\n",
    "def transformi(b): b[x] = [TF.to_tensor(o) for o in b[x]]"
   ]
  },
  {
   "cell_type": "markdown",
   "id": "6cc4e869-18fa-4750-9e01-ea4e6aa7b380",
   "metadata": {},
   "source": [
    "Es necesario hacer esto para poder utilizar el `.with_transform` de los datasets de hugging face debido a que estos requieren de un _Callable_ o un objeto que _se pueda llamar_ para funcionar."
   ]
  },
  {
   "cell_type": "code",
   "execution_count": 138,
   "id": "72e01ef7",
   "metadata": {},
   "outputs": [],
   "source": [
    "batch_size = 256\n",
    "transformed_dataset = dsd.with_transform(transformi)"
   ]
  },
  {
   "cell_type": "code",
   "execution_count": 139,
   "id": "20f68855",
   "metadata": {},
   "outputs": [
    {
     "data": {
      "text/plain": [
       "DatasetDict({\n",
       "    train: Dataset({\n",
       "        features: ['image', 'label'],\n",
       "        num_rows: 60000\n",
       "    })\n",
       "    test: Dataset({\n",
       "        features: ['image', 'label'],\n",
       "        num_rows: 10000\n",
       "    })\n",
       "})"
      ]
     },
     "execution_count": 139,
     "metadata": {},
     "output_type": "execute_result"
    }
   ],
   "source": [
    "transformed_dataset"
   ]
  },
  {
   "cell_type": "code",
   "execution_count": 140,
   "id": "12d1b32e",
   "metadata": {},
   "outputs": [
    {
     "data": {
      "text/plain": [
       "Dataset({\n",
       "    features: ['image', 'label'],\n",
       "    num_rows: 60000\n",
       "})"
      ]
     },
     "execution_count": 140,
     "metadata": {},
     "output_type": "execute_result"
    }
   ],
   "source": [
    "transformed_dataset['train']"
   ]
  },
  {
   "cell_type": "markdown",
   "id": "f01f0918",
   "metadata": {},
   "source": [
    "Aquí podemos ver la primera imagen del Dataset de entrenamiento."
   ]
  },
  {
   "cell_type": "code",
   "execution_count": 142,
   "id": "060638ab",
   "metadata": {},
   "outputs": [
    {
     "data": {
      "image/png": "[encoded data removed]",
      "text/plain": [
       "<Figure size 70x70 with 1 Axes>"
      ]
     },
     "metadata": {},
     "output_type": "display_data"
    }
   ],
   "source": [
    "ds = transformed_dataset['train']\n",
    "img = ds[0]['image']\n",
    "show_image(img, figsize=(1,1));"
   ]
  },
  {
   "cell_type": "code",
   "execution_count": 143,
   "id": "e84e4bb6",
   "metadata": {},
   "outputs": [],
   "source": [
    "collate_function = collate_dict(ds)"
   ]
  },
  {
   "cell_type": "markdown",
   "id": "ddc9ef0c",
   "metadata": {},
   "source": [
    "Aquí definimos una función para crear los data loaders en nuestro caso"
   ]
  },
  {
   "cell_type": "code",
   "execution_count": 145,
   "id": "831feeb9",
   "metadata": {},
   "outputs": [],
   "source": [
    "def collate_(b): return to_device(collate_function(b))\n",
    "def data_loaders(dsd, bs, **kwargs): return {k:DataLoader(v, bs, **kwargs) for k,v in dsd.items()}"
   ]
  },
  {
   "cell_type": "code",
   "execution_count": 146,
   "id": "3e772860",
   "metadata": {},
   "outputs": [],
   "source": [
    "dls = data_loaders(transformed_dataset, batch_size, collate_fn = collate_)"
   ]
  },
  {
   "cell_type": "code",
   "execution_count": 147,
   "id": "979ec730",
   "metadata": {},
   "outputs": [
    {
     "data": {
      "text/plain": [
       "{'train': <torch.utils.data.dataloader.DataLoader at 0x20b99027d50>,\n",
       " 'test': <torch.utils.data.dataloader.DataLoader at 0x20b98c80750>}"
      ]
     },
     "execution_count": 147,
     "metadata": {},
     "output_type": "execute_result"
    }
   ],
   "source": [
    "dls"
   ]
  },
  {
   "cell_type": "markdown",
   "id": "99f788a8",
   "metadata": {},
   "source": [
    "- `dt`: Data Loader Training\n",
    "- `dv`: data Loader Validation"
   ]
  },
  {
   "cell_type": "code",
   "execution_count": 149,
   "id": "be1623e6",
   "metadata": {},
   "outputs": [],
   "source": [
    "dt = dls['train']\n",
    "dv = dls['test']"
   ]
  },
  {
   "cell_type": "code",
   "execution_count": 150,
   "id": "f4067c24",
   "metadata": {},
   "outputs": [],
   "source": [
    "x_batch, y_batch = next(iter(dt))"
   ]
  },
  {
   "cell_type": "markdown",
   "id": "8c38e5c7",
   "metadata": {},
   "source": [
    "Aquí podemos ver que el `x_batch` consiste de 256 imágenes de 28x28."
   ]
  },
  {
   "cell_type": "code",
   "execution_count": 152,
   "id": "716293e0",
   "metadata": {},
   "outputs": [
    {
     "data": {
      "text/plain": [
       "torch.Size([256, 1, 28, 28])"
      ]
     },
     "execution_count": 152,
     "metadata": {},
     "output_type": "execute_result"
    }
   ],
   "source": [
    "x_batch.shape"
   ]
  },
  {
   "cell_type": "markdown",
   "id": "a5a4db0b",
   "metadata": {},
   "source": [
    "Y aquí podemos ver que `y_batch` simplemente tiene las 256 etiquetas"
   ]
  },
  {
   "cell_type": "code",
   "execution_count": 154,
   "id": "5c186676",
   "metadata": {},
   "outputs": [
    {
     "data": {
      "text/plain": [
       "torch.Size([256])"
      ]
     },
     "execution_count": 154,
     "metadata": {},
     "output_type": "execute_result"
    }
   ],
   "source": [
    "y_batch.shape"
   ]
  },
  {
   "cell_type": "code",
   "execution_count": 155,
   "id": "4f06a45d",
   "metadata": {},
   "outputs": [
    {
     "data": {
      "text/plain": [
       "tensor(0, device='cuda:0')"
      ]
     },
     "execution_count": 155,
     "metadata": {},
     "output_type": "execute_result"
    }
   ],
   "source": [
    "y_batch[1]"
   ]
  },
  {
   "cell_type": "code",
   "execution_count": 156,
   "id": "bd65900d",
   "metadata": {
    "scrolled": true
   },
   "outputs": [
    {
     "data": {
      "text/plain": [
       "tensor([[[[0., 0., 0.,  ..., 0., 0., 0.],\n",
       "          [0., 0., 0.,  ..., 0., 0., 0.],\n",
       "          [0., 0., 0.,  ..., 0., 0., 0.],\n",
       "          ...,\n",
       "          [0., 0., 0.,  ..., 0., 0., 0.],\n",
       "          [0., 0., 0.,  ..., 0., 0., 0.],\n",
       "          [0., 0., 0.,  ..., 0., 0., 0.]]],\n",
       "\n",
       "\n",
       "        [[[0., 0., 0.,  ..., 0., 0., 0.],\n",
       "          [0., 0., 0.,  ..., 0., 0., 0.],\n",
       "          [0., 0., 0.,  ..., 0., 0., 0.],\n",
       "          ...,\n",
       "          [0., 0., 0.,  ..., 0., 0., 0.],\n",
       "          [0., 0., 0.,  ..., 0., 0., 0.],\n",
       "          [0., 0., 0.,  ..., 0., 0., 0.]]],\n",
       "\n",
       "\n",
       "        [[[0., 0., 0.,  ..., 0., 0., 0.],\n",
       "          [0., 0., 0.,  ..., 0., 0., 0.],\n",
       "          [0., 0., 0.,  ..., 0., 0., 0.],\n",
       "          ...,\n",
       "          [0., 0., 0.,  ..., 0., 0., 0.],\n",
       "          [0., 0., 0.,  ..., 0., 0., 0.],\n",
       "          [0., 0., 0.,  ..., 0., 0., 0.]]],\n",
       "\n",
       "\n",
       "        ...,\n",
       "\n",
       "\n",
       "        [[[0., 0., 0.,  ..., 0., 0., 0.],\n",
       "          [0., 0., 0.,  ..., 0., 0., 0.],\n",
       "          [0., 0., 0.,  ..., 0., 0., 0.],\n",
       "          ...,\n",
       "          [0., 0., 0.,  ..., 0., 0., 0.],\n",
       "          [0., 0., 0.,  ..., 0., 0., 0.],\n",
       "          [0., 0., 0.,  ..., 0., 0., 0.]]],\n",
       "\n",
       "\n",
       "        [[[0., 0., 0.,  ..., 0., 0., 0.],\n",
       "          [0., 0., 0.,  ..., 0., 0., 0.],\n",
       "          [0., 0., 0.,  ..., 0., 0., 0.],\n",
       "          ...,\n",
       "          [0., 0., 0.,  ..., 0., 0., 0.],\n",
       "          [0., 0., 0.,  ..., 0., 0., 0.],\n",
       "          [0., 0., 0.,  ..., 0., 0., 0.]]],\n",
       "\n",
       "\n",
       "        [[[0., 0., 0.,  ..., 0., 0., 0.],\n",
       "          [0., 0., 0.,  ..., 0., 0., 0.],\n",
       "          [0., 0., 0.,  ..., 0., 0., 0.],\n",
       "          ...,\n",
       "          [0., 0., 0.,  ..., 0., 0., 0.],\n",
       "          [0., 0., 0.,  ..., 0., 0., 0.],\n",
       "          [0., 0., 0.,  ..., 0., 0., 0.]]]], device='cuda:0')"
      ]
     },
     "execution_count": 156,
     "metadata": {},
     "output_type": "execute_result"
    }
   ],
   "source": [
    "x_batch"
   ]
  },
  {
   "cell_type": "code",
   "execution_count": 157,
   "id": "8a5a3308",
   "metadata": {},
   "outputs": [
    {
     "data": {
      "text/plain": [
       "tensor([9, 0, 0, 3, 0, 2, 7, 2, 5, 5, 0, 9, 5, 5, 7, 9, 1, 0, 6, 4, 3, 1, 4, 8, 4, 3, 0, 2, 4, 4, 5, 3, 6, 6, 0, 8, 5, 2, 1, 6, 6, 7, 9, 5,\n",
       "        9, 2, 7, 3, 0, 3, 3, 3, 7, 2, 2, 6, 6, 8, 3, 3, 5, 0, 5, 5, 0, 2, 0, 0, 4, 1, 3, 1, 6, 3, 1, 4, 4, 6, 1, 9, 1, 3, 5, 7, 9, 7, 1, 7,\n",
       "        9, 9, 9, 3, 2, 9, 3, 6, 4, 1, 1, 8, 8, 0, 1, 1, 6, 8, 1, 9, 7, 8, 8, 9, 6, 6, 3, 1, 5, 4, 6, 7, 5, 5, 9, 2, 2, 2, 7, 6, 4, 1, 8, 7,\n",
       "        7, 5, 4, 2, 9, 1, 7, 4, 6, 9, 7, 1, 8, 7, 1, 2, 8, 0, 9, 1, 8, 7, 0, 5, 8, 6, 7, 2, 0, 8, 7, 1, 6, 2, 1, 9, 6, 0, 1, 0, 5, 5, 1, 7,\n",
       "        0, 5, 8, 4, 0, 4, 0, 6, 6, 4, 0, 0, 4, 7, 3, 0, 5, 8, 4, 1, 1, 2, 9, 2, 8, 5, 0, 6, 3, 4, 6, 0, 9, 1, 7, 3, 8, 5, 8, 3, 8, 5, 2, 0,\n",
       "        8, 7, 0, 3, 5, 0, 6, 5, 2, 7, 5, 2, 6, 8, 2, 6, 8, 0, 4, 4, 4, 4, 4, 1, 5, 6, 5, 3, 3, 7, 3, 3, 6, 2, 8, 4], device='cuda:0')"
      ]
     },
     "execution_count": 157,
     "metadata": {},
     "output_type": "execute_result"
    }
   ],
   "source": [
    "y_batch"
   ]
  },
  {
   "cell_type": "code",
   "execution_count": 158,
   "id": "1cfee4f1",
   "metadata": {},
   "outputs": [],
   "source": [
    "labels = ds.features[y].names"
   ]
  },
  {
   "cell_type": "code",
   "execution_count": 159,
   "id": "2c0823a3",
   "metadata": {},
   "outputs": [
    {
     "data": {
      "text/plain": [
       "['T - shirt / top',\n",
       " 'Trouser',\n",
       " 'Pullover',\n",
       " 'Dress',\n",
       " 'Coat',\n",
       " 'Sandal',\n",
       " 'Shirt',\n",
       " 'Sneaker',\n",
       " 'Bag',\n",
       " 'Ankle boot']"
      ]
     },
     "execution_count": 159,
     "metadata": {},
     "output_type": "execute_result"
    }
   ],
   "source": [
    "labels"
   ]
  },
  {
   "cell_type": "code",
   "execution_count": 160,
   "id": "6cd92f5e",
   "metadata": {},
   "outputs": [],
   "source": [
    "label_getter = itemgetter(*y_batch[:16])\n",
    "titles = label_getter(labels)"
   ]
  },
  {
   "cell_type": "code",
   "execution_count": 161,
   "id": "210821eb",
   "metadata": {},
   "outputs": [
    {
     "data": {
      "image/png": "[encoded data removed]",
      "text/plain": [
       "<Figure size 476x476 with 16 Axes>"
      ]
     },
     "metadata": {},
     "output_type": "display_data"
    }
   ],
   "source": [
    "show_images(x_batch[:16], imsize=1.7, titles=titles)"
   ]
  },
  {
   "cell_type": "markdown",
   "id": "3826da7c",
   "metadata": {},
   "source": [
    "## _Convolutional Neural Network_ (CNN)"
   ]
  },
  {
   "cell_type": "markdown",
   "id": "a644a446-a490-4e3b-9565-a45b30bed1e9",
   "metadata": {},
   "source": [
    "Para el desarrollo de la teoría de las CNN se hará uso de los datos de **MNIST**, es una base de datos similar a la de Fashion MNIST y de hecho es en la que esta última se basa."
   ]
  },
  {
   "cell_type": "code",
   "execution_count": 164,
   "id": "6eaddd69",
   "metadata": {},
   "outputs": [],
   "source": [
    "MNIST_URL='https://github.com/mnielsen/neural-networks-and-deep-learning/blob/master/data/mnist.pkl.gz?raw=true'\n",
    "path_data = Path('data')\n",
    "#El mdkir crea un directorio,] exist_ok=True es para que no de error cuando vea que el directorio ya existe previamente\n",
    "path_data.mkdir(exist_ok=True)\n",
    "path_gz = path_data/'mnist.pkl.gz'"
   ]
  },
  {
   "cell_type": "code",
   "execution_count": 165,
   "id": "764a4112",
   "metadata": {},
   "outputs": [],
   "source": [
    "from urllib.request import urlopen\n",
    "from shutil import copyfileobj\n",
    "\n",
    "with urlopen(MNIST_URL) as in_stream, open(path_gz, 'wb') as out_file:\n",
    "    copyfileobj(in_stream, out_file)\n",
    "    \n",
    "with gzip.open(path_gz, 'rb') as f: ((x_train, y_train), (x_valid, y_valid), _) = pickle.load(f, encoding='latin-1')\n",
    "x_train, y_train, x_valid, y_valid = map(torch.tensor, [x_train, y_train, x_valid, y_valid])"
   ]
  },
  {
   "cell_type": "markdown",
   "id": "942a102f-8098-4ba0-a3f8-f4421a5804c5",
   "metadata": {
    "jp-MarkdownHeadingCollapsed": true
   },
   "source": [
    "### Convoluciones"
   ]
  },
  {
   "attachments": {},
   "cell_type": "markdown",
   "id": "72cc3499-66a7-42b3-a0a6-95c735efb552",
   "metadata": {},
   "source": [
    "Cuando se hace uso de inteligencia artificial en el procesamiento de imágenes por lo general se quiere priorizar el reconocimiento de patrones y la velocidad de procesamiento, para hacer esto se usa las convoluciones.\n",
    "\n",
    "Para empezar se tiene un input que puede ser una matriz de 3x3:\n",
    "\n",
    "<img alt=\"input\" align=\"center\" src = \"images/MatrizCNN.png\"/>\n",
    "\n",
    "Luego se tiene algo llamado filtro o kernel de un tamaño inferior, por ejemplo de 2x2:\n",
    "\n",
    "\n",
    "<img alt=\"kernel\" align=\"center\" src = \"images/KernelCNN.png\"/>\n",
    "\n",
    "Luego se multiplica y suma el kernel por un fragmento de la imagen y este se va _deslizando_ para obtener los demás resultados:\n",
    "\n",
    "<img alt=\"kernel\" align=\"center\" src = \"images/AplicarKernel.png\"/>\n",
    "\n",
    "<img alt=\"kernel\" align=\"center\" src = \"images/EcuacionKernel.png\"/>\n",
    "\n",
    "De esta manera se obtiene una imagen de menor tamaño, en este caso de 2x2 que debería tener las carácterísticas importantes de la imagen original."
   ]
  },
  {
   "cell_type": "markdown",
   "id": "7648c60f",
   "metadata": {},
   "source": [
    "Vamos a tomar una imagen de nuestro _training data_ y una imagen de nuestro _validation data_."
   ]
  },
  {
   "cell_type": "code",
   "execution_count": 169,
   "id": "1f0ab680",
   "metadata": {},
   "outputs": [],
   "source": [
    "x_imgs = x_train.view(-1,28,28)\n",
    "xv_imgs = x_valid.view(-1,28,28)"
   ]
  },
  {
   "cell_type": "code",
   "execution_count": 170,
   "id": "130d8651",
   "metadata": {},
   "outputs": [
    {
     "data": {
      "image/png": "[encoded data removed]",
      "text/plain": [
       "<Figure size 448x336 with 1 Axes>"
      ]
     },
     "metadata": {},
     "output_type": "display_data"
    }
   ],
   "source": [
    "im3 = x_imgs[7]\n",
    "show_image(im3);"
   ]
  },
  {
   "cell_type": "markdown",
   "id": "cf39ee79-bfde-47e4-8c33-22eca8f40e98",
   "metadata": {},
   "source": [
    "Se crea un kernel de 3x3, en este caso para identificar los \"bordes superiores\" de una imagen."
   ]
  },
  {
   "cell_type": "code",
   "execution_count": 172,
   "id": "793a31c2",
   "metadata": {},
   "outputs": [],
   "source": [
    "top_edge = torch.tensor([[-1,-1,-1],\n",
    "                   [ 0, 0, 0],\n",
    "                   [ 1, 1, 1]]).float()"
   ]
  },
  {
   "cell_type": "code",
   "execution_count": 173,
   "id": "f7b9bd5a",
   "metadata": {},
   "outputs": [
    {
     "data": {
      "image/png": "[encoded data removed]",
      "text/plain": [
       "<Figure size 448x336 with 1 Axes>"
      ]
     },
     "metadata": {},
     "output_type": "display_data"
    }
   ],
   "source": [
    "show_image(top_edge, noframe=False);"
   ]
  },
  {
   "cell_type": "markdown",
   "id": "80649a3d",
   "metadata": {},
   "source": [
    "El kernel es como una pequeña ventana de 3x3 que se va deslizando por nuestra imagen y si se tiene por ejemplo:\n",
    "\n",
    "$$\\begin{matrix} a1 & a2 & a3 \\\\ a4 & a5 & a6 \\\\ a7 & a8 & a9 \\end{matrix}$$\n",
    "\n",
    "Dará como resultado: $-a1-a2-a3+a7+a8+a9$."
   ]
  },
  {
   "cell_type": "markdown",
   "id": "5f66dbf8",
   "metadata": {},
   "source": [
    "Aquí estamos viendo la imagen que sacamos de nuestros datos y en especifico estamos mirando las `primeras 13 filas` y las `primeras 23 columnas`"
   ]
  },
  {
   "cell_type": "code",
   "execution_count": 176,
   "id": "6b55d253",
   "metadata": {},
   "outputs": [
    {
     "data": {
      "text/html": [
       "<style type=\"text/css\">\n",
       "#T_7f979_row0_col0, #T_7f979_row0_col1, #T_7f979_row0_col2, #T_7f979_row0_col3, #T_7f979_row0_col4, #T_7f979_row0_col5, #T_7f979_row0_col6, #T_7f979_row0_col7, #T_7f979_row0_col8, #T_7f979_row0_col9, #T_7f979_row0_col10, #T_7f979_row0_col11, #T_7f979_row0_col12, #T_7f979_row0_col13, #T_7f979_row0_col14, #T_7f979_row0_col15, #T_7f979_row0_col16, #T_7f979_row0_col17, #T_7f979_row0_col18, #T_7f979_row0_col19, #T_7f979_row0_col20, #T_7f979_row0_col21, #T_7f979_row0_col22, #T_7f979_row1_col0, #T_7f979_row1_col1, #T_7f979_row1_col2, #T_7f979_row1_col3, #T_7f979_row1_col4, #T_7f979_row1_col5, #T_7f979_row1_col6, #T_7f979_row1_col7, #T_7f979_row1_col8, #T_7f979_row1_col9, #T_7f979_row1_col10, #T_7f979_row1_col11, #T_7f979_row1_col12, #T_7f979_row1_col13, #T_7f979_row1_col14, #T_7f979_row1_col15, #T_7f979_row1_col16, #T_7f979_row1_col17, #T_7f979_row1_col18, #T_7f979_row1_col19, #T_7f979_row1_col20, #T_7f979_row1_col21, #T_7f979_row1_col22, #T_7f979_row2_col0, #T_7f979_row2_col1, #T_7f979_row2_col2, #T_7f979_row2_col3, #T_7f979_row2_col4, #T_7f979_row2_col5, #T_7f979_row2_col6, #T_7f979_row2_col7, #T_7f979_row2_col8, #T_7f979_row2_col9, #T_7f979_row2_col10, #T_7f979_row2_col11, #T_7f979_row2_col12, #T_7f979_row2_col13, #T_7f979_row2_col14, #T_7f979_row2_col15, #T_7f979_row2_col16, #T_7f979_row2_col17, #T_7f979_row2_col18, #T_7f979_row2_col19, #T_7f979_row2_col20, #T_7f979_row2_col21, #T_7f979_row2_col22, #T_7f979_row3_col0, #T_7f979_row3_col1, #T_7f979_row3_col2, #T_7f979_row3_col3, #T_7f979_row3_col4, #T_7f979_row3_col5, #T_7f979_row3_col6, #T_7f979_row3_col7, #T_7f979_row3_col8, #T_7f979_row3_col9, #T_7f979_row3_col10, #T_7f979_row3_col11, #T_7f979_row3_col12, #T_7f979_row3_col13, #T_7f979_row3_col14, #T_7f979_row3_col15, #T_7f979_row3_col16, #T_7f979_row3_col17, #T_7f979_row3_col18, #T_7f979_row3_col19, #T_7f979_row3_col20, #T_7f979_row3_col21, #T_7f979_row3_col22, #T_7f979_row4_col0, #T_7f979_row4_col1, #T_7f979_row4_col2, #T_7f979_row4_col3, #T_7f979_row4_col4, #T_7f979_row4_col5, #T_7f979_row4_col6, #T_7f979_row4_col7, #T_7f979_row4_col8, #T_7f979_row4_col9, #T_7f979_row4_col10, #T_7f979_row4_col11, #T_7f979_row4_col12, #T_7f979_row4_col13, #T_7f979_row4_col14, #T_7f979_row4_col15, #T_7f979_row4_col16, #T_7f979_row4_col17, #T_7f979_row4_col18, #T_7f979_row4_col19, #T_7f979_row4_col20, #T_7f979_row4_col21, #T_7f979_row4_col22, #T_7f979_row5_col0, #T_7f979_row5_col1, #T_7f979_row5_col2, #T_7f979_row5_col3, #T_7f979_row5_col4, #T_7f979_row5_col5, #T_7f979_row5_col6, #T_7f979_row5_col7, #T_7f979_row5_col8, #T_7f979_row5_col9, #T_7f979_row5_col10, #T_7f979_row5_col22, #T_7f979_row6_col0, #T_7f979_row6_col1, #T_7f979_row6_col2, #T_7f979_row6_col3, #T_7f979_row6_col4, #T_7f979_row6_col5, #T_7f979_row6_col6, #T_7f979_row6_col7, #T_7f979_row6_col8, #T_7f979_row7_col0, #T_7f979_row7_col1, #T_7f979_row7_col2, #T_7f979_row7_col3, #T_7f979_row7_col4, #T_7f979_row7_col5, #T_7f979_row7_col6, #T_7f979_row7_col7, #T_7f979_row7_col8, #T_7f979_row8_col0, #T_7f979_row8_col1, #T_7f979_row8_col2, #T_7f979_row8_col3, #T_7f979_row8_col4, #T_7f979_row8_col5, #T_7f979_row8_col6, #T_7f979_row8_col7, #T_7f979_row8_col8, #T_7f979_row9_col0, #T_7f979_row9_col1, #T_7f979_row9_col2, #T_7f979_row9_col3, #T_7f979_row9_col4, #T_7f979_row9_col5, #T_7f979_row9_col6, #T_7f979_row9_col7, #T_7f979_row9_col8, #T_7f979_row9_col13, #T_7f979_row9_col14, #T_7f979_row9_col15, #T_7f979_row9_col16, #T_7f979_row10_col0, #T_7f979_row10_col1, #T_7f979_row10_col2, #T_7f979_row10_col3, #T_7f979_row10_col4, #T_7f979_row10_col5, #T_7f979_row10_col6, #T_7f979_row10_col7, #T_7f979_row10_col8, #T_7f979_row10_col9, #T_7f979_row10_col10, #T_7f979_row10_col11, #T_7f979_row10_col12, #T_7f979_row10_col13, #T_7f979_row10_col14, #T_7f979_row10_col15, #T_7f979_row10_col16, #T_7f979_row10_col22, #T_7f979_row11_col0, #T_7f979_row11_col1, #T_7f979_row11_col2, #T_7f979_row11_col3, #T_7f979_row11_col4, #T_7f979_row11_col5, #T_7f979_row11_col6, #T_7f979_row11_col7, #T_7f979_row11_col8, #T_7f979_row11_col9, #T_7f979_row11_col10, #T_7f979_row11_col11, #T_7f979_row11_col12, #T_7f979_row11_col13, #T_7f979_row11_col14, #T_7f979_row11_col15, #T_7f979_row11_col22, #T_7f979_row12_col0, #T_7f979_row12_col1, #T_7f979_row12_col2, #T_7f979_row12_col3, #T_7f979_row12_col4, #T_7f979_row12_col5, #T_7f979_row12_col6, #T_7f979_row12_col7, #T_7f979_row12_col8, #T_7f979_row12_col9, #T_7f979_row12_col10, #T_7f979_row12_col11, #T_7f979_row12_col12, #T_7f979_row12_col13, #T_7f979_row12_col22 {\n",
       "  font-size: 7pt;\n",
       "  background-color: #ffffff;\n",
       "  color: #000000;\n",
       "}\n",
       "#T_7f979_row5_col11 {\n",
       "  font-size: 7pt;\n",
       "  background-color: #ececec;\n",
       "  color: #000000;\n",
       "}\n",
       "#T_7f979_row5_col12 {\n",
       "  font-size: 7pt;\n",
       "  background-color: #e8e8e8;\n",
       "  color: #000000;\n",
       "}\n",
       "#T_7f979_row5_col13 {\n",
       "  font-size: 7pt;\n",
       "  background-color: #b0b0b0;\n",
       "  color: #000000;\n",
       "}\n",
       "#T_7f979_row5_col14, #T_7f979_row5_col15, #T_7f979_row5_col16, #T_7f979_row5_col17, #T_7f979_row5_col18, #T_7f979_row5_col19, #T_7f979_row6_col13, #T_7f979_row6_col20, #T_7f979_row7_col9, #T_7f979_row7_col10, #T_7f979_row7_col11, #T_7f979_row7_col12, #T_7f979_row7_col13, #T_7f979_row7_col20, #T_7f979_row7_col21, #T_7f979_row7_col22, #T_7f979_row8_col10, #T_7f979_row8_col11, #T_7f979_row8_col20, #T_7f979_row8_col21, #T_7f979_row8_col22, #T_7f979_row9_col20, #T_7f979_row10_col20, #T_7f979_row11_col20 {\n",
       "  font-size: 7pt;\n",
       "  background-color: #000000;\n",
       "  color: #f1f1f1;\n",
       "}\n",
       "#T_7f979_row5_col20 {\n",
       "  font-size: 7pt;\n",
       "  background-color: #626262;\n",
       "  color: #f1f1f1;\n",
       "}\n",
       "#T_7f979_row5_col21 {\n",
       "  font-size: 7pt;\n",
       "  background-color: #fcfcfc;\n",
       "  color: #000000;\n",
       "}\n",
       "#T_7f979_row6_col9 {\n",
       "  font-size: 7pt;\n",
       "  background-color: #dbdbdb;\n",
       "  color: #000000;\n",
       "}\n",
       "#T_7f979_row6_col10 {\n",
       "  font-size: 7pt;\n",
       "  background-color: #878787;\n",
       "  color: #f1f1f1;\n",
       "}\n",
       "#T_7f979_row6_col11 {\n",
       "  font-size: 7pt;\n",
       "  background-color: #212121;\n",
       "  color: #f1f1f1;\n",
       "}\n",
       "#T_7f979_row6_col12 {\n",
       "  font-size: 7pt;\n",
       "  background-color: #1e1e1e;\n",
       "  color: #f1f1f1;\n",
       "}\n",
       "#T_7f979_row6_col14, #T_7f979_row7_col14 {\n",
       "  font-size: 7pt;\n",
       "  background-color: #020202;\n",
       "  color: #f1f1f1;\n",
       "}\n",
       "#T_7f979_row6_col15, #T_7f979_row6_col16, #T_7f979_row6_col17, #T_7f979_row6_col18, #T_7f979_row6_col19, #T_7f979_row7_col15, #T_7f979_row7_col16, #T_7f979_row7_col17, #T_7f979_row7_col18, #T_7f979_row7_col19, #T_7f979_row8_col18, #T_7f979_row8_col19, #T_7f979_row9_col19, #T_7f979_row10_col19, #T_7f979_row11_col18, #T_7f979_row11_col19, #T_7f979_row12_col17, #T_7f979_row12_col18, #T_7f979_row12_col19 {\n",
       "  font-size: 7pt;\n",
       "  background-color: #010101;\n",
       "  color: #f1f1f1;\n",
       "}\n",
       "#T_7f979_row6_col21 {\n",
       "  font-size: 7pt;\n",
       "  background-color: #727272;\n",
       "  color: #f1f1f1;\n",
       "}\n",
       "#T_7f979_row6_col22 {\n",
       "  font-size: 7pt;\n",
       "  background-color: #dcdcdc;\n",
       "  color: #000000;\n",
       "}\n",
       "#T_7f979_row8_col9 {\n",
       "  font-size: 7pt;\n",
       "  background-color: #777777;\n",
       "  color: #f1f1f1;\n",
       "}\n",
       "#T_7f979_row8_col12 {\n",
       "  font-size: 7pt;\n",
       "  background-color: #1a1a1a;\n",
       "  color: #f1f1f1;\n",
       "}\n",
       "#T_7f979_row8_col13 {\n",
       "  font-size: 7pt;\n",
       "  background-color: #8f8f8f;\n",
       "  color: #f1f1f1;\n",
       "}\n",
       "#T_7f979_row8_col14, #T_7f979_row8_col15, #T_7f979_row8_col16 {\n",
       "  font-size: 7pt;\n",
       "  background-color: #909090;\n",
       "  color: #f1f1f1;\n",
       "}\n",
       "#T_7f979_row8_col17, #T_7f979_row11_col17 {\n",
       "  font-size: 7pt;\n",
       "  background-color: #525252;\n",
       "  color: #f1f1f1;\n",
       "}\n",
       "#T_7f979_row9_col9 {\n",
       "  font-size: 7pt;\n",
       "  background-color: #fdfdfd;\n",
       "  color: #000000;\n",
       "}\n",
       "#T_7f979_row9_col10, #T_7f979_row9_col11, #T_7f979_row9_col22 {\n",
       "  font-size: 7pt;\n",
       "  background-color: #f1f1f1;\n",
       "  color: #000000;\n",
       "}\n",
       "#T_7f979_row9_col12 {\n",
       "  font-size: 7pt;\n",
       "  background-color: #f4f4f4;\n",
       "  color: #000000;\n",
       "}\n",
       "#T_7f979_row9_col17, #T_7f979_row11_col21 {\n",
       "  font-size: 7pt;\n",
       "  background-color: #f8f8f8;\n",
       "  color: #000000;\n",
       "}\n",
       "#T_7f979_row9_col18 {\n",
       "  font-size: 7pt;\n",
       "  background-color: #1f1f1f;\n",
       "  color: #f1f1f1;\n",
       "}\n",
       "#T_7f979_row9_col21 {\n",
       "  font-size: 7pt;\n",
       "  background-color: #646464;\n",
       "  color: #f1f1f1;\n",
       "}\n",
       "#T_7f979_row10_col17 {\n",
       "  font-size: 7pt;\n",
       "  background-color: #c5c5c5;\n",
       "  color: #000000;\n",
       "}\n",
       "#T_7f979_row10_col18 {\n",
       "  font-size: 7pt;\n",
       "  background-color: #0c0c0c;\n",
       "  color: #f1f1f1;\n",
       "}\n",
       "#T_7f979_row10_col21 {\n",
       "  font-size: 7pt;\n",
       "  background-color: #828282;\n",
       "  color: #f1f1f1;\n",
       "}\n",
       "#T_7f979_row11_col16 {\n",
       "  font-size: 7pt;\n",
       "  background-color: #c3c3c3;\n",
       "  color: #000000;\n",
       "}\n",
       "#T_7f979_row12_col14 {\n",
       "  font-size: 7pt;\n",
       "  background-color: #c1c1c1;\n",
       "  color: #000000;\n",
       "}\n",
       "#T_7f979_row12_col15 {\n",
       "  font-size: 7pt;\n",
       "  background-color: #323232;\n",
       "  color: #f1f1f1;\n",
       "}\n",
       "#T_7f979_row12_col16 {\n",
       "  font-size: 7pt;\n",
       "  background-color: #070707;\n",
       "  color: #f1f1f1;\n",
       "}\n",
       "#T_7f979_row12_col20 {\n",
       "  font-size: 7pt;\n",
       "  background-color: #3c3c3c;\n",
       "  color: #f1f1f1;\n",
       "}\n",
       "#T_7f979_row12_col21 {\n",
       "  font-size: 7pt;\n",
       "  background-color: #fbfbfb;\n",
       "  color: #000000;\n",
       "}\n",
       "</style>\n",
       "<table id=\"T_7f979\">\n",
       "  <thead>\n",
       "    <tr>\n",
       "      <th class=\"blank level0\" >&nbsp;</th>\n",
       "      <th id=\"T_7f979_level0_col0\" class=\"col_heading level0 col0\" >0</th>\n",
       "      <th id=\"T_7f979_level0_col1\" class=\"col_heading level0 col1\" >1</th>\n",
       "      <th id=\"T_7f979_level0_col2\" class=\"col_heading level0 col2\" >2</th>\n",
       "      <th id=\"T_7f979_level0_col3\" class=\"col_heading level0 col3\" >3</th>\n",
       "      <th id=\"T_7f979_level0_col4\" class=\"col_heading level0 col4\" >4</th>\n",
       "      <th id=\"T_7f979_level0_col5\" class=\"col_heading level0 col5\" >5</th>\n",
       "      <th id=\"T_7f979_level0_col6\" class=\"col_heading level0 col6\" >6</th>\n",
       "      <th id=\"T_7f979_level0_col7\" class=\"col_heading level0 col7\" >7</th>\n",
       "      <th id=\"T_7f979_level0_col8\" class=\"col_heading level0 col8\" >8</th>\n",
       "      <th id=\"T_7f979_level0_col9\" class=\"col_heading level0 col9\" >9</th>\n",
       "      <th id=\"T_7f979_level0_col10\" class=\"col_heading level0 col10\" >10</th>\n",
       "      <th id=\"T_7f979_level0_col11\" class=\"col_heading level0 col11\" >11</th>\n",
       "      <th id=\"T_7f979_level0_col12\" class=\"col_heading level0 col12\" >12</th>\n",
       "      <th id=\"T_7f979_level0_col13\" class=\"col_heading level0 col13\" >13</th>\n",
       "      <th id=\"T_7f979_level0_col14\" class=\"col_heading level0 col14\" >14</th>\n",
       "      <th id=\"T_7f979_level0_col15\" class=\"col_heading level0 col15\" >15</th>\n",
       "      <th id=\"T_7f979_level0_col16\" class=\"col_heading level0 col16\" >16</th>\n",
       "      <th id=\"T_7f979_level0_col17\" class=\"col_heading level0 col17\" >17</th>\n",
       "      <th id=\"T_7f979_level0_col18\" class=\"col_heading level0 col18\" >18</th>\n",
       "      <th id=\"T_7f979_level0_col19\" class=\"col_heading level0 col19\" >19</th>\n",
       "      <th id=\"T_7f979_level0_col20\" class=\"col_heading level0 col20\" >20</th>\n",
       "      <th id=\"T_7f979_level0_col21\" class=\"col_heading level0 col21\" >21</th>\n",
       "      <th id=\"T_7f979_level0_col22\" class=\"col_heading level0 col22\" >22</th>\n",
       "    </tr>\n",
       "  </thead>\n",
       "  <tbody>\n",
       "    <tr>\n",
       "      <th id=\"T_7f979_level0_row0\" class=\"row_heading level0 row0\" >0</th>\n",
       "      <td id=\"T_7f979_row0_col0\" class=\"data row0 col0\" >0.00</td>\n",
       "      <td id=\"T_7f979_row0_col1\" class=\"data row0 col1\" >0.00</td>\n",
       "      <td id=\"T_7f979_row0_col2\" class=\"data row0 col2\" >0.00</td>\n",
       "      <td id=\"T_7f979_row0_col3\" class=\"data row0 col3\" >0.00</td>\n",
       "      <td id=\"T_7f979_row0_col4\" class=\"data row0 col4\" >0.00</td>\n",
       "      <td id=\"T_7f979_row0_col5\" class=\"data row0 col5\" >0.00</td>\n",
       "      <td id=\"T_7f979_row0_col6\" class=\"data row0 col6\" >0.00</td>\n",
       "      <td id=\"T_7f979_row0_col7\" class=\"data row0 col7\" >0.00</td>\n",
       "      <td id=\"T_7f979_row0_col8\" class=\"data row0 col8\" >0.00</td>\n",
       "      <td id=\"T_7f979_row0_col9\" class=\"data row0 col9\" >0.00</td>\n",
       "      <td id=\"T_7f979_row0_col10\" class=\"data row0 col10\" >0.00</td>\n",
       "      <td id=\"T_7f979_row0_col11\" class=\"data row0 col11\" >0.00</td>\n",
       "      <td id=\"T_7f979_row0_col12\" class=\"data row0 col12\" >0.00</td>\n",
       "      <td id=\"T_7f979_row0_col13\" class=\"data row0 col13\" >0.00</td>\n",
       "      <td id=\"T_7f979_row0_col14\" class=\"data row0 col14\" >0.00</td>\n",
       "      <td id=\"T_7f979_row0_col15\" class=\"data row0 col15\" >0.00</td>\n",
       "      <td id=\"T_7f979_row0_col16\" class=\"data row0 col16\" >0.00</td>\n",
       "      <td id=\"T_7f979_row0_col17\" class=\"data row0 col17\" >0.00</td>\n",
       "      <td id=\"T_7f979_row0_col18\" class=\"data row0 col18\" >0.00</td>\n",
       "      <td id=\"T_7f979_row0_col19\" class=\"data row0 col19\" >0.00</td>\n",
       "      <td id=\"T_7f979_row0_col20\" class=\"data row0 col20\" >0.00</td>\n",
       "      <td id=\"T_7f979_row0_col21\" class=\"data row0 col21\" >0.00</td>\n",
       "      <td id=\"T_7f979_row0_col22\" class=\"data row0 col22\" >0.00</td>\n",
       "    </tr>\n",
       "    <tr>\n",
       "      <th id=\"T_7f979_level0_row1\" class=\"row_heading level0 row1\" >1</th>\n",
       "      <td id=\"T_7f979_row1_col0\" class=\"data row1 col0\" >0.00</td>\n",
       "      <td id=\"T_7f979_row1_col1\" class=\"data row1 col1\" >0.00</td>\n",
       "      <td id=\"T_7f979_row1_col2\" class=\"data row1 col2\" >0.00</td>\n",
       "      <td id=\"T_7f979_row1_col3\" class=\"data row1 col3\" >0.00</td>\n",
       "      <td id=\"T_7f979_row1_col4\" class=\"data row1 col4\" >0.00</td>\n",
       "      <td id=\"T_7f979_row1_col5\" class=\"data row1 col5\" >0.00</td>\n",
       "      <td id=\"T_7f979_row1_col6\" class=\"data row1 col6\" >0.00</td>\n",
       "      <td id=\"T_7f979_row1_col7\" class=\"data row1 col7\" >0.00</td>\n",
       "      <td id=\"T_7f979_row1_col8\" class=\"data row1 col8\" >0.00</td>\n",
       "      <td id=\"T_7f979_row1_col9\" class=\"data row1 col9\" >0.00</td>\n",
       "      <td id=\"T_7f979_row1_col10\" class=\"data row1 col10\" >0.00</td>\n",
       "      <td id=\"T_7f979_row1_col11\" class=\"data row1 col11\" >0.00</td>\n",
       "      <td id=\"T_7f979_row1_col12\" class=\"data row1 col12\" >0.00</td>\n",
       "      <td id=\"T_7f979_row1_col13\" class=\"data row1 col13\" >0.00</td>\n",
       "      <td id=\"T_7f979_row1_col14\" class=\"data row1 col14\" >0.00</td>\n",
       "      <td id=\"T_7f979_row1_col15\" class=\"data row1 col15\" >0.00</td>\n",
       "      <td id=\"T_7f979_row1_col16\" class=\"data row1 col16\" >0.00</td>\n",
       "      <td id=\"T_7f979_row1_col17\" class=\"data row1 col17\" >0.00</td>\n",
       "      <td id=\"T_7f979_row1_col18\" class=\"data row1 col18\" >0.00</td>\n",
       "      <td id=\"T_7f979_row1_col19\" class=\"data row1 col19\" >0.00</td>\n",
       "      <td id=\"T_7f979_row1_col20\" class=\"data row1 col20\" >0.00</td>\n",
       "      <td id=\"T_7f979_row1_col21\" class=\"data row1 col21\" >0.00</td>\n",
       "      <td id=\"T_7f979_row1_col22\" class=\"data row1 col22\" >0.00</td>\n",
       "    </tr>\n",
       "    <tr>\n",
       "      <th id=\"T_7f979_level0_row2\" class=\"row_heading level0 row2\" >2</th>\n",
       "      <td id=\"T_7f979_row2_col0\" class=\"data row2 col0\" >0.00</td>\n",
       "      <td id=\"T_7f979_row2_col1\" class=\"data row2 col1\" >0.00</td>\n",
       "      <td id=\"T_7f979_row2_col2\" class=\"data row2 col2\" >0.00</td>\n",
       "      <td id=\"T_7f979_row2_col3\" class=\"data row2 col3\" >0.00</td>\n",
       "      <td id=\"T_7f979_row2_col4\" class=\"data row2 col4\" >0.00</td>\n",
       "      <td id=\"T_7f979_row2_col5\" class=\"data row2 col5\" >0.00</td>\n",
       "      <td id=\"T_7f979_row2_col6\" class=\"data row2 col6\" >0.00</td>\n",
       "      <td id=\"T_7f979_row2_col7\" class=\"data row2 col7\" >0.00</td>\n",
       "      <td id=\"T_7f979_row2_col8\" class=\"data row2 col8\" >0.00</td>\n",
       "      <td id=\"T_7f979_row2_col9\" class=\"data row2 col9\" >0.00</td>\n",
       "      <td id=\"T_7f979_row2_col10\" class=\"data row2 col10\" >0.00</td>\n",
       "      <td id=\"T_7f979_row2_col11\" class=\"data row2 col11\" >0.00</td>\n",
       "      <td id=\"T_7f979_row2_col12\" class=\"data row2 col12\" >0.00</td>\n",
       "      <td id=\"T_7f979_row2_col13\" class=\"data row2 col13\" >0.00</td>\n",
       "      <td id=\"T_7f979_row2_col14\" class=\"data row2 col14\" >0.00</td>\n",
       "      <td id=\"T_7f979_row2_col15\" class=\"data row2 col15\" >0.00</td>\n",
       "      <td id=\"T_7f979_row2_col16\" class=\"data row2 col16\" >0.00</td>\n",
       "      <td id=\"T_7f979_row2_col17\" class=\"data row2 col17\" >0.00</td>\n",
       "      <td id=\"T_7f979_row2_col18\" class=\"data row2 col18\" >0.00</td>\n",
       "      <td id=\"T_7f979_row2_col19\" class=\"data row2 col19\" >0.00</td>\n",
       "      <td id=\"T_7f979_row2_col20\" class=\"data row2 col20\" >0.00</td>\n",
       "      <td id=\"T_7f979_row2_col21\" class=\"data row2 col21\" >0.00</td>\n",
       "      <td id=\"T_7f979_row2_col22\" class=\"data row2 col22\" >0.00</td>\n",
       "    </tr>\n",
       "    <tr>\n",
       "      <th id=\"T_7f979_level0_row3\" class=\"row_heading level0 row3\" >3</th>\n",
       "      <td id=\"T_7f979_row3_col0\" class=\"data row3 col0\" >0.00</td>\n",
       "      <td id=\"T_7f979_row3_col1\" class=\"data row3 col1\" >0.00</td>\n",
       "      <td id=\"T_7f979_row3_col2\" class=\"data row3 col2\" >0.00</td>\n",
       "      <td id=\"T_7f979_row3_col3\" class=\"data row3 col3\" >0.00</td>\n",
       "      <td id=\"T_7f979_row3_col4\" class=\"data row3 col4\" >0.00</td>\n",
       "      <td id=\"T_7f979_row3_col5\" class=\"data row3 col5\" >0.00</td>\n",
       "      <td id=\"T_7f979_row3_col6\" class=\"data row3 col6\" >0.00</td>\n",
       "      <td id=\"T_7f979_row3_col7\" class=\"data row3 col7\" >0.00</td>\n",
       "      <td id=\"T_7f979_row3_col8\" class=\"data row3 col8\" >0.00</td>\n",
       "      <td id=\"T_7f979_row3_col9\" class=\"data row3 col9\" >0.00</td>\n",
       "      <td id=\"T_7f979_row3_col10\" class=\"data row3 col10\" >0.00</td>\n",
       "      <td id=\"T_7f979_row3_col11\" class=\"data row3 col11\" >0.00</td>\n",
       "      <td id=\"T_7f979_row3_col12\" class=\"data row3 col12\" >0.00</td>\n",
       "      <td id=\"T_7f979_row3_col13\" class=\"data row3 col13\" >0.00</td>\n",
       "      <td id=\"T_7f979_row3_col14\" class=\"data row3 col14\" >0.00</td>\n",
       "      <td id=\"T_7f979_row3_col15\" class=\"data row3 col15\" >0.00</td>\n",
       "      <td id=\"T_7f979_row3_col16\" class=\"data row3 col16\" >0.00</td>\n",
       "      <td id=\"T_7f979_row3_col17\" class=\"data row3 col17\" >0.00</td>\n",
       "      <td id=\"T_7f979_row3_col18\" class=\"data row3 col18\" >0.00</td>\n",
       "      <td id=\"T_7f979_row3_col19\" class=\"data row3 col19\" >0.00</td>\n",
       "      <td id=\"T_7f979_row3_col20\" class=\"data row3 col20\" >0.00</td>\n",
       "      <td id=\"T_7f979_row3_col21\" class=\"data row3 col21\" >0.00</td>\n",
       "      <td id=\"T_7f979_row3_col22\" class=\"data row3 col22\" >0.00</td>\n",
       "    </tr>\n",
       "    <tr>\n",
       "      <th id=\"T_7f979_level0_row4\" class=\"row_heading level0 row4\" >4</th>\n",
       "      <td id=\"T_7f979_row4_col0\" class=\"data row4 col0\" >0.00</td>\n",
       "      <td id=\"T_7f979_row4_col1\" class=\"data row4 col1\" >0.00</td>\n",
       "      <td id=\"T_7f979_row4_col2\" class=\"data row4 col2\" >0.00</td>\n",
       "      <td id=\"T_7f979_row4_col3\" class=\"data row4 col3\" >0.00</td>\n",
       "      <td id=\"T_7f979_row4_col4\" class=\"data row4 col4\" >0.00</td>\n",
       "      <td id=\"T_7f979_row4_col5\" class=\"data row4 col5\" >0.00</td>\n",
       "      <td id=\"T_7f979_row4_col6\" class=\"data row4 col6\" >0.00</td>\n",
       "      <td id=\"T_7f979_row4_col7\" class=\"data row4 col7\" >0.00</td>\n",
       "      <td id=\"T_7f979_row4_col8\" class=\"data row4 col8\" >0.00</td>\n",
       "      <td id=\"T_7f979_row4_col9\" class=\"data row4 col9\" >0.00</td>\n",
       "      <td id=\"T_7f979_row4_col10\" class=\"data row4 col10\" >0.00</td>\n",
       "      <td id=\"T_7f979_row4_col11\" class=\"data row4 col11\" >0.00</td>\n",
       "      <td id=\"T_7f979_row4_col12\" class=\"data row4 col12\" >0.00</td>\n",
       "      <td id=\"T_7f979_row4_col13\" class=\"data row4 col13\" >0.00</td>\n",
       "      <td id=\"T_7f979_row4_col14\" class=\"data row4 col14\" >0.00</td>\n",
       "      <td id=\"T_7f979_row4_col15\" class=\"data row4 col15\" >0.00</td>\n",
       "      <td id=\"T_7f979_row4_col16\" class=\"data row4 col16\" >0.00</td>\n",
       "      <td id=\"T_7f979_row4_col17\" class=\"data row4 col17\" >0.00</td>\n",
       "      <td id=\"T_7f979_row4_col18\" class=\"data row4 col18\" >0.00</td>\n",
       "      <td id=\"T_7f979_row4_col19\" class=\"data row4 col19\" >0.00</td>\n",
       "      <td id=\"T_7f979_row4_col20\" class=\"data row4 col20\" >0.00</td>\n",
       "      <td id=\"T_7f979_row4_col21\" class=\"data row4 col21\" >0.00</td>\n",
       "      <td id=\"T_7f979_row4_col22\" class=\"data row4 col22\" >0.00</td>\n",
       "    </tr>\n",
       "    <tr>\n",
       "      <th id=\"T_7f979_level0_row5\" class=\"row_heading level0 row5\" >5</th>\n",
       "      <td id=\"T_7f979_row5_col0\" class=\"data row5 col0\" >0.00</td>\n",
       "      <td id=\"T_7f979_row5_col1\" class=\"data row5 col1\" >0.00</td>\n",
       "      <td id=\"T_7f979_row5_col2\" class=\"data row5 col2\" >0.00</td>\n",
       "      <td id=\"T_7f979_row5_col3\" class=\"data row5 col3\" >0.00</td>\n",
       "      <td id=\"T_7f979_row5_col4\" class=\"data row5 col4\" >0.00</td>\n",
       "      <td id=\"T_7f979_row5_col5\" class=\"data row5 col5\" >0.00</td>\n",
       "      <td id=\"T_7f979_row5_col6\" class=\"data row5 col6\" >0.00</td>\n",
       "      <td id=\"T_7f979_row5_col7\" class=\"data row5 col7\" >0.00</td>\n",
       "      <td id=\"T_7f979_row5_col8\" class=\"data row5 col8\" >0.00</td>\n",
       "      <td id=\"T_7f979_row5_col9\" class=\"data row5 col9\" >0.00</td>\n",
       "      <td id=\"T_7f979_row5_col10\" class=\"data row5 col10\" >0.00</td>\n",
       "      <td id=\"T_7f979_row5_col11\" class=\"data row5 col11\" >0.15</td>\n",
       "      <td id=\"T_7f979_row5_col12\" class=\"data row5 col12\" >0.17</td>\n",
       "      <td id=\"T_7f979_row5_col13\" class=\"data row5 col13\" >0.41</td>\n",
       "      <td id=\"T_7f979_row5_col14\" class=\"data row5 col14\" >1.00</td>\n",
       "      <td id=\"T_7f979_row5_col15\" class=\"data row5 col15\" >0.99</td>\n",
       "      <td id=\"T_7f979_row5_col16\" class=\"data row5 col16\" >0.99</td>\n",
       "      <td id=\"T_7f979_row5_col17\" class=\"data row5 col17\" >0.99</td>\n",
       "      <td id=\"T_7f979_row5_col18\" class=\"data row5 col18\" >0.99</td>\n",
       "      <td id=\"T_7f979_row5_col19\" class=\"data row5 col19\" >0.99</td>\n",
       "      <td id=\"T_7f979_row5_col20\" class=\"data row5 col20\" >0.68</td>\n",
       "      <td id=\"T_7f979_row5_col21\" class=\"data row5 col21\" >0.02</td>\n",
       "      <td id=\"T_7f979_row5_col22\" class=\"data row5 col22\" >0.00</td>\n",
       "    </tr>\n",
       "    <tr>\n",
       "      <th id=\"T_7f979_level0_row6\" class=\"row_heading level0 row6\" >6</th>\n",
       "      <td id=\"T_7f979_row6_col0\" class=\"data row6 col0\" >0.00</td>\n",
       "      <td id=\"T_7f979_row6_col1\" class=\"data row6 col1\" >0.00</td>\n",
       "      <td id=\"T_7f979_row6_col2\" class=\"data row6 col2\" >0.00</td>\n",
       "      <td id=\"T_7f979_row6_col3\" class=\"data row6 col3\" >0.00</td>\n",
       "      <td id=\"T_7f979_row6_col4\" class=\"data row6 col4\" >0.00</td>\n",
       "      <td id=\"T_7f979_row6_col5\" class=\"data row6 col5\" >0.00</td>\n",
       "      <td id=\"T_7f979_row6_col6\" class=\"data row6 col6\" >0.00</td>\n",
       "      <td id=\"T_7f979_row6_col7\" class=\"data row6 col7\" >0.00</td>\n",
       "      <td id=\"T_7f979_row6_col8\" class=\"data row6 col8\" >0.00</td>\n",
       "      <td id=\"T_7f979_row6_col9\" class=\"data row6 col9\" >0.17</td>\n",
       "      <td id=\"T_7f979_row6_col10\" class=\"data row6 col10\" >0.54</td>\n",
       "      <td id=\"T_7f979_row6_col11\" class=\"data row6 col11\" >0.88</td>\n",
       "      <td id=\"T_7f979_row6_col12\" class=\"data row6 col12\" >0.88</td>\n",
       "      <td id=\"T_7f979_row6_col13\" class=\"data row6 col13\" >0.98</td>\n",
       "      <td id=\"T_7f979_row6_col14\" class=\"data row6 col14\" >0.99</td>\n",
       "      <td id=\"T_7f979_row6_col15\" class=\"data row6 col15\" >0.98</td>\n",
       "      <td id=\"T_7f979_row6_col16\" class=\"data row6 col16\" >0.98</td>\n",
       "      <td id=\"T_7f979_row6_col17\" class=\"data row6 col17\" >0.98</td>\n",
       "      <td id=\"T_7f979_row6_col18\" class=\"data row6 col18\" >0.98</td>\n",
       "      <td id=\"T_7f979_row6_col19\" class=\"data row6 col19\" >0.98</td>\n",
       "      <td id=\"T_7f979_row6_col20\" class=\"data row6 col20\" >0.98</td>\n",
       "      <td id=\"T_7f979_row6_col21\" class=\"data row6 col21\" >0.62</td>\n",
       "      <td id=\"T_7f979_row6_col22\" class=\"data row6 col22\" >0.05</td>\n",
       "    </tr>\n",
       "    <tr>\n",
       "      <th id=\"T_7f979_level0_row7\" class=\"row_heading level0 row7\" >7</th>\n",
       "      <td id=\"T_7f979_row7_col0\" class=\"data row7 col0\" >0.00</td>\n",
       "      <td id=\"T_7f979_row7_col1\" class=\"data row7 col1\" >0.00</td>\n",
       "      <td id=\"T_7f979_row7_col2\" class=\"data row7 col2\" >0.00</td>\n",
       "      <td id=\"T_7f979_row7_col3\" class=\"data row7 col3\" >0.00</td>\n",
       "      <td id=\"T_7f979_row7_col4\" class=\"data row7 col4\" >0.00</td>\n",
       "      <td id=\"T_7f979_row7_col5\" class=\"data row7 col5\" >0.00</td>\n",
       "      <td id=\"T_7f979_row7_col6\" class=\"data row7 col6\" >0.00</td>\n",
       "      <td id=\"T_7f979_row7_col7\" class=\"data row7 col7\" >0.00</td>\n",
       "      <td id=\"T_7f979_row7_col8\" class=\"data row7 col8\" >0.00</td>\n",
       "      <td id=\"T_7f979_row7_col9\" class=\"data row7 col9\" >0.70</td>\n",
       "      <td id=\"T_7f979_row7_col10\" class=\"data row7 col10\" >0.98</td>\n",
       "      <td id=\"T_7f979_row7_col11\" class=\"data row7 col11\" >0.98</td>\n",
       "      <td id=\"T_7f979_row7_col12\" class=\"data row7 col12\" >0.98</td>\n",
       "      <td id=\"T_7f979_row7_col13\" class=\"data row7 col13\" >0.98</td>\n",
       "      <td id=\"T_7f979_row7_col14\" class=\"data row7 col14\" >0.99</td>\n",
       "      <td id=\"T_7f979_row7_col15\" class=\"data row7 col15\" >0.98</td>\n",
       "      <td id=\"T_7f979_row7_col16\" class=\"data row7 col16\" >0.98</td>\n",
       "      <td id=\"T_7f979_row7_col17\" class=\"data row7 col17\" >0.98</td>\n",
       "      <td id=\"T_7f979_row7_col18\" class=\"data row7 col18\" >0.98</td>\n",
       "      <td id=\"T_7f979_row7_col19\" class=\"data row7 col19\" >0.98</td>\n",
       "      <td id=\"T_7f979_row7_col20\" class=\"data row7 col20\" >0.98</td>\n",
       "      <td id=\"T_7f979_row7_col21\" class=\"data row7 col21\" >0.98</td>\n",
       "      <td id=\"T_7f979_row7_col22\" class=\"data row7 col22\" >0.23</td>\n",
       "    </tr>\n",
       "    <tr>\n",
       "      <th id=\"T_7f979_level0_row8\" class=\"row_heading level0 row8\" >8</th>\n",
       "      <td id=\"T_7f979_row8_col0\" class=\"data row8 col0\" >0.00</td>\n",
       "      <td id=\"T_7f979_row8_col1\" class=\"data row8 col1\" >0.00</td>\n",
       "      <td id=\"T_7f979_row8_col2\" class=\"data row8 col2\" >0.00</td>\n",
       "      <td id=\"T_7f979_row8_col3\" class=\"data row8 col3\" >0.00</td>\n",
       "      <td id=\"T_7f979_row8_col4\" class=\"data row8 col4\" >0.00</td>\n",
       "      <td id=\"T_7f979_row8_col5\" class=\"data row8 col5\" >0.00</td>\n",
       "      <td id=\"T_7f979_row8_col6\" class=\"data row8 col6\" >0.00</td>\n",
       "      <td id=\"T_7f979_row8_col7\" class=\"data row8 col7\" >0.00</td>\n",
       "      <td id=\"T_7f979_row8_col8\" class=\"data row8 col8\" >0.00</td>\n",
       "      <td id=\"T_7f979_row8_col9\" class=\"data row8 col9\" >0.43</td>\n",
       "      <td id=\"T_7f979_row8_col10\" class=\"data row8 col10\" >0.98</td>\n",
       "      <td id=\"T_7f979_row8_col11\" class=\"data row8 col11\" >0.98</td>\n",
       "      <td id=\"T_7f979_row8_col12\" class=\"data row8 col12\" >0.90</td>\n",
       "      <td id=\"T_7f979_row8_col13\" class=\"data row8 col13\" >0.52</td>\n",
       "      <td id=\"T_7f979_row8_col14\" class=\"data row8 col14\" >0.52</td>\n",
       "      <td id=\"T_7f979_row8_col15\" class=\"data row8 col15\" >0.52</td>\n",
       "      <td id=\"T_7f979_row8_col16\" class=\"data row8 col16\" >0.52</td>\n",
       "      <td id=\"T_7f979_row8_col17\" class=\"data row8 col17\" >0.74</td>\n",
       "      <td id=\"T_7f979_row8_col18\" class=\"data row8 col18\" >0.98</td>\n",
       "      <td id=\"T_7f979_row8_col19\" class=\"data row8 col19\" >0.98</td>\n",
       "      <td id=\"T_7f979_row8_col20\" class=\"data row8 col20\" >0.98</td>\n",
       "      <td id=\"T_7f979_row8_col21\" class=\"data row8 col21\" >0.98</td>\n",
       "      <td id=\"T_7f979_row8_col22\" class=\"data row8 col22\" >0.23</td>\n",
       "    </tr>\n",
       "    <tr>\n",
       "      <th id=\"T_7f979_level0_row9\" class=\"row_heading level0 row9\" >9</th>\n",
       "      <td id=\"T_7f979_row9_col0\" class=\"data row9 col0\" >0.00</td>\n",
       "      <td id=\"T_7f979_row9_col1\" class=\"data row9 col1\" >0.00</td>\n",
       "      <td id=\"T_7f979_row9_col2\" class=\"data row9 col2\" >0.00</td>\n",
       "      <td id=\"T_7f979_row9_col3\" class=\"data row9 col3\" >0.00</td>\n",
       "      <td id=\"T_7f979_row9_col4\" class=\"data row9 col4\" >0.00</td>\n",
       "      <td id=\"T_7f979_row9_col5\" class=\"data row9 col5\" >0.00</td>\n",
       "      <td id=\"T_7f979_row9_col6\" class=\"data row9 col6\" >0.00</td>\n",
       "      <td id=\"T_7f979_row9_col7\" class=\"data row9 col7\" >0.00</td>\n",
       "      <td id=\"T_7f979_row9_col8\" class=\"data row9 col8\" >0.00</td>\n",
       "      <td id=\"T_7f979_row9_col9\" class=\"data row9 col9\" >0.02</td>\n",
       "      <td id=\"T_7f979_row9_col10\" class=\"data row9 col10\" >0.11</td>\n",
       "      <td id=\"T_7f979_row9_col11\" class=\"data row9 col11\" >0.11</td>\n",
       "      <td id=\"T_7f979_row9_col12\" class=\"data row9 col12\" >0.09</td>\n",
       "      <td id=\"T_7f979_row9_col13\" class=\"data row9 col13\" >0.00</td>\n",
       "      <td id=\"T_7f979_row9_col14\" class=\"data row9 col14\" >0.00</td>\n",
       "      <td id=\"T_7f979_row9_col15\" class=\"data row9 col15\" >0.00</td>\n",
       "      <td id=\"T_7f979_row9_col16\" class=\"data row9 col16\" >0.00</td>\n",
       "      <td id=\"T_7f979_row9_col17\" class=\"data row9 col17\" >0.05</td>\n",
       "      <td id=\"T_7f979_row9_col18\" class=\"data row9 col18\" >0.88</td>\n",
       "      <td id=\"T_7f979_row9_col19\" class=\"data row9 col19\" >0.98</td>\n",
       "      <td id=\"T_7f979_row9_col20\" class=\"data row9 col20\" >0.98</td>\n",
       "      <td id=\"T_7f979_row9_col21\" class=\"data row9 col21\" >0.67</td>\n",
       "      <td id=\"T_7f979_row9_col22\" class=\"data row9 col22\" >0.03</td>\n",
       "    </tr>\n",
       "    <tr>\n",
       "      <th id=\"T_7f979_level0_row10\" class=\"row_heading level0 row10\" >10</th>\n",
       "      <td id=\"T_7f979_row10_col0\" class=\"data row10 col0\" >0.00</td>\n",
       "      <td id=\"T_7f979_row10_col1\" class=\"data row10 col1\" >0.00</td>\n",
       "      <td id=\"T_7f979_row10_col2\" class=\"data row10 col2\" >0.00</td>\n",
       "      <td id=\"T_7f979_row10_col3\" class=\"data row10 col3\" >0.00</td>\n",
       "      <td id=\"T_7f979_row10_col4\" class=\"data row10 col4\" >0.00</td>\n",
       "      <td id=\"T_7f979_row10_col5\" class=\"data row10 col5\" >0.00</td>\n",
       "      <td id=\"T_7f979_row10_col6\" class=\"data row10 col6\" >0.00</td>\n",
       "      <td id=\"T_7f979_row10_col7\" class=\"data row10 col7\" >0.00</td>\n",
       "      <td id=\"T_7f979_row10_col8\" class=\"data row10 col8\" >0.00</td>\n",
       "      <td id=\"T_7f979_row10_col9\" class=\"data row10 col9\" >0.00</td>\n",
       "      <td id=\"T_7f979_row10_col10\" class=\"data row10 col10\" >0.00</td>\n",
       "      <td id=\"T_7f979_row10_col11\" class=\"data row10 col11\" >0.00</td>\n",
       "      <td id=\"T_7f979_row10_col12\" class=\"data row10 col12\" >0.00</td>\n",
       "      <td id=\"T_7f979_row10_col13\" class=\"data row10 col13\" >0.00</td>\n",
       "      <td id=\"T_7f979_row10_col14\" class=\"data row10 col14\" >0.00</td>\n",
       "      <td id=\"T_7f979_row10_col15\" class=\"data row10 col15\" >0.00</td>\n",
       "      <td id=\"T_7f979_row10_col16\" class=\"data row10 col16\" >0.00</td>\n",
       "      <td id=\"T_7f979_row10_col17\" class=\"data row10 col17\" >0.33</td>\n",
       "      <td id=\"T_7f979_row10_col18\" class=\"data row10 col18\" >0.95</td>\n",
       "      <td id=\"T_7f979_row10_col19\" class=\"data row10 col19\" >0.98</td>\n",
       "      <td id=\"T_7f979_row10_col20\" class=\"data row10 col20\" >0.98</td>\n",
       "      <td id=\"T_7f979_row10_col21\" class=\"data row10 col21\" >0.56</td>\n",
       "      <td id=\"T_7f979_row10_col22\" class=\"data row10 col22\" >0.00</td>\n",
       "    </tr>\n",
       "    <tr>\n",
       "      <th id=\"T_7f979_level0_row11\" class=\"row_heading level0 row11\" >11</th>\n",
       "      <td id=\"T_7f979_row11_col0\" class=\"data row11 col0\" >0.00</td>\n",
       "      <td id=\"T_7f979_row11_col1\" class=\"data row11 col1\" >0.00</td>\n",
       "      <td id=\"T_7f979_row11_col2\" class=\"data row11 col2\" >0.00</td>\n",
       "      <td id=\"T_7f979_row11_col3\" class=\"data row11 col3\" >0.00</td>\n",
       "      <td id=\"T_7f979_row11_col4\" class=\"data row11 col4\" >0.00</td>\n",
       "      <td id=\"T_7f979_row11_col5\" class=\"data row11 col5\" >0.00</td>\n",
       "      <td id=\"T_7f979_row11_col6\" class=\"data row11 col6\" >0.00</td>\n",
       "      <td id=\"T_7f979_row11_col7\" class=\"data row11 col7\" >0.00</td>\n",
       "      <td id=\"T_7f979_row11_col8\" class=\"data row11 col8\" >0.00</td>\n",
       "      <td id=\"T_7f979_row11_col9\" class=\"data row11 col9\" >0.00</td>\n",
       "      <td id=\"T_7f979_row11_col10\" class=\"data row11 col10\" >0.00</td>\n",
       "      <td id=\"T_7f979_row11_col11\" class=\"data row11 col11\" >0.00</td>\n",
       "      <td id=\"T_7f979_row11_col12\" class=\"data row11 col12\" >0.00</td>\n",
       "      <td id=\"T_7f979_row11_col13\" class=\"data row11 col13\" >0.00</td>\n",
       "      <td id=\"T_7f979_row11_col14\" class=\"data row11 col14\" >0.00</td>\n",
       "      <td id=\"T_7f979_row11_col15\" class=\"data row11 col15\" >0.00</td>\n",
       "      <td id=\"T_7f979_row11_col16\" class=\"data row11 col16\" >0.34</td>\n",
       "      <td id=\"T_7f979_row11_col17\" class=\"data row11 col17\" >0.74</td>\n",
       "      <td id=\"T_7f979_row11_col18\" class=\"data row11 col18\" >0.98</td>\n",
       "      <td id=\"T_7f979_row11_col19\" class=\"data row11 col19\" >0.98</td>\n",
       "      <td id=\"T_7f979_row11_col20\" class=\"data row11 col20\" >0.98</td>\n",
       "      <td id=\"T_7f979_row11_col21\" class=\"data row11 col21\" >0.05</td>\n",
       "      <td id=\"T_7f979_row11_col22\" class=\"data row11 col22\" >0.00</td>\n",
       "    </tr>\n",
       "    <tr>\n",
       "      <th id=\"T_7f979_level0_row12\" class=\"row_heading level0 row12\" >12</th>\n",
       "      <td id=\"T_7f979_row12_col0\" class=\"data row12 col0\" >0.00</td>\n",
       "      <td id=\"T_7f979_row12_col1\" class=\"data row12 col1\" >0.00</td>\n",
       "      <td id=\"T_7f979_row12_col2\" class=\"data row12 col2\" >0.00</td>\n",
       "      <td id=\"T_7f979_row12_col3\" class=\"data row12 col3\" >0.00</td>\n",
       "      <td id=\"T_7f979_row12_col4\" class=\"data row12 col4\" >0.00</td>\n",
       "      <td id=\"T_7f979_row12_col5\" class=\"data row12 col5\" >0.00</td>\n",
       "      <td id=\"T_7f979_row12_col6\" class=\"data row12 col6\" >0.00</td>\n",
       "      <td id=\"T_7f979_row12_col7\" class=\"data row12 col7\" >0.00</td>\n",
       "      <td id=\"T_7f979_row12_col8\" class=\"data row12 col8\" >0.00</td>\n",
       "      <td id=\"T_7f979_row12_col9\" class=\"data row12 col9\" >0.00</td>\n",
       "      <td id=\"T_7f979_row12_col10\" class=\"data row12 col10\" >0.00</td>\n",
       "      <td id=\"T_7f979_row12_col11\" class=\"data row12 col11\" >0.00</td>\n",
       "      <td id=\"T_7f979_row12_col12\" class=\"data row12 col12\" >0.00</td>\n",
       "      <td id=\"T_7f979_row12_col13\" class=\"data row12 col13\" >0.00</td>\n",
       "      <td id=\"T_7f979_row12_col14\" class=\"data row12 col14\" >0.36</td>\n",
       "      <td id=\"T_7f979_row12_col15\" class=\"data row12 col15\" >0.83</td>\n",
       "      <td id=\"T_7f979_row12_col16\" class=\"data row12 col16\" >0.96</td>\n",
       "      <td id=\"T_7f979_row12_col17\" class=\"data row12 col17\" >0.98</td>\n",
       "      <td id=\"T_7f979_row12_col18\" class=\"data row12 col18\" >0.98</td>\n",
       "      <td id=\"T_7f979_row12_col19\" class=\"data row12 col19\" >0.98</td>\n",
       "      <td id=\"T_7f979_row12_col20\" class=\"data row12 col20\" >0.80</td>\n",
       "      <td id=\"T_7f979_row12_col21\" class=\"data row12 col21\" >0.04</td>\n",
       "      <td id=\"T_7f979_row12_col22\" class=\"data row12 col22\" >0.00</td>\n",
       "    </tr>\n",
       "  </tbody>\n",
       "</table>\n"
      ],
      "text/plain": [
       "<pandas.io.formats.style.Styler at 0x20ba6532290>"
      ]
     },
     "execution_count": 176,
     "metadata": {},
     "output_type": "execute_result"
    }
   ],
   "source": [
    "df = pd.DataFrame(im3[:13,:23])\n",
    "df.style.format(precision=2).set_properties(**{'font-size':'7pt'}).background_gradient('Greys')"
   ]
  },
  {
   "cell_type": "markdown",
   "id": "5c4a2a1a",
   "metadata": {},
   "source": [
    "Ahora vamos a aplicar el kernel `top_edge` a una posición que va desde 3 a 6 (sin incluir el 6) y las columnas desde 14 a 17 (sin incluir el 17)"
   ]
  },
  {
   "cell_type": "markdown",
   "id": "4517f545-99f7-4433-9b71-a0cab0cb4b5d",
   "metadata": {},
   "source": [
    "Aquí se obtiene un valor positivo porque \"detectó\" un borde superior en la imagen."
   ]
  },
  {
   "cell_type": "code",
   "execution_count": 179,
   "id": "0ea35175",
   "metadata": {},
   "outputs": [
    {
     "data": {
      "text/plain": [
       "tensor(2.97)"
      ]
     },
     "execution_count": 179,
     "metadata": {},
     "output_type": "execute_result"
    }
   ],
   "source": [
    "(im3[3:6,14:17] * top_edge).sum()"
   ]
  },
  {
   "cell_type": "markdown",
   "id": "5790d031-b1c4-4a83-9aad-aedc1f65d738",
   "metadata": {},
   "source": [
    "Y en este caso un valor negativo porque no es un borde superior."
   ]
  },
  {
   "cell_type": "code",
   "execution_count": 181,
   "id": "f4364530",
   "metadata": {},
   "outputs": [
    {
     "data": {
      "text/plain": [
       "tensor(-2.96)"
      ]
     },
     "execution_count": 181,
     "metadata": {},
     "output_type": "execute_result"
    }
   ],
   "source": [
    "(im3[7:10,14:17] * top_edge).sum()"
   ]
  },
  {
   "cell_type": "markdown",
   "id": "a171db0a",
   "metadata": {},
   "source": [
    "Ahora vamos a definir una función que haga esa multiplicación del kernel por nosotros"
   ]
  },
  {
   "cell_type": "code",
   "execution_count": 183,
   "id": "e90768b3",
   "metadata": {},
   "outputs": [],
   "source": [
    "def apply_kernel(row, col, kernel): return (im3[row-1:row+2,col-1:col+2] * kernel).sum()"
   ]
  },
  {
   "cell_type": "markdown",
   "id": "03774d20",
   "metadata": {},
   "source": [
    "Para usarla le pasamos el centro donde queremos aplicar el kernel, por ejemplo para aplica el que tenemos arriba le pasamos el centro (4,15)."
   ]
  },
  {
   "cell_type": "code",
   "execution_count": 185,
   "id": "c456f87f",
   "metadata": {},
   "outputs": [
    {
     "data": {
      "text/plain": [
       "tensor(2.97)"
      ]
     },
     "execution_count": 185,
     "metadata": {},
     "output_type": "execute_result"
    }
   ],
   "source": [
    "apply_kernel(4,15,top_edge)"
   ]
  },
  {
   "cell_type": "markdown",
   "id": "64e7c3b6",
   "metadata": {},
   "source": [
    "Ahora bien, para que el kernel se \"deslice\" a lo largo de la imagen se puede hacer uso de una _list comprehension_, por ejemplo para una imagen de 5x5:"
   ]
  },
  {
   "cell_type": "code",
   "execution_count": 187,
   "id": "f91e2f1a",
   "metadata": {},
   "outputs": [
    {
     "data": {
      "text/plain": [
       "[[(0, 0), (0, 1), (0, 2), (0, 3), (0, 4)],\n",
       " [(1, 0), (1, 1), (1, 2), (1, 3), (1, 4)],\n",
       " [(2, 0), (2, 1), (2, 2), (2, 3), (2, 4)],\n",
       " [(3, 0), (3, 1), (3, 2), (3, 3), (3, 4)],\n",
       " [(4, 0), (4, 1), (4, 2), (4, 3), (4, 4)]]"
      ]
     },
     "execution_count": 187,
     "metadata": {},
     "output_type": "execute_result"
    }
   ],
   "source": [
    "[[(i,j) for j in range(5)] for i in range(5)]"
   ]
  },
  {
   "cell_type": "markdown",
   "id": "149f0ed4-8115-4d1d-9b3c-3354768e4fd5",
   "metadata": {},
   "source": [
    "<img alt=\"kernel\" align=\"center\" src = \"images/KernelSlide.svg\"/>"
   ]
  },
  {
   "cell_type": "markdown",
   "id": "e6c50f00",
   "metadata": {},
   "source": [
    "y aquí podemos aplicarlo con nuestro kernel haciendo uso de la _list comprehension_ y un nuevo rango."
   ]
  },
  {
   "cell_type": "code",
   "execution_count": 190,
   "id": "74db5895-78d4-4588-a599-b0ac36ca8466",
   "metadata": {
    "scrolled": true
   },
   "outputs": [
    {
     "data": {
      "text/plain": [
       "tensor([[ 0.00,  0.00,  0.00,  0.00,  0.00,  0.00,  0.00,  0.00,  0.00,  0.00,  0.00,  0.00,  0.00,  0.00,  0.00,  0.00,  0.00,  0.00,\n",
       "          0.00,  0.00,  0.00,  0.00,  0.00,  0.00,  0.00,  0.00],\n",
       "        [ 0.00,  0.00,  0.00,  0.00,  0.00,  0.00,  0.00,  0.00,  0.00,  0.00,  0.00,  0.00,  0.00,  0.00,  0.00,  0.00,  0.00,  0.00,\n",
       "          0.00,  0.00,  0.00,  0.00,  0.00,  0.00,  0.00,  0.00],\n",
       "        [ 0.00,  0.00,  0.00,  0.00,  0.00,  0.00,  0.00,  0.00,  0.00,  0.00,  0.00,  0.00,  0.00,  0.00,  0.00,  0.00,  0.00,  0.00,\n",
       "          0.00,  0.00,  0.00,  0.00,  0.00,  0.00,  0.00,  0.00],\n",
       "        [ 0.00,  0.00,  0.00,  0.00,  0.00,  0.00,  0.00,  0.00,  0.00,  0.15,  0.32,  0.73,  1.57,  2.39,  2.97,  2.96,  2.96,  2.96,\n",
       "          2.66,  1.69,  0.70,  0.02,  0.00,  0.00,  0.00,  0.00],\n",
       "        [ 0.00,  0.00,  0.00,  0.00,  0.00,  0.00,  0.00,  0.17,  0.71,  1.59,  2.30,  2.74,  2.86,  2.96,  2.96,  2.95,  2.95,  2.95,\n",
       "          2.95,  2.59,  1.66,  0.67,  0.05,  0.00,  0.00,  0.00],\n",
       "        [ 0.00,  0.00,  0.00,  0.00,  0.00,  0.00,  0.00,  0.70,  1.68,  2.52,  2.64,  2.23,  1.38,  0.56, -0.02, -0.01, -0.01, -0.01,\n",
       "          0.30,  1.26,  1.50,  1.19,  0.23,  0.00,  0.00,  0.00],\n",
       "        [ 0.00,  0.00,  0.00,  0.00,  0.00,  0.00,  0.00,  0.26,  0.70,  0.81,  0.57, -0.34, -0.92, -1.41, -1.41, -1.18, -0.71, -0.25,\n",
       "          0.00,  0.37,  0.54,  0.54,  0.18,  0.00,  0.00,  0.00],\n",
       "        [ 0.00,  0.00,  0.00,  0.00,  0.00,  0.00,  0.00, -0.68, -1.55, -2.42, -2.63, -2.75, -2.86, -2.96, -2.96, -2.90, -2.02, -1.03,\n",
       "         -0.10, -0.31, -0.52, -0.52, -0.20,  0.00,  0.00,  0.00],\n",
       "        [ 0.00,  0.00,  0.00,  0.00,  0.00,  0.00,  0.00, -0.43, -1.41, -2.39, -2.87, -2.40, -1.93, -1.55, -1.55, -1.44, -0.96, -0.44,\n",
       "         -0.04, -0.42, -0.65, -0.65, -0.23,  0.00,  0.00,  0.00],\n",
       "        [ 0.00,  0.00,  0.00,  0.00,  0.00,  0.00,  0.00, -0.02, -0.13, -0.24, -0.32, -0.21, -0.09,  0.00,  0.34,  1.03,  1.13,  0.79,\n",
       "          0.10, -0.62, -0.64, -0.64, -0.03,  0.00,  0.00,  0.00],\n",
       "        [ 0.00,  0.00,  0.00,  0.00,  0.00,  0.00,  0.00,  0.00,  0.00,  0.00,  0.00,  0.00,  0.36,  1.18,  2.15,  2.45,  1.65,  0.69,\n",
       "         -0.15, -0.71, -0.71, -0.53,  0.00,  0.00,  0.00,  0.00],\n",
       "        [ 0.00,  0.00,  0.00,  0.00,  0.00,  0.00,  0.00,  0.12,  0.61,  1.37,  2.00,  2.26,  2.50,  2.73,  2.61,  1.87,  0.83, -0.39,\n",
       "         -1.52, -1.52, -0.93, -0.05,  0.00,  0.00,  0.00,  0.00],\n",
       "        [ 0.00,  0.00,  0.00,  0.00,  0.00,  0.00,  0.18,  1.04,  2.03,  2.84,  2.95,  2.95,  2.60,  1.77,  0.81,  0.18, -0.27, -1.28,\n",
       "         -2.07, -1.82, -0.83, -0.04,  0.00,  0.00,  0.00,  0.00],\n",
       "        [ 0.00,  0.00,  0.00,  0.00,  0.00,  0.00,  0.18,  0.92,  1.42,  1.48,  0.97,  0.70,  0.48,  0.25,  0.02,  0.01,  0.07, -0.05,\n",
       "         -0.16, -0.22, -0.11,  0.00,  0.00,  0.00,  0.00,  0.00],\n",
       "        [ 0.00,  0.00,  0.00,  0.00,  0.00,  0.00, -0.18, -0.92, -1.43, -2.03, -2.10, -2.41, -2.44, -2.44, -2.05, -1.24, -0.13,  0.58,\n",
       "          0.58,  0.29,  0.00,  0.00,  0.00,  0.00,  0.00,  0.00],\n",
       "        [ 0.00,  0.00,  0.00,  0.00,  0.00,  0.00, -0.18, -1.05, -2.04, -2.85, -2.96, -2.96, -2.97, -2.97, -2.91, -1.92, -0.94, -0.01,\n",
       "         -0.00,  0.00,  0.00,  0.00,  0.00,  0.00,  0.00,  0.00],\n",
       "        [ 0.00,  0.00,  0.00,  0.00,  0.00,  0.00,  0.00, -0.12, -0.60, -0.80, -0.86, -0.55, -0.52, -0.52, -0.57, -0.39, -0.22,  0.00,\n",
       "          0.00,  0.00,  0.00,  0.00,  0.00,  0.00,  0.00,  0.00],\n",
       "        [ 0.00,  0.00,  0.00,  0.00,  0.02,  0.31,  0.35,  0.33,  0.04,  0.00,  0.00,  0.00,  0.00,  0.38,  1.27,  1.27,  0.89,  0.00,\n",
       "          0.00,  0.00,  0.00,  0.00,  0.00,  0.00,  0.00,  0.00],\n",
       "        [ 0.00,  0.00,  0.00,  0.24,  0.95,  1.94,  1.81,  1.10,  0.11,  0.00,  0.00,  0.07,  0.43,  1.36,  1.94,  1.58,  0.61, -0.07,\n",
       "         -0.07, -0.04,  0.00,  0.00,  0.00,  0.00,  0.00,  0.00],\n",
       "        [ 0.00,  0.00,  0.00,  0.81,  1.78,  2.47,  2.20,  1.75,  1.59,  1.57,  1.57,  1.84,  2.30,  2.38,  1.63,  0.39, -0.87, -1.20,\n",
       "         -0.95, -0.29,  0.00,  0.00,  0.00,  0.00,  0.00,  0.00],\n",
       "        [ 0.00,  0.00,  0.00,  0.57,  0.84,  0.84,  1.14,  1.86,  2.84,  2.95,  2.95,  2.88,  2.53,  1.51,  0.21, -1.38, -2.29, -2.16,\n",
       "         -1.20, -0.25,  0.00,  0.00,  0.00,  0.00,  0.00,  0.00],\n",
       "        [ 0.00,  0.00,  0.00, -0.62, -0.99, -0.99,  0.04,  0.87,  1.33,  1.38,  1.25,  0.80, -0.08, -1.21, -2.21, -2.53, -2.04, -1.06,\n",
       "         -0.32,  0.00,  0.00,  0.00,  0.00,  0.00,  0.00,  0.00],\n",
       "        [ 0.00,  0.00,  0.00, -0.81, -1.77, -2.35, -1.61, -0.65, -0.38, -0.89, -1.79, -2.46, -2.86, -2.87, -2.48, -1.53, -0.63, -0.03,\n",
       "          0.00,  0.00,  0.00,  0.00,  0.00,  0.00,  0.00,  0.00],\n",
       "        [ 0.00,  0.00,  0.00, -0.19, -0.80, -1.79, -2.58, -2.95, -2.95, -2.95, -2.82, -2.64, -2.23, -1.55, -0.75, -0.18,  0.00,  0.00,\n",
       "          0.00,  0.00,  0.00,  0.00,  0.00,  0.00,  0.00,  0.00],\n",
       "        [ 0.00,  0.00,  0.00,  0.00, -0.03, -0.43, -1.35, -2.30, -2.57, -2.06, -1.17, -0.50, -0.09,  0.00,  0.00,  0.00,  0.00,  0.00,\n",
       "          0.00,  0.00,  0.00,  0.00,  0.00,  0.00,  0.00,  0.00],\n",
       "        [ 0.00,  0.00,  0.00,  0.00,  0.00,  0.00,  0.00,  0.00,  0.00,  0.00,  0.00,  0.00,  0.00,  0.00,  0.00,  0.00,  0.00,  0.00,\n",
       "          0.00,  0.00,  0.00,  0.00,  0.00,  0.00,  0.00,  0.00]])"
      ]
     },
     "execution_count": 190,
     "metadata": {},
     "output_type": "execute_result"
    }
   ],
   "source": [
    "rng = range(1,27)\n",
    "top_edge3 = torch.tensor([[apply_kernel(i,j,top_edge) for j in rng] for i in rng])\n",
    "top_edge3"
   ]
  },
  {
   "cell_type": "code",
   "execution_count": 191,
   "id": "3d534132-d4e6-4d9a-9eb8-33aba53cb10e",
   "metadata": {},
   "outputs": [
    {
     "data": {
      "image/png": "[encoded data removed]",
      "text/plain": [
       "<Figure size 448x336 with 1 Axes>"
      ]
     },
     "metadata": {},
     "output_type": "display_data"
    }
   ],
   "source": [
    "show_image(top_edge3);"
   ]
  },
  {
   "cell_type": "markdown",
   "id": "e0e19350",
   "metadata": {},
   "source": [
    "Ahora podemos hacer lo mismo con los bordes izquierdos."
   ]
  },
  {
   "cell_type": "code",
   "execution_count": 193,
   "id": "34e804ea",
   "metadata": {},
   "outputs": [],
   "source": [
    "left_edge = torch.tensor([[-1,0,1],\n",
    "                    [-1,0,1],\n",
    "                    [-1,0,1]]).float()"
   ]
  },
  {
   "cell_type": "code",
   "execution_count": 194,
   "id": "0905430d",
   "metadata": {},
   "outputs": [
    {
     "data": {
      "image/png": "[encoded data removed]",
      "text/plain": [
       "<Figure size 448x336 with 1 Axes>"
      ]
     },
     "metadata": {},
     "output_type": "display_data"
    }
   ],
   "source": [
    "show_image(left_edge, noframe=False);"
   ]
  },
  {
   "cell_type": "code",
   "execution_count": 195,
   "id": "9363d468",
   "metadata": {},
   "outputs": [
    {
     "data": {
      "image/png": "[encoded data removed]",
      "text/plain": [
       "<Figure size 448x336 with 1 Axes>"
      ]
     },
     "metadata": {},
     "output_type": "display_data"
    }
   ],
   "source": [
    "left_edge3 = torch.tensor([[apply_kernel(i,j,left_edge) for j in rng] for i in rng])\n",
    "show_image(left_edge3);"
   ]
  },
  {
   "cell_type": "markdown",
   "id": "ee89f9d6",
   "metadata": {},
   "source": [
    "Y así estamosreduciendo el tamaño de la imagen y resaltando las características que nos interesan."
   ]
  },
  {
   "cell_type": "code",
   "execution_count": 197,
   "id": "c983e4ce-e5df-4ab0-919b-4d502711c69d",
   "metadata": {},
   "outputs": [
    {
     "data": {
      "text/plain": [
       "(torch.Size([26, 26]), torch.Size([26, 26]))"
      ]
     },
     "execution_count": 197,
     "metadata": {},
     "output_type": "execute_result"
    }
   ],
   "source": [
    "top_edge3.shape, left_edge3.shape"
   ]
  },
  {
   "cell_type": "markdown",
   "id": "9b370d49-fcef-4cfb-b93b-e8131a1ff1bc",
   "metadata": {},
   "source": [
    "<img alt=\"kernel\" align=\"center\" src = \"images/AplicarKernel2.png\"/>"
   ]
  },
  {
   "cell_type": "markdown",
   "id": "77d61121-d5cd-4823-b931-1d3b7c1d003d",
   "metadata": {},
   "source": [
    "Para más información visitar: [CNNs From Different Viewpoints](https://medium.com/impactai/cnns-from-different-viewpoints-fab7f52d159c)."
   ]
  },
  {
   "cell_type": "markdown",
   "id": "15eb603f",
   "metadata": {
    "jp-MarkdownHeadingCollapsed": true
   },
   "source": [
    "### Convoluciones en PyTorch"
   ]
  },
  {
   "cell_type": "code",
   "execution_count": 201,
   "id": "66da30f3",
   "metadata": {},
   "outputs": [],
   "source": [
    "import torch.nn.functional as F\n",
    "import torch"
   ]
  },
  {
   "cell_type": "markdown",
   "id": "e5c070d4-ae2d-4f85-a5ac-ad48e00d90c2",
   "metadata": {},
   "source": [
    "Para hacer uso de las convoluciones en python se usa un truco llamado [im2col](https://hal.inria.fr/inria-00112631/) creado por Yangqing Jia para convertir una convolución tradicional en una multiplicación de matrices."
   ]
  },
  {
   "cell_type": "markdown",
   "id": "2ad33c1a-aa3b-4e85-9f56-615160ba94cf",
   "metadata": {},
   "source": [
    "<img alt=\"kernel\" align=\"center\" src = \"images/ConvMatriz.png\"/>"
   ]
  },
  {
   "cell_type": "markdown",
   "id": "375618ad",
   "metadata": {},
   "source": [
    "Para más información visitar [Convolution in Caffe: a memo](https://github.com/Yangqing/caffe/wiki/Convolution-in-Caffe:-a-memo) y otra forma de inplementarlo en [Numpy](https://github.com/3outeille/CNNumpy/blob/5394f13e7ed67a808a3e39fd381f168825d65ff5/src/fast/utils.py#L360)."
   ]
  },
  {
   "cell_type": "markdown",
   "id": "26c9cfcd",
   "metadata": {},
   "source": [
    "Aquí lo que vamos a hacer es convertir todo el proceso de la convolution en una multiplicación de matrices"
   ]
  },
  {
   "cell_type": "code",
   "execution_count": 206,
   "id": "a0be5e19",
   "metadata": {},
   "outputs": [
    {
     "data": {
      "text/plain": [
       "torch.Size([28, 28])"
      ]
     },
     "execution_count": 206,
     "metadata": {},
     "output_type": "execute_result"
    }
   ],
   "source": [
    "im3.shape "
   ]
  },
  {
   "cell_type": "markdown",
   "id": "6318554f",
   "metadata": {},
   "source": [
    "Aquí le agregamos dimensiones a la imagen (_batch y channel dimension_) porque es algo que espera PyTorch para poder usar el unfold"
   ]
  },
  {
   "cell_type": "code",
   "execution_count": 208,
   "id": "b5e75cee",
   "metadata": {},
   "outputs": [
    {
     "data": {
      "text/plain": [
       "torch.Size([1, 1, 28, 28])"
      ]
     },
     "execution_count": 208,
     "metadata": {},
     "output_type": "execute_result"
    }
   ],
   "source": [
    "inp = im3[None,None,:,:].float()\n",
    "inp.shape"
   ]
  },
  {
   "cell_type": "markdown",
   "id": "43d3f6ff-cbf5-4ad7-b29b-474b1b00e397",
   "metadata": {},
   "source": [
    "Usamos el `unfold` para un 3x3 "
   ]
  },
  {
   "cell_type": "code",
   "execution_count": 210,
   "id": "efb16491",
   "metadata": {},
   "outputs": [
    {
     "data": {
      "text/plain": [
       "torch.Size([9, 676])"
      ]
     },
     "execution_count": 210,
     "metadata": {},
     "output_type": "execute_result"
    }
   ],
   "source": [
    "inp_unf = F.unfold(inp, (3,3))[0]\n",
    "inp_unf.shape"
   ]
  },
  {
   "cell_type": "markdown",
   "id": "cb68252c",
   "metadata": {},
   "source": [
    "Aquí estamos convirtiendo nuestro kernel en un vector, `view` cambia la forma de un tensor, y con el -1 lo que estamos diciendo es que tire todo a esa dimensión"
   ]
  },
  {
   "cell_type": "code",
   "execution_count": 212,
   "id": "46aeb696",
   "metadata": {},
   "outputs": [
    {
     "data": {
      "text/plain": [
       "torch.Size([9])"
      ]
     },
     "execution_count": 212,
     "metadata": {},
     "output_type": "execute_result"
    }
   ],
   "source": [
    "w = left_edge.view(-1)\n",
    "w.shape"
   ]
  },
  {
   "cell_type": "markdown",
   "id": "36a01f93",
   "metadata": {},
   "source": [
    "Y aquí hacemos la multiplicación de matrices"
   ]
  },
  {
   "cell_type": "code",
   "execution_count": 214,
   "id": "8877e03c",
   "metadata": {},
   "outputs": [
    {
     "data": {
      "text/plain": [
       "torch.Size([676])"
      ]
     },
     "execution_count": 214,
     "metadata": {},
     "output_type": "execute_result"
    }
   ],
   "source": [
    "out_unf = w@inp_unf\n",
    "out_unf.shape"
   ]
  },
  {
   "cell_type": "markdown",
   "id": "c2e73e6a-ddbd-44bf-944e-c75dbc43082e",
   "metadata": {},
   "source": [
    "Con `.view(26,26)` podemos ver la imagen con la reducción de tamaño que se esperaba."
   ]
  },
  {
   "cell_type": "code",
   "execution_count": 216,
   "id": "0e783ede",
   "metadata": {},
   "outputs": [
    {
     "data": {
      "image/png": "[encoded data removed]",
      "text/plain": [
       "<Figure size 448x336 with 1 Axes>"
      ]
     },
     "metadata": {},
     "output_type": "display_data"
    }
   ],
   "source": [
    "out = out_unf.view(26,26)\n",
    "show_image(out);"
   ]
  },
  {
   "cell_type": "code",
   "execution_count": 217,
   "id": "40b182b0",
   "metadata": {},
   "outputs": [
    {
     "name": "stdout",
     "output_type": "stream",
     "text": [
      "19.6 ms ± 1.74 ms per loop (mean ± std. dev. of 7 runs, 1 loop each)\n"
     ]
    }
   ],
   "source": [
    "%timeit -n 1 torch.tensor([[apply_kernel(i,j,left_edge) for j in rng] for i in rng]);"
   ]
  },
  {
   "cell_type": "code",
   "execution_count": 218,
   "id": "68c89999",
   "metadata": {
    "scrolled": true
   },
   "outputs": [
    {
     "name": "stdout",
     "output_type": "stream",
     "text": [
      "108 µs ± 32.4 µs per loop (mean ± std. dev. of 7 runs, 100 loops each)\n"
     ]
    }
   ],
   "source": [
    "%timeit -n 100 (w@F.unfold(inp, (3,3))[0]).view(26,26);"
   ]
  },
  {
   "cell_type": "markdown",
   "id": "cee57eb8",
   "metadata": {},
   "source": [
    "Y como se puede ver en los resultados de tiempo este proceso es mucho más rapido que nuestra implementación _from scratch_ usando el `apply_kernel` que definimos arriba."
   ]
  },
  {
   "cell_type": "markdown",
   "id": "3f831e00",
   "metadata": {},
   "source": [
    "Pytorch ya tiene su implementación de las convolutions usando `F.conv2d`"
   ]
  },
  {
   "cell_type": "code",
   "execution_count": 221,
   "id": "258f8905",
   "metadata": {},
   "outputs": [
    {
     "name": "stdout",
     "output_type": "stream",
     "text": [
      "49.4 µs ± 21.1 µs per loop (mean ± std. dev. of 7 runs, 100 loops each)\n"
     ]
    }
   ],
   "source": [
    "%timeit -n 100 F.conv2d(inp, left_edge[None,None])"
   ]
  },
  {
   "cell_type": "code",
   "execution_count": 222,
   "id": "ffa3171b",
   "metadata": {},
   "outputs": [],
   "source": [
    "diag1_edge = torch.tensor([[ 0,-1, 1],\n",
    "                     [-1, 1, 0],\n",
    "                     [ 1, 0, 0]]).float()"
   ]
  },
  {
   "cell_type": "code",
   "execution_count": 223,
   "id": "fd897640",
   "metadata": {},
   "outputs": [
    {
     "data": {
      "image/png": "[encoded data removed]",
      "text/plain": [
       "<Figure size 448x336 with 1 Axes>"
      ]
     },
     "metadata": {},
     "output_type": "display_data"
    }
   ],
   "source": [
    "show_image(diag1_edge, noframe=False);"
   ]
  },
  {
   "cell_type": "code",
   "execution_count": 224,
   "id": "7ef8340c",
   "metadata": {},
   "outputs": [],
   "source": [
    "diag2_edge = torch.tensor([[ 1,-1, 0],\n",
    "                     [ 0, 1,-1],\n",
    "                     [ 0, 0, 1]]).float()"
   ]
  },
  {
   "cell_type": "code",
   "execution_count": 225,
   "id": "c8c8eb1f",
   "metadata": {},
   "outputs": [
    {
     "data": {
      "image/png": "[encoded data removed]",
      "text/plain": [
       "<Figure size 448x336 with 1 Axes>"
      ]
     },
     "metadata": {},
     "output_type": "display_data"
    }
   ],
   "source": [
    "show_image(diag2_edge, noframe=False);"
   ]
  },
  {
   "cell_type": "code",
   "execution_count": 226,
   "id": "c9eb194b",
   "metadata": {},
   "outputs": [
    {
     "data": {
      "text/plain": [
       "torch.Size([16, 1, 28, 28])"
      ]
     },
     "execution_count": 226,
     "metadata": {},
     "output_type": "execute_result"
    }
   ],
   "source": [
    "xb = x_imgs[:16][:,None]\n",
    "xb.shape"
   ]
  },
  {
   "cell_type": "code",
   "execution_count": 227,
   "id": "5411cd63",
   "metadata": {},
   "outputs": [
    {
     "data": {
      "text/plain": [
       "torch.Size([4, 1, 3, 3])"
      ]
     },
     "execution_count": 227,
     "metadata": {},
     "output_type": "execute_result"
    }
   ],
   "source": [
    "edge_kernels = torch.stack([left_edge, top_edge, diag1_edge, diag2_edge])[:,None]\n",
    "edge_kernels.shape"
   ]
  },
  {
   "cell_type": "code",
   "execution_count": 228,
   "id": "91b971e9",
   "metadata": {},
   "outputs": [
    {
     "data": {
      "text/plain": [
       "torch.Size([16, 4, 26, 26])"
      ]
     },
     "execution_count": 228,
     "metadata": {},
     "output_type": "execute_result"
    }
   ],
   "source": [
    "batch_features = F.conv2d(xb, edge_kernels)\n",
    "batch_features.shape"
   ]
  },
  {
   "cell_type": "markdown",
   "id": "b67191fe",
   "metadata": {},
   "source": [
    "Esta salida lo que nos muestra es que tenemos 16 imágenes, 4 kernels, y mapas de bordes de 26x26 (empezamos con 28x28, pero perdimos un pixel a cada lado por lo discutido anteriormente). \n",
    "\n",
    "Podemos ver que se obtienen los mismos resultados que antes.\n"
   ]
  },
  {
   "cell_type": "code",
   "execution_count": 230,
   "id": "f7fc99fe-8f40-4048-a4be-fa4175a2dd64",
   "metadata": {},
   "outputs": [
    {
     "data": {
      "image/png": "[encoded data removed]",
      "text/plain": [
       "<Figure size 448x336 with 1 Axes>"
      ]
     },
     "metadata": {},
     "output_type": "display_data"
    }
   ],
   "source": [
    "img0 = xb[7,0]\n",
    "show_image(img0);"
   ]
  },
  {
   "cell_type": "code",
   "execution_count": 231,
   "id": "f6924429",
   "metadata": {},
   "outputs": [
    {
     "data": {
      "image/png": "[encoded data removed]",
      "text/plain": [
       "<Figure size 420x420 with 4 Axes>"
      ]
     },
     "metadata": {},
     "output_type": "display_data"
    }
   ],
   "source": [
    "show_images([batch_features[7,i] for i in range(4)])"
   ]
  },
  {
   "cell_type": "markdown",
   "id": "2366c3df",
   "metadata": {
    "jp-MarkdownHeadingCollapsed": true
   },
   "source": [
    "### _Strides_ y _Padding_"
   ]
  },
  {
   "cell_type": "markdown",
   "id": "afadcd73-2703-4b52-8c13-c3d8e32653c1",
   "metadata": {},
   "source": [
    "El _padding_ es el espaciado del kernel con respecto al input donde se aplicará, por ejemplo un _padding_ de 1 pixel."
   ]
  },
  {
   "cell_type": "markdown",
   "id": "5b24311c-140a-4ce0-be1a-fd01732bc324",
   "metadata": {},
   "source": [
    "<img alt=\"kernel\" align=\"center\" src = \"images/PaddingKernel.png\"/>"
   ]
  },
  {
   "cell_type": "markdown",
   "id": "460c5ab2-01ed-4452-a2e0-31c1583fe1d1",
   "metadata": {},
   "source": [
    "Cuando el padding se \"sale\" de la cuadricula se multiplica por valores que se pueden definir a conveniencia, pero es más común tomarlos como 0.\n",
    "\n",
    "El padding se utiliza cuando se quiere mantener el tamaño original del input o aumentarlo, por ejemplo un input de 5x5, un kernel de 4x4 y 1 de _padding_:"
   ]
  },
  {
   "cell_type": "markdown",
   "id": "bc9ed22e-2682-467e-bb48-7b8378c3ec53",
   "metadata": {},
   "source": [
    "<img alt=\"kernel\" align=\"center\" src = \"images/PaddingAugment.png\"/>"
   ]
  },
  {
   "cell_type": "markdown",
   "id": "146b9bb8-f17c-4096-8224-d56811779e42",
   "metadata": {},
   "source": [
    "Si tenemos un kernel de tamaño `ks`x`ks`, el _padding_ necesario para mantener el tamaño es dado por `ks//2`. Algo a tener en cuenta es que es recomendado usar kernels de tamaño impar debido a que son más faciles de aplicar."
   ]
  },
  {
   "cell_type": "markdown",
   "id": "030cd31c",
   "metadata": {},
   "source": [
    "No hay necesidad de mover el kernel de uno enuno, se puede hacer de diferentes numeros y eso es llamado  _stride_, ejemplo un _stride-2 convolution_:"
   ]
  },
  {
   "cell_type": "markdown",
   "id": "dc2c4525-8c9b-4841-9217-4e54dbdaf03c",
   "metadata": {},
   "source": [
    "<img alt=\"kernel\" align=\"center\" src = \"images/PaddingStride2.png\"/>"
   ]
  },
  {
   "cell_type": "markdown",
   "id": "0ac3075f-e5a3-4e1f-a075-036963a939dd",
   "metadata": {},
   "source": [
    "las convoluciones con _stride_ de 2 y con un _padding_ de 1 son especialmente utiles en el procesamiento de imágenes, por ejemplo en los autoencoders y en clasificacion, debido a que reducen el tamaño del input en un factor de 2."
   ]
  },
  {
   "cell_type": "markdown",
   "id": "6cfedabe",
   "metadata": {
    "jp-MarkdownHeadingCollapsed": true
   },
   "source": [
    "### Creando la CNN"
   ]
  },
  {
   "cell_type": "markdown",
   "id": "068bd93b-c187-4db1-b33d-68653d1576c9",
   "metadata": {},
   "source": [
    "Para empezar vamos a definir algunos parámetros:\n",
    "- `n` y `m`: Son las dimensiones del set de entrenamiento.\n",
    "- `c`: El número de categorías.\n",
    "- `nh`: _Number of hidden_ es un tamaño intermedio por el que se va a pasar."
   ]
  },
  {
   "cell_type": "code",
   "execution_count": 243,
   "id": "06929e2d",
   "metadata": {},
   "outputs": [
    {
     "data": {
      "text/plain": [
       "(50000, 784, tensor(10), 50)"
      ]
     },
     "execution_count": 243,
     "metadata": {},
     "output_type": "execute_result"
    }
   ],
   "source": [
    "n,m = x_train.shape\n",
    "c = y_train.max()+1\n",
    "nh = 50\n",
    "n,m,c,nh"
   ]
  },
  {
   "cell_type": "markdown",
   "id": "28fdd0a7-41fd-410f-b85e-8c320ff2e38f",
   "metadata": {},
   "source": [
    "Si se quisiera hacer un modelo lineal se haría de la siguiente forma:\n",
    "1. Creamos un modelo secuencial con `nn.Sequential()` que a su vez contendrá la totalidad del modelo.\n",
    "2. La primera capa será una capa lineal con `nn.Linear(m, nh)`.\n",
    "   - `m`: En este caso es el valor inicial.\n",
    "   - `nh`: Es el valor objetivo.\n",
    "   En este caso queremos reducir el tamaño `m` a un tamaño `nh`.\n",
    "3. Agregamos una capa de ReLU con `nn.ReLU`, esta se encarga de transformar los valores negativos de la capa aanterior en 0 y deja los valores postivos intactos.\n",
    "4. Agregamos otra capa lineal, en este caso se pasa del valor `nh` a `10`."
   ]
  },
  {
   "cell_type": "code",
   "execution_count": 245,
   "id": "9c752197",
   "metadata": {},
   "outputs": [],
   "source": [
    "model = nn.Sequential(nn.Linear(m,nh), nn.ReLU(), nn.Linear(nh,10))"
   ]
  },
  {
   "cell_type": "code",
   "execution_count": 246,
   "id": "116e0bf0-aa9b-47c7-bc3e-9bd7c01cf8ac",
   "metadata": {},
   "outputs": [
    {
     "data": {
      "text/plain": [
       "Sequential(\n",
       "  (0): Linear(in_features=784, out_features=50, bias=True)\n",
       "  (1): ReLU()\n",
       "  (2): Linear(in_features=50, out_features=10, bias=True)\n",
       ")"
      ]
     },
     "execution_count": 246,
     "metadata": {},
     "output_type": "execute_result"
    }
   ],
   "source": [
    "model"
   ]
  },
  {
   "cell_type": "markdown",
   "id": "859527d5-da98-49e5-8699-4f508c36287a",
   "metadata": {},
   "source": [
    "Este sería el equivalente con una CNN."
   ]
  },
  {
   "cell_type": "code",
   "execution_count": 248,
   "id": "e70f90db",
   "metadata": {},
   "outputs": [],
   "source": [
    "broken_cnn = nn.Sequential(\n",
    "    nn.Conv2d(1,30, kernel_size=3, padding=1),\n",
    "    nn.ReLU(),\n",
    "    nn.Conv2d(30,10, kernel_size=3, padding=1)\n",
    ")"
   ]
  },
  {
   "cell_type": "markdown",
   "id": "352d1a34-1511-4306-a45d-f30d8b9319f2",
   "metadata": {},
   "source": [
    "Sin embargo, no podemos utilizarla directamente dado que no nos dará 10 posiblidades para cada imagen de nuestro _batch_, sino que tendremos 10 posibilidades, para cada 16 imágenes en el _batch_ para cada 28x28 pixel porque no tenemos ningún _stride_."
   ]
  },
  {
   "cell_type": "code",
   "execution_count": 250,
   "id": "e09d359d",
   "metadata": {},
   "outputs": [
    {
     "data": {
      "text/plain": [
       "torch.Size([16, 10, 28, 28])"
      ]
     },
     "execution_count": 250,
     "metadata": {},
     "output_type": "execute_result"
    }
   ],
   "source": [
    "broken_cnn(xb).shape"
   ]
  },
  {
   "attachments": {},
   "cell_type": "markdown",
   "id": "e2f428f6-7593-4464-b271-4469845cb329",
   "metadata": {},
   "source": [
    "Debido a que cona una CNN no se puede realizar una implementación tan simple vamos a definir una función con los siguientes parámetros para facilitarnos la vida: \n",
    "\n",
    "- `ni`: Numbero de inputs.\n",
    "- `nf`: Number de _filtros_, es una manera de decir la cantidad de _channels_ que tendrá nuestra CNN, es como decir el numero de outputs.\n",
    "- `ks`: Tamaño del kernel\n",
    "- `stride`: El stride que queremos, en ese caso de 2.\n",
    "- `act`: Un booleano para decidir si agregramos un ReLU.\n",
    "\n",
    "Esta función lo que hará entonces es devolver una capa con una convolución sola o un pequeño modelo secuencial con una convolución y una ReLU al final."
   ]
  },
  {
   "cell_type": "code",
   "execution_count": 252,
   "id": "236deb48",
   "metadata": {},
   "outputs": [],
   "source": [
    "def conv(ni, nf, ks=3, stride=2, act=True):\n",
    "    res = nn.Conv2d(ni, nf, stride=stride, kernel_size=ks, padding=ks//2)\n",
    "    if act: res = nn.Sequential(res, nn.ReLU())\n",
    "    return res"
   ]
  },
  {
   "cell_type": "markdown",
   "id": "ca070012-0001-453a-8aee-773b240f3a2e",
   "metadata": {},
   "source": [
    "Con la función lista, ya podemos crear nuestra CNN completa:\n",
    "- Iniciamos con un input de 1 y salida de 4, las imágenes son de 28x28 con un _stride_ de 2, por lo que la salida de la primera capa será de 14x14.\n",
    "- La siguiente capa tendrá de input la salida de la anterior y la salida será de 8, de nuevo un _stride_ 2 por lo que ahora internamente la imagen es de 7x7, así sucesivamente hasta que tengamos una \"imagen\" de 2x2.\n",
    "- Luego una capa que pasará de 16 a 10, sin ReLU por lo que `act=False` que dejará la \"imagen\" en 1x1.\n",
    "- Por último una capa de `nn.Flatten` para  quitar las dimensiones o ejes innecesarios."
   ]
  },
  {
   "cell_type": "code",
   "execution_count": 254,
   "id": "35757f94-b179-417d-bc72-31bb21cf6409",
   "metadata": {},
   "outputs": [],
   "source": [
    "simple_cnn = nn.Sequential(\n",
    "    conv(1 ,4),            #14x14\n",
    "    conv(4 ,8),            #7x7\n",
    "    conv(8 ,16),           #4x4\n",
    "    conv(16,16),           #2x2\n",
    "    conv(16,10, act=False), #1x1\n",
    "    nn.Flatten(),\n",
    ")"
   ]
  },
  {
   "cell_type": "markdown",
   "id": "e9d34191-e47a-4be4-b747-af810896cff7",
   "metadata": {},
   "source": [
    "Ahora cuando usemos este modelo vamos a obtener 10 posibilidades para cada imagen en nuestro _batch_ de 16 en vez del caos que teníamos antes."
   ]
  },
  {
   "cell_type": "code",
   "execution_count": 256,
   "id": "dc20d89d-2b57-451d-b73a-df1dc620cfb5",
   "metadata": {},
   "outputs": [
    {
     "data": {
      "text/plain": [
       "(torch.Size([16, 10]), torch.Size([16, 10, 28, 28]))"
      ]
     },
     "execution_count": 256,
     "metadata": {},
     "output_type": "execute_result"
    }
   ],
   "source": [
    "simple_cnn(xb).shape, broken_cnn(xb).shape"
   ]
  },
  {
   "cell_type": "markdown",
   "id": "9d077080-484d-4e59-9b4c-c6abf47afa00",
   "metadata": {},
   "source": [
    "Además podemos ver que el número de parámetros con respecto al modelo lineal es considerablemente menor, por lo que es más rapido usar la CNN."
   ]
  },
  {
   "cell_type": "code",
   "execution_count": 258,
   "id": "0588a44f-fb18-4969-8440-19cf24e62c74",
   "metadata": {},
   "outputs": [
    {
     "data": {
      "text/plain": [
       "tensor(39760)"
      ]
     },
     "execution_count": 258,
     "metadata": {},
     "output_type": "execute_result"
    }
   ],
   "source": [
    "tensor([o.numel() for o in model.parameters()]).sum()"
   ]
  },
  {
   "cell_type": "code",
   "execution_count": 259,
   "id": "a5d9390f-c9f6-4e66-b446-344905d86057",
   "metadata": {},
   "outputs": [
    {
     "data": {
      "text/plain": [
       "tensor(5274)"
      ]
     },
     "execution_count": 259,
     "metadata": {},
     "output_type": "execute_result"
    }
   ],
   "source": [
    "tensor([o.numel() for o in simple_cnn.parameters()]).sum()"
   ]
  },
  {
   "cell_type": "markdown",
   "id": "df388027-f854-423a-9f6d-37c27c80c12e",
   "metadata": {},
   "source": [
    "Ahora podemos entrenar esta CNN que acabamos de crear"
   ]
  },
  {
   "cell_type": "code",
   "execution_count": 261,
   "id": "73c3c0f1-60eb-401b-8141-df8e9265660c",
   "metadata": {},
   "outputs": [],
   "source": [
    "x_imgs = x_train.view(-1,1,28,28)\n",
    "xv_imgs = x_valid.view(-1,1,28,28)\n",
    "train_ds,valid_ds = Dataset(x_imgs, y_train),Dataset(xv_imgs, y_valid)"
   ]
  },
  {
   "cell_type": "code",
   "execution_count": 262,
   "id": "c18799bf-7465-475e-90c6-3f7c9905d085",
   "metadata": {},
   "outputs": [],
   "source": [
    "from torch import optim\n",
    "\n",
    "bs = 256\n",
    "lr = 0.4\n",
    "train_dl,valid_dl = get_dls(train_ds, valid_ds, bs, collate_fn=collate_device)\n",
    "opt = optim.SGD(simple_cnn.parameters(), lr=lr)"
   ]
  },
  {
   "cell_type": "code",
   "execution_count": 263,
   "id": "3f403574-fb7c-4931-ac13-731eabdd88f2",
   "metadata": {},
   "outputs": [
    {
     "name": "stdout",
     "output_type": "stream",
     "text": [
      "0 0.32061372947692873 0.9024999994277955\n",
      "1 0.26145002307891846 0.9219999997138977\n",
      "2 0.1420852315425873 0.9564000007629394\n",
      "3 0.10846944243907929 0.969900000667572\n",
      "4 0.16442704036235808 0.9525000003814698\n"
     ]
    }
   ],
   "source": [
    "loss,acc = fit(5, simple_cnn.to(def_device), F.cross_entropy, opt, train_dl, valid_dl)"
   ]
  },
  {
   "cell_type": "markdown",
   "id": "6d7e7584-2126-4d9a-a943-6799b6d4b988",
   "metadata": {},
   "source": [
    "Y podemos refinar el entrenamiento cambiando el _learning rate_"
   ]
  },
  {
   "cell_type": "code",
   "execution_count": 265,
   "id": "82fda0c9-af7b-4aec-ab8f-f9d2065472b0",
   "metadata": {},
   "outputs": [
    {
     "name": "stdout",
     "output_type": "stream",
     "text": [
      "0 0.08445898110866547 0.974999999332428\n",
      "1 0.08205007770061493 0.9768000007629395\n",
      "2 0.08130012106895447 0.9766000008583069\n",
      "3 0.08311226656436921 0.9767000007629395\n",
      "4 0.08207321691513061 0.9763999993324279\n"
     ]
    }
   ],
   "source": [
    "opt = optim.SGD(simple_cnn.parameters(), lr=lr/4)\n",
    "loss,acc = fit(5, simple_cnn.to(def_device), F.cross_entropy, opt, train_dl, valid_dl)"
   ]
  },
  {
   "cell_type": "markdown",
   "id": "8b05e89b-72b2-4ad6-94ad-cdb6f3a1e3a0",
   "metadata": {
    "jp-MarkdownHeadingCollapsed": true
   },
   "source": [
    "### Datos Adicionales"
   ]
  },
  {
   "cell_type": "markdown",
   "id": "6d1bda1c-34e5-4a04-bdd1-7eb979d9b09c",
   "metadata": {},
   "source": [
    "Si tenemos un input de la forma `64x1x28x28` los ejes o dimensiones toman el nombre de `batch, channel, height, width`, esto es comunmente representado como **NCHW** donde N corresponde al tamaño del batch, TensorFlow, otra de las grandes librerías para inteligencia artificial utiliza **NHWC** también conocido como \"_Channel Last_\", muchos modelos son más rápidos de esta forma y por ese motivo en los últimos años PyTorch paso a soportarlo.\n",
    "\n",
    "En nuesta CNN podemos ver que la estructura de la primera capa tiene esa forma:\n",
    "\n",
    "- 1 canal de entrada.\n",
    "- 4 canales de salida.\n",
    "- Kernel de 3x3."
   ]
  },
  {
   "cell_type": "code",
   "execution_count": 268,
   "id": "1743a319-4adf-41cd-a869-4a24b42d046d",
   "metadata": {},
   "outputs": [
    {
     "data": {
      "text/plain": [
       "Sequential(\n",
       "  (0): Sequential(\n",
       "    (0): Conv2d(1, 4, kernel_size=(3, 3), stride=(2, 2), padding=(1, 1))\n",
       "    (1): ReLU()\n",
       "  )\n",
       "  (1): Sequential(\n",
       "    (0): Conv2d(4, 8, kernel_size=(3, 3), stride=(2, 2), padding=(1, 1))\n",
       "    (1): ReLU()\n",
       "  )\n",
       "  (2): Sequential(\n",
       "    (0): Conv2d(8, 16, kernel_size=(3, 3), stride=(2, 2), padding=(1, 1))\n",
       "    (1): ReLU()\n",
       "  )\n",
       "  (3): Sequential(\n",
       "    (0): Conv2d(16, 16, kernel_size=(3, 3), stride=(2, 2), padding=(1, 1))\n",
       "    (1): ReLU()\n",
       "  )\n",
       "  (4): Conv2d(16, 10, kernel_size=(3, 3), stride=(2, 2), padding=(1, 1))\n",
       "  (5): Flatten(start_dim=1, end_dim=-1)\n",
       ")"
      ]
     },
     "execution_count": 268,
     "metadata": {},
     "output_type": "execute_result"
    }
   ],
   "source": [
    "simple_cnn"
   ]
  },
  {
   "cell_type": "code",
   "execution_count": 269,
   "id": "68d35175-096f-4dbb-81dd-b105ce145ab9",
   "metadata": {},
   "outputs": [
    {
     "data": {
      "text/plain": [
       "Conv2d(1, 4, kernel_size=(3, 3), stride=(2, 2), padding=(1, 1))"
      ]
     },
     "execution_count": 269,
     "metadata": {},
     "output_type": "execute_result"
    }
   ],
   "source": [
    "simple_cnn[0][0]"
   ]
  },
  {
   "cell_type": "code",
   "execution_count": 270,
   "id": "20852116-7619-4abb-b2b4-ac7a17f36440",
   "metadata": {},
   "outputs": [
    {
     "data": {
      "text/plain": [
       "torch.Size([4, 1, 3, 3])"
      ]
     },
     "execution_count": 270,
     "metadata": {},
     "output_type": "execute_result"
    }
   ],
   "source": [
    "conv1 = simple_cnn[0][0]\n",
    "conv1.weight.shape"
   ]
  },
  {
   "cell_type": "markdown",
   "id": "da45dfad-bd2c-455a-a00e-3c11cfb09166",
   "metadata": {},
   "source": [
    "Si quieres ver de forma más interactiva las multiplicaciones que hay en una CNN puedes abrir conv-example.xls del repositorio de la guía de laboratorio, ir a `Formulas > Ver Precedente` te mostrará de donde salió el resultado."
   ]
  },
  {
   "cell_type": "markdown",
   "id": "5ae14243-5278-4462-a58f-edaf2e5c0d6a",
   "metadata": {
    "jp-MarkdownHeadingCollapsed": true
   },
   "source": [
    "### Imágenes a Color"
   ]
  },
  {
   "cell_type": "markdown",
   "id": "aac09862-6917-4e22-8109-9240b6d4f90c",
   "metadata": {},
   "source": [
    "Las imágenes a color son solo un tensor de rango 3:"
   ]
  },
  {
   "cell_type": "code",
   "execution_count": 274,
   "id": "c7d36fd3-5bd8-4fae-bb88-53da8b7997ae",
   "metadata": {},
   "outputs": [
    {
     "data": {
      "text/plain": [
       "torch.Size([3, 650, 1200])"
      ]
     },
     "execution_count": 274,
     "metadata": {},
     "output_type": "execute_result"
    }
   ],
   "source": [
    "from torchvision.io import read_image\n",
    "im = read_image('images/AIEmozione.jpg')\n",
    "im.shape"
   ]
  },
  {
   "cell_type": "code",
   "execution_count": 275,
   "id": "30bb4deb-1e1c-4642-9b96-db51a292bef6",
   "metadata": {},
   "outputs": [
    {
     "data": {
      "text/plain": [
       "<Axes: >"
      ]
     },
     "execution_count": 275,
     "metadata": {},
     "output_type": "execute_result"
    },
    {
     "data": {
      "image/png": "[encoded data removed]",
      "text/plain": [
       "<Figure size 448x336 with 1 Axes>"
      ]
     },
     "metadata": {},
     "output_type": "display_data"
    }
   ],
   "source": [
    "show_image(im.permute(1,2,0))"
   ]
  },
  {
   "cell_type": "code",
   "execution_count": 276,
   "id": "640a1913-0b75-4df6-9fb6-bfec7ae64e9d",
   "metadata": {},
   "outputs": [
    {
     "data": {
      "image/png": "[encoded data removed]",
      "text/plain": [
       "<Figure size 448x336 with 3 Axes>"
      ]
     },
     "metadata": {},
     "output_type": "display_data"
    }
   ],
   "source": [
    "_,axis = plt.subplots(1,3)\n",
    "for car, ax, color in zip(im, axis, ('Reds', 'Greens', 'Blues')): show_image(255-car, ax = ax, cmap=color)"
   ]
  },
  {
   "cell_type": "markdown",
   "id": "7c74e0b9-49d7-4a94-8474-fa492eaa1ac5",
   "metadata": {},
   "source": [
    "Todos estos luego se suman para obtener la imagen."
   ]
  },
  {
   "cell_type": "markdown",
   "id": "2badfb2b-b1ee-47b5-a7c7-588bf3976458",
   "metadata": {},
   "source": [
    "<img alt=\"kernel\" align=\"center\" src = \"images/Colors.svg\"/>"
   ]
  },
  {
   "cell_type": "markdown",
   "id": "0d1b4438",
   "metadata": {
    "jp-MarkdownHeadingCollapsed": true
   },
   "source": [
    "## Entrenando la CNN"
   ]
  },
  {
   "cell_type": "markdown",
   "id": "1e69c9e6-5c7b-45e8-b0e8-cc91840d5d40",
   "metadata": {},
   "source": [
    "Ahora vamos a entrenar nuestra CNN para prepararla para el Autoencoder"
   ]
  },
  {
   "cell_type": "code",
   "execution_count": 281,
   "id": "694b2e3f",
   "metadata": {},
   "outputs": [],
   "source": [
    "learning_rate = 0.4"
   ]
  },
  {
   "cell_type": "code",
   "execution_count": 282,
   "id": "15f84902",
   "metadata": {},
   "outputs": [],
   "source": [
    "cnn = nn.Sequential(\n",
    "    conv(1 ,4),            #14x14\n",
    "    conv(4 ,8),            #7x7\n",
    "    conv(8 ,16),           #4x4\n",
    "    conv(16,16),           #2x2\n",
    "    conv(16,10, act=False),#1x1\n",
    "    nn.Flatten()).to(def_device)"
   ]
  },
  {
   "cell_type": "code",
   "execution_count": 283,
   "id": "6a7fd4aa",
   "metadata": {
    "scrolled": true
   },
   "outputs": [
    {
     "name": "stdout",
     "output_type": "stream",
     "text": [
      "0 0.6838736822128296 0.7493\n",
      "1 0.5286516395568848 0.808\n",
      "2 0.4876855179786682 0.8256\n",
      "3 0.4338136445045471 0.8433\n",
      "4 0.41072925148010253 0.8507\n"
     ]
    }
   ],
   "source": [
    "opt = optim.SGD(cnn.parameters(), lr=learning_rate)\n",
    "loss,acc = fit(5, cnn, F.cross_entropy, opt, dt, dv)"
   ]
  },
  {
   "cell_type": "code",
   "execution_count": 284,
   "id": "1599564a",
   "metadata": {
    "scrolled": true
   },
   "outputs": [
    {
     "data": {
      "text/plain": [
       "{'image': <PIL.PngImagePlugin.PngImageFile image mode=L size=28x28>,\n",
       " 'label': 9}"
      ]
     },
     "execution_count": 284,
     "metadata": {},
     "output_type": "execute_result"
    }
   ],
   "source": [
    "dsd['train'][0]"
   ]
  },
  {
   "cell_type": "markdown",
   "id": "560d2509",
   "metadata": {},
   "source": [
    "## Autoencoder"
   ]
  },
  {
   "cell_type": "markdown",
   "id": "ca1ef27a-729d-4b00-8db5-7b1a7e6a079a",
   "metadata": {},
   "source": [
    "Un Autoencoder es basicamente un algoritmo de compresión, es una CNN que primero comprime los datos y luego los intenta recrear, inicialmente puede parecer que no tiene utilidad porque en principio no se está haciendo nada con la imagen, pero precisamente por su naturaleza de compresor es extremadamente útil para procesos más avanzados, en este caso de generación de imágenes, debido a que es computacionalmente más barato usar imágenes \"comprimidas\" en medio del proceso de entrenamiento.\n",
    "\n",
    "Por este motivo el autoencoder es uno de los 3 componentes más importantes de **Stable Diffusion**, siendo los otros dos **CLIP** y la **U-Net**."
   ]
  },
  {
   "cell_type": "markdown",
   "id": "5393643d-17e4-4366-af85-7463c003c395",
   "metadata": {},
   "source": [
    "<img alt=\"kernel\" align=\"center\" src = \"images/SDArquitectura.png\"/>"
   ]
  },
  {
   "cell_type": "markdown",
   "id": "f1611a78",
   "metadata": {},
   "source": [
    "En esta parte se creará una `deconvolutional function`, que hará lo contrario de la convolución que defínimos antes:\n",
    "- La primera capa es una `nn.UpsamplingNearest2d` que lo que hace es copiar los pixeles de la capa anterior y duplicarlos.\n",
    "- La segunda capa será una `nn.Conv2d` con un _stride_ de 1, lo que a efectos practicos duplica el tamaño de la cuadricula de la capa anterior.\n",
    "- Por último la activación de la ReLU."
   ]
  },
  {
   "cell_type": "code",
   "execution_count": 289,
   "id": "2f78513c",
   "metadata": {},
   "outputs": [],
   "source": [
    "def deconv(ni, nf, ks=3, act=True):\n",
    "    layers = [nn.UpsamplingNearest2d(scale_factor=2),\n",
    "              nn.Conv2d(ni, nf, stride=1, kernel_size=ks, padding=ks//2)]\n",
    "    if act: layers.append(nn.ReLU())\n",
    "    return nn.Sequential(*layers)"
   ]
  },
  {
   "cell_type": "markdown",
   "id": "f7c4433f",
   "metadata": {},
   "source": [
    "Aquí se define dos funciones para el `fit` que se tenía antes "
   ]
  },
  {
   "cell_type": "code",
   "execution_count": 291,
   "id": "a7dccd54",
   "metadata": {},
   "outputs": [],
   "source": [
    "def eval(model, loss_func, valid_dl, epoch=0):\n",
    "    model.eval()\n",
    "    with torch.no_grad():\n",
    "        tot_loss,count = 0.,0\n",
    "        for xb,_ in valid_dl:\n",
    "            pred = model(xb)\n",
    "            n = len(xb)\n",
    "            count += n\n",
    "            tot_loss += loss_func(pred,xb).item()*n\n",
    "    print(epoch, f'{tot_loss/count:.3f}')"
   ]
  },
  {
   "cell_type": "markdown",
   "id": "12df647e",
   "metadata": {},
   "source": [
    "La diferencia es que ahora en la parte de `Loss` no se está calculando un loss con respecto a un validation set, sino que se está comparando consigo mismo (no hay `yb` sino `xb`), porque necesitamos entrenarlo para que recree lo que le entro, así funciona un autoencoder."
   ]
  },
  {
   "cell_type": "code",
   "execution_count": 293,
   "id": "9ca68cbf",
   "metadata": {},
   "outputs": [],
   "source": [
    "def fit_autoencoder(epochs, model, loss_func, opt, train_dl, valid_dl):\n",
    "    for epoch in range(epochs):\n",
    "        model.train()\n",
    "        for xb,_ in train_dl:\n",
    "            loss = loss_func(model(xb), xb)\n",
    "            loss.backward()\n",
    "            opt.step()\n",
    "            opt.zero_grad()\n",
    "        eval(model, loss_func, valid_dl, epoch)"
   ]
  },
  {
   "cell_type": "markdown",
   "id": "f0ab0229",
   "metadata": {},
   "source": [
    "Y Aquí definimos nuestro Autoencoder\n",
    "- `nn.ZeroPad2d` agrega o quita un _padding_ a la imagen.\n",
    "- `nn.Sigmoid` hace que todos los valores estén dentro de 0 y 1"
   ]
  },
  {
   "cell_type": "code",
   "execution_count": 295,
   "id": "8eaa59af",
   "metadata": {},
   "outputs": [],
   "source": [
    "autoencoder = nn.Sequential(   #28x28\n",
    "    nn.ZeroPad2d(2),  #32x32\n",
    "    conv(1,2),        #16x16\n",
    "    conv(2,4),        #8x8\n",
    "#     conv(4,8),        #4x4\n",
    "#     deconv(8,4),      #8x8\n",
    "    deconv(4,2),      #16x16\n",
    "    deconv(2,1, act=False), #32x32\n",
    "    nn.ZeroPad2d(-2), #28x28\n",
    "    nn.Sigmoid()\n",
    ").to(def_device)"
   ]
  },
  {
   "cell_type": "markdown",
   "id": "b6094c2a-8550-47a5-9042-bb14f2ed104d",
   "metadata": {},
   "source": [
    "Puedes probar a quitar el comentario de las capas más internas, pero eso empeora los resultados."
   ]
  },
  {
   "cell_type": "code",
   "execution_count": 297,
   "id": "8b4f58f3",
   "metadata": {
    "scrolled": true
   },
   "outputs": [
    {
     "name": "stdout",
     "output_type": "stream",
     "text": [
      "0 0.174\n"
     ]
    }
   ],
   "source": [
    "eval(autoencoder, F.mse_loss, dv)"
   ]
  },
  {
   "cell_type": "code",
   "execution_count": 298,
   "id": "ffe37104",
   "metadata": {},
   "outputs": [
    {
     "name": "stdout",
     "output_type": "stream",
     "text": [
      "0 0.016\n",
      "1 0.013\n",
      "2 0.012\n",
      "3 0.012\n",
      "4 0.012\n"
     ]
    }
   ],
   "source": [
    "opt = optim.AdamW(autoencoder.parameters(), lr=0.01)\n",
    "fit_autoencoder(5, autoencoder, F.mse_loss, opt, dt, dv)"
   ]
  },
  {
   "cell_type": "code",
   "execution_count": 299,
   "id": "19082f0e",
   "metadata": {},
   "outputs": [
    {
     "name": "stdout",
     "output_type": "stream",
     "text": [
      "0 0.012\n",
      "1 0.012\n",
      "2 0.012\n",
      "3 0.012\n",
      "4 0.012\n"
     ]
    }
   ],
   "source": [
    "opt = optim.SGD(autoencoder.parameters(), lr=0.1)\n",
    "fit_autoencoder(5, autoencoder, F.mse_loss, opt, dt, dv)"
   ]
  },
  {
   "cell_type": "markdown",
   "id": "5439c736-e6d2-43c9-af4a-8b1441134cd1",
   "metadata": {},
   "source": [
    "Y aquí obtenemos las imágenes que generó nuestro Autoencoder"
   ]
  },
  {
   "cell_type": "code",
   "execution_count": 301,
   "id": "c78c145f",
   "metadata": {
    "scrolled": true
   },
   "outputs": [
    {
     "data": {
      "image/png": "[encoded data removed]",
      "text/plain": [
       "<Figure size 420x420 with 16 Axes>"
      ]
     },
     "metadata": {},
     "output_type": "display_data"
    }
   ],
   "source": [
    "p = autoencoder(x_batch)\n",
    "show_images(p[:16].data.cpu(), imsize=1.5)"
   ]
  },
  {
   "cell_type": "markdown",
   "id": "b0293196-7fde-45b0-8d4d-211c82912ba8",
   "metadata": {},
   "source": [
    "Comparadas a las originales no están muy alejadas a pesar de ser un autoencoder extremadamente simple y sin optimizaciones."
   ]
  },
  {
   "cell_type": "code",
   "execution_count": 302,
   "id": "65b5c3b2",
   "metadata": {
    "scrolled": true
   },
   "outputs": [
    {
     "data": {
      "image/png": "[encoded data removed]",
      "text/plain": [
       "<Figure size 420x420 with 16 Axes>"
      ]
     },
     "metadata": {},
     "output_type": "display_data"
    }
   ],
   "source": [
    "show_images(x_batch[:16].data.cpu(), imsize=1.5)"
   ]
  },
  {
   "cell_type": "markdown",
   "id": "9b4accb8-b238-4217-a622-5c10de796a6a",
   "metadata": {},
   "source": [
    "El propósito de esta última celda es solo para poder realizar el `Run All Above Selected`."
   ]
  },
  {
   "cell_type": "code",
   "execution_count": null,
   "id": "3b832932-1cec-4e9a-888c-ba17714fb437",
   "metadata": {},
   "outputs": [],
   "source": []
  }
 ],
 "metadata": {
  "kernelspec": {
   "display_name": "Python 3 (ipykernel)",
   "language": "python",
   "name": "python3"
  },
  "language_info": {
   "codemirror_mode": {
    "name": "ipython",
    "version": 3
   },
   "file_extension": ".py",
   "mimetype": "text/x-python",
   "name": "python",
   "nbconvert_exporter": "python",
   "pygments_lexer": "ipython3",
   "version": "3.11.7"
  }
 },
 "nbformat": 4,
 "nbformat_minor": 5
}
