{
 "cells": [
  {
   "cell_type": "markdown",
   "id": "f85995d1",
   "metadata": {},
   "source": [
    "# Guía de Laboratorio - CNN y Autoencoder"
   ]
  },
  {
   "cell_type": "markdown",
   "id": "5cb54cb9",
   "metadata": {},
   "source": [
    "## Bases para Jupyter Notebook"
   ]
  },
  {
   "cell_type": "markdown",
   "id": "5f6c02cb",
   "metadata": {},
   "source": [
    "Las notebook son documentos creados con celdas, en algunas de ellas puedes escribir texto usando __markdown__ y en otras puedes ejecutar código en python.\n",
    "\n",
    "Puedes ejecutar una celda usando `Shift + Enter` o dando al boton `▶ Run`."
   ]
  },
  {
   "cell_type": "markdown",
   "id": "2bfb347b",
   "metadata": {},
   "source": [
    "Hay dos tipos de celda:\n",
    " - _`Markdown Cell`_: Son las celdas donde puedes escribir texto e incluso adjuntar imágenes, también aceptan LaTeX para la escritura de formulas. \n",
    " \n",
    " $$a_{n} = 2^{(4-n)}$$\n",
    " \n",
    " \n",
    " $$\\lim_{n\\to\\infty}a_n = L$$\n",
    "\n",
    "  \n",
    "      Para ver como hacer esto puedes dar doble click a esta celda para ver su estructura.\n",
    "      \n",
    "  - _`Code Cell`_: Son las celdas donde puedes ejecutar codigo en python, el orden de ejecución aparece al lado izquierdo de la celda marcado con <kbd>In [#]</kbd>, en caso de tener algún tipo de salida esta aparecerá debajo de la celda y marcada al lado izquierdo con <kbd>Out [#]</kbd>."
   ]
  },
  {
   "cell_type": "code",
   "execution_count": 227,
   "id": "01a1007c",
   "metadata": {},
   "outputs": [
    {
     "data": {
      "text/plain": [
       "0.6666666666666666"
      ]
     },
     "execution_count": 227,
     "metadata": {},
     "output_type": "execute_result"
    }
   ],
   "source": [
    "2/3"
   ]
  },
  {
   "cell_type": "markdown",
   "id": "2550882b",
   "metadata": {},
   "source": [
    "Hay que tener en cuenta que no es necesario colocar `print()` ya que jupyter notebook ya asume que queremos ver el resultado de operaciones directas o variables"
   ]
  },
  {
   "cell_type": "code",
   "execution_count": 1,
   "id": "fcdae215",
   "metadata": {},
   "outputs": [
    {
     "data": {
      "text/plain": [
       "(37, 40, 35460612558)"
      ]
     },
     "execution_count": 1,
     "metadata": {},
     "output_type": "execute_result"
    }
   ],
   "source": [
    "a = 37\n",
    "a, a + 3, a*958394934"
   ]
  },
  {
   "cell_type": "markdown",
   "id": "6478dc0f",
   "metadata": {},
   "source": [
    "### Modos"
   ]
  },
  {
   "cell_type": "markdown",
   "id": "6f287b8a",
   "metadata": {},
   "source": [
    "En jupyter notebook hay dos modos, `Edit Mode` y `Command Mode`.\n",
    "\n",
    "- `Edit Mode`: Te permite editar las celdas, para editar una celda puedes dar doble click si es una _markdown cell_ o darle al `Enter`, la celda tendrá un borde verde en este modo.\n",
    "- `Command Mode`: Te permite editar la estructura general de la notebook."
   ]
  },
  {
   "cell_type": "markdown",
   "id": "b1ed6971",
   "metadata": {},
   "source": [
    "### Comandos"
   ]
  },
  {
   "cell_type": "markdown",
   "id": "dc1468c4",
   "metadata": {},
   "source": [
    "Comandos importantes a tener en cuenta para un correcto uso de las notebook:\n",
    "\n",
    "- `Shift + Enter`: Ejecutar las celdas seleccionadas y seleccionar la siguiente.\n",
    "- `Ctrl + Enter`: Ejecutar las celdas seleccionadas.\n",
    "- `Shift + Tab`: Ver información de una función.\n",
    "- `D+D`: En _command mode_, eliminar las celdas seleccionadas.\n",
    "- `0+0`: Reiniciar el kernel para ejecutar todo de nuevo.\n",
    "- `A`: En _command mode_, crea una celda arriba de la seleccionada\n",
    "- `B`: En _command mode_, crea una celda debajo de la seleccionada\n",
    "- `M`: En _command mode_, convierte la celda seleccionada en una _markdown cell_\n",
    "- `Y`: En _command mode_, convierte la celda seleccionada en una _code cell_\n",
    "\n",
    "Para ver más comandos es recomendado ver la sección <kbd>Help > Edit Keyboard Shortcuts</kbd> y agregar uno para el <kbd>Run All Cells Above</kbd>"
   ]
  },
  {
   "cell_type": "markdown",
   "id": "a5749334",
   "metadata": {},
   "source": [
    "## Imports Necesarios"
   ]
  },
  {
   "cell_type": "markdown",
   "id": "e8423140",
   "metadata": {},
   "source": [
    "Imports necesarios para la guía de laboratorio"
   ]
  },
  {
   "cell_type": "code",
   "execution_count": 229,
   "id": "bae609db",
   "metadata": {},
   "outputs": [],
   "source": [
    "import pickle,gzip,math,os,time,shutil,torch,matplotlib as mpl,numpy as np,matplotlib.pyplot as plt\n",
    "import fastcore.all as fc\n",
    "import pandas as pd\n",
    "from collections.abc import Mapping\n",
    "from pathlib import Path\n",
    "from operator import attrgetter,itemgetter\n",
    "from functools import partial\n",
    "from __future__ import annotations\n",
    "from itertools import zip_longest\n",
    "\n",
    "from torch import tensor,nn,optim\n",
    "from torch.utils.data import DataLoader,default_collate, SequentialSampler, RandomSampler, BatchSampler\n",
    "import torch.nn.functional as F\n",
    "import torchvision.transforms.functional as TF\n",
    "from datasets import load_dataset,load_dataset_builder\n",
    "\n",
    "from fastprogress import progress_bar,master_bar\n",
    "from typing import Mapping\n",
    "from fastcore.test import test_close"
   ]
  },
  {
   "cell_type": "code",
   "execution_count": 230,
   "id": "0e2c71c8",
   "metadata": {},
   "outputs": [],
   "source": [
    "import logging\n",
    "logging.disable(logging.WARNING)"
   ]
  },
  {
   "cell_type": "markdown",
   "id": "30302ff9",
   "metadata": {},
   "source": [
    "## Bases"
   ]
  },
  {
   "cell_type": "markdown",
   "id": "20112afa",
   "metadata": {},
   "source": [
    "### Tensores"
   ]
  },
  {
   "cell_type": "code",
   "execution_count": 231,
   "id": "cc6f7706",
   "metadata": {},
   "outputs": [],
   "source": [
    "from torch import tensor"
   ]
  },
  {
   "cell_type": "markdown",
   "id": "50a6e8d5",
   "metadata": {},
   "source": [
    "En matemáticas los tensores son una generalización de escalares, vectores y matrices, los tensores se pueden clasificar segun su rango, teniendo n-rangos."
   ]
  },
  {
   "cell_type": "markdown",
   "id": "9c21848c",
   "metadata": {},
   "source": [
    "Ejemplo de un tensor de rango 0 o simplemente un escalar."
   ]
  },
  {
   "cell_type": "code",
   "execution_count": 232,
   "id": "a99725bb",
   "metadata": {},
   "outputs": [
    {
     "data": {
      "text/plain": [
       "tensor(14029309)"
      ]
     },
     "execution_count": 232,
     "metadata": {},
     "output_type": "execute_result"
    }
   ],
   "source": [
    "a = torch.tensor(14029309)\n",
    "a"
   ]
  },
  {
   "cell_type": "code",
   "execution_count": 233,
   "id": "e9bd9037",
   "metadata": {
    "scrolled": true
   },
   "outputs": [
    {
     "data": {
      "text/plain": [
       "tensor(9902320)"
      ]
     },
     "execution_count": 233,
     "metadata": {},
     "output_type": "execute_result"
    }
   ],
   "source": [
    "a = 9902320\n",
    "b = torch.tensor(a)\n",
    "b"
   ]
  },
  {
   "cell_type": "markdown",
   "id": "ef9e5598",
   "metadata": {},
   "source": [
    "Ejemplo de un tensor de rango 1 o vector."
   ]
  },
  {
   "cell_type": "code",
   "execution_count": 234,
   "id": "d1d519af",
   "metadata": {},
   "outputs": [
    {
     "data": {
      "text/plain": [
       "tensor([ 3.00,  2.10, 42.00, 13.00])"
      ]
     },
     "execution_count": 234,
     "metadata": {},
     "output_type": "execute_result"
    }
   ],
   "source": [
    "a = [3,2.1,42,13]\n",
    "b = torch.tensor(a)\n",
    "b"
   ]
  },
  {
   "cell_type": "markdown",
   "id": "2b1ecced",
   "metadata": {},
   "source": [
    "Ejemplo de un tensor de rango 2 o matriz."
   ]
  },
  {
   "cell_type": "code",
   "execution_count": 236,
   "id": "59cabf8c",
   "metadata": {},
   "outputs": [
    {
     "data": {
      "text/plain": [
       "tensor([[4, 3, 1],\n",
       "        [4, 4, 1]])"
      ]
     },
     "execution_count": 236,
     "metadata": {},
     "output_type": "execute_result"
    }
   ],
   "source": [
    "a = [[4,3,1], [4,4,1]]\n",
    "a = torch.tensor(a)\n",
    "a"
   ]
  },
  {
   "cell_type": "markdown",
   "id": "c86b980c",
   "metadata": {},
   "source": [
    "Podemos crear tensores de diferentes formas y tamaños."
   ]
  },
  {
   "cell_type": "code",
   "execution_count": 237,
   "id": "fb347906",
   "metadata": {},
   "outputs": [
    {
     "data": {
      "text/plain": [
       "tensor([[0.58, 0.68, 0.40],\n",
       "        [0.81, 0.53, 0.13]])"
      ]
     },
     "execution_count": 237,
     "metadata": {},
     "output_type": "execute_result"
    }
   ],
   "source": [
    "shape = (2,3)\n",
    "a = torch.rand(shape)\n",
    "a"
   ]
  },
  {
   "cell_type": "markdown",
   "id": "f6a398b4",
   "metadata": {},
   "source": [
    "Tensor de rango 3"
   ]
  },
  {
   "cell_type": "code",
   "execution_count": 238,
   "id": "e63d78e9",
   "metadata": {},
   "outputs": [
    {
     "data": {
      "text/plain": [
       "tensor([[[1.00, 0.85, 0.48, 0.71],\n",
       "         [0.33, 0.92, 0.09, 0.02],\n",
       "         [0.27, 0.10, 0.79, 0.46]],\n",
       "\n",
       "        [[0.30, 0.22, 0.14, 0.51],\n",
       "         [0.00, 0.08, 0.59, 0.54],\n",
       "         [0.77, 0.53, 0.11, 0.81]],\n",
       "\n",
       "        [[0.85, 0.64, 0.57, 0.61],\n",
       "         [0.63, 0.27, 0.30, 0.61],\n",
       "         [0.99, 0.48, 0.54, 0.14]],\n",
       "\n",
       "        [[0.28, 0.66, 0.54, 0.97],\n",
       "         [0.77, 0.42, 0.33, 0.12],\n",
       "         [0.50, 0.50, 0.76, 0.65]],\n",
       "\n",
       "        [[0.53, 0.81, 0.63, 0.75],\n",
       "         [0.13, 0.33, 0.78, 0.80],\n",
       "         [0.82, 0.68, 0.53, 0.01]]])"
      ]
     },
     "execution_count": 238,
     "metadata": {},
     "output_type": "execute_result"
    }
   ],
   "source": [
    "shape = (5,3,4)\n",
    "a = torch.rand(shape)\n",
    "a"
   ]
  },
  {
   "cell_type": "markdown",
   "id": "818a41d3",
   "metadata": {},
   "source": [
    "Tensor de rango 4"
   ]
  },
  {
   "cell_type": "code",
   "execution_count": 239,
   "id": "473ab101",
   "metadata": {
    "scrolled": true
   },
   "outputs": [
    {
     "data": {
      "text/plain": [
       "tensor([[[[0.19, 0.87],\n",
       "          [0.37, 0.91],\n",
       "          [0.08, 0.34],\n",
       "          [0.52, 0.17]],\n",
       "\n",
       "         [[0.83, 0.90],\n",
       "          [0.29, 0.94],\n",
       "          [0.85, 0.94],\n",
       "          [0.13, 0.09]],\n",
       "\n",
       "         [[0.53, 0.51],\n",
       "          [0.75, 0.12],\n",
       "          [0.97, 0.56],\n",
       "          [0.87, 0.71]]],\n",
       "\n",
       "\n",
       "        [[[0.81, 0.27],\n",
       "          [0.47, 0.06],\n",
       "          [0.57, 0.28],\n",
       "          [0.18, 0.62]],\n",
       "\n",
       "         [[0.15, 0.76],\n",
       "          [0.12, 0.56],\n",
       "          [0.62, 0.94],\n",
       "          [0.25, 0.04]],\n",
       "\n",
       "         [[0.22, 0.28],\n",
       "          [0.25, 0.18],\n",
       "          [0.98, 0.46],\n",
       "          [0.12, 0.66]]],\n",
       "\n",
       "\n",
       "        [[[0.58, 0.60],\n",
       "          [0.61, 0.67],\n",
       "          [0.85, 0.78],\n",
       "          [0.54, 0.92]],\n",
       "\n",
       "         [[0.53, 0.29],\n",
       "          [0.39, 0.50],\n",
       "          [0.32, 0.97],\n",
       "          [0.63, 0.57]],\n",
       "\n",
       "         [[0.81, 0.40],\n",
       "          [0.48, 0.64],\n",
       "          [0.67, 0.91],\n",
       "          [0.59, 0.67]]],\n",
       "\n",
       "\n",
       "        [[[0.52, 0.91],\n",
       "          [0.30, 0.59],\n",
       "          [0.76, 0.74],\n",
       "          [0.92, 0.53]],\n",
       "\n",
       "         [[0.71, 0.34],\n",
       "          [0.16, 0.04],\n",
       "          [0.74, 0.22],\n",
       "          [0.77, 0.85]],\n",
       "\n",
       "         [[0.32, 0.56],\n",
       "          [0.94, 0.10],\n",
       "          [0.54, 0.10],\n",
       "          [0.09, 0.40]]],\n",
       "\n",
       "\n",
       "        [[[0.66, 0.31],\n",
       "          [0.45, 0.21],\n",
       "          [0.81, 0.91],\n",
       "          [0.17, 0.76]],\n",
       "\n",
       "         [[0.49, 0.86],\n",
       "          [0.58, 0.75],\n",
       "          [0.77, 0.10],\n",
       "          [0.94, 0.39]],\n",
       "\n",
       "         [[0.18, 0.13],\n",
       "          [0.92, 0.03],\n",
       "          [0.37, 0.63],\n",
       "          [0.39, 0.94]]]])"
      ]
     },
     "execution_count": 239,
     "metadata": {},
     "output_type": "execute_result"
    }
   ],
   "source": [
    "shape = (5,3,4,2)\n",
    "a = torch.rand(shape)\n",
    "a"
   ]
  },
  {
   "cell_type": "markdown",
   "id": "a5779b40",
   "metadata": {},
   "source": [
    "Suma de tensores con escalares"
   ]
  },
  {
   "cell_type": "code",
   "execution_count": 240,
   "id": "dd01ffcd",
   "metadata": {},
   "outputs": [
    {
     "data": {
      "text/plain": [
       "(tensor([0.64, 0.69]), tensor([1.64, 1.69]))"
      ]
     },
     "execution_count": 240,
     "metadata": {},
     "output_type": "execute_result"
    }
   ],
   "source": [
    "a = torch.rand(2)\n",
    "a, a + 1"
   ]
  },
  {
   "cell_type": "markdown",
   "id": "d68c2033",
   "metadata": {},
   "source": [
    "Multiplicación de tensores por escalar"
   ]
  },
  {
   "cell_type": "code",
   "execution_count": 241,
   "id": "c4dd1c60",
   "metadata": {},
   "outputs": [
    {
     "data": {
      "text/plain": [
       "(tensor([1., 1., 1.]), tensor([2., 2., 2.]), tensor([45., 45., 45.]))"
      ]
     },
     "execution_count": 241,
     "metadata": {},
     "output_type": "execute_result"
    }
   ],
   "source": [
    "a = torch.ones(3)\n",
    "a, a * 2, a * 45"
   ]
  },
  {
   "cell_type": "markdown",
   "id": "51951fef",
   "metadata": {},
   "source": [
    "Internamente cuando multiplicas un tensor de X dimensión por un escalar se usa algo llamado __Broadcasting__"
   ]
  },
  {
   "cell_type": "markdown",
   "id": "fc37b202",
   "metadata": {},
   "source": [
    "### Broadcasting "
   ]
  },
  {
   "cell_type": "markdown",
   "id": "7fdac6f9",
   "metadata": {},
   "source": [
    "Internamente para las operaciones de multiplicaciones entre tensores y por consiguiente optimizar procesos como la multiplicación de matrices se usa algo conocido como __broadcasting__, inicialmente es un concepto procedente de un lenguaje de programación conocido como [APL](https://tryapl.org/) donde se podia para las operaciones como la de un tensor por un escalar."
   ]
  },
  {
   "cell_type": "code",
   "execution_count": 118,
   "id": "7627e5a2",
   "metadata": {},
   "outputs": [
    {
     "data": {
      "text/plain": [
       "(tensor([2., 2., 2., 2., 2.]),\n",
       " tensor([3., 3., 3., 3., 3.]),\n",
       " tensor([True, True, True, True, True]))"
      ]
     },
     "execution_count": 118,
     "metadata": {},
     "output_type": "execute_result"
    }
   ],
   "source": [
    "a = torch.ones(5)\n",
    "a + 1, a * 3, a > 0"
   ]
  },
  {
   "cell_type": "markdown",
   "id": "0f7bfae8",
   "metadata": {},
   "source": [
    "Sin embargo la idea del broadcasting no se quedó ahí, gracias a otro lenguaje de programación algo desconocido llamado [Yorick](https://software.llnl.gov/yorick-doc/manual/yorick_50.html) se implemento una forma de realizar broadcasting con tensores de rango superior y no solo escalares.\n",
    "\n",
    "De esta manera podemos hacer cosas como un broadcast de una matriz con un vector"
   ]
  },
  {
   "cell_type": "code",
   "execution_count": 119,
   "id": "ed025681",
   "metadata": {},
   "outputs": [
    {
     "data": {
      "text/plain": [
       "tensor([[1., 1., 1.],\n",
       "        [1., 1., 1.],\n",
       "        [1., 1., 1.]])"
      ]
     },
     "execution_count": 119,
     "metadata": {},
     "output_type": "execute_result"
    }
   ],
   "source": [
    "matrix = torch.ones(3,3);matrix"
   ]
  },
  {
   "cell_type": "code",
   "execution_count": 120,
   "id": "5b30107c",
   "metadata": {},
   "outputs": [
    {
     "data": {
      "text/plain": [
       "tensor([0.7851, 0.6839, 0.7291])"
      ]
     },
     "execution_count": 120,
     "metadata": {},
     "output_type": "execute_result"
    }
   ],
   "source": [
    "vector = torch.rand(3);vector"
   ]
  },
  {
   "cell_type": "code",
   "execution_count": 121,
   "id": "834ad559",
   "metadata": {},
   "outputs": [
    {
     "data": {
      "text/plain": [
       "(tensor([[1.7851, 1.6839, 1.7291],\n",
       "         [1.7851, 1.6839, 1.7291],\n",
       "         [1.7851, 1.6839, 1.7291]]),\n",
       " tensor([[0.7851, 0.6839, 0.7291],\n",
       "         [0.7851, 0.6839, 0.7291],\n",
       "         [0.7851, 0.6839, 0.7291]]),\n",
       " tensor([[1.2737, 1.4623, 1.3716],\n",
       "         [1.2737, 1.4623, 1.3716],\n",
       "         [1.2737, 1.4623, 1.3716]]))"
      ]
     },
     "execution_count": 121,
     "metadata": {},
     "output_type": "execute_result"
    }
   ],
   "source": [
    "matrix + vector, matrix * vector, matrix / vector"
   ]
  },
  {
   "cell_type": "markdown",
   "id": "2a8c5a83",
   "metadata": {},
   "source": [
    "Los tensores también nos permiten agregar ejes colocando `[:]` que sigifica que tomamos todo de ese eje y `[None]` para agregar un eje más."
   ]
  },
  {
   "cell_type": "code",
   "execution_count": 122,
   "id": "5496dd26",
   "metadata": {},
   "outputs": [
    {
     "data": {
      "text/plain": [
       "(torch.Size([3]),\n",
       " torch.Size([1, 3, 1, 1]),\n",
       " tensor([[[[0.7851]],\n",
       " \n",
       "          [[0.6839]],\n",
       " \n",
       "          [[0.7291]]]]))"
      ]
     },
     "execution_count": 122,
     "metadata": {},
     "output_type": "execute_result"
    }
   ],
   "source": [
    "vector.shape, vector[None,:,None,None].shape, vector[None,:,None,None]"
   ]
  },
  {
   "cell_type": "markdown",
   "id": "72e6fec4",
   "metadata": {},
   "source": [
    "De esta manera podemos hacer el broadcasting con un \"vector vertical\" y hacerlo en las columnas en vez de las filas"
   ]
  },
  {
   "cell_type": "code",
   "execution_count": 123,
   "id": "ea3ea901",
   "metadata": {},
   "outputs": [
    {
     "data": {
      "text/plain": [
       "tensor([[0.7851],\n",
       "        [0.6839],\n",
       "        [0.7291]])"
      ]
     },
     "execution_count": 123,
     "metadata": {},
     "output_type": "execute_result"
    }
   ],
   "source": [
    "vertical_vector = vector[:,None]; vertical_vector"
   ]
  },
  {
   "cell_type": "code",
   "execution_count": 124,
   "id": "50551002",
   "metadata": {},
   "outputs": [
    {
     "data": {
      "text/plain": [
       "(tensor([[1.7851, 1.7851, 1.7851],\n",
       "         [1.6839, 1.6839, 1.6839],\n",
       "         [1.7291, 1.7291, 1.7291]]),\n",
       " tensor([[0.7851, 0.7851, 0.7851],\n",
       "         [0.6839, 0.6839, 0.6839],\n",
       "         [0.7291, 0.7291, 0.7291]]),\n",
       " tensor([[1.2737, 1.2737, 1.2737],\n",
       "         [1.4623, 1.4623, 1.4623],\n",
       "         [1.3716, 1.3716, 1.3716]]))"
      ]
     },
     "execution_count": 124,
     "metadata": {},
     "output_type": "execute_result"
    }
   ],
   "source": [
    "matrix + vertical_vector, matrix * vertical_vector, matrix / vertical_vector"
   ]
  },
  {
   "cell_type": "markdown",
   "id": "4e352a99",
   "metadata": {},
   "source": [
    "La matriz no necesariamente tiene que ser cuadrada"
   ]
  },
  {
   "cell_type": "code",
   "execution_count": 125,
   "id": "8750c604",
   "metadata": {},
   "outputs": [
    {
     "data": {
      "text/plain": [
       "tensor([[1., 1., 1.],\n",
       "        [1., 1., 1.],\n",
       "        [1., 1., 1.],\n",
       "        [1., 1., 1.],\n",
       "        [1., 1., 1.],\n",
       "        [1., 1., 1.],\n",
       "        [1., 1., 1.],\n",
       "        [1., 1., 1.],\n",
       "        [1., 1., 1.],\n",
       "        [1., 1., 1.]])"
      ]
     },
     "execution_count": 125,
     "metadata": {},
     "output_type": "execute_result"
    }
   ],
   "source": [
    "matrix = torch.ones(10,3); matrix"
   ]
  },
  {
   "cell_type": "code",
   "execution_count": 126,
   "id": "0922d95d",
   "metadata": {},
   "outputs": [
    {
     "data": {
      "text/plain": [
       "(tensor([[0.7851, 0.6839, 0.7291],\n",
       "         [0.7851, 0.6839, 0.7291],\n",
       "         [0.7851, 0.6839, 0.7291],\n",
       "         [0.7851, 0.6839, 0.7291],\n",
       "         [0.7851, 0.6839, 0.7291],\n",
       "         [0.7851, 0.6839, 0.7291],\n",
       "         [0.7851, 0.6839, 0.7291],\n",
       "         [0.7851, 0.6839, 0.7291],\n",
       "         [0.7851, 0.6839, 0.7291],\n",
       "         [0.7851, 0.6839, 0.7291]]),\n",
       " tensor([[1.7851, 1.6839, 1.7291],\n",
       "         [1.7851, 1.6839, 1.7291],\n",
       "         [1.7851, 1.6839, 1.7291],\n",
       "         [1.7851, 1.6839, 1.7291],\n",
       "         [1.7851, 1.6839, 1.7291],\n",
       "         [1.7851, 1.6839, 1.7291],\n",
       "         [1.7851, 1.6839, 1.7291],\n",
       "         [1.7851, 1.6839, 1.7291],\n",
       "         [1.7851, 1.6839, 1.7291],\n",
       "         [1.7851, 1.6839, 1.7291]]))"
      ]
     },
     "execution_count": 126,
     "metadata": {},
     "output_type": "execute_result"
    }
   ],
   "source": [
    "matrix * vector, matrix + vector"
   ]
  },
  {
   "cell_type": "markdown",
   "id": "59bdf783",
   "metadata": {},
   "source": [
    "Pero si lo hacemos con el \"vector vertical\" no podremos."
   ]
  },
  {
   "cell_type": "code",
   "execution_count": 127,
   "id": "1ef17805",
   "metadata": {
    "scrolled": true,
    "tags": [
     "raises-exception"
    ]
   },
   "outputs": [
    {
     "ename": "RuntimeError",
     "evalue": "The size of tensor a (10) must match the size of tensor b (3) at non-singleton dimension 0",
     "output_type": "error",
     "traceback": [
      "\u001b[1;31m---------------------------------------------------------------------------\u001b[0m",
      "\u001b[1;31mRuntimeError\u001b[0m                              Traceback (most recent call last)",
      "Cell \u001b[1;32mIn[127], line 1\u001b[0m\n\u001b[1;32m----> 1\u001b[0m matrix \u001b[38;5;241m*\u001b[39m vertical_vector\n",
      "\u001b[1;31mRuntimeError\u001b[0m: The size of tensor a (10) must match the size of tensor b (3) at non-singleton dimension 0"
     ]
    }
   ],
   "source": [
    "matrix * vertical_vector"
   ]
  },
  {
   "cell_type": "markdown",
   "id": "08076a39",
   "metadata": {},
   "source": [
    "Esto es debido a que el broadcasting tiene normas y no se puede usar con cualquier tamaño o rango de tensor, debido a que internamente lo que está haciendo es expandir los valores al tamaño necesario, no ocupa memoria ya que usa un truco a la hora de leer en memoria.\n",
    "\n",
    " - La dimension debe tener el mismo tamaño o ser 1\n",
    " - Numpy/Pytorch empieza a verificar los tamaños de derecha a izquierda\n",
    " \n",
    "Por ejemplo si tenemos algo como una imagen de 256x256x3 por los 3 canales RGB, podemos hacer algo así\n",
    "        \n",
    "        Imagen      (256 x 256 x 3)\n",
    "        Escalar                  3\n",
    "        Resultado   (256 x 256 x 3)"
   ]
  },
  {
   "cell_type": "code",
   "execution_count": 128,
   "id": "eaecc2a1",
   "metadata": {},
   "outputs": [
    {
     "data": {
      "text/plain": [
       "torch.Size([256, 256, 3])"
      ]
     },
     "execution_count": 128,
     "metadata": {},
     "output_type": "execute_result"
    }
   ],
   "source": [
    "a = torch.rand(256,256,3)\n",
    "b = torch.ones(3)\n",
    "(a*b).shape"
   ]
  },
  {
   "cell_type": "code",
   "execution_count": 129,
   "id": "d36d2649",
   "metadata": {},
   "outputs": [
    {
     "data": {
      "text/plain": [
       "torch.Size([9, 9, 5, 5])"
      ]
     },
     "execution_count": 129,
     "metadata": {},
     "output_type": "execute_result"
    }
   ],
   "source": [
    "a = torch.ones(9,9,5,5)\n",
    "b = torch.rand(9,1,5,5)\n",
    "(a*b).shape"
   ]
  },
  {
   "cell_type": "code",
   "execution_count": 130,
   "id": "6c1f18a4",
   "metadata": {
    "tags": [
     "raises-exception"
    ]
   },
   "outputs": [
    {
     "ename": "RuntimeError",
     "evalue": "The size of tensor a (40) must match the size of tensor b (39) at non-singleton dimension 1",
     "output_type": "error",
     "traceback": [
      "\u001b[1;31m---------------------------------------------------------------------------\u001b[0m",
      "\u001b[1;31mRuntimeError\u001b[0m                              Traceback (most recent call last)",
      "Cell \u001b[1;32mIn[130], line 3\u001b[0m\n\u001b[0;32m      1\u001b[0m a \u001b[38;5;241m=\u001b[39m torch\u001b[38;5;241m.\u001b[39mones(\u001b[38;5;241m10\u001b[39m,\u001b[38;5;241m40\u001b[39m,\u001b[38;5;241m2\u001b[39m,\u001b[38;5;241m54\u001b[39m)\n\u001b[0;32m      2\u001b[0m b \u001b[38;5;241m=\u001b[39m torch\u001b[38;5;241m.\u001b[39mones(\u001b[38;5;241m10\u001b[39m,\u001b[38;5;241m39\u001b[39m,\u001b[38;5;241m2\u001b[39m,\u001b[38;5;241m54\u001b[39m)\n\u001b[1;32m----> 3\u001b[0m a\u001b[38;5;241m*\u001b[39mb\n",
      "\u001b[1;31mRuntimeError\u001b[0m: The size of tensor a (40) must match the size of tensor b (39) at non-singleton dimension 1"
     ]
    }
   ],
   "source": [
    "a = torch.ones(10,40,2,54)\n",
    "b = torch.ones(10,39,2,54)\n",
    "a*b"
   ]
  },
  {
   "cell_type": "markdown",
   "id": "56fdec7c",
   "metadata": {},
   "source": [
    "### Multiplicación de Matrices"
   ]
  },
  {
   "attachments": {
    "image.png": {
     "image/png": "[encoded data removed]"
    }
   },
   "cell_type": "markdown",
   "id": "e25d84c7",
   "metadata": {},
   "source": [
    "Internamente toda inteligencia artficial que use redes neuronales utilizan como base la multiplicación de matrices, por ejemplo esta red neuronal convolucional en excel.\n",
    "\n",
    "![image.png](attachment:image.png)"
   ]
  },
  {
   "cell_type": "markdown",
   "id": "110c69b3",
   "metadata": {},
   "source": [
    "Por este motivo es importante recordar la multiplicación de matrices.\n",
    "\n",
    " $$ \\begin{bmatrix}\n",
    "         a_{11} & a_{12} & \\cdots & a_{1n}\\\\\n",
    "         a_{21} & a_{22} & \\cdots & a_{2n}\\\\\n",
    "         \\vdots & \\vdots & \\ddots & \\vdots\\\\\n",
    "         a_{m1} & a_{m2} & \\cdots & a_{mn}\\\\ \n",
    "     \\end{bmatrix}\n",
    "     \\times\n",
    "     \\begin{bmatrix}\n",
    "         b_{11} & b_{12} & \\cdots & b_{1p}\\\\\n",
    "         b_{21} & b_{22} & \\cdots & b_{2p}\\\\\n",
    "         \\vdots & \\vdots & \\ddots & \\vdots\\\\\n",
    "         b_{n1} & b_{n2} & \\cdots & b_{np}\\\\\n",
    "     \\end{bmatrix}\n",
    "      =\n",
    "     \\begin{bmatrix}\n",
    "         c_{11} & c_{12} & \\cdots & c_{1p}\\\\\n",
    "         c_{21} & c_{22} & \\cdots & c_{2p}\\\\\n",
    "         \\vdots & \\vdots & \\ddots & \\vdots\\\\\n",
    "         c_{m1} & c_{m2} & \\cdots & c_{mp}\\\\\n",
    "     \\end{bmatrix}\\\\\n",
    "  c_{ij}= a_{i1} b_{1j} + a_{i2} b_{2j} +\\cdots+ a_{in} + b_{nj} = \\sum_{k=1}^n a_{ik}b_{kj}  $$"
   ]
  },
  {
   "cell_type": "markdown",
   "id": "a0802a3d",
   "metadata": {},
   "source": [
    "Con _broadcasting_"
   ]
  },
  {
   "cell_type": "code",
   "execution_count": 131,
   "id": "c8a83e41",
   "metadata": {},
   "outputs": [],
   "source": [
    "a = torch.rand(5,10)\n",
    "b = torch.rand(10,6)"
   ]
  },
  {
   "cell_type": "code",
   "execution_count": 132,
   "id": "bee6989f",
   "metadata": {},
   "outputs": [],
   "source": [
    "def matmul(a,b):\n",
    "    (ar,ac),(br,bc) = a.shape,b.shape\n",
    "    c = torch.zeros(ar, bc)\n",
    "    for i in range(ar):\n",
    "        c[i]   = (a[i,:,None] * b).sum(dim=0) \n",
    "    return c"
   ]
  },
  {
   "cell_type": "code",
   "execution_count": 133,
   "id": "69ad19cc",
   "metadata": {},
   "outputs": [
    {
     "data": {
      "text/plain": [
       "torch.Size([5, 6])"
      ]
     },
     "execution_count": 133,
     "metadata": {},
     "output_type": "execute_result"
    }
   ],
   "source": [
    "c = matmul(a,b)\n",
    "c.shape"
   ]
  },
  {
   "cell_type": "markdown",
   "id": "10007e95",
   "metadata": {},
   "source": [
    "Además de cosas como el broadcasting también se hace uso de algo llamado __Einstein Summation__ que es una forma compacta de representar la combinación de productos y sumas, lo que hay que tener en cuenta para usarlo es lo siguiente: \n",
    "\n",
    "- Letras repetidas en la cadena de entrada signfica que los valores en esos ejes se van a multiplicar juntos\n",
    "- Ignorar una letra en l cadena de salida signfica que los valores en ese eje se van a sumar"
   ]
  },
  {
   "cell_type": "code",
   "execution_count": 134,
   "id": "e369b02c",
   "metadata": {},
   "outputs": [
    {
     "data": {
      "text/plain": [
       "(torch.Size([4, 3]), torch.Size([3, 5]))"
      ]
     },
     "execution_count": 134,
     "metadata": {},
     "output_type": "execute_result"
    }
   ],
   "source": [
    "a = torch.rand(4,3)\n",
    "b = torch.rand(3,5)\n",
    "a.shape, b.shape"
   ]
  },
  {
   "attachments": {
    "image-5.png": {
     "image/png": "[encoded data removed]"
    }
   },
   "cell_type": "markdown",
   "id": "850e9753",
   "metadata": {},
   "source": [
    "$$a[i,j]$$  $$b[j,k]$$\n",
    "\n",
    "Entonces $$c[i, k] = (a[i,1] * b[1,k] + a[i,2] * b[2,k] + ... + a[i,j] * b[j,k])$$\n",
    "\n",
    "La matriz ___c[i, k]___ también lo podemos conseguir de la siguiente manera\n",
    "\n",
    "$$c[i, k] = (a[i,:] * b[:,k]).sum()$$\n",
    "\n",
    "Porque recuerda que `[:]` significa que tomas todos los valores de ese eje y la multiplicacion de matrices es el producto punto de esos dos vectores \n",
    "![image-5.png](attachment:image-5.png)\n",
    "Y así con todo lo demás.\n",
    "\n",
    "Ahora con __`Einsum`__"
   ]
  },
  {
   "cell_type": "code",
   "execution_count": 135,
   "id": "77c64f80",
   "metadata": {
    "scrolled": true
   },
   "outputs": [
    {
     "data": {
      "text/plain": [
       "(tensor([[0.8542, 1.2278, 0.8927, 0.7842, 1.6031],\n",
       "         [0.2008, 0.3189, 0.2483, 0.2858, 0.3670],\n",
       "         [0.7814, 1.0449, 0.8213, 0.7445, 1.3183],\n",
       "         [0.8190, 1.1584, 0.8455, 0.7262, 1.5207]]),\n",
       " torch.Size([4, 5]))"
      ]
     },
     "execution_count": 135,
     "metadata": {},
     "output_type": "execute_result"
    }
   ],
   "source": [
    "c = torch.einsum('ij,jk->ik', a,b)\n",
    "c, c.shape"
   ]
  },
  {
   "cell_type": "markdown",
   "id": "ebd85ade",
   "metadata": {},
   "source": [
    "Pytorch ya tiene su propia implementación de la multiplicación de matrices y se hace con `@`"
   ]
  },
  {
   "cell_type": "code",
   "execution_count": 136,
   "id": "4c382685",
   "metadata": {},
   "outputs": [
    {
     "data": {
      "text/plain": [
       "(tensor([[0.8542, 1.2278, 0.8927, 0.7842, 1.6031],\n",
       "         [0.2008, 0.3189, 0.2483, 0.2858, 0.3670],\n",
       "         [0.7814, 1.0449, 0.8213, 0.7445, 1.3183],\n",
       "         [0.8190, 1.1584, 0.8455, 0.7262, 1.5207]]),\n",
       " torch.Size([4, 5]))"
      ]
     },
     "execution_count": 136,
     "metadata": {},
     "output_type": "execute_result"
    }
   ],
   "source": [
    "a@b,(a@b).shape"
   ]
  },
  {
   "cell_type": "markdown",
   "id": "12e99c60",
   "metadata": {},
   "source": [
    "### Red Neuronal"
   ]
  },
  {
   "attachments": {
    "image.png": {
     "image/png": "[encoded data removed]"
    }
   },
   "cell_type": "markdown",
   "id": "7f732433",
   "metadata": {},
   "source": [
    "Una red neuronal es un conjunto de nodos o neuronas separadas en capas y conectadas entre si, cada neurona tiene una serie de valores de entrada, un peso asignado a cada valor y una o multiples salidas.\n",
    "\n",
    "![image.png](attachment:image.png)\n",
    "\n",
    "Cuando se entrena una red neuronal lo que se hace es actualizar los pesos de cada capa haciendo uso de multiples tecnicas, una de las más comunes es el _Stochastic Gradient Descent_."
   ]
  },
  {
   "cell_type": "markdown",
   "id": "f61b93d2",
   "metadata": {},
   "source": [
    "### Modelo"
   ]
  },
  {
   "cell_type": "markdown",
   "id": "a73517c2",
   "metadata": {},
   "source": [
    "Un modelo en inteligencia artificial es una estructura que agrupa al algoritmo de inteligencia artificial como tal, en este caso las diferentes redes neuronales, estas se entrenan posteriormente en base a un conjunto de datos."
   ]
  },
  {
   "cell_type": "markdown",
   "id": "545126a5",
   "metadata": {},
   "source": [
    "### _Learning Rate_"
   ]
  },
  {
   "cell_type": "markdown",
   "id": "4093ab43",
   "metadata": {},
   "source": [
    "En inteligencia artificial existe un concepto y parámetro general llamado _learning rate_, dicta que tanto van a cambiar los pesos dentro de la cada capa de la red neuronal.\n",
    "\n",
    "Encontrar un _learning rate_ adecuado para un modelo es una tarea compleja debido a que si este es muy pequeño se tiene un aprendizaje mermado y que posiblemente se quede estancado, por lo contrario si se usa un _learning rate_ elevado el entrenamiento será descontrolado y erróneo, una recomendación general es usar valores dentro del rango __(0.0, 0.5]__."
   ]
  },
  {
   "cell_type": "markdown",
   "id": "42dfb2aa",
   "metadata": {},
   "source": [
    "### Derivadas y Regla de la cadena"
   ]
  },
  {
   "cell_type": "markdown",
   "id": "2c77529c",
   "metadata": {},
   "source": [
    "Otra base para crear una IA con redes neuronales son las derivadas y la regla de la cadena\n",
    "\n",
    "Para empezar una capa de una red neuronal se toma como la función ___f(x)___ y cuando vamos a realizar una actualización de la matriz de los pesos se debe realizar la derivada de esa función ___f'(x)___, debido a que por lo general los modelos de inteligencia artificial se componen de redes neuronales con multiples capas llegara el punto en el que tendremos se tendrá una cadena de funciones\n",
    "\n",
    "Por ejemplo.\n",
    "\n",
    "Se tiene una red neuronal de dos capas, la primera ___f(x)___ y la segunda ___g(x)___ debido a que la segunda capa de la red usa los resultados de la primera capa se tiene que el resultado final de la red tiene la forma ___g(f(x))___.\n",
    "Ya que para realizar una actualización de los pesos dentro de la red se tiene que hacer una derivada para obtener un gradiente y multiplicarlo por un _learning rate_ para actualizar los pesos de cada capa se debe hacer estas derivadas, para ello se hace uso de la regla de la cadena.\n",
    "\n",
    "Teniendo \n",
    "$$ f(x) = y  \\\\ f'(x) = \\frac{dy}{dx}$$\n",
    "\n",
    "$$ g(y) = z \\\\ g'(y) = \\frac{dz}{dy}$$\n",
    "\n",
    "_z_ e _y_ son variables dependientes de _x_\n",
    "\n",
    "Para obtener la derivada de _g(y)_ se hace uso de la regla de la cadena que dice:\n",
    "\n",
    "$$\n",
    "g'(y) =  \\frac{dz}{dx} = \\frac{dz}{dy} \\cdot \\frac{dy}{dx} $$\n",
    "\n",
    "Afortunadamente pytorch ya hace todo este proceso automaticamente y es llamado __backpropagation__."
   ]
  },
  {
   "cell_type": "markdown",
   "id": "c3d755fb",
   "metadata": {},
   "source": [
    "### Épocas"
   ]
  },
  {
   "cell_type": "markdown",
   "id": "afd66ed7",
   "metadata": {},
   "source": [
    "Se le llama época a un ciclo de entrenamiento del modelo de inteligencia artificial"
   ]
  },
  {
   "cell_type": "markdown",
   "id": "33923656",
   "metadata": {},
   "source": [
    "### _Loss_"
   ]
  },
  {
   "cell_type": "markdown",
   "id": "dc01cf5f",
   "metadata": {},
   "source": [
    "Teoría aquí que falta"
   ]
  },
  {
   "cell_type": "markdown",
   "id": "514832fc",
   "metadata": {},
   "source": [
    "### Conjunto de Entrenamiento y Validación"
   ]
  },
  {
   "cell_type": "markdown",
   "id": "5f972816",
   "metadata": {},
   "source": [
    "Para entrenar un modelo se necesitan un conjunto de datos de entrenamiento y un conjunto de datos de validación, cuando un modelo se está entrenando usa datos del conjunto de entrenamiento y compara los valores con el conjunto de validación, un modelo está entrenando cuando la perdida disminuye.\n",
    "\n",
    "Por lo general no se quiere un modelo extremadamente preciso en la fase de entrenamiento debido a que es más probable que este no tenga un buen rendimiento fuera de el, cuando esto ocurre se le llama _overfitting_ y el caso contrario cuando se entrena muy poco _underfitting_, para solucionarlo se debe encontrar un equilibrio entre el numero de epocas y también se puede hacer _data augmentation_ en caso de tener pocos datos de entrenamiento, este consiste en randomizar el orden de los datos de entrenamiento, en imágenes se puede hacer _padding_, eliminar canales de color, distorcionar las imagenes o cortalas, entre otras maneras de aumentar artificialmente los datos de entrenamiento."
   ]
  },
  {
   "cell_type": "markdown",
   "id": "a9bcef56",
   "metadata": {},
   "source": [
    "### Optimizer, Data Set y Data Loader"
   ]
  },
  {
   "cell_type": "code",
   "execution_count": 137,
   "id": "e543fefc",
   "metadata": {},
   "outputs": [],
   "source": [
    "class Optimizer():\n",
    "    def __init__(self, params, lr=0.5): \n",
    "        #Hacemos los params list porque puede ser un generator, que recuerda\n",
    "        #que es un iterable\n",
    "        self.params = list(params)\n",
    "        self.lr = lr\n",
    "\n",
    "    def step(self):\n",
    "        with torch.no_grad():\n",
    "            for p in self.params: p -= p.grad * self.lr\n",
    "\n",
    "    def zero_grad(self):\n",
    "        for p in self.params: p.grad.data.zero_()"
   ]
  },
  {
   "cell_type": "code",
   "execution_count": 138,
   "id": "dfadb6be",
   "metadata": {},
   "outputs": [],
   "source": [
    "class Dataset():\n",
    "    def __init__(self, x, y): self.x,self.y = x,y\n",
    "    def __len__(self): return len(self.x)\n",
    "    #El __getitem__ es lo que nos da los valores cuando hacemos por ejemplo \n",
    "    #Dataset[n:m]\n",
    "    def __getitem__(self, i): return self.x[i],self.y[i]"
   ]
  },
  {
   "cell_type": "code",
   "execution_count": 139,
   "id": "b9957ac7",
   "metadata": {},
   "outputs": [],
   "source": [
    "class DataLoaders:\n",
    "    def __init__(self, *dls): self.train,self.valid = dls[:2]\n",
    "\n",
    "    @classmethod\n",
    "    def from_dd(cls, dd, batch_size, as_tuple=True, **kwargs):\n",
    "        f = collate_dict(dd['train'])\n",
    "        return cls(*get_dls(*dd.values(), bs=batch_size, collate_fn=f, **kwargs))"
   ]
  },
  {
   "cell_type": "markdown",
   "id": "58f7ccfb",
   "metadata": {},
   "source": [
    "Una función `collate` se encarga de convertir un conjunto de datos en otro que nos interesa, en este caso tenemos una función `collate_dict`que se encarga de convertir un diccionario en un DataSet de tuplas de la forma `(x , y)`, con `x` siendo los datos de entrenamiento y `y` las labels"
   ]
  },
  {
   "cell_type": "code",
   "execution_count": 140,
   "id": "a8aa1adc",
   "metadata": {},
   "outputs": [],
   "source": [
    "def collate_dict(ds):\n",
    "    get = itemgetter(*ds.features)\n",
    "    def _f(b): return get(default_collate(b))\n",
    "    return _f"
   ]
  },
  {
   "cell_type": "markdown",
   "id": "409a28dc",
   "metadata": {},
   "source": [
    "Definir la accuracy aquí con Ernesto"
   ]
  },
  {
   "cell_type": "code",
   "execution_count": 141,
   "id": "00d78c20",
   "metadata": {},
   "outputs": [],
   "source": [
    "def accuracy(out, yb): return (out.argmax(dim=1)==yb).float().mean()"
   ]
  },
  {
   "cell_type": "code",
   "execution_count": 142,
   "id": "c305ce14",
   "metadata": {},
   "outputs": [],
   "source": [
    "def report(loss, preds, yb): print(f'{loss:.2f}, {accuracy(preds, yb):.2f}')"
   ]
  },
  {
   "cell_type": "code",
   "execution_count": 143,
   "id": "7dfc4ce0",
   "metadata": {},
   "outputs": [],
   "source": [
    "def inplace(f):\n",
    "    def _f(b):\n",
    "        f(b)\n",
    "        return b\n",
    "    return _f"
   ]
  },
  {
   "cell_type": "markdown",
   "id": "0add1eb0",
   "metadata": {},
   "source": [
    "## Función de Entrenamiento"
   ]
  },
  {
   "cell_type": "markdown",
   "id": "4601a6de",
   "metadata": {},
   "source": [
    "Teoría de la fit"
   ]
  },
  {
   "cell_type": "code",
   "execution_count": 144,
   "id": "6c5cd897",
   "metadata": {},
   "outputs": [],
   "source": [
    "def fit(epochs, model, loss_func, opt, train_dl, valid_dl):\n",
    "    for epoch in range(epochs):\n",
    "        model.train()\n",
    "        for xb,yb in train_dl:\n",
    "            loss = loss_func(model(xb), yb)\n",
    "            loss.backward()\n",
    "            opt.step()\n",
    "            opt.zero_grad()\n",
    "\n",
    "        model.eval()\n",
    "        with torch.no_grad():\n",
    "            tot_loss,tot_acc,count = 0.,0.,0\n",
    "            for xb,yb in valid_dl:\n",
    "                pred = model(xb)\n",
    "                n = len(xb)\n",
    "                count += n\n",
    "                tot_loss += loss_func(pred,yb).item()*n\n",
    "                tot_acc  += accuracy (pred,yb).item()*n\n",
    "        print(epoch, tot_loss/count, tot_acc/count)\n",
    "    return tot_loss/count, tot_acc/count"
   ]
  },
  {
   "cell_type": "markdown",
   "id": "b26adbc4",
   "metadata": {},
   "source": [
    "La función `get_dls` se encarga de crear los Data Loaders de los Data Sets que pasamos.\n",
    "\n",
    "* `train_ds`: Data set de entrenamiento.\n",
    "* `valid_ds`: Data set de validación.\n",
    "* `bs`: _Batch size_.\n",
    "* `**kwargs`: Otros argumentos nombrados, como <kbd>shuffle = False</kbd>.\n",
    "* `shuffle = True`: Crea data loaders tomando datos aleatorios del data set, \n",
    "* `shuffle = False`: Crea los data loaders en orden\n",
    "\n",
    "Ejemplo para llamar la función:\n",
    "```\n",
    "DataLoaders = get_dls(train_ds, valid_ds, 256, shuffle = False, collate_fn = collate_dict)\n",
    "```"
   ]
  },
  {
   "cell_type": "code",
   "execution_count": 145,
   "id": "15e55b16",
   "metadata": {},
   "outputs": [],
   "source": [
    "def get_dls(train_ds, valid_ds, bs, **kwargs):\n",
    "    return (DataLoader(train_ds, batch_size=bs, shuffle=True, **kwargs),\n",
    "            DataLoader(valid_ds, batch_size=bs*2, **kwargs))"
   ]
  },
  {
   "cell_type": "raw",
   "id": "d2cc36d9",
   "metadata": {},
   "source": [
    "def conv(ni, nf, ks=3, stride=2, act=True):\n",
    "    res = nn.Conv2d(ni, nf, stride=stride, kernel_size=ks, padding=ks//2)\n",
    "    if act: res = nn.Sequential(res, nn.ReLU())\n",
    "    return res"
   ]
  },
  {
   "cell_type": "markdown",
   "id": "4dd4110a",
   "metadata": {},
   "source": [
    "En esta parte solo definimos unas funciones para envíar los datos al dispositivo\n",
    "\n",
    "* `mps`: Para dispositivos Apple que usen un chip M1 en adelante.\n",
    "* `cuda`: Para dispositivos que tengan tarjetas gráficas compatibles de NVIDIA\n",
    "* `cpu`: En caso de no tener alguno de estos dispositivos lo enviamos a la CPU"
   ]
  },
  {
   "cell_type": "code",
   "execution_count": 146,
   "id": "21d2a8d9",
   "metadata": {},
   "outputs": [],
   "source": [
    "def_device = 'mps' if torch.backends.mps.is_available() else 'cuda' if torch.cuda.is_available() else 'cpu'\n",
    "\n",
    "def to_device(x, device=def_device):\n",
    "    if isinstance(x, torch.Tensor): return x.to(device)\n",
    "    if isinstance(x, Mapping): return {k:v.to(device) for k,v in x.items()}\n",
    "    return type(x)(to_device(o, device) for o in x)\n",
    "\n",
    "def collate_device(b): return to_device(default_collate(b))"
   ]
  },
  {
   "cell_type": "markdown",
   "id": "cc43a478",
   "metadata": {},
   "source": [
    "### Funciones de Impresion de Imágenes"
   ]
  },
  {
   "cell_type": "markdown",
   "id": "893e5009",
   "metadata": {},
   "source": [
    "Las siguientes 3 celdas solo son funciones para mostrar las imágenes, no es necesario prestarles demasiada atención"
   ]
  },
  {
   "cell_type": "code",
   "execution_count": 147,
   "id": "62d2c60b",
   "metadata": {},
   "outputs": [],
   "source": [
    "@fc.delegates(plt.Axes.imshow)\n",
    "def show_image(im, ax=None, figsize=None, title=None, noframe=True, **kwargs):\n",
    "    \"Show a PIL or PyTorch image on `ax`.\"\n",
    "    if fc.hasattrs(im, ('cpu','permute','detach')):\n",
    "        im = im.detach().cpu()\n",
    "        if len(im.shape)==3 and im.shape[0]<5: im=im.permute(1,2,0)\n",
    "    elif not isinstance(im,np.ndarray): im=np.array(im)\n",
    "    if im.shape[-1]==1: im=im[...,0]\n",
    "    if ax is None: _,ax = plt.subplots(figsize=figsize)\n",
    "    ax.imshow(im, **kwargs)\n",
    "    if title is not None: ax.set_title(title)\n",
    "    ax.set_xticks([]) \n",
    "    ax.set_yticks([]) \n",
    "    if noframe: ax.axis('off')\n",
    "    return ax"
   ]
  },
  {
   "cell_type": "code",
   "execution_count": 148,
   "id": "1fa667d6",
   "metadata": {},
   "outputs": [],
   "source": [
    "@fc.delegates(plt.subplots, keep=True)\n",
    "def subplots(\n",
    "    nrows:int=1, # Number of rows in returned axes grid\n",
    "    ncols:int=1, # Number of columns in returned axes grid\n",
    "    figsize:tuple=None, # Width, height in inches of the returned figure\n",
    "    imsize:int=3, # Size (in inches) of images that will be displayed in the returned figure\n",
    "    suptitle:str=None, # Title to be set to returned figure\n",
    "    **kwargs\n",
    "): # fig and axs\n",
    "    \"A figure and set of subplots to display images of `imsize` inches\"\n",
    "    if figsize is None: figsize=(ncols*imsize, nrows*imsize)\n",
    "    fig,ax = plt.subplots(nrows, ncols, figsize=figsize, **kwargs)\n",
    "    if suptitle is not None: fig.suptitle(suptitle)\n",
    "    if nrows*ncols==1: ax = np.array([ax])\n",
    "    return fig,ax"
   ]
  },
  {
   "cell_type": "code",
   "execution_count": 149,
   "id": "2bb2f59a",
   "metadata": {},
   "outputs": [],
   "source": [
    "@fc.delegates(subplots)\n",
    "def get_grid(\n",
    "    n:int, # Number of axes\n",
    "    nrows:int=None, # Number of rows, defaulting to `int(math.sqrt(n))`\n",
    "    ncols:int=None, # Number of columns, defaulting to `ceil(n/rows)`\n",
    "    title:str=None, # If passed, title set to the figure\n",
    "    weight:str='bold', # Title font weight\n",
    "    size:int=14, # Title font size\n",
    "    **kwargs,\n",
    "): # fig and axs\n",
    "    \"Return a grid of `n` axes, `rows` by `cols`\"\n",
    "    if nrows: ncols = ncols or int(np.floor(n/nrows))\n",
    "    elif ncols: nrows = nrows or int(np.ceil(n/ncols))\n",
    "    else:\n",
    "        nrows = int(math.sqrt(n))\n",
    "        ncols = int(np.floor(n/nrows))\n",
    "    fig,axs = subplots(nrows, ncols, **kwargs)\n",
    "    for i in range(n, nrows*ncols): axs.flat[i].set_axis_off()\n",
    "    if title is not None: fig.suptitle(title, weight=weight, size=size)\n",
    "    return fig,axs"
   ]
  },
  {
   "cell_type": "code",
   "execution_count": 150,
   "id": "2d69963f",
   "metadata": {},
   "outputs": [],
   "source": [
    "@fc.delegates(subplots)\n",
    "def show_images(ims:list, # Images to show\n",
    "                nrows:int|None=None, # Number of rows in grid\n",
    "                ncols:int|None=None, # Number of columns in grid (auto-calculated if None)\n",
    "                titles:list|None=None, # Optional list of titles for each image\n",
    "                **kwargs):\n",
    "    \"Show all images `ims` as subplots with `rows` using `titles`\"\n",
    "    axs = get_grid(len(ims), nrows, ncols, **kwargs)[1].flat\n",
    "    for im,t,ax in zip_longest(ims, titles or [], axs): show_image(im, ax=ax, title=t)"
   ]
  },
  {
   "cell_type": "markdown",
   "id": "862b82bd",
   "metadata": {},
   "source": [
    "Configuración adicional para mostrar las imágenes"
   ]
  },
  {
   "cell_type": "code",
   "execution_count": 151,
   "id": "f37e9297",
   "metadata": {},
   "outputs": [],
   "source": [
    "torch.set_printoptions(precision=2, linewidth=140, sci_mode=False)\n",
    "torch.manual_seed(1)\n",
    "mpl.rcParams['image.cmap'] = 'gray'\n",
    "mpl.rcParams['figure.dpi'] = 70"
   ]
  },
  {
   "cell_type": "markdown",
   "id": "86ebbc4d",
   "metadata": {},
   "source": [
    "## Presentación de los Datos"
   ]
  },
  {
   "cell_type": "markdown",
   "id": "2670f19b",
   "metadata": {},
   "source": [
    "Vamos a tomar los datos de **Fashion Mnist**, es un conjunto de datos que consiste en 60.000 ejemplar de entrenamiento y 10.000 ejemplar de validación, cada ejemplar consiste en una imagen de 28x28 pixeles en escala de grises además de una etiqueta correspondiente."
   ]
  },
  {
   "cell_type": "code",
   "execution_count": 152,
   "id": "8cde1d4d",
   "metadata": {},
   "outputs": [
    {
     "name": "stdout",
     "output_type": "stream",
     "text": [
      "Fashion-MNIST is a dataset of Zalando's article images—consisting of a training set of\n",
      "60,000 examples and a test set of 10,000 examples. Each example is a 28x28 grayscale image,\n",
      "associated with a label from 10 classes. We intend Fashion-MNIST to serve as a direct drop-in\n",
      "replacement for the original MNIST dataset for benchmarking machine learning algorithms.\n",
      "It shares the same image size and structure of training and testing splits.\n",
      "\n"
     ]
    }
   ],
   "source": [
    "name = \"fashion_mnist\"\n",
    "ds_builder = load_dataset_builder(name, trust_remote_code=True)\n",
    "print(ds_builder.info.description)"
   ]
  },
  {
   "cell_type": "markdown",
   "id": "0d9a48bd",
   "metadata": {},
   "source": [
    "Con `ds_builder.info.features` podemos ver las caracteríticas de los datos."
   ]
  },
  {
   "cell_type": "code",
   "execution_count": 153,
   "id": "122de261",
   "metadata": {
    "scrolled": true
   },
   "outputs": [
    {
     "data": {
      "text/plain": [
       "{'image': Image(mode=None, decode=True, id=None),\n",
       " 'label': ClassLabel(names=['T - shirt / top', 'Trouser', 'Pullover', 'Dress', 'Coat', 'Sandal', 'Shirt', 'Sneaker', 'Bag', 'Ankle boot'], id=None)}"
      ]
     },
     "execution_count": 153,
     "metadata": {},
     "output_type": "execute_result"
    }
   ],
   "source": [
    "ds_builder.info.features"
   ]
  },
  {
   "cell_type": "markdown",
   "id": "8af7f508",
   "metadata": {},
   "source": [
    "Con `ds_builder.info.splits` podemos ver como están separados los datos."
   ]
  },
  {
   "cell_type": "code",
   "execution_count": 154,
   "id": "5bcf927a",
   "metadata": {},
   "outputs": [
    {
     "data": {
      "text/plain": [
       "{'train': SplitInfo(name='train', num_bytes=31296607, num_examples=60000, shard_lengths=None, dataset_name='fashion_mnist'),\n",
       " 'test': SplitInfo(name='test', num_bytes=5233810, num_examples=10000, shard_lengths=None, dataset_name='fashion_mnist')}"
      ]
     },
     "execution_count": 154,
     "metadata": {},
     "output_type": "execute_result"
    }
   ],
   "source": [
    "ds_builder.info.splits"
   ]
  },
  {
   "cell_type": "code",
   "execution_count": 155,
   "id": "e3bd38a9",
   "metadata": {},
   "outputs": [],
   "source": [
    "x,y = 'image','label'\n",
    "dsd = load_dataset(name, trust_remote_code=True)"
   ]
  },
  {
   "cell_type": "markdown",
   "id": "ee8cef86",
   "metadata": {},
   "source": [
    "Tengo algo de dudas con el inplace, preguntar a erneston\n",
    "\n",
    "Esta función simplemente se encarga de transformar los datos en tensores"
   ]
  },
  {
   "cell_type": "code",
   "execution_count": 156,
   "id": "e6b32b13",
   "metadata": {},
   "outputs": [],
   "source": [
    "@inplace\n",
    "def transformi(b): b[x] = [TF.to_tensor(o) for o in b[x]]"
   ]
  },
  {
   "cell_type": "code",
   "execution_count": 157,
   "id": "72e01ef7",
   "metadata": {},
   "outputs": [],
   "source": [
    "batch_size = 256\n",
    "transformed_dataset = dsd.with_transform(transformi)"
   ]
  },
  {
   "cell_type": "code",
   "execution_count": 158,
   "id": "20f68855",
   "metadata": {},
   "outputs": [
    {
     "data": {
      "text/plain": [
       "DatasetDict({\n",
       "    train: Dataset({\n",
       "        features: ['image', 'label'],\n",
       "        num_rows: 60000\n",
       "    })\n",
       "    test: Dataset({\n",
       "        features: ['image', 'label'],\n",
       "        num_rows: 10000\n",
       "    })\n",
       "})"
      ]
     },
     "execution_count": 158,
     "metadata": {},
     "output_type": "execute_result"
    }
   ],
   "source": [
    "transformed_dataset"
   ]
  },
  {
   "cell_type": "code",
   "execution_count": 159,
   "id": "12d1b32e",
   "metadata": {},
   "outputs": [
    {
     "data": {
      "text/plain": [
       "Dataset({\n",
       "    features: ['image', 'label'],\n",
       "    num_rows: 60000\n",
       "})"
      ]
     },
     "execution_count": 159,
     "metadata": {},
     "output_type": "execute_result"
    }
   ],
   "source": [
    "transformed_dataset['train']"
   ]
  },
  {
   "cell_type": "markdown",
   "id": "f01f0918",
   "metadata": {},
   "source": [
    "Aquí podemos ver la primera imagen del Dataset de entrenamiento."
   ]
  },
  {
   "cell_type": "code",
   "execution_count": 160,
   "id": "060638ab",
   "metadata": {},
   "outputs": [
    {
     "data": {
      "image/png": "[encoded data removed]",
      "text/plain": [
       "<Figure size 70x70 with 1 Axes>"
      ]
     },
     "metadata": {},
     "output_type": "display_data"
    }
   ],
   "source": [
    "ds = transformed_dataset['train']\n",
    "img = ds[0]['image']\n",
    "show_image(img, figsize=(1,1));"
   ]
  },
  {
   "cell_type": "code",
   "execution_count": 161,
   "id": "e84e4bb6",
   "metadata": {},
   "outputs": [],
   "source": [
    "collate_function = collate_dict(ds)"
   ]
  },
  {
   "cell_type": "markdown",
   "id": "ddc9ef0c",
   "metadata": {},
   "source": [
    "Aquí definimos una función para crear los data loaders en nuestro caso"
   ]
  },
  {
   "cell_type": "code",
   "execution_count": 162,
   "id": "831feeb9",
   "metadata": {},
   "outputs": [],
   "source": [
    "def collate_(b): return to_device(collate_function(b))\n",
    "def data_loaders(dsd, bs, **kwargs): return {k:DataLoader(v, bs, **kwargs) for k,v in dsd.items()}"
   ]
  },
  {
   "cell_type": "code",
   "execution_count": 163,
   "id": "3e772860",
   "metadata": {},
   "outputs": [],
   "source": [
    "dls = data_loaders(transformed_dataset, batch_size, collate_fn = collate_)"
   ]
  },
  {
   "cell_type": "code",
   "execution_count": 164,
   "id": "979ec730",
   "metadata": {},
   "outputs": [
    {
     "data": {
      "text/plain": [
       "{'train': <torch.utils.data.dataloader.DataLoader at 0x258493c8b50>,\n",
       " 'test': <torch.utils.data.dataloader.DataLoader at 0x25849397e90>}"
      ]
     },
     "execution_count": 164,
     "metadata": {},
     "output_type": "execute_result"
    }
   ],
   "source": [
    "dls"
   ]
  },
  {
   "cell_type": "markdown",
   "id": "99f788a8",
   "metadata": {},
   "source": [
    "- `dt`: Data Loader Training\n",
    "- `dv`: data Loader Validation"
   ]
  },
  {
   "cell_type": "code",
   "execution_count": 165,
   "id": "be1623e6",
   "metadata": {},
   "outputs": [],
   "source": [
    "dt = dls['train']\n",
    "dv = dls['test']"
   ]
  },
  {
   "cell_type": "code",
   "execution_count": 166,
   "id": "f4067c24",
   "metadata": {},
   "outputs": [],
   "source": [
    "x_batch, y_batch = next(iter(dt))"
   ]
  },
  {
   "cell_type": "markdown",
   "id": "8c38e5c7",
   "metadata": {},
   "source": [
    "Aquí podemos ver que el `x_batch` consiste de 256 imágenes de 28x28."
   ]
  },
  {
   "cell_type": "code",
   "execution_count": 167,
   "id": "716293e0",
   "metadata": {},
   "outputs": [
    {
     "data": {
      "text/plain": [
       "torch.Size([256, 1, 28, 28])"
      ]
     },
     "execution_count": 167,
     "metadata": {},
     "output_type": "execute_result"
    }
   ],
   "source": [
    "x_batch.shape"
   ]
  },
  {
   "cell_type": "markdown",
   "id": "a5a4db0b",
   "metadata": {},
   "source": [
    "Y aquí podemos ver que `y_batch` simplemente tiene las 256 etiquetas"
   ]
  },
  {
   "cell_type": "code",
   "execution_count": 168,
   "id": "5c186676",
   "metadata": {},
   "outputs": [
    {
     "data": {
      "text/plain": [
       "torch.Size([256])"
      ]
     },
     "execution_count": 168,
     "metadata": {},
     "output_type": "execute_result"
    }
   ],
   "source": [
    "y_batch.shape"
   ]
  },
  {
   "cell_type": "code",
   "execution_count": 169,
   "id": "4f06a45d",
   "metadata": {},
   "outputs": [
    {
     "data": {
      "text/plain": [
       "tensor(0, device='cuda:0')"
      ]
     },
     "execution_count": 169,
     "metadata": {},
     "output_type": "execute_result"
    }
   ],
   "source": [
    "y_batch[1]"
   ]
  },
  {
   "cell_type": "code",
   "execution_count": 170,
   "id": "bd65900d",
   "metadata": {
    "scrolled": true
   },
   "outputs": [
    {
     "data": {
      "text/plain": [
       "tensor([[[[0., 0., 0.,  ..., 0., 0., 0.],\n",
       "          [0., 0., 0.,  ..., 0., 0., 0.],\n",
       "          [0., 0., 0.,  ..., 0., 0., 0.],\n",
       "          ...,\n",
       "          [0., 0., 0.,  ..., 0., 0., 0.],\n",
       "          [0., 0., 0.,  ..., 0., 0., 0.],\n",
       "          [0., 0., 0.,  ..., 0., 0., 0.]]],\n",
       "\n",
       "\n",
       "        [[[0., 0., 0.,  ..., 0., 0., 0.],\n",
       "          [0., 0., 0.,  ..., 0., 0., 0.],\n",
       "          [0., 0., 0.,  ..., 0., 0., 0.],\n",
       "          ...,\n",
       "          [0., 0., 0.,  ..., 0., 0., 0.],\n",
       "          [0., 0., 0.,  ..., 0., 0., 0.],\n",
       "          [0., 0., 0.,  ..., 0., 0., 0.]]],\n",
       "\n",
       "\n",
       "        [[[0., 0., 0.,  ..., 0., 0., 0.],\n",
       "          [0., 0., 0.,  ..., 0., 0., 0.],\n",
       "          [0., 0., 0.,  ..., 0., 0., 0.],\n",
       "          ...,\n",
       "          [0., 0., 0.,  ..., 0., 0., 0.],\n",
       "          [0., 0., 0.,  ..., 0., 0., 0.],\n",
       "          [0., 0., 0.,  ..., 0., 0., 0.]]],\n",
       "\n",
       "\n",
       "        ...,\n",
       "\n",
       "\n",
       "        [[[0., 0., 0.,  ..., 0., 0., 0.],\n",
       "          [0., 0., 0.,  ..., 0., 0., 0.],\n",
       "          [0., 0., 0.,  ..., 0., 0., 0.],\n",
       "          ...,\n",
       "          [0., 0., 0.,  ..., 0., 0., 0.],\n",
       "          [0., 0., 0.,  ..., 0., 0., 0.],\n",
       "          [0., 0., 0.,  ..., 0., 0., 0.]]],\n",
       "\n",
       "\n",
       "        [[[0., 0., 0.,  ..., 0., 0., 0.],\n",
       "          [0., 0., 0.,  ..., 0., 0., 0.],\n",
       "          [0., 0., 0.,  ..., 0., 0., 0.],\n",
       "          ...,\n",
       "          [0., 0., 0.,  ..., 0., 0., 0.],\n",
       "          [0., 0., 0.,  ..., 0., 0., 0.],\n",
       "          [0., 0., 0.,  ..., 0., 0., 0.]]],\n",
       "\n",
       "\n",
       "        [[[0., 0., 0.,  ..., 0., 0., 0.],\n",
       "          [0., 0., 0.,  ..., 0., 0., 0.],\n",
       "          [0., 0., 0.,  ..., 0., 0., 0.],\n",
       "          ...,\n",
       "          [0., 0., 0.,  ..., 0., 0., 0.],\n",
       "          [0., 0., 0.,  ..., 0., 0., 0.],\n",
       "          [0., 0., 0.,  ..., 0., 0., 0.]]]], device='cuda:0')"
      ]
     },
     "execution_count": 170,
     "metadata": {},
     "output_type": "execute_result"
    }
   ],
   "source": [
    "x_batch"
   ]
  },
  {
   "cell_type": "code",
   "execution_count": 171,
   "id": "8a5a3308",
   "metadata": {
    "scrolled": false
   },
   "outputs": [
    {
     "data": {
      "text/plain": [
       "tensor([9, 0, 0, 3, 0, 2, 7, 2, 5, 5, 0, 9, 5, 5, 7, 9, 1, 0, 6, 4, 3, 1, 4, 8, 4, 3, 0, 2, 4, 4, 5, 3, 6, 6, 0, 8, 5, 2, 1, 6, 6, 7, 9, 5,\n",
       "        9, 2, 7, 3, 0, 3, 3, 3, 7, 2, 2, 6, 6, 8, 3, 3, 5, 0, 5, 5, 0, 2, 0, 0, 4, 1, 3, 1, 6, 3, 1, 4, 4, 6, 1, 9, 1, 3, 5, 7, 9, 7, 1, 7,\n",
       "        9, 9, 9, 3, 2, 9, 3, 6, 4, 1, 1, 8, 8, 0, 1, 1, 6, 8, 1, 9, 7, 8, 8, 9, 6, 6, 3, 1, 5, 4, 6, 7, 5, 5, 9, 2, 2, 2, 7, 6, 4, 1, 8, 7,\n",
       "        7, 5, 4, 2, 9, 1, 7, 4, 6, 9, 7, 1, 8, 7, 1, 2, 8, 0, 9, 1, 8, 7, 0, 5, 8, 6, 7, 2, 0, 8, 7, 1, 6, 2, 1, 9, 6, 0, 1, 0, 5, 5, 1, 7,\n",
       "        0, 5, 8, 4, 0, 4, 0, 6, 6, 4, 0, 0, 4, 7, 3, 0, 5, 8, 4, 1, 1, 2, 9, 2, 8, 5, 0, 6, 3, 4, 6, 0, 9, 1, 7, 3, 8, 5, 8, 3, 8, 5, 2, 0,\n",
       "        8, 7, 0, 3, 5, 0, 6, 5, 2, 7, 5, 2, 6, 8, 2, 6, 8, 0, 4, 4, 4, 4, 4, 1, 5, 6, 5, 3, 3, 7, 3, 3, 6, 2, 8, 4], device='cuda:0')"
      ]
     },
     "execution_count": 171,
     "metadata": {},
     "output_type": "execute_result"
    }
   ],
   "source": [
    "y_batch"
   ]
  },
  {
   "cell_type": "code",
   "execution_count": 172,
   "id": "1cfee4f1",
   "metadata": {},
   "outputs": [],
   "source": [
    "labels = ds.features[y].names"
   ]
  },
  {
   "cell_type": "code",
   "execution_count": 173,
   "id": "2c0823a3",
   "metadata": {},
   "outputs": [
    {
     "data": {
      "text/plain": [
       "['T - shirt / top',\n",
       " 'Trouser',\n",
       " 'Pullover',\n",
       " 'Dress',\n",
       " 'Coat',\n",
       " 'Sandal',\n",
       " 'Shirt',\n",
       " 'Sneaker',\n",
       " 'Bag',\n",
       " 'Ankle boot']"
      ]
     },
     "execution_count": 173,
     "metadata": {},
     "output_type": "execute_result"
    }
   ],
   "source": [
    "labels"
   ]
  },
  {
   "cell_type": "code",
   "execution_count": 174,
   "id": "6cd92f5e",
   "metadata": {},
   "outputs": [],
   "source": [
    "label_getter = itemgetter(*y_batch[:16])\n",
    "titles = label_getter(labels)"
   ]
  },
  {
   "cell_type": "code",
   "execution_count": 175,
   "id": "210821eb",
   "metadata": {},
   "outputs": [
    {
     "data": {
      "image/png": "[encoded data removed]",
      "text/plain": [
       "<Figure size 476x476 with 16 Axes>"
      ]
     },
     "metadata": {},
     "output_type": "display_data"
    }
   ],
   "source": [
    "show_images(x_batch[:16], imsize=1.7, titles=titles)"
   ]
  },
  {
   "cell_type": "markdown",
   "id": "3826da7c",
   "metadata": {},
   "source": [
    "## Convolutional Neural Network"
   ]
  },
  {
   "cell_type": "code",
   "execution_count": 176,
   "id": "6eaddd69",
   "metadata": {},
   "outputs": [],
   "source": [
    "MNIST_URL='https://github.com/mnielsen/neural-networks-and-deep-learning/blob/master/data/mnist.pkl.gz?raw=true'\n",
    "path_data = Path('data')\n",
    "#El mdkir crea un directorio,] exist_ok=True es para que no de error cuando vea que el directorio ya existe previamente\n",
    "path_data.mkdir(exist_ok=True)\n",
    "path_gz = path_data/'mnist.pkl.gz'"
   ]
  },
  {
   "cell_type": "code",
   "execution_count": 177,
   "id": "764a4112",
   "metadata": {},
   "outputs": [],
   "source": [
    "from urllib.request import urlopen\n",
    "from shutil import copyfileobj\n",
    "\n",
    "with urlopen(MNIST_URL) as in_stream, open(path_gz, 'wb') as out_file:\n",
    "    copyfileobj(in_stream, out_file)\n",
    "#destructuring\n",
    "with gzip.open(path_gz, 'rb') as f: ((x_train, y_train), (x_valid, y_valid), _) = pickle.load(f, encoding='latin-1')\n",
    "x_train, y_train, x_valid, y_valid = map(torch.tensor, [x_train, y_train, x_valid, y_valid])"
   ]
  },
  {
   "cell_type": "markdown",
   "id": "fcceeb3b",
   "metadata": {},
   "source": [
    "## Teoría Aquí"
   ]
  },
  {
   "cell_type": "markdown",
   "id": "3490d58e",
   "metadata": {},
   "source": [
    "### Understanding the Convolution Equations"
   ]
  },
  {
   "cell_type": "markdown",
   "id": "7648c60f",
   "metadata": {},
   "source": [
    "Vamos a tomar una imagen de nuestro training data y una imagen de nuestro validation data"
   ]
  },
  {
   "cell_type": "code",
   "execution_count": 178,
   "id": "1f0ab680",
   "metadata": {},
   "outputs": [],
   "source": [
    "x_imgs = x_train.view(-1,28,28)\n",
    "xv_imgs = x_valid.view(-1,28,28)"
   ]
  },
  {
   "cell_type": "code",
   "execution_count": 179,
   "id": "130d8651",
   "metadata": {},
   "outputs": [
    {
     "data": {
      "image/png": "[encoded data removed]",
      "text/plain": [
       "<Figure size 448x336 with 1 Axes>"
      ]
     },
     "metadata": {},
     "output_type": "display_data"
    }
   ],
   "source": [
    "im3 = x_imgs[7]\n",
    "show_image(im3);"
   ]
  },
  {
   "cell_type": "code",
   "execution_count": 180,
   "id": "793a31c2",
   "metadata": {},
   "outputs": [],
   "source": [
    "top_edge = torch.tensor([[-1,-1,-1],\n",
    "                   [ 0, 0, 0],\n",
    "                   [ 1, 1, 1]]).float()"
   ]
  },
  {
   "cell_type": "code",
   "execution_count": 181,
   "id": "f7b9bd5a",
   "metadata": {},
   "outputs": [
    {
     "data": {
      "image/png": "[encoded data removed]",
      "text/plain": [
       "<Figure size 448x336 with 1 Axes>"
      ]
     },
     "metadata": {},
     "output_type": "display_data"
    }
   ],
   "source": [
    "show_image(top_edge, noframe=False);"
   ]
  },
  {
   "cell_type": "markdown",
   "id": "80649a3d",
   "metadata": {},
   "source": [
    "The filter will take any window of size 3×3 in our images, and if we name the pixel values like this:\n",
    "\n",
    "$$\\begin{matrix} a1 & a2 & a3 \\\\ a4 & a5 & a6 \\\\ a7 & a8 & a9 \\end{matrix}$$\n",
    "\n",
    "it will return $-a1-a2-a3+a7+a8+a9$."
   ]
  },
  {
   "cell_type": "markdown",
   "id": "5f66dbf8",
   "metadata": {},
   "source": [
    "Aquí estamos viendo la imagen que sacamos de nuestros datos y en especifico estamos mirando las `primeras 13 filas` y las `primeras 23 columnas`"
   ]
  },
  {
   "cell_type": "code",
   "execution_count": 182,
   "id": "6b55d253",
   "metadata": {},
   "outputs": [
    {
     "data": {
      "text/html": [
       "<style type=\"text/css\">\n",
       "#T_f21b6_row0_col0, #T_f21b6_row0_col1, #T_f21b6_row0_col2, #T_f21b6_row0_col3, #T_f21b6_row0_col4, #T_f21b6_row0_col5, #T_f21b6_row0_col6, #T_f21b6_row0_col7, #T_f21b6_row0_col8, #T_f21b6_row0_col9, #T_f21b6_row0_col10, #T_f21b6_row0_col11, #T_f21b6_row0_col12, #T_f21b6_row0_col13, #T_f21b6_row0_col14, #T_f21b6_row0_col15, #T_f21b6_row0_col16, #T_f21b6_row0_col17, #T_f21b6_row0_col18, #T_f21b6_row0_col19, #T_f21b6_row0_col20, #T_f21b6_row0_col21, #T_f21b6_row0_col22, #T_f21b6_row1_col0, #T_f21b6_row1_col1, #T_f21b6_row1_col2, #T_f21b6_row1_col3, #T_f21b6_row1_col4, #T_f21b6_row1_col5, #T_f21b6_row1_col6, #T_f21b6_row1_col7, #T_f21b6_row1_col8, #T_f21b6_row1_col9, #T_f21b6_row1_col10, #T_f21b6_row1_col11, #T_f21b6_row1_col12, #T_f21b6_row1_col13, #T_f21b6_row1_col14, #T_f21b6_row1_col15, #T_f21b6_row1_col16, #T_f21b6_row1_col17, #T_f21b6_row1_col18, #T_f21b6_row1_col19, #T_f21b6_row1_col20, #T_f21b6_row1_col21, #T_f21b6_row1_col22, #T_f21b6_row2_col0, #T_f21b6_row2_col1, #T_f21b6_row2_col2, #T_f21b6_row2_col3, #T_f21b6_row2_col4, #T_f21b6_row2_col5, #T_f21b6_row2_col6, #T_f21b6_row2_col7, #T_f21b6_row2_col8, #T_f21b6_row2_col9, #T_f21b6_row2_col10, #T_f21b6_row2_col11, #T_f21b6_row2_col12, #T_f21b6_row2_col13, #T_f21b6_row2_col14, #T_f21b6_row2_col15, #T_f21b6_row2_col16, #T_f21b6_row2_col17, #T_f21b6_row2_col18, #T_f21b6_row2_col19, #T_f21b6_row2_col20, #T_f21b6_row2_col21, #T_f21b6_row2_col22, #T_f21b6_row3_col0, #T_f21b6_row3_col1, #T_f21b6_row3_col2, #T_f21b6_row3_col3, #T_f21b6_row3_col4, #T_f21b6_row3_col5, #T_f21b6_row3_col6, #T_f21b6_row3_col7, #T_f21b6_row3_col8, #T_f21b6_row3_col9, #T_f21b6_row3_col10, #T_f21b6_row3_col11, #T_f21b6_row3_col12, #T_f21b6_row3_col13, #T_f21b6_row3_col14, #T_f21b6_row3_col15, #T_f21b6_row3_col16, #T_f21b6_row3_col17, #T_f21b6_row3_col18, #T_f21b6_row3_col19, #T_f21b6_row3_col20, #T_f21b6_row3_col21, #T_f21b6_row3_col22, #T_f21b6_row4_col0, #T_f21b6_row4_col1, #T_f21b6_row4_col2, #T_f21b6_row4_col3, #T_f21b6_row4_col4, #T_f21b6_row4_col5, #T_f21b6_row4_col6, #T_f21b6_row4_col7, #T_f21b6_row4_col8, #T_f21b6_row4_col9, #T_f21b6_row4_col10, #T_f21b6_row4_col11, #T_f21b6_row4_col12, #T_f21b6_row4_col13, #T_f21b6_row4_col14, #T_f21b6_row4_col15, #T_f21b6_row4_col16, #T_f21b6_row4_col17, #T_f21b6_row4_col18, #T_f21b6_row4_col19, #T_f21b6_row4_col20, #T_f21b6_row4_col21, #T_f21b6_row4_col22, #T_f21b6_row5_col0, #T_f21b6_row5_col1, #T_f21b6_row5_col2, #T_f21b6_row5_col3, #T_f21b6_row5_col4, #T_f21b6_row5_col5, #T_f21b6_row5_col6, #T_f21b6_row5_col7, #T_f21b6_row5_col8, #T_f21b6_row5_col9, #T_f21b6_row5_col10, #T_f21b6_row5_col22, #T_f21b6_row6_col0, #T_f21b6_row6_col1, #T_f21b6_row6_col2, #T_f21b6_row6_col3, #T_f21b6_row6_col4, #T_f21b6_row6_col5, #T_f21b6_row6_col6, #T_f21b6_row6_col7, #T_f21b6_row6_col8, #T_f21b6_row7_col0, #T_f21b6_row7_col1, #T_f21b6_row7_col2, #T_f21b6_row7_col3, #T_f21b6_row7_col4, #T_f21b6_row7_col5, #T_f21b6_row7_col6, #T_f21b6_row7_col7, #T_f21b6_row7_col8, #T_f21b6_row8_col0, #T_f21b6_row8_col1, #T_f21b6_row8_col2, #T_f21b6_row8_col3, #T_f21b6_row8_col4, #T_f21b6_row8_col5, #T_f21b6_row8_col6, #T_f21b6_row8_col7, #T_f21b6_row8_col8, #T_f21b6_row9_col0, #T_f21b6_row9_col1, #T_f21b6_row9_col2, #T_f21b6_row9_col3, #T_f21b6_row9_col4, #T_f21b6_row9_col5, #T_f21b6_row9_col6, #T_f21b6_row9_col7, #T_f21b6_row9_col8, #T_f21b6_row9_col13, #T_f21b6_row9_col14, #T_f21b6_row9_col15, #T_f21b6_row9_col16, #T_f21b6_row10_col0, #T_f21b6_row10_col1, #T_f21b6_row10_col2, #T_f21b6_row10_col3, #T_f21b6_row10_col4, #T_f21b6_row10_col5, #T_f21b6_row10_col6, #T_f21b6_row10_col7, #T_f21b6_row10_col8, #T_f21b6_row10_col9, #T_f21b6_row10_col10, #T_f21b6_row10_col11, #T_f21b6_row10_col12, #T_f21b6_row10_col13, #T_f21b6_row10_col14, #T_f21b6_row10_col15, #T_f21b6_row10_col16, #T_f21b6_row10_col22, #T_f21b6_row11_col0, #T_f21b6_row11_col1, #T_f21b6_row11_col2, #T_f21b6_row11_col3, #T_f21b6_row11_col4, #T_f21b6_row11_col5, #T_f21b6_row11_col6, #T_f21b6_row11_col7, #T_f21b6_row11_col8, #T_f21b6_row11_col9, #T_f21b6_row11_col10, #T_f21b6_row11_col11, #T_f21b6_row11_col12, #T_f21b6_row11_col13, #T_f21b6_row11_col14, #T_f21b6_row11_col15, #T_f21b6_row11_col22, #T_f21b6_row12_col0, #T_f21b6_row12_col1, #T_f21b6_row12_col2, #T_f21b6_row12_col3, #T_f21b6_row12_col4, #T_f21b6_row12_col5, #T_f21b6_row12_col6, #T_f21b6_row12_col7, #T_f21b6_row12_col8, #T_f21b6_row12_col9, #T_f21b6_row12_col10, #T_f21b6_row12_col11, #T_f21b6_row12_col12, #T_f21b6_row12_col13, #T_f21b6_row12_col22 {\n",
       "  font-size: 7pt;\n",
       "  background-color: #ffffff;\n",
       "  color: #000000;\n",
       "}\n",
       "#T_f21b6_row5_col11 {\n",
       "  font-size: 7pt;\n",
       "  background-color: #ececec;\n",
       "  color: #000000;\n",
       "}\n",
       "#T_f21b6_row5_col12 {\n",
       "  font-size: 7pt;\n",
       "  background-color: #e8e8e8;\n",
       "  color: #000000;\n",
       "}\n",
       "#T_f21b6_row5_col13 {\n",
       "  font-size: 7pt;\n",
       "  background-color: #b0b0b0;\n",
       "  color: #000000;\n",
       "}\n",
       "#T_f21b6_row5_col14, #T_f21b6_row5_col15, #T_f21b6_row5_col16, #T_f21b6_row5_col17, #T_f21b6_row5_col18, #T_f21b6_row5_col19, #T_f21b6_row6_col13, #T_f21b6_row6_col20, #T_f21b6_row7_col9, #T_f21b6_row7_col10, #T_f21b6_row7_col11, #T_f21b6_row7_col12, #T_f21b6_row7_col13, #T_f21b6_row7_col20, #T_f21b6_row7_col21, #T_f21b6_row7_col22, #T_f21b6_row8_col10, #T_f21b6_row8_col11, #T_f21b6_row8_col20, #T_f21b6_row8_col21, #T_f21b6_row8_col22, #T_f21b6_row9_col20, #T_f21b6_row10_col20, #T_f21b6_row11_col20 {\n",
       "  font-size: 7pt;\n",
       "  background-color: #000000;\n",
       "  color: #f1f1f1;\n",
       "}\n",
       "#T_f21b6_row5_col20 {\n",
       "  font-size: 7pt;\n",
       "  background-color: #626262;\n",
       "  color: #f1f1f1;\n",
       "}\n",
       "#T_f21b6_row5_col21 {\n",
       "  font-size: 7pt;\n",
       "  background-color: #fcfcfc;\n",
       "  color: #000000;\n",
       "}\n",
       "#T_f21b6_row6_col9 {\n",
       "  font-size: 7pt;\n",
       "  background-color: #dbdbdb;\n",
       "  color: #000000;\n",
       "}\n",
       "#T_f21b6_row6_col10 {\n",
       "  font-size: 7pt;\n",
       "  background-color: #878787;\n",
       "  color: #f1f1f1;\n",
       "}\n",
       "#T_f21b6_row6_col11 {\n",
       "  font-size: 7pt;\n",
       "  background-color: #212121;\n",
       "  color: #f1f1f1;\n",
       "}\n",
       "#T_f21b6_row6_col12 {\n",
       "  font-size: 7pt;\n",
       "  background-color: #1e1e1e;\n",
       "  color: #f1f1f1;\n",
       "}\n",
       "#T_f21b6_row6_col14, #T_f21b6_row7_col14 {\n",
       "  font-size: 7pt;\n",
       "  background-color: #020202;\n",
       "  color: #f1f1f1;\n",
       "}\n",
       "#T_f21b6_row6_col15, #T_f21b6_row6_col16, #T_f21b6_row6_col17, #T_f21b6_row6_col18, #T_f21b6_row6_col19, #T_f21b6_row7_col15, #T_f21b6_row7_col16, #T_f21b6_row7_col17, #T_f21b6_row7_col18, #T_f21b6_row7_col19, #T_f21b6_row8_col18, #T_f21b6_row8_col19, #T_f21b6_row9_col19, #T_f21b6_row10_col19, #T_f21b6_row11_col18, #T_f21b6_row11_col19, #T_f21b6_row12_col17, #T_f21b6_row12_col18, #T_f21b6_row12_col19 {\n",
       "  font-size: 7pt;\n",
       "  background-color: #010101;\n",
       "  color: #f1f1f1;\n",
       "}\n",
       "#T_f21b6_row6_col21 {\n",
       "  font-size: 7pt;\n",
       "  background-color: #727272;\n",
       "  color: #f1f1f1;\n",
       "}\n",
       "#T_f21b6_row6_col22 {\n",
       "  font-size: 7pt;\n",
       "  background-color: #dcdcdc;\n",
       "  color: #000000;\n",
       "}\n",
       "#T_f21b6_row8_col9 {\n",
       "  font-size: 7pt;\n",
       "  background-color: #777777;\n",
       "  color: #f1f1f1;\n",
       "}\n",
       "#T_f21b6_row8_col12 {\n",
       "  font-size: 7pt;\n",
       "  background-color: #1a1a1a;\n",
       "  color: #f1f1f1;\n",
       "}\n",
       "#T_f21b6_row8_col13 {\n",
       "  font-size: 7pt;\n",
       "  background-color: #8f8f8f;\n",
       "  color: #f1f1f1;\n",
       "}\n",
       "#T_f21b6_row8_col14, #T_f21b6_row8_col15, #T_f21b6_row8_col16 {\n",
       "  font-size: 7pt;\n",
       "  background-color: #909090;\n",
       "  color: #f1f1f1;\n",
       "}\n",
       "#T_f21b6_row8_col17, #T_f21b6_row11_col17 {\n",
       "  font-size: 7pt;\n",
       "  background-color: #525252;\n",
       "  color: #f1f1f1;\n",
       "}\n",
       "#T_f21b6_row9_col9 {\n",
       "  font-size: 7pt;\n",
       "  background-color: #fdfdfd;\n",
       "  color: #000000;\n",
       "}\n",
       "#T_f21b6_row9_col10, #T_f21b6_row9_col11, #T_f21b6_row9_col22 {\n",
       "  font-size: 7pt;\n",
       "  background-color: #f1f1f1;\n",
       "  color: #000000;\n",
       "}\n",
       "#T_f21b6_row9_col12 {\n",
       "  font-size: 7pt;\n",
       "  background-color: #f4f4f4;\n",
       "  color: #000000;\n",
       "}\n",
       "#T_f21b6_row9_col17, #T_f21b6_row11_col21 {\n",
       "  font-size: 7pt;\n",
       "  background-color: #f8f8f8;\n",
       "  color: #000000;\n",
       "}\n",
       "#T_f21b6_row9_col18 {\n",
       "  font-size: 7pt;\n",
       "  background-color: #1f1f1f;\n",
       "  color: #f1f1f1;\n",
       "}\n",
       "#T_f21b6_row9_col21 {\n",
       "  font-size: 7pt;\n",
       "  background-color: #646464;\n",
       "  color: #f1f1f1;\n",
       "}\n",
       "#T_f21b6_row10_col17 {\n",
       "  font-size: 7pt;\n",
       "  background-color: #c5c5c5;\n",
       "  color: #000000;\n",
       "}\n",
       "#T_f21b6_row10_col18 {\n",
       "  font-size: 7pt;\n",
       "  background-color: #0c0c0c;\n",
       "  color: #f1f1f1;\n",
       "}\n",
       "#T_f21b6_row10_col21 {\n",
       "  font-size: 7pt;\n",
       "  background-color: #828282;\n",
       "  color: #f1f1f1;\n",
       "}\n",
       "#T_f21b6_row11_col16 {\n",
       "  font-size: 7pt;\n",
       "  background-color: #c3c3c3;\n",
       "  color: #000000;\n",
       "}\n",
       "#T_f21b6_row12_col14 {\n",
       "  font-size: 7pt;\n",
       "  background-color: #c1c1c1;\n",
       "  color: #000000;\n",
       "}\n",
       "#T_f21b6_row12_col15 {\n",
       "  font-size: 7pt;\n",
       "  background-color: #323232;\n",
       "  color: #f1f1f1;\n",
       "}\n",
       "#T_f21b6_row12_col16 {\n",
       "  font-size: 7pt;\n",
       "  background-color: #070707;\n",
       "  color: #f1f1f1;\n",
       "}\n",
       "#T_f21b6_row12_col20 {\n",
       "  font-size: 7pt;\n",
       "  background-color: #3c3c3c;\n",
       "  color: #f1f1f1;\n",
       "}\n",
       "#T_f21b6_row12_col21 {\n",
       "  font-size: 7pt;\n",
       "  background-color: #fbfbfb;\n",
       "  color: #000000;\n",
       "}\n",
       "</style>\n",
       "<table id=\"T_f21b6\">\n",
       "  <thead>\n",
       "    <tr>\n",
       "      <th class=\"blank level0\" >&nbsp;</th>\n",
       "      <th id=\"T_f21b6_level0_col0\" class=\"col_heading level0 col0\" >0</th>\n",
       "      <th id=\"T_f21b6_level0_col1\" class=\"col_heading level0 col1\" >1</th>\n",
       "      <th id=\"T_f21b6_level0_col2\" class=\"col_heading level0 col2\" >2</th>\n",
       "      <th id=\"T_f21b6_level0_col3\" class=\"col_heading level0 col3\" >3</th>\n",
       "      <th id=\"T_f21b6_level0_col4\" class=\"col_heading level0 col4\" >4</th>\n",
       "      <th id=\"T_f21b6_level0_col5\" class=\"col_heading level0 col5\" >5</th>\n",
       "      <th id=\"T_f21b6_level0_col6\" class=\"col_heading level0 col6\" >6</th>\n",
       "      <th id=\"T_f21b6_level0_col7\" class=\"col_heading level0 col7\" >7</th>\n",
       "      <th id=\"T_f21b6_level0_col8\" class=\"col_heading level0 col8\" >8</th>\n",
       "      <th id=\"T_f21b6_level0_col9\" class=\"col_heading level0 col9\" >9</th>\n",
       "      <th id=\"T_f21b6_level0_col10\" class=\"col_heading level0 col10\" >10</th>\n",
       "      <th id=\"T_f21b6_level0_col11\" class=\"col_heading level0 col11\" >11</th>\n",
       "      <th id=\"T_f21b6_level0_col12\" class=\"col_heading level0 col12\" >12</th>\n",
       "      <th id=\"T_f21b6_level0_col13\" class=\"col_heading level0 col13\" >13</th>\n",
       "      <th id=\"T_f21b6_level0_col14\" class=\"col_heading level0 col14\" >14</th>\n",
       "      <th id=\"T_f21b6_level0_col15\" class=\"col_heading level0 col15\" >15</th>\n",
       "      <th id=\"T_f21b6_level0_col16\" class=\"col_heading level0 col16\" >16</th>\n",
       "      <th id=\"T_f21b6_level0_col17\" class=\"col_heading level0 col17\" >17</th>\n",
       "      <th id=\"T_f21b6_level0_col18\" class=\"col_heading level0 col18\" >18</th>\n",
       "      <th id=\"T_f21b6_level0_col19\" class=\"col_heading level0 col19\" >19</th>\n",
       "      <th id=\"T_f21b6_level0_col20\" class=\"col_heading level0 col20\" >20</th>\n",
       "      <th id=\"T_f21b6_level0_col21\" class=\"col_heading level0 col21\" >21</th>\n",
       "      <th id=\"T_f21b6_level0_col22\" class=\"col_heading level0 col22\" >22</th>\n",
       "    </tr>\n",
       "  </thead>\n",
       "  <tbody>\n",
       "    <tr>\n",
       "      <th id=\"T_f21b6_level0_row0\" class=\"row_heading level0 row0\" >0</th>\n",
       "      <td id=\"T_f21b6_row0_col0\" class=\"data row0 col0\" >0.00</td>\n",
       "      <td id=\"T_f21b6_row0_col1\" class=\"data row0 col1\" >0.00</td>\n",
       "      <td id=\"T_f21b6_row0_col2\" class=\"data row0 col2\" >0.00</td>\n",
       "      <td id=\"T_f21b6_row0_col3\" class=\"data row0 col3\" >0.00</td>\n",
       "      <td id=\"T_f21b6_row0_col4\" class=\"data row0 col4\" >0.00</td>\n",
       "      <td id=\"T_f21b6_row0_col5\" class=\"data row0 col5\" >0.00</td>\n",
       "      <td id=\"T_f21b6_row0_col6\" class=\"data row0 col6\" >0.00</td>\n",
       "      <td id=\"T_f21b6_row0_col7\" class=\"data row0 col7\" >0.00</td>\n",
       "      <td id=\"T_f21b6_row0_col8\" class=\"data row0 col8\" >0.00</td>\n",
       "      <td id=\"T_f21b6_row0_col9\" class=\"data row0 col9\" >0.00</td>\n",
       "      <td id=\"T_f21b6_row0_col10\" class=\"data row0 col10\" >0.00</td>\n",
       "      <td id=\"T_f21b6_row0_col11\" class=\"data row0 col11\" >0.00</td>\n",
       "      <td id=\"T_f21b6_row0_col12\" class=\"data row0 col12\" >0.00</td>\n",
       "      <td id=\"T_f21b6_row0_col13\" class=\"data row0 col13\" >0.00</td>\n",
       "      <td id=\"T_f21b6_row0_col14\" class=\"data row0 col14\" >0.00</td>\n",
       "      <td id=\"T_f21b6_row0_col15\" class=\"data row0 col15\" >0.00</td>\n",
       "      <td id=\"T_f21b6_row0_col16\" class=\"data row0 col16\" >0.00</td>\n",
       "      <td id=\"T_f21b6_row0_col17\" class=\"data row0 col17\" >0.00</td>\n",
       "      <td id=\"T_f21b6_row0_col18\" class=\"data row0 col18\" >0.00</td>\n",
       "      <td id=\"T_f21b6_row0_col19\" class=\"data row0 col19\" >0.00</td>\n",
       "      <td id=\"T_f21b6_row0_col20\" class=\"data row0 col20\" >0.00</td>\n",
       "      <td id=\"T_f21b6_row0_col21\" class=\"data row0 col21\" >0.00</td>\n",
       "      <td id=\"T_f21b6_row0_col22\" class=\"data row0 col22\" >0.00</td>\n",
       "    </tr>\n",
       "    <tr>\n",
       "      <th id=\"T_f21b6_level0_row1\" class=\"row_heading level0 row1\" >1</th>\n",
       "      <td id=\"T_f21b6_row1_col0\" class=\"data row1 col0\" >0.00</td>\n",
       "      <td id=\"T_f21b6_row1_col1\" class=\"data row1 col1\" >0.00</td>\n",
       "      <td id=\"T_f21b6_row1_col2\" class=\"data row1 col2\" >0.00</td>\n",
       "      <td id=\"T_f21b6_row1_col3\" class=\"data row1 col3\" >0.00</td>\n",
       "      <td id=\"T_f21b6_row1_col4\" class=\"data row1 col4\" >0.00</td>\n",
       "      <td id=\"T_f21b6_row1_col5\" class=\"data row1 col5\" >0.00</td>\n",
       "      <td id=\"T_f21b6_row1_col6\" class=\"data row1 col6\" >0.00</td>\n",
       "      <td id=\"T_f21b6_row1_col7\" class=\"data row1 col7\" >0.00</td>\n",
       "      <td id=\"T_f21b6_row1_col8\" class=\"data row1 col8\" >0.00</td>\n",
       "      <td id=\"T_f21b6_row1_col9\" class=\"data row1 col9\" >0.00</td>\n",
       "      <td id=\"T_f21b6_row1_col10\" class=\"data row1 col10\" >0.00</td>\n",
       "      <td id=\"T_f21b6_row1_col11\" class=\"data row1 col11\" >0.00</td>\n",
       "      <td id=\"T_f21b6_row1_col12\" class=\"data row1 col12\" >0.00</td>\n",
       "      <td id=\"T_f21b6_row1_col13\" class=\"data row1 col13\" >0.00</td>\n",
       "      <td id=\"T_f21b6_row1_col14\" class=\"data row1 col14\" >0.00</td>\n",
       "      <td id=\"T_f21b6_row1_col15\" class=\"data row1 col15\" >0.00</td>\n",
       "      <td id=\"T_f21b6_row1_col16\" class=\"data row1 col16\" >0.00</td>\n",
       "      <td id=\"T_f21b6_row1_col17\" class=\"data row1 col17\" >0.00</td>\n",
       "      <td id=\"T_f21b6_row1_col18\" class=\"data row1 col18\" >0.00</td>\n",
       "      <td id=\"T_f21b6_row1_col19\" class=\"data row1 col19\" >0.00</td>\n",
       "      <td id=\"T_f21b6_row1_col20\" class=\"data row1 col20\" >0.00</td>\n",
       "      <td id=\"T_f21b6_row1_col21\" class=\"data row1 col21\" >0.00</td>\n",
       "      <td id=\"T_f21b6_row1_col22\" class=\"data row1 col22\" >0.00</td>\n",
       "    </tr>\n",
       "    <tr>\n",
       "      <th id=\"T_f21b6_level0_row2\" class=\"row_heading level0 row2\" >2</th>\n",
       "      <td id=\"T_f21b6_row2_col0\" class=\"data row2 col0\" >0.00</td>\n",
       "      <td id=\"T_f21b6_row2_col1\" class=\"data row2 col1\" >0.00</td>\n",
       "      <td id=\"T_f21b6_row2_col2\" class=\"data row2 col2\" >0.00</td>\n",
       "      <td id=\"T_f21b6_row2_col3\" class=\"data row2 col3\" >0.00</td>\n",
       "      <td id=\"T_f21b6_row2_col4\" class=\"data row2 col4\" >0.00</td>\n",
       "      <td id=\"T_f21b6_row2_col5\" class=\"data row2 col5\" >0.00</td>\n",
       "      <td id=\"T_f21b6_row2_col6\" class=\"data row2 col6\" >0.00</td>\n",
       "      <td id=\"T_f21b6_row2_col7\" class=\"data row2 col7\" >0.00</td>\n",
       "      <td id=\"T_f21b6_row2_col8\" class=\"data row2 col8\" >0.00</td>\n",
       "      <td id=\"T_f21b6_row2_col9\" class=\"data row2 col9\" >0.00</td>\n",
       "      <td id=\"T_f21b6_row2_col10\" class=\"data row2 col10\" >0.00</td>\n",
       "      <td id=\"T_f21b6_row2_col11\" class=\"data row2 col11\" >0.00</td>\n",
       "      <td id=\"T_f21b6_row2_col12\" class=\"data row2 col12\" >0.00</td>\n",
       "      <td id=\"T_f21b6_row2_col13\" class=\"data row2 col13\" >0.00</td>\n",
       "      <td id=\"T_f21b6_row2_col14\" class=\"data row2 col14\" >0.00</td>\n",
       "      <td id=\"T_f21b6_row2_col15\" class=\"data row2 col15\" >0.00</td>\n",
       "      <td id=\"T_f21b6_row2_col16\" class=\"data row2 col16\" >0.00</td>\n",
       "      <td id=\"T_f21b6_row2_col17\" class=\"data row2 col17\" >0.00</td>\n",
       "      <td id=\"T_f21b6_row2_col18\" class=\"data row2 col18\" >0.00</td>\n",
       "      <td id=\"T_f21b6_row2_col19\" class=\"data row2 col19\" >0.00</td>\n",
       "      <td id=\"T_f21b6_row2_col20\" class=\"data row2 col20\" >0.00</td>\n",
       "      <td id=\"T_f21b6_row2_col21\" class=\"data row2 col21\" >0.00</td>\n",
       "      <td id=\"T_f21b6_row2_col22\" class=\"data row2 col22\" >0.00</td>\n",
       "    </tr>\n",
       "    <tr>\n",
       "      <th id=\"T_f21b6_level0_row3\" class=\"row_heading level0 row3\" >3</th>\n",
       "      <td id=\"T_f21b6_row3_col0\" class=\"data row3 col0\" >0.00</td>\n",
       "      <td id=\"T_f21b6_row3_col1\" class=\"data row3 col1\" >0.00</td>\n",
       "      <td id=\"T_f21b6_row3_col2\" class=\"data row3 col2\" >0.00</td>\n",
       "      <td id=\"T_f21b6_row3_col3\" class=\"data row3 col3\" >0.00</td>\n",
       "      <td id=\"T_f21b6_row3_col4\" class=\"data row3 col4\" >0.00</td>\n",
       "      <td id=\"T_f21b6_row3_col5\" class=\"data row3 col5\" >0.00</td>\n",
       "      <td id=\"T_f21b6_row3_col6\" class=\"data row3 col6\" >0.00</td>\n",
       "      <td id=\"T_f21b6_row3_col7\" class=\"data row3 col7\" >0.00</td>\n",
       "      <td id=\"T_f21b6_row3_col8\" class=\"data row3 col8\" >0.00</td>\n",
       "      <td id=\"T_f21b6_row3_col9\" class=\"data row3 col9\" >0.00</td>\n",
       "      <td id=\"T_f21b6_row3_col10\" class=\"data row3 col10\" >0.00</td>\n",
       "      <td id=\"T_f21b6_row3_col11\" class=\"data row3 col11\" >0.00</td>\n",
       "      <td id=\"T_f21b6_row3_col12\" class=\"data row3 col12\" >0.00</td>\n",
       "      <td id=\"T_f21b6_row3_col13\" class=\"data row3 col13\" >0.00</td>\n",
       "      <td id=\"T_f21b6_row3_col14\" class=\"data row3 col14\" >0.00</td>\n",
       "      <td id=\"T_f21b6_row3_col15\" class=\"data row3 col15\" >0.00</td>\n",
       "      <td id=\"T_f21b6_row3_col16\" class=\"data row3 col16\" >0.00</td>\n",
       "      <td id=\"T_f21b6_row3_col17\" class=\"data row3 col17\" >0.00</td>\n",
       "      <td id=\"T_f21b6_row3_col18\" class=\"data row3 col18\" >0.00</td>\n",
       "      <td id=\"T_f21b6_row3_col19\" class=\"data row3 col19\" >0.00</td>\n",
       "      <td id=\"T_f21b6_row3_col20\" class=\"data row3 col20\" >0.00</td>\n",
       "      <td id=\"T_f21b6_row3_col21\" class=\"data row3 col21\" >0.00</td>\n",
       "      <td id=\"T_f21b6_row3_col22\" class=\"data row3 col22\" >0.00</td>\n",
       "    </tr>\n",
       "    <tr>\n",
       "      <th id=\"T_f21b6_level0_row4\" class=\"row_heading level0 row4\" >4</th>\n",
       "      <td id=\"T_f21b6_row4_col0\" class=\"data row4 col0\" >0.00</td>\n",
       "      <td id=\"T_f21b6_row4_col1\" class=\"data row4 col1\" >0.00</td>\n",
       "      <td id=\"T_f21b6_row4_col2\" class=\"data row4 col2\" >0.00</td>\n",
       "      <td id=\"T_f21b6_row4_col3\" class=\"data row4 col3\" >0.00</td>\n",
       "      <td id=\"T_f21b6_row4_col4\" class=\"data row4 col4\" >0.00</td>\n",
       "      <td id=\"T_f21b6_row4_col5\" class=\"data row4 col5\" >0.00</td>\n",
       "      <td id=\"T_f21b6_row4_col6\" class=\"data row4 col6\" >0.00</td>\n",
       "      <td id=\"T_f21b6_row4_col7\" class=\"data row4 col7\" >0.00</td>\n",
       "      <td id=\"T_f21b6_row4_col8\" class=\"data row4 col8\" >0.00</td>\n",
       "      <td id=\"T_f21b6_row4_col9\" class=\"data row4 col9\" >0.00</td>\n",
       "      <td id=\"T_f21b6_row4_col10\" class=\"data row4 col10\" >0.00</td>\n",
       "      <td id=\"T_f21b6_row4_col11\" class=\"data row4 col11\" >0.00</td>\n",
       "      <td id=\"T_f21b6_row4_col12\" class=\"data row4 col12\" >0.00</td>\n",
       "      <td id=\"T_f21b6_row4_col13\" class=\"data row4 col13\" >0.00</td>\n",
       "      <td id=\"T_f21b6_row4_col14\" class=\"data row4 col14\" >0.00</td>\n",
       "      <td id=\"T_f21b6_row4_col15\" class=\"data row4 col15\" >0.00</td>\n",
       "      <td id=\"T_f21b6_row4_col16\" class=\"data row4 col16\" >0.00</td>\n",
       "      <td id=\"T_f21b6_row4_col17\" class=\"data row4 col17\" >0.00</td>\n",
       "      <td id=\"T_f21b6_row4_col18\" class=\"data row4 col18\" >0.00</td>\n",
       "      <td id=\"T_f21b6_row4_col19\" class=\"data row4 col19\" >0.00</td>\n",
       "      <td id=\"T_f21b6_row4_col20\" class=\"data row4 col20\" >0.00</td>\n",
       "      <td id=\"T_f21b6_row4_col21\" class=\"data row4 col21\" >0.00</td>\n",
       "      <td id=\"T_f21b6_row4_col22\" class=\"data row4 col22\" >0.00</td>\n",
       "    </tr>\n",
       "    <tr>\n",
       "      <th id=\"T_f21b6_level0_row5\" class=\"row_heading level0 row5\" >5</th>\n",
       "      <td id=\"T_f21b6_row5_col0\" class=\"data row5 col0\" >0.00</td>\n",
       "      <td id=\"T_f21b6_row5_col1\" class=\"data row5 col1\" >0.00</td>\n",
       "      <td id=\"T_f21b6_row5_col2\" class=\"data row5 col2\" >0.00</td>\n",
       "      <td id=\"T_f21b6_row5_col3\" class=\"data row5 col3\" >0.00</td>\n",
       "      <td id=\"T_f21b6_row5_col4\" class=\"data row5 col4\" >0.00</td>\n",
       "      <td id=\"T_f21b6_row5_col5\" class=\"data row5 col5\" >0.00</td>\n",
       "      <td id=\"T_f21b6_row5_col6\" class=\"data row5 col6\" >0.00</td>\n",
       "      <td id=\"T_f21b6_row5_col7\" class=\"data row5 col7\" >0.00</td>\n",
       "      <td id=\"T_f21b6_row5_col8\" class=\"data row5 col8\" >0.00</td>\n",
       "      <td id=\"T_f21b6_row5_col9\" class=\"data row5 col9\" >0.00</td>\n",
       "      <td id=\"T_f21b6_row5_col10\" class=\"data row5 col10\" >0.00</td>\n",
       "      <td id=\"T_f21b6_row5_col11\" class=\"data row5 col11\" >0.15</td>\n",
       "      <td id=\"T_f21b6_row5_col12\" class=\"data row5 col12\" >0.17</td>\n",
       "      <td id=\"T_f21b6_row5_col13\" class=\"data row5 col13\" >0.41</td>\n",
       "      <td id=\"T_f21b6_row5_col14\" class=\"data row5 col14\" >1.00</td>\n",
       "      <td id=\"T_f21b6_row5_col15\" class=\"data row5 col15\" >0.99</td>\n",
       "      <td id=\"T_f21b6_row5_col16\" class=\"data row5 col16\" >0.99</td>\n",
       "      <td id=\"T_f21b6_row5_col17\" class=\"data row5 col17\" >0.99</td>\n",
       "      <td id=\"T_f21b6_row5_col18\" class=\"data row5 col18\" >0.99</td>\n",
       "      <td id=\"T_f21b6_row5_col19\" class=\"data row5 col19\" >0.99</td>\n",
       "      <td id=\"T_f21b6_row5_col20\" class=\"data row5 col20\" >0.68</td>\n",
       "      <td id=\"T_f21b6_row5_col21\" class=\"data row5 col21\" >0.02</td>\n",
       "      <td id=\"T_f21b6_row5_col22\" class=\"data row5 col22\" >0.00</td>\n",
       "    </tr>\n",
       "    <tr>\n",
       "      <th id=\"T_f21b6_level0_row6\" class=\"row_heading level0 row6\" >6</th>\n",
       "      <td id=\"T_f21b6_row6_col0\" class=\"data row6 col0\" >0.00</td>\n",
       "      <td id=\"T_f21b6_row6_col1\" class=\"data row6 col1\" >0.00</td>\n",
       "      <td id=\"T_f21b6_row6_col2\" class=\"data row6 col2\" >0.00</td>\n",
       "      <td id=\"T_f21b6_row6_col3\" class=\"data row6 col3\" >0.00</td>\n",
       "      <td id=\"T_f21b6_row6_col4\" class=\"data row6 col4\" >0.00</td>\n",
       "      <td id=\"T_f21b6_row6_col5\" class=\"data row6 col5\" >0.00</td>\n",
       "      <td id=\"T_f21b6_row6_col6\" class=\"data row6 col6\" >0.00</td>\n",
       "      <td id=\"T_f21b6_row6_col7\" class=\"data row6 col7\" >0.00</td>\n",
       "      <td id=\"T_f21b6_row6_col8\" class=\"data row6 col8\" >0.00</td>\n",
       "      <td id=\"T_f21b6_row6_col9\" class=\"data row6 col9\" >0.17</td>\n",
       "      <td id=\"T_f21b6_row6_col10\" class=\"data row6 col10\" >0.54</td>\n",
       "      <td id=\"T_f21b6_row6_col11\" class=\"data row6 col11\" >0.88</td>\n",
       "      <td id=\"T_f21b6_row6_col12\" class=\"data row6 col12\" >0.88</td>\n",
       "      <td id=\"T_f21b6_row6_col13\" class=\"data row6 col13\" >0.98</td>\n",
       "      <td id=\"T_f21b6_row6_col14\" class=\"data row6 col14\" >0.99</td>\n",
       "      <td id=\"T_f21b6_row6_col15\" class=\"data row6 col15\" >0.98</td>\n",
       "      <td id=\"T_f21b6_row6_col16\" class=\"data row6 col16\" >0.98</td>\n",
       "      <td id=\"T_f21b6_row6_col17\" class=\"data row6 col17\" >0.98</td>\n",
       "      <td id=\"T_f21b6_row6_col18\" class=\"data row6 col18\" >0.98</td>\n",
       "      <td id=\"T_f21b6_row6_col19\" class=\"data row6 col19\" >0.98</td>\n",
       "      <td id=\"T_f21b6_row6_col20\" class=\"data row6 col20\" >0.98</td>\n",
       "      <td id=\"T_f21b6_row6_col21\" class=\"data row6 col21\" >0.62</td>\n",
       "      <td id=\"T_f21b6_row6_col22\" class=\"data row6 col22\" >0.05</td>\n",
       "    </tr>\n",
       "    <tr>\n",
       "      <th id=\"T_f21b6_level0_row7\" class=\"row_heading level0 row7\" >7</th>\n",
       "      <td id=\"T_f21b6_row7_col0\" class=\"data row7 col0\" >0.00</td>\n",
       "      <td id=\"T_f21b6_row7_col1\" class=\"data row7 col1\" >0.00</td>\n",
       "      <td id=\"T_f21b6_row7_col2\" class=\"data row7 col2\" >0.00</td>\n",
       "      <td id=\"T_f21b6_row7_col3\" class=\"data row7 col3\" >0.00</td>\n",
       "      <td id=\"T_f21b6_row7_col4\" class=\"data row7 col4\" >0.00</td>\n",
       "      <td id=\"T_f21b6_row7_col5\" class=\"data row7 col5\" >0.00</td>\n",
       "      <td id=\"T_f21b6_row7_col6\" class=\"data row7 col6\" >0.00</td>\n",
       "      <td id=\"T_f21b6_row7_col7\" class=\"data row7 col7\" >0.00</td>\n",
       "      <td id=\"T_f21b6_row7_col8\" class=\"data row7 col8\" >0.00</td>\n",
       "      <td id=\"T_f21b6_row7_col9\" class=\"data row7 col9\" >0.70</td>\n",
       "      <td id=\"T_f21b6_row7_col10\" class=\"data row7 col10\" >0.98</td>\n",
       "      <td id=\"T_f21b6_row7_col11\" class=\"data row7 col11\" >0.98</td>\n",
       "      <td id=\"T_f21b6_row7_col12\" class=\"data row7 col12\" >0.98</td>\n",
       "      <td id=\"T_f21b6_row7_col13\" class=\"data row7 col13\" >0.98</td>\n",
       "      <td id=\"T_f21b6_row7_col14\" class=\"data row7 col14\" >0.99</td>\n",
       "      <td id=\"T_f21b6_row7_col15\" class=\"data row7 col15\" >0.98</td>\n",
       "      <td id=\"T_f21b6_row7_col16\" class=\"data row7 col16\" >0.98</td>\n",
       "      <td id=\"T_f21b6_row7_col17\" class=\"data row7 col17\" >0.98</td>\n",
       "      <td id=\"T_f21b6_row7_col18\" class=\"data row7 col18\" >0.98</td>\n",
       "      <td id=\"T_f21b6_row7_col19\" class=\"data row7 col19\" >0.98</td>\n",
       "      <td id=\"T_f21b6_row7_col20\" class=\"data row7 col20\" >0.98</td>\n",
       "      <td id=\"T_f21b6_row7_col21\" class=\"data row7 col21\" >0.98</td>\n",
       "      <td id=\"T_f21b6_row7_col22\" class=\"data row7 col22\" >0.23</td>\n",
       "    </tr>\n",
       "    <tr>\n",
       "      <th id=\"T_f21b6_level0_row8\" class=\"row_heading level0 row8\" >8</th>\n",
       "      <td id=\"T_f21b6_row8_col0\" class=\"data row8 col0\" >0.00</td>\n",
       "      <td id=\"T_f21b6_row8_col1\" class=\"data row8 col1\" >0.00</td>\n",
       "      <td id=\"T_f21b6_row8_col2\" class=\"data row8 col2\" >0.00</td>\n",
       "      <td id=\"T_f21b6_row8_col3\" class=\"data row8 col3\" >0.00</td>\n",
       "      <td id=\"T_f21b6_row8_col4\" class=\"data row8 col4\" >0.00</td>\n",
       "      <td id=\"T_f21b6_row8_col5\" class=\"data row8 col5\" >0.00</td>\n",
       "      <td id=\"T_f21b6_row8_col6\" class=\"data row8 col6\" >0.00</td>\n",
       "      <td id=\"T_f21b6_row8_col7\" class=\"data row8 col7\" >0.00</td>\n",
       "      <td id=\"T_f21b6_row8_col8\" class=\"data row8 col8\" >0.00</td>\n",
       "      <td id=\"T_f21b6_row8_col9\" class=\"data row8 col9\" >0.43</td>\n",
       "      <td id=\"T_f21b6_row8_col10\" class=\"data row8 col10\" >0.98</td>\n",
       "      <td id=\"T_f21b6_row8_col11\" class=\"data row8 col11\" >0.98</td>\n",
       "      <td id=\"T_f21b6_row8_col12\" class=\"data row8 col12\" >0.90</td>\n",
       "      <td id=\"T_f21b6_row8_col13\" class=\"data row8 col13\" >0.52</td>\n",
       "      <td id=\"T_f21b6_row8_col14\" class=\"data row8 col14\" >0.52</td>\n",
       "      <td id=\"T_f21b6_row8_col15\" class=\"data row8 col15\" >0.52</td>\n",
       "      <td id=\"T_f21b6_row8_col16\" class=\"data row8 col16\" >0.52</td>\n",
       "      <td id=\"T_f21b6_row8_col17\" class=\"data row8 col17\" >0.74</td>\n",
       "      <td id=\"T_f21b6_row8_col18\" class=\"data row8 col18\" >0.98</td>\n",
       "      <td id=\"T_f21b6_row8_col19\" class=\"data row8 col19\" >0.98</td>\n",
       "      <td id=\"T_f21b6_row8_col20\" class=\"data row8 col20\" >0.98</td>\n",
       "      <td id=\"T_f21b6_row8_col21\" class=\"data row8 col21\" >0.98</td>\n",
       "      <td id=\"T_f21b6_row8_col22\" class=\"data row8 col22\" >0.23</td>\n",
       "    </tr>\n",
       "    <tr>\n",
       "      <th id=\"T_f21b6_level0_row9\" class=\"row_heading level0 row9\" >9</th>\n",
       "      <td id=\"T_f21b6_row9_col0\" class=\"data row9 col0\" >0.00</td>\n",
       "      <td id=\"T_f21b6_row9_col1\" class=\"data row9 col1\" >0.00</td>\n",
       "      <td id=\"T_f21b6_row9_col2\" class=\"data row9 col2\" >0.00</td>\n",
       "      <td id=\"T_f21b6_row9_col3\" class=\"data row9 col3\" >0.00</td>\n",
       "      <td id=\"T_f21b6_row9_col4\" class=\"data row9 col4\" >0.00</td>\n",
       "      <td id=\"T_f21b6_row9_col5\" class=\"data row9 col5\" >0.00</td>\n",
       "      <td id=\"T_f21b6_row9_col6\" class=\"data row9 col6\" >0.00</td>\n",
       "      <td id=\"T_f21b6_row9_col7\" class=\"data row9 col7\" >0.00</td>\n",
       "      <td id=\"T_f21b6_row9_col8\" class=\"data row9 col8\" >0.00</td>\n",
       "      <td id=\"T_f21b6_row9_col9\" class=\"data row9 col9\" >0.02</td>\n",
       "      <td id=\"T_f21b6_row9_col10\" class=\"data row9 col10\" >0.11</td>\n",
       "      <td id=\"T_f21b6_row9_col11\" class=\"data row9 col11\" >0.11</td>\n",
       "      <td id=\"T_f21b6_row9_col12\" class=\"data row9 col12\" >0.09</td>\n",
       "      <td id=\"T_f21b6_row9_col13\" class=\"data row9 col13\" >0.00</td>\n",
       "      <td id=\"T_f21b6_row9_col14\" class=\"data row9 col14\" >0.00</td>\n",
       "      <td id=\"T_f21b6_row9_col15\" class=\"data row9 col15\" >0.00</td>\n",
       "      <td id=\"T_f21b6_row9_col16\" class=\"data row9 col16\" >0.00</td>\n",
       "      <td id=\"T_f21b6_row9_col17\" class=\"data row9 col17\" >0.05</td>\n",
       "      <td id=\"T_f21b6_row9_col18\" class=\"data row9 col18\" >0.88</td>\n",
       "      <td id=\"T_f21b6_row9_col19\" class=\"data row9 col19\" >0.98</td>\n",
       "      <td id=\"T_f21b6_row9_col20\" class=\"data row9 col20\" >0.98</td>\n",
       "      <td id=\"T_f21b6_row9_col21\" class=\"data row9 col21\" >0.67</td>\n",
       "      <td id=\"T_f21b6_row9_col22\" class=\"data row9 col22\" >0.03</td>\n",
       "    </tr>\n",
       "    <tr>\n",
       "      <th id=\"T_f21b6_level0_row10\" class=\"row_heading level0 row10\" >10</th>\n",
       "      <td id=\"T_f21b6_row10_col0\" class=\"data row10 col0\" >0.00</td>\n",
       "      <td id=\"T_f21b6_row10_col1\" class=\"data row10 col1\" >0.00</td>\n",
       "      <td id=\"T_f21b6_row10_col2\" class=\"data row10 col2\" >0.00</td>\n",
       "      <td id=\"T_f21b6_row10_col3\" class=\"data row10 col3\" >0.00</td>\n",
       "      <td id=\"T_f21b6_row10_col4\" class=\"data row10 col4\" >0.00</td>\n",
       "      <td id=\"T_f21b6_row10_col5\" class=\"data row10 col5\" >0.00</td>\n",
       "      <td id=\"T_f21b6_row10_col6\" class=\"data row10 col6\" >0.00</td>\n",
       "      <td id=\"T_f21b6_row10_col7\" class=\"data row10 col7\" >0.00</td>\n",
       "      <td id=\"T_f21b6_row10_col8\" class=\"data row10 col8\" >0.00</td>\n",
       "      <td id=\"T_f21b6_row10_col9\" class=\"data row10 col9\" >0.00</td>\n",
       "      <td id=\"T_f21b6_row10_col10\" class=\"data row10 col10\" >0.00</td>\n",
       "      <td id=\"T_f21b6_row10_col11\" class=\"data row10 col11\" >0.00</td>\n",
       "      <td id=\"T_f21b6_row10_col12\" class=\"data row10 col12\" >0.00</td>\n",
       "      <td id=\"T_f21b6_row10_col13\" class=\"data row10 col13\" >0.00</td>\n",
       "      <td id=\"T_f21b6_row10_col14\" class=\"data row10 col14\" >0.00</td>\n",
       "      <td id=\"T_f21b6_row10_col15\" class=\"data row10 col15\" >0.00</td>\n",
       "      <td id=\"T_f21b6_row10_col16\" class=\"data row10 col16\" >0.00</td>\n",
       "      <td id=\"T_f21b6_row10_col17\" class=\"data row10 col17\" >0.33</td>\n",
       "      <td id=\"T_f21b6_row10_col18\" class=\"data row10 col18\" >0.95</td>\n",
       "      <td id=\"T_f21b6_row10_col19\" class=\"data row10 col19\" >0.98</td>\n",
       "      <td id=\"T_f21b6_row10_col20\" class=\"data row10 col20\" >0.98</td>\n",
       "      <td id=\"T_f21b6_row10_col21\" class=\"data row10 col21\" >0.56</td>\n",
       "      <td id=\"T_f21b6_row10_col22\" class=\"data row10 col22\" >0.00</td>\n",
       "    </tr>\n",
       "    <tr>\n",
       "      <th id=\"T_f21b6_level0_row11\" class=\"row_heading level0 row11\" >11</th>\n",
       "      <td id=\"T_f21b6_row11_col0\" class=\"data row11 col0\" >0.00</td>\n",
       "      <td id=\"T_f21b6_row11_col1\" class=\"data row11 col1\" >0.00</td>\n",
       "      <td id=\"T_f21b6_row11_col2\" class=\"data row11 col2\" >0.00</td>\n",
       "      <td id=\"T_f21b6_row11_col3\" class=\"data row11 col3\" >0.00</td>\n",
       "      <td id=\"T_f21b6_row11_col4\" class=\"data row11 col4\" >0.00</td>\n",
       "      <td id=\"T_f21b6_row11_col5\" class=\"data row11 col5\" >0.00</td>\n",
       "      <td id=\"T_f21b6_row11_col6\" class=\"data row11 col6\" >0.00</td>\n",
       "      <td id=\"T_f21b6_row11_col7\" class=\"data row11 col7\" >0.00</td>\n",
       "      <td id=\"T_f21b6_row11_col8\" class=\"data row11 col8\" >0.00</td>\n",
       "      <td id=\"T_f21b6_row11_col9\" class=\"data row11 col9\" >0.00</td>\n",
       "      <td id=\"T_f21b6_row11_col10\" class=\"data row11 col10\" >0.00</td>\n",
       "      <td id=\"T_f21b6_row11_col11\" class=\"data row11 col11\" >0.00</td>\n",
       "      <td id=\"T_f21b6_row11_col12\" class=\"data row11 col12\" >0.00</td>\n",
       "      <td id=\"T_f21b6_row11_col13\" class=\"data row11 col13\" >0.00</td>\n",
       "      <td id=\"T_f21b6_row11_col14\" class=\"data row11 col14\" >0.00</td>\n",
       "      <td id=\"T_f21b6_row11_col15\" class=\"data row11 col15\" >0.00</td>\n",
       "      <td id=\"T_f21b6_row11_col16\" class=\"data row11 col16\" >0.34</td>\n",
       "      <td id=\"T_f21b6_row11_col17\" class=\"data row11 col17\" >0.74</td>\n",
       "      <td id=\"T_f21b6_row11_col18\" class=\"data row11 col18\" >0.98</td>\n",
       "      <td id=\"T_f21b6_row11_col19\" class=\"data row11 col19\" >0.98</td>\n",
       "      <td id=\"T_f21b6_row11_col20\" class=\"data row11 col20\" >0.98</td>\n",
       "      <td id=\"T_f21b6_row11_col21\" class=\"data row11 col21\" >0.05</td>\n",
       "      <td id=\"T_f21b6_row11_col22\" class=\"data row11 col22\" >0.00</td>\n",
       "    </tr>\n",
       "    <tr>\n",
       "      <th id=\"T_f21b6_level0_row12\" class=\"row_heading level0 row12\" >12</th>\n",
       "      <td id=\"T_f21b6_row12_col0\" class=\"data row12 col0\" >0.00</td>\n",
       "      <td id=\"T_f21b6_row12_col1\" class=\"data row12 col1\" >0.00</td>\n",
       "      <td id=\"T_f21b6_row12_col2\" class=\"data row12 col2\" >0.00</td>\n",
       "      <td id=\"T_f21b6_row12_col3\" class=\"data row12 col3\" >0.00</td>\n",
       "      <td id=\"T_f21b6_row12_col4\" class=\"data row12 col4\" >0.00</td>\n",
       "      <td id=\"T_f21b6_row12_col5\" class=\"data row12 col5\" >0.00</td>\n",
       "      <td id=\"T_f21b6_row12_col6\" class=\"data row12 col6\" >0.00</td>\n",
       "      <td id=\"T_f21b6_row12_col7\" class=\"data row12 col7\" >0.00</td>\n",
       "      <td id=\"T_f21b6_row12_col8\" class=\"data row12 col8\" >0.00</td>\n",
       "      <td id=\"T_f21b6_row12_col9\" class=\"data row12 col9\" >0.00</td>\n",
       "      <td id=\"T_f21b6_row12_col10\" class=\"data row12 col10\" >0.00</td>\n",
       "      <td id=\"T_f21b6_row12_col11\" class=\"data row12 col11\" >0.00</td>\n",
       "      <td id=\"T_f21b6_row12_col12\" class=\"data row12 col12\" >0.00</td>\n",
       "      <td id=\"T_f21b6_row12_col13\" class=\"data row12 col13\" >0.00</td>\n",
       "      <td id=\"T_f21b6_row12_col14\" class=\"data row12 col14\" >0.36</td>\n",
       "      <td id=\"T_f21b6_row12_col15\" class=\"data row12 col15\" >0.83</td>\n",
       "      <td id=\"T_f21b6_row12_col16\" class=\"data row12 col16\" >0.96</td>\n",
       "      <td id=\"T_f21b6_row12_col17\" class=\"data row12 col17\" >0.98</td>\n",
       "      <td id=\"T_f21b6_row12_col18\" class=\"data row12 col18\" >0.98</td>\n",
       "      <td id=\"T_f21b6_row12_col19\" class=\"data row12 col19\" >0.98</td>\n",
       "      <td id=\"T_f21b6_row12_col20\" class=\"data row12 col20\" >0.80</td>\n",
       "      <td id=\"T_f21b6_row12_col21\" class=\"data row12 col21\" >0.04</td>\n",
       "      <td id=\"T_f21b6_row12_col22\" class=\"data row12 col22\" >0.00</td>\n",
       "    </tr>\n",
       "  </tbody>\n",
       "</table>\n"
      ],
      "text/plain": [
       "<pandas.io.formats.style.Styler at 0x258493e1c50>"
      ]
     },
     "execution_count": 182,
     "metadata": {},
     "output_type": "execute_result"
    }
   ],
   "source": [
    "df = pd.DataFrame(im3[:13,:23])\n",
    "df.style.format(precision=2).set_properties(**{'font-size':'7pt'}).background_gradient('Greys')"
   ]
  },
  {
   "cell_type": "markdown",
   "id": "5c4a2a1a",
   "metadata": {},
   "source": [
    "Ahora vamos a aplicar el kernel `top_edge` a una posición que va desde 3 a 6 (sin incluir el 6) y las columnas desde 14 a 17 (sin incluir el 17)"
   ]
  },
  {
   "cell_type": "code",
   "execution_count": 183,
   "id": "0ea35175",
   "metadata": {},
   "outputs": [
    {
     "data": {
      "text/plain": [
       "tensor(2.97)"
      ]
     },
     "execution_count": 183,
     "metadata": {},
     "output_type": "execute_result"
    }
   ],
   "source": [
    "(im3[3:6,14:17] * top_edge).sum()"
   ]
  },
  {
   "cell_type": "code",
   "execution_count": 184,
   "id": "f4364530",
   "metadata": {},
   "outputs": [
    {
     "data": {
      "text/plain": [
       "tensor(-2.96)"
      ]
     },
     "execution_count": 184,
     "metadata": {},
     "output_type": "execute_result"
    }
   ],
   "source": [
    "(im3[7:10,14:17] * top_edge).sum()"
   ]
  },
  {
   "cell_type": "markdown",
   "id": "1189d9a1",
   "metadata": {},
   "source": [
    "Como se puede ver con el nombre del kernel `top_edge` está haciendo una multiplicación que se encagaría de \"detectar\" los lados superiores, da positivo si es un top edge y negativo si es un bottom edge"
   ]
  },
  {
   "cell_type": "markdown",
   "id": "a171db0a",
   "metadata": {},
   "source": [
    "Ahora vamos a definir una función que haga esa multiplicación del kernel por nosotros"
   ]
  },
  {
   "cell_type": "code",
   "execution_count": 185,
   "id": "e90768b3",
   "metadata": {},
   "outputs": [],
   "source": [
    "def apply_kernel(row, col, kernel): return (im3[row-1:row+2,col-1:col+2] * kernel).sum()"
   ]
  },
  {
   "cell_type": "markdown",
   "id": "03774d20",
   "metadata": {},
   "source": [
    "Y le pasamos el centro donde queremos aplicar el kernel, por ejemplo para aplica el que tenemos arriba (im3[3:6, 14:17]) le pasamos el centro (4,16)"
   ]
  },
  {
   "cell_type": "code",
   "execution_count": 186,
   "id": "c456f87f",
   "metadata": {},
   "outputs": [
    {
     "data": {
      "text/plain": [
       "tensor(2.97)"
      ]
     },
     "execution_count": 186,
     "metadata": {},
     "output_type": "execute_result"
    }
   ],
   "source": [
    "apply_kernel(4,15,top_edge)"
   ]
  },
  {
   "cell_type": "markdown",
   "id": "64e7c3b6",
   "metadata": {},
   "source": [
    "Aquí estamos haciendo una list comprehension inside a list comprehension que nos devuelve las tuplas\n"
   ]
  },
  {
   "cell_type": "code",
   "execution_count": 187,
   "id": "f91e2f1a",
   "metadata": {},
   "outputs": [
    {
     "data": {
      "text/plain": [
       "[[(0, 0), (0, 1), (0, 2), (0, 3), (0, 4)],\n",
       " [(1, 0), (1, 1), (1, 2), (1, 3), (1, 4)],\n",
       " [(2, 0), (2, 1), (2, 2), (2, 3), (2, 4)],\n",
       " [(3, 0), (3, 1), (3, 2), (3, 3), (3, 4)],\n",
       " [(4, 0), (4, 1), (4, 2), (4, 3), (4, 4)]]"
      ]
     },
     "execution_count": 187,
     "metadata": {},
     "output_type": "execute_result"
    }
   ],
   "source": [
    "[[(i,j) for j in range(5)] for i in range(5)]"
   ]
  },
  {
   "cell_type": "markdown",
   "id": "e6c50f00",
   "metadata": {},
   "source": [
    "y aquí podemos aplicarlo con nuestro kernel"
   ]
  },
  {
   "cell_type": "code",
   "execution_count": 188,
   "id": "bd6bea1c",
   "metadata": {},
   "outputs": [
    {
     "data": {
      "image/png": "[encoded data removed]",
      "text/plain": [
       "<Figure size 448x336 with 1 Axes>"
      ]
     },
     "metadata": {},
     "output_type": "display_data"
    }
   ],
   "source": [
    "rng = range(1,27)\n",
    "top_edge3 = torch.tensor([[apply_kernel(i,j,top_edge) for j in rng] for i in rng])\n",
    "show_image(top_edge3);"
   ]
  },
  {
   "cell_type": "markdown",
   "id": "ca60b876",
   "metadata": {},
   "source": [
    "Y lo que estamos haciendo aquí es resaltar las top edges y __esto es una convolutión__"
   ]
  },
  {
   "cell_type": "markdown",
   "id": "e0e19350",
   "metadata": {},
   "source": [
    "Ahora podemos hacer lo mismo con los bordes izquierdos"
   ]
  },
  {
   "cell_type": "code",
   "execution_count": 189,
   "id": "34e804ea",
   "metadata": {},
   "outputs": [],
   "source": [
    "left_edge = torch.tensor([[-1,0,1],\n",
    "                    [-1,0,1],\n",
    "                    [-1,0,1]]).float()"
   ]
  },
  {
   "cell_type": "code",
   "execution_count": 190,
   "id": "0905430d",
   "metadata": {},
   "outputs": [
    {
     "data": {
      "image/png": "[encoded data removed]",
      "text/plain": [
       "<Figure size 448x336 with 1 Axes>"
      ]
     },
     "metadata": {},
     "output_type": "display_data"
    }
   ],
   "source": [
    "show_image(left_edge, noframe=False);"
   ]
  },
  {
   "cell_type": "code",
   "execution_count": 191,
   "id": "9363d468",
   "metadata": {},
   "outputs": [
    {
     "data": {
      "image/png": "[encoded data removed]",
      "text/plain": [
       "<Figure size 448x336 with 1 Axes>"
      ]
     },
     "metadata": {},
     "output_type": "display_data"
    }
   ],
   "source": [
    "left_edge3 = torch.tensor([[apply_kernel(i,j,left_edge) for j in rng] for i in rng])\n",
    "show_image(left_edge3);"
   ]
  },
  {
   "cell_type": "markdown",
   "id": "ee89f9d6",
   "metadata": {},
   "source": [
    "Esto es basicamente lo que está pasando con todas estas convolutions"
   ]
  },
  {
   "cell_type": "markdown",
   "id": "15eb603f",
   "metadata": {},
   "source": [
    "### Convolutions in PyTorch"
   ]
  },
  {
   "cell_type": "code",
   "execution_count": 192,
   "id": "66da30f3",
   "metadata": {},
   "outputs": [],
   "source": [
    "import torch.nn.functional as F\n",
    "import torch"
   ]
  },
  {
   "attachments": {
    "image.png": {
     "image/png": "[encoded data removed]"
    }
   },
   "cell_type": "markdown",
   "id": "6fb50db4",
   "metadata": {},
   "source": [
    "![image.png](attachment:image.png)"
   ]
  },
  {
   "cell_type": "markdown",
   "id": "375618ad",
   "metadata": {},
   "source": [
    "Here's a sample [numpy implementation](https://github.com/3outeille/CNNumpy/blob/5394f13e7ed67a808a3e39fd381f168825d65ff5/src/fast/utils.py#L360)."
   ]
  },
  {
   "cell_type": "markdown",
   "id": "26c9cfcd",
   "metadata": {},
   "source": [
    "Aquí lo que vamos a hacer es convertir todo el proceso de la convolution en una multiplicación de matrices"
   ]
  },
  {
   "cell_type": "code",
   "execution_count": 193,
   "id": "a0be5e19",
   "metadata": {},
   "outputs": [
    {
     "data": {
      "text/plain": [
       "torch.Size([28, 28])"
      ]
     },
     "execution_count": 193,
     "metadata": {},
     "output_type": "execute_result"
    }
   ],
   "source": [
    "im3.shape "
   ]
  },
  {
   "cell_type": "markdown",
   "id": "6318554f",
   "metadata": {},
   "source": [
    "Aquí le agregamos dimensiones a la imagen porque es algo que espera PyTorch para poder usar el unfold"
   ]
  },
  {
   "cell_type": "code",
   "execution_count": 194,
   "id": "b5e75cee",
   "metadata": {},
   "outputs": [
    {
     "data": {
      "text/plain": [
       "torch.Size([1, 1, 28, 28])"
      ]
     },
     "execution_count": 194,
     "metadata": {},
     "output_type": "execute_result"
    }
   ],
   "source": [
    "inp = im3[None,None,:,:].float()\n",
    "inp.shape"
   ]
  },
  {
   "cell_type": "code",
   "execution_count": 195,
   "id": "efb16491",
   "metadata": {},
   "outputs": [
    {
     "data": {
      "text/plain": [
       "torch.Size([9, 676])"
      ]
     },
     "execution_count": 195,
     "metadata": {},
     "output_type": "execute_result"
    }
   ],
   "source": [
    "inp_unf = F.unfold(inp, (3,3))[0]\n",
    "inp_unf.shape"
   ]
  },
  {
   "cell_type": "markdown",
   "id": "cb68252c",
   "metadata": {},
   "source": [
    "Aquí estamos convirtiendo nuestro kernel en un vector\n",
    "- `view` cambia la forma de un tensor, y con el -1 lo que estamos diciendo es que tire todo a esa dimensión"
   ]
  },
  {
   "cell_type": "code",
   "execution_count": 196,
   "id": "46aeb696",
   "metadata": {},
   "outputs": [
    {
     "data": {
      "text/plain": [
       "torch.Size([9])"
      ]
     },
     "execution_count": 196,
     "metadata": {},
     "output_type": "execute_result"
    }
   ],
   "source": [
    "w = left_edge.view(-1)\n",
    "w.shape"
   ]
  },
  {
   "cell_type": "markdown",
   "id": "36a01f93",
   "metadata": {},
   "source": [
    "Y aquí hacemos la multiplicación de matrices para que nos de el mismo resultado"
   ]
  },
  {
   "cell_type": "code",
   "execution_count": 197,
   "id": "8877e03c",
   "metadata": {},
   "outputs": [
    {
     "data": {
      "text/plain": [
       "torch.Size([676])"
      ]
     },
     "execution_count": 197,
     "metadata": {},
     "output_type": "execute_result"
    }
   ],
   "source": [
    "out_unf = w@inp_unf\n",
    "out_unf.shape"
   ]
  },
  {
   "cell_type": "code",
   "execution_count": 198,
   "id": "0e783ede",
   "metadata": {},
   "outputs": [
    {
     "data": {
      "image/png": "[encoded data removed]",
      "text/plain": [
       "<Figure size 448x336 with 1 Axes>"
      ]
     },
     "metadata": {},
     "output_type": "display_data"
    }
   ],
   "source": [
    "out = out_unf.view(26,26)\n",
    "show_image(out);"
   ]
  },
  {
   "cell_type": "code",
   "execution_count": 199,
   "id": "40b182b0",
   "metadata": {},
   "outputs": [
    {
     "name": "stdout",
     "output_type": "stream",
     "text": [
      "21.8 ms ± 1.67 ms per loop (mean ± std. dev. of 7 runs, 1 loop each)\n"
     ]
    }
   ],
   "source": [
    "%timeit -n 1 torch.tensor([[apply_kernel(i,j,left_edge) for j in rng] for i in rng]);"
   ]
  },
  {
   "cell_type": "code",
   "execution_count": 200,
   "id": "68c89999",
   "metadata": {
    "scrolled": true
   },
   "outputs": [
    {
     "name": "stdout",
     "output_type": "stream",
     "text": [
      "The slowest run took 4.75 times longer than the fastest. This could mean that an intermediate result is being cached.\n",
      "170 µs ± 93.4 µs per loop (mean ± std. dev. of 7 runs, 100 loops each)\n"
     ]
    }
   ],
   "source": [
    "%timeit -n 100 (w@F.unfold(inp, (3,3))[0]).view(26,26);"
   ]
  },
  {
   "cell_type": "markdown",
   "id": "cee57eb8",
   "metadata": {},
   "source": [
    "Y como se puede ver en los resultados de tiempo este proceso es mucho más rapido que nuestra implementación from scratch"
   ]
  },
  {
   "cell_type": "markdown",
   "id": "3f831e00",
   "metadata": {},
   "source": [
    "Pytorch ya tiene su implementación de las convolutions usando `F.conv2d`"
   ]
  },
  {
   "cell_type": "code",
   "execution_count": 201,
   "id": "258f8905",
   "metadata": {},
   "outputs": [
    {
     "name": "stdout",
     "output_type": "stream",
     "text": [
      "The slowest run took 8.09 times longer than the fastest. This could mean that an intermediate result is being cached.\n",
      "80.3 µs ± 69.4 µs per loop (mean ± std. dev. of 7 runs, 100 loops each)\n"
     ]
    }
   ],
   "source": [
    "%timeit -n 100 F.conv2d(inp, left_edge[None,None])"
   ]
  },
  {
   "cell_type": "code",
   "execution_count": 202,
   "id": "ffa3171b",
   "metadata": {},
   "outputs": [],
   "source": [
    "diag1_edge = torch.tensor([[ 0,-1, 1],\n",
    "                     [-1, 1, 0],\n",
    "                     [ 1, 0, 0]]).float()"
   ]
  },
  {
   "cell_type": "code",
   "execution_count": 203,
   "id": "fd897640",
   "metadata": {},
   "outputs": [
    {
     "data": {
      "image/png": "[encoded data removed]",
      "text/plain": [
       "<Figure size 448x336 with 1 Axes>"
      ]
     },
     "metadata": {},
     "output_type": "display_data"
    }
   ],
   "source": [
    "show_image(diag1_edge, noframe=False);"
   ]
  },
  {
   "cell_type": "code",
   "execution_count": 204,
   "id": "7ef8340c",
   "metadata": {},
   "outputs": [],
   "source": [
    "diag2_edge = torch.tensor([[ 1,-1, 0],\n",
    "                     [ 0, 1,-1],\n",
    "                     [ 0, 0, 1]]).float()"
   ]
  },
  {
   "cell_type": "code",
   "execution_count": 205,
   "id": "c8c8eb1f",
   "metadata": {},
   "outputs": [
    {
     "data": {
      "image/png": "[encoded data removed]",
      "text/plain": [
       "<Figure size 448x336 with 1 Axes>"
      ]
     },
     "metadata": {},
     "output_type": "display_data"
    }
   ],
   "source": [
    "show_image(diag2_edge, noframe=False);"
   ]
  },
  {
   "cell_type": "code",
   "execution_count": 206,
   "id": "c9eb194b",
   "metadata": {},
   "outputs": [
    {
     "data": {
      "text/plain": [
       "torch.Size([16, 1, 28, 28])"
      ]
     },
     "execution_count": 206,
     "metadata": {},
     "output_type": "execute_result"
    }
   ],
   "source": [
    "xb = x_imgs[:16][:,None]\n",
    "xb.shape"
   ]
  },
  {
   "cell_type": "code",
   "execution_count": 207,
   "id": "5411cd63",
   "metadata": {},
   "outputs": [
    {
     "data": {
      "text/plain": [
       "torch.Size([4, 1, 3, 3])"
      ]
     },
     "execution_count": 207,
     "metadata": {},
     "output_type": "execute_result"
    }
   ],
   "source": [
    "edge_kernels = torch.stack([left_edge, top_edge, diag1_edge, diag2_edge])[:,None]\n",
    "edge_kernels.shape"
   ]
  },
  {
   "cell_type": "code",
   "execution_count": 208,
   "id": "91b971e9",
   "metadata": {},
   "outputs": [
    {
     "data": {
      "text/plain": [
       "torch.Size([16, 4, 26, 26])"
      ]
     },
     "execution_count": 208,
     "metadata": {},
     "output_type": "execute_result"
    }
   ],
   "source": [
    "batch_features = F.conv2d(xb, edge_kernels)\n",
    "batch_features.shape"
   ]
  },
  {
   "cell_type": "markdown",
   "id": "b67191fe",
   "metadata": {},
   "source": [
    "The output shape shows we gave 64 images in the mini-batch, 4 kernels, and 26×26 edge maps (we started with 28×28 images, but lost one pixel from each side as discussed earlier). We can see we get the same results as when we did this manually:"
   ]
  },
  {
   "cell_type": "code",
   "execution_count": 209,
   "id": "c598af1c",
   "metadata": {
    "scrolled": true
   },
   "outputs": [
    {
     "data": {
      "image/png": "[encoded data removed]",
      "text/plain": [
       "<Figure size 448x336 with 1 Axes>"
      ]
     },
     "metadata": {},
     "output_type": "display_data"
    }
   ],
   "source": [
    "img0 = xb[1,0]\n",
    "show_image(img0);"
   ]
  },
  {
   "cell_type": "code",
   "execution_count": 210,
   "id": "f6924429",
   "metadata": {},
   "outputs": [
    {
     "data": {
      "image/png": "[encoded data removed]",
      "text/plain": [
       "<Figure size 420x420 with 4 Axes>"
      ]
     },
     "metadata": {},
     "output_type": "display_data"
    }
   ],
   "source": [
    "show_images([batch_features[1,i] for i in range(4)])"
   ]
  },
  {
   "cell_type": "markdown",
   "id": "2366c3df",
   "metadata": {},
   "source": [
    "### Strides and Padding"
   ]
  },
  {
   "cell_type": "markdown",
   "id": "030cd31c",
   "metadata": {},
   "source": [
    "No hay necesidad de mover la matriz de a uno, se puede hacer de diferentes numeros y eso es llamado the _stride_"
   ]
  },
  {
   "cell_type": "markdown",
   "id": "6cfedabe",
   "metadata": {},
   "source": [
    "## Creating the CNN"
   ]
  },
  {
   "cell_type": "code",
   "execution_count": 211,
   "id": "06929e2d",
   "metadata": {},
   "outputs": [],
   "source": [
    "n,m = x_train.shape\n",
    "c = y_train.max()+1\n",
    "nh = 50"
   ]
  },
  {
   "cell_type": "code",
   "execution_count": 212,
   "id": "9c752197",
   "metadata": {},
   "outputs": [],
   "source": [
    "model = nn.Sequential(nn.Linear(m,nh), nn.ReLU(), nn.Linear(nh,10))"
   ]
  },
  {
   "cell_type": "code",
   "execution_count": 213,
   "id": "e70f90db",
   "metadata": {},
   "outputs": [],
   "source": [
    "broken_cnn = nn.Sequential(\n",
    "    nn.Conv2d(1,30, kernel_size=3, padding=1),\n",
    "    nn.ReLU(),\n",
    "    nn.Conv2d(30,10, kernel_size=3, padding=1)\n",
    ")"
   ]
  },
  {
   "cell_type": "code",
   "execution_count": 214,
   "id": "e09d359d",
   "metadata": {},
   "outputs": [
    {
     "data": {
      "text/plain": [
       "torch.Size([16, 10, 28, 28])"
      ]
     },
     "execution_count": 214,
     "metadata": {},
     "output_type": "execute_result"
    }
   ],
   "source": [
    "broken_cnn(xb).shape"
   ]
  },
  {
   "cell_type": "markdown",
   "id": "dd66a1bd",
   "metadata": {},
   "source": [
    "Así es como definiamos antes nuestro modelos, pero con una CNN no es tan simple, para hacer nuestra vida más simple vamos a hacer la siguiente función y con la etiqueta de _`#|export`_ para nuestra librería de miniai"
   ]
  },
  {
   "cell_type": "markdown",
   "id": "569f0cb6",
   "metadata": {},
   "source": [
    "- `ni`: number of inputs\n",
    "- `nf`: Number of filters, es una manera de decir la cantidad de channels que tendrá nuestra conv net, es como decir el number of outputs\n",
    "- `ks`: kernel size\n",
    "- `stride`: Lo que vimos arriba\n",
    "- `act`: Activation, esto decide si luego de nuestra conv net se va a activar un ReLU"
   ]
  },
  {
   "cell_type": "code",
   "execution_count": 215,
   "id": "236deb48",
   "metadata": {},
   "outputs": [],
   "source": [
    "def conv(ni, nf, ks=3, stride=2, act=True):\n",
    "    res = nn.Conv2d(ni, nf, stride=stride, kernel_size=ks, padding=ks//2)\n",
    "    if act: res = nn.Sequential(res, nn.ReLU())\n",
    "    return res"
   ]
  },
  {
   "cell_type": "markdown",
   "id": "0d1b4438",
   "metadata": {},
   "source": [
    "## Entrenando la CNN"
   ]
  },
  {
   "cell_type": "code",
   "execution_count": 216,
   "id": "694b2e3f",
   "metadata": {},
   "outputs": [],
   "source": [
    "learning_rate = 0.4"
   ]
  },
  {
   "cell_type": "code",
   "execution_count": 217,
   "id": "15f84902",
   "metadata": {},
   "outputs": [],
   "source": [
    "cnn = nn.Sequential(\n",
    "    conv(1 ,4),            #14x14\n",
    "    conv(4 ,8),            #7x7\n",
    "    conv(8 ,16),           #4x4\n",
    "    conv(16,16),           #2x2\n",
    "    conv(16,10, act=False),\n",
    "    nn.Flatten()).to(def_device)"
   ]
  },
  {
   "cell_type": "code",
   "execution_count": 218,
   "id": "6a7fd4aa",
   "metadata": {
    "scrolled": true
   },
   "outputs": [
    {
     "name": "stdout",
     "output_type": "stream",
     "text": [
      "0 0.6741020205497742 0.7456\n",
      "1 0.6671715939998627 0.7559\n",
      "2 0.49862270789146423 0.8148\n",
      "3 0.4853909442424774 0.8243\n",
      "4 0.46259748249053956 0.8318\n"
     ]
    }
   ],
   "source": [
    "opt = optim.SGD(cnn.parameters(), lr=learning_rate)\n",
    "loss,acc = fit(5, cnn, F.cross_entropy, opt, dt, dv)"
   ]
  },
  {
   "cell_type": "code",
   "execution_count": 219,
   "id": "1599564a",
   "metadata": {
    "scrolled": true
   },
   "outputs": [
    {
     "data": {
      "text/plain": [
       "{'image': <PIL.PngImagePlugin.PngImageFile image mode=L size=28x28>,\n",
       " 'label': 9}"
      ]
     },
     "execution_count": 219,
     "metadata": {},
     "output_type": "execute_result"
    }
   ],
   "source": [
    "dsd['train'][0]"
   ]
  },
  {
   "cell_type": "markdown",
   "id": "560d2509",
   "metadata": {},
   "source": [
    "## Autoencoder"
   ]
  },
  {
   "cell_type": "markdown",
   "id": "f1611a78",
   "metadata": {},
   "source": [
    "Aqui vamos a crear una `deconvolutional function`, que hará lo contrario de la convolution que definimos antes"
   ]
  },
  {
   "cell_type": "code",
   "execution_count": 220,
   "id": "2f78513c",
   "metadata": {},
   "outputs": [],
   "source": [
    "def deconv(ni, nf, ks=3, act=True):\n",
    "    layers = [nn.UpsamplingNearest2d(scale_factor=2),\n",
    "              nn.Conv2d(ni, nf, stride=1, kernel_size=ks, padding=ks//2)]\n",
    "    if act: layers.append(nn.ReLU())\n",
    "    return nn.Sequential(*layers)"
   ]
  },
  {
   "cell_type": "markdown",
   "id": "f7c4433f",
   "metadata": {},
   "source": [
    "Aquí definimos dos funciones para el `fit` que teníamos antes "
   ]
  },
  {
   "cell_type": "code",
   "execution_count": 221,
   "id": "a7dccd54",
   "metadata": {},
   "outputs": [],
   "source": [
    "def eval(model, loss_func, valid_dl, epoch=0):\n",
    "    model.eval()\n",
    "    with torch.no_grad():\n",
    "        tot_loss,count = 0.,0\n",
    "        for xb,_ in valid_dl:\n",
    "            pred = model(xb)\n",
    "            n = len(xb)\n",
    "            count += n\n",
    "            tot_loss += loss_func(pred,xb).item()*n\n",
    "    print(epoch, f'{tot_loss/count:.3f}')"
   ]
  },
  {
   "cell_type": "markdown",
   "id": "12df647e",
   "metadata": {},
   "source": [
    "La diferencia es que ahora en la parte de `Loss` no se está calculando un loss con respecto a un validation set, sino que se está comparando consigo mismo, porque necesitamos entrenarlo para que recree lo que le entro, así funciona un autoencoder"
   ]
  },
  {
   "cell_type": "code",
   "execution_count": 222,
   "id": "9ca68cbf",
   "metadata": {},
   "outputs": [],
   "source": [
    "def fit_autoencoder(epochs, model, loss_func, opt, train_dl, valid_dl):\n",
    "    for epoch in range(epochs):\n",
    "        model.train()\n",
    "        for xb,_ in train_dl:\n",
    "            loss = loss_func(model(xb), xb)\n",
    "            loss.backward()\n",
    "            opt.step()\n",
    "            opt.zero_grad()\n",
    "        eval(model, loss_func, valid_dl, epoch)"
   ]
  },
  {
   "cell_type": "markdown",
   "id": "f0ab0229",
   "metadata": {},
   "source": [
    "Y Aquí definimos nuestro Autoencoder\n",
    "\n",
    "`nn.Sigmoid` hace que todos los valores estén dentro de 0 y 1"
   ]
  },
  {
   "cell_type": "code",
   "execution_count": 223,
   "id": "8eaa59af",
   "metadata": {},
   "outputs": [],
   "source": [
    "autoencoder = nn.Sequential(   #28x28\n",
    "    nn.ZeroPad2d(2),  #32x32\n",
    "    conv(1,2),        #16x16\n",
    "    conv(2,4),        #8x8\n",
    "#     conv(4,8),        #4x4\n",
    "#     deconv(8,4),      #8x8\n",
    "    deconv(4,2),      #16x16\n",
    "    deconv(2,1, act=False), #32x32\n",
    "    nn.ZeroPad2d(-2), #28x28\n",
    "    nn.Sigmoid()\n",
    ").to(def_device)"
   ]
  },
  {
   "cell_type": "code",
   "execution_count": 224,
   "id": "8b4f58f3",
   "metadata": {
    "scrolled": true
   },
   "outputs": [
    {
     "name": "stdout",
     "output_type": "stream",
     "text": [
      "0 0.179\n"
     ]
    }
   ],
   "source": [
    "eval(autoencoder, F.mse_loss, dv)"
   ]
  },
  {
   "cell_type": "code",
   "execution_count": 225,
   "id": "ffe37104",
   "metadata": {},
   "outputs": [
    {
     "name": "stdout",
     "output_type": "stream",
     "text": [
      "0 0.015\n",
      "1 0.013\n",
      "2 0.013\n",
      "3 0.012\n",
      "4 0.012\n"
     ]
    }
   ],
   "source": [
    "opt = optim.AdamW(autoencoder.parameters(), lr=0.01)\n",
    "fit_autoencoder(5, autoencoder, F.mse_loss, opt, dt, dv)"
   ]
  },
  {
   "cell_type": "code",
   "execution_count": 226,
   "id": "19082f0e",
   "metadata": {},
   "outputs": [
    {
     "name": "stderr",
     "output_type": "stream",
     "text": [
      "C:\\Users\\shiro\\AppData\\Local\\Temp\\ipykernel_14692\\1569936870.py:5: UserWarning: Using a target size (torch.Size([256])) that is different to the input size (torch.Size([256, 1, 28, 28])). This will likely lead to incorrect results due to broadcasting. Please ensure they have the same size.\n",
      "  loss = loss_func(model(xb), yb)\n"
     ]
    },
    {
     "ename": "RuntimeError",
     "evalue": "The size of tensor a (28) must match the size of tensor b (256) at non-singleton dimension 3",
     "output_type": "error",
     "traceback": [
      "\u001b[1;31m---------------------------------------------------------------------------\u001b[0m",
      "\u001b[1;31mRuntimeError\u001b[0m                              Traceback (most recent call last)",
      "Cell \u001b[1;32mIn[226], line 2\u001b[0m\n\u001b[0;32m      1\u001b[0m opt \u001b[38;5;241m=\u001b[39m optim\u001b[38;5;241m.\u001b[39mSGD(autoencoder\u001b[38;5;241m.\u001b[39mparameters(), lr\u001b[38;5;241m=\u001b[39m\u001b[38;5;241m0.1\u001b[39m)\n\u001b[1;32m----> 2\u001b[0m fit(\u001b[38;5;241m5\u001b[39m, autoencoder, F\u001b[38;5;241m.\u001b[39mmse_loss, opt, dt, dv)\n",
      "Cell \u001b[1;32mIn[144], line 5\u001b[0m, in \u001b[0;36mfit\u001b[1;34m(epochs, model, loss_func, opt, train_dl, valid_dl)\u001b[0m\n\u001b[0;32m      3\u001b[0m model\u001b[38;5;241m.\u001b[39mtrain()\n\u001b[0;32m      4\u001b[0m \u001b[38;5;28;01mfor\u001b[39;00m xb,yb \u001b[38;5;129;01min\u001b[39;00m train_dl:\n\u001b[1;32m----> 5\u001b[0m     loss \u001b[38;5;241m=\u001b[39m loss_func(model(xb), yb)\n\u001b[0;32m      6\u001b[0m     loss\u001b[38;5;241m.\u001b[39mbackward()\n\u001b[0;32m      7\u001b[0m     opt\u001b[38;5;241m.\u001b[39mstep()\n",
      "File \u001b[1;32mC:\\ProgramData\\anaconda3\\Lib\\site-packages\\torch\\nn\\functional.py:3365\u001b[0m, in \u001b[0;36mmse_loss\u001b[1;34m(input, target, size_average, reduce, reduction)\u001b[0m\n\u001b[0;32m   3362\u001b[0m \u001b[38;5;28;01mif\u001b[39;00m size_average \u001b[38;5;129;01mis\u001b[39;00m \u001b[38;5;129;01mnot\u001b[39;00m \u001b[38;5;28;01mNone\u001b[39;00m \u001b[38;5;129;01mor\u001b[39;00m reduce \u001b[38;5;129;01mis\u001b[39;00m \u001b[38;5;129;01mnot\u001b[39;00m \u001b[38;5;28;01mNone\u001b[39;00m:\n\u001b[0;32m   3363\u001b[0m     reduction \u001b[38;5;241m=\u001b[39m _Reduction\u001b[38;5;241m.\u001b[39mlegacy_get_string(size_average, reduce)\n\u001b[1;32m-> 3365\u001b[0m expanded_input, expanded_target \u001b[38;5;241m=\u001b[39m torch\u001b[38;5;241m.\u001b[39mbroadcast_tensors(\u001b[38;5;28minput\u001b[39m, target)\n\u001b[0;32m   3366\u001b[0m \u001b[38;5;28;01mreturn\u001b[39;00m torch\u001b[38;5;241m.\u001b[39m_C\u001b[38;5;241m.\u001b[39m_nn\u001b[38;5;241m.\u001b[39mmse_loss(expanded_input, expanded_target, _Reduction\u001b[38;5;241m.\u001b[39mget_enum(reduction))\n",
      "File \u001b[1;32mC:\\ProgramData\\anaconda3\\Lib\\site-packages\\torch\\functional.py:76\u001b[0m, in \u001b[0;36mbroadcast_tensors\u001b[1;34m(*tensors)\u001b[0m\n\u001b[0;32m     74\u001b[0m \u001b[38;5;28;01mif\u001b[39;00m has_torch_function(tensors):\n\u001b[0;32m     75\u001b[0m     \u001b[38;5;28;01mreturn\u001b[39;00m handle_torch_function(broadcast_tensors, tensors, \u001b[38;5;241m*\u001b[39mtensors)\n\u001b[1;32m---> 76\u001b[0m \u001b[38;5;28;01mreturn\u001b[39;00m _VF\u001b[38;5;241m.\u001b[39mbroadcast_tensors(tensors)\n",
      "\u001b[1;31mRuntimeError\u001b[0m: The size of tensor a (28) must match the size of tensor b (256) at non-singleton dimension 3"
     ]
    }
   ],
   "source": [
    "opt = optim.SGD(autoencoder.parameters(), lr=0.1)\n",
    "fit(5, autoencoder, F.mse_loss, opt, dt, dv)"
   ]
  },
  {
   "cell_type": "code",
   "execution_count": null,
   "id": "c78c145f",
   "metadata": {
    "scrolled": true
   },
   "outputs": [],
   "source": [
    "p = autoencoder(x_batch)\n",
    "show_images(p[:16].data.cpu(), imsize=1.5)"
   ]
  },
  {
   "cell_type": "code",
   "execution_count": null,
   "id": "65b5c3b2",
   "metadata": {
    "scrolled": true
   },
   "outputs": [],
   "source": [
    "show_images(x_batch[:16].data.cpu(), imsize=1.5)"
   ]
  },
  {
   "cell_type": "code",
   "execution_count": null,
   "id": "16f90ac0",
   "metadata": {},
   "outputs": [],
   "source": []
  }
 ],
 "metadata": {
  "kernelspec": {
   "display_name": "Python 3 (ipykernel)",
   "language": "python",
   "name": "python3"
  },
  "language_info": {
   "codemirror_mode": {
    "name": "ipython",
    "version": 3
   },
   "file_extension": ".py",
   "mimetype": "text/x-python",
   "name": "python",
   "nbconvert_exporter": "python",
   "pygments_lexer": "ipython3",
   "version": "3.11.7"
  }
 },
 "nbformat": 4,
 "nbformat_minor": 5
}
