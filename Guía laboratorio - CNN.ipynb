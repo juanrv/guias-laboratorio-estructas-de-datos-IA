{
 "cells": [
  {
   "cell_type": "markdown",
   "id": "f85995d1",
   "metadata": {},
   "source": [
    "# Guía de Laboratorio - CNN y Autoencoder"
   ]
  },
  {
   "cell_type": "markdown",
   "id": "5cb54cb9",
   "metadata": {},
   "source": [
    "## Bases para Jupyter Notebook"
   ]
  },
  {
   "cell_type": "markdown",
   "id": "5f6c02cb",
   "metadata": {},
   "source": [
    "Las notebook son documentos creados con celdas, en algunas de ellas puedes escribir texto usando __markdown__ y en otras puedes ejecutar código en python.\n",
    "\n",
    "Puedes ejecutar una celda usando `Shift + Enter` o dando al boton `▶ Run`."
   ]
  },
  {
   "cell_type": "markdown",
   "id": "2bfb347b",
   "metadata": {},
   "source": [
    "Hay dos tipos de celda:\n",
    " - _`Markdown Cell`_: Son las celdas donde puedes escribir texto e incluso adjuntar imágenes, también aceptan LaTeX para la escritura de formulas. \n",
    " \n",
    " $$ \\begin{bmatrix}\n",
    "         a_{11} & a_{12} & \\cdots & a_{1n}\\\\\n",
    "         a_{21} & a_{22} & \\cdots & a_{2n}\\\\\n",
    "         \\vdots & \\vdots & \\ddots & \\vdots\\\\\n",
    "         a_{m1} & a_{m2} & \\cdots & a_{mn}\\\\ \n",
    "     \\end{bmatrix}\n",
    "     \\times\n",
    "     \\begin{bmatrix}\n",
    "         b_{11} & b_{12} & \\cdots & b_{1p}\\\\\n",
    "         b_{21} & b_{22} & \\cdots & b_{2p}\\\\\n",
    "         \\vdots & \\vdots & \\ddots & \\vdots\\\\\n",
    "         b_{n1} & b_{n2} & \\cdots & b_{np}\\\\\n",
    "     \\end{bmatrix}\n",
    "      =\n",
    "     \\begin{bmatrix}\n",
    "         c_{11} & c_{12} & \\cdots & c_{1p}\\\\\n",
    "         c_{21} & c_{22} & \\cdots & c_{2p}\\\\\n",
    "         \\vdots & \\vdots & \\ddots & \\vdots\\\\\n",
    "         c_{m1} & c_{m2} & \\cdots & c_{mp}\\\\\n",
    "     \\end{bmatrix}\\\\\n",
    "  c_{ij}= a_{i1} b_{1j} + a_{i2} b_{2j} +\\cdots+ a_{in} + b_{nj} = \\sum_{k=1}^n a_{ik}b_{kj}  $$\n",
    "  \n",
    "      Para ver como hacer esto puedes dar doble click a esta celda para ver su estructura.\n",
    "      \n",
    "  - _`Code Cell`_: Son las celdas donde puedes ejecutar codigo en python, el orden de ejecución aparece al lado izquierdo de la celda marcado con <kbd>In [#]</kbd>, en caso de tener algún tipo de salida esta aparecerá debajo de la celda y marcada al lado izquierdo con <kbd>Out [#]</kbd>."
   ]
  },
  {
   "cell_type": "code",
   "execution_count": 64,
   "id": "01a1007c",
   "metadata": {},
   "outputs": [
    {
     "data": {
      "text/plain": [
       "0.6666666666666666"
      ]
     },
     "execution_count": 64,
     "metadata": {},
     "output_type": "execute_result"
    }
   ],
   "source": [
    "2/3"
   ]
  },
  {
   "cell_type": "markdown",
   "id": "2550882b",
   "metadata": {},
   "source": [
    "Hay que tener en cuenta que no es necesario colocar `print()` ya que jupyter notebook ya asume que queremos ver el resultado de operaciones directas o variables"
   ]
  },
  {
   "cell_type": "code",
   "execution_count": 65,
   "id": "fcdae215",
   "metadata": {},
   "outputs": [
    {
     "data": {
      "text/plain": [
       "37"
      ]
     },
     "execution_count": 65,
     "metadata": {},
     "output_type": "execute_result"
    }
   ],
   "source": [
    "a = 37\n",
    "a"
   ]
  },
  {
   "cell_type": "markdown",
   "id": "6478dc0f",
   "metadata": {},
   "source": [
    "### Modos"
   ]
  },
  {
   "cell_type": "markdown",
   "id": "6f287b8a",
   "metadata": {},
   "source": [
    "En jupyter notebook hay dos modos, `Edit Mode` y `Command Mode`.\n",
    "\n",
    "- `Edit Mode`: Te permite editar las celdas, para editar una celda puedes dar doble click si es una _markdown cell_ o darle al `Enter`, la celda tendrá un borde verde en este modo.\n",
    "- `Command Mode`: Te permite editar la estructura general de la notebook."
   ]
  },
  {
   "cell_type": "markdown",
   "id": "b1ed6971",
   "metadata": {},
   "source": [
    "### Comandos"
   ]
  },
  {
   "cell_type": "markdown",
   "id": "dc1468c4",
   "metadata": {},
   "source": [
    "Comandos importantes a tener en cuenta para un correcto uso de las notebook:\n",
    "\n",
    "- `Shift + Enter`: Ejecutar las celdas seleccionadas y seleccionar la siguiente.\n",
    "- `Ctrl + Enter`: Ejecutar las celdas seleccionadas.\n",
    "- `Shift + Tab`: Ver información de una función.\n",
    "- `D+D`: En _command mode_, eliminar las celdas seleccionadas.\n",
    "- `0+0`: Reiniciar el kernel para ejecutar todo de nuevo.\n",
    "- `A`: En _command mode_, crea una celda arriba de la seleccionada\n",
    "- `B`: En _command mode_, crea una celda debajo de la seleccionada\n",
    "- `M`: En _command mode_, convierte la celda seleccionada en una _markdown cell_\n",
    "- `Y`: En _command mode_, convierte la celda seleccionada en una _code cell_\n",
    "\n",
    "Para ver más comandos es recomendado ver la sección <kbd>Help > Edit Keyboard Shortcuts</kbd> y agregar uno para el <kbd>Run All Cells Above</kbd>"
   ]
  },
  {
   "cell_type": "markdown",
   "id": "a5749334",
   "metadata": {},
   "source": [
    "## Imports Necesarios"
   ]
  },
  {
   "cell_type": "markdown",
   "id": "e8423140",
   "metadata": {},
   "source": [
    "Imports necesarios para la guía de laboratorio"
   ]
  },
  {
   "cell_type": "code",
   "execution_count": 66,
   "id": "bae609db",
   "metadata": {},
   "outputs": [],
   "source": [
    "import pickle,gzip,math,os,time,shutil,torch,matplotlib as mpl,numpy as np,matplotlib.pyplot as plt\n",
    "import fastcore.all as fc\n",
    "import pandas as pd\n",
    "from collections.abc import Mapping\n",
    "from pathlib import Path\n",
    "from operator import attrgetter,itemgetter\n",
    "from functools import partial\n",
    "from __future__ import annotations\n",
    "from itertools import zip_longest\n",
    "\n",
    "from torch import tensor,nn,optim\n",
    "from torch.utils.data import DataLoader,default_collate, SequentialSampler, RandomSampler, BatchSampler\n",
    "import torch.nn.functional as F\n",
    "import torchvision.transforms.functional as TF\n",
    "from datasets import load_dataset,load_dataset_builder\n",
    "\n",
    "from fastprogress import progress_bar,master_bar\n",
    "from typing import Mapping\n",
    "from fastcore.test import test_close"
   ]
  },
  {
   "cell_type": "code",
   "execution_count": 67,
   "id": "0e2c71c8",
   "metadata": {},
   "outputs": [],
   "source": [
    "import logging\n",
    "logging.disable(logging.WARNING)"
   ]
  },
  {
   "cell_type": "markdown",
   "id": "30302ff9",
   "metadata": {},
   "source": [
    "## Bases"
   ]
  },
  {
   "cell_type": "markdown",
   "id": "076e28c7",
   "metadata": {},
   "source": [
    "### Multiplicación de Matrices"
   ]
  },
  {
   "cell_type": "markdown",
   "id": "20112afa",
   "metadata": {},
   "source": [
    "### Tensores"
   ]
  },
  {
   "cell_type": "code",
   "execution_count": 145,
   "id": "cc6f7706",
   "metadata": {},
   "outputs": [],
   "source": [
    "from torch import tensor"
   ]
  },
  {
   "cell_type": "markdown",
   "id": "50a6e8d5",
   "metadata": {},
   "source": [
    "En matemáticas los tensores son una generalización de escalares, vectores y matrices, los tensores se pueden clasificar segun su rango, teniendo n-rangos."
   ]
  },
  {
   "cell_type": "markdown",
   "id": "9c21848c",
   "metadata": {},
   "source": [
    "Ejemplo de un tensor de rango 0 o simplemente un escalar."
   ]
  },
  {
   "cell_type": "code",
   "execution_count": 146,
   "id": "a99725bb",
   "metadata": {},
   "outputs": [
    {
     "data": {
      "text/plain": [
       "tensor(14029309)"
      ]
     },
     "execution_count": 146,
     "metadata": {},
     "output_type": "execute_result"
    }
   ],
   "source": [
    "a = tensor(14029309)\n",
    "a"
   ]
  },
  {
   "cell_type": "code",
   "execution_count": 147,
   "id": "e9bd9037",
   "metadata": {
    "scrolled": true
   },
   "outputs": [
    {
     "data": {
      "text/plain": [
       "tensor(9902320)"
      ]
     },
     "execution_count": 147,
     "metadata": {},
     "output_type": "execute_result"
    }
   ],
   "source": [
    "a = 9902320\n",
    "tensor = torch.tensor(a)\n",
    "tensor"
   ]
  },
  {
   "cell_type": "markdown",
   "id": "ef9e5598",
   "metadata": {},
   "source": [
    "Ejemplo de un tensor de rango 1 o vector."
   ]
  },
  {
   "cell_type": "code",
   "execution_count": 148,
   "id": "d1d519af",
   "metadata": {},
   "outputs": [
    {
     "data": {
      "text/plain": [
       "tensor([ 3.00,  2.10, 42.00, 13.00])"
      ]
     },
     "execution_count": 148,
     "metadata": {},
     "output_type": "execute_result"
    }
   ],
   "source": [
    "a = [3,2.1,42,13]\n",
    "tensor = torch.tensor(a)\n",
    "tensor"
   ]
  },
  {
   "cell_type": "markdown",
   "id": "2b1ecced",
   "metadata": {},
   "source": [
    "Ejemplo de un tensor de rango 2 o matriz."
   ]
  },
  {
   "cell_type": "code",
   "execution_count": 149,
   "id": "59cabf8c",
   "metadata": {},
   "outputs": [
    {
     "data": {
      "text/plain": [
       "tensor([[4, 3, 1],\n",
       "        [4, 4, 1]])"
      ]
     },
     "execution_count": 149,
     "metadata": {},
     "output_type": "execute_result"
    }
   ],
   "source": [
    "tensor = [[4,3,1], [4,4,1]]\n",
    "tensor = torch.tensor(tensor)\n",
    "tensor"
   ]
  },
  {
   "cell_type": "markdown",
   "id": "c86b980c",
   "metadata": {},
   "source": [
    "Podemos crear tensores de diferentes formas y tamaños."
   ]
  },
  {
   "cell_type": "code",
   "execution_count": 150,
   "id": "fb347906",
   "metadata": {},
   "outputs": [
    {
     "data": {
      "text/plain": [
       "tensor([[0.26, 0.52, 0.40],\n",
       "        [0.67, 0.93, 0.65]])"
      ]
     },
     "execution_count": 150,
     "metadata": {},
     "output_type": "execute_result"
    }
   ],
   "source": [
    "shape = (2,3)\n",
    "tensor = torch.rand(shape)\n",
    "tensor"
   ]
  },
  {
   "cell_type": "markdown",
   "id": "f6a398b4",
   "metadata": {},
   "source": [
    "Tensor de rango 3"
   ]
  },
  {
   "cell_type": "code",
   "execution_count": 151,
   "id": "e63d78e9",
   "metadata": {},
   "outputs": [
    {
     "data": {
      "text/plain": [
       "tensor([[[0.34, 0.25, 0.06, 0.92],\n",
       "         [0.41, 0.60, 0.52, 0.18],\n",
       "         [0.78, 0.78, 0.53, 0.22]],\n",
       "\n",
       "        [[0.29, 0.51, 0.21, 0.22],\n",
       "         [0.43, 0.36, 0.62, 0.37],\n",
       "         [0.43, 0.31, 0.04, 0.94]],\n",
       "\n",
       "        [[0.60, 0.95, 0.42, 0.37],\n",
       "         [0.03, 0.31, 0.83, 0.01],\n",
       "         [0.33, 0.80, 0.79, 0.68]],\n",
       "\n",
       "        [[0.40, 0.46, 0.41, 0.32],\n",
       "         [0.71, 0.33, 0.22, 0.61],\n",
       "         [0.14, 0.39, 0.76, 0.69]],\n",
       "\n",
       "        [[0.93, 0.16, 0.50, 0.35],\n",
       "         [0.22, 0.22, 0.63, 0.55],\n",
       "         [0.24, 0.15, 0.09, 0.99]]])"
      ]
     },
     "execution_count": 151,
     "metadata": {},
     "output_type": "execute_result"
    }
   ],
   "source": [
    "shape = (5,3,4)\n",
    "tensor = torch.rand(shape)\n",
    "tensor"
   ]
  },
  {
   "cell_type": "markdown",
   "id": "818a41d3",
   "metadata": {},
   "source": [
    "Tensor de rango 4"
   ]
  },
  {
   "cell_type": "code",
   "execution_count": 152,
   "id": "473ab101",
   "metadata": {
    "scrolled": true
   },
   "outputs": [
    {
     "data": {
      "text/plain": [
       "tensor([[[[0.41, 0.38],\n",
       "          [0.32, 0.25],\n",
       "          [0.04, 0.21],\n",
       "          [0.81, 0.61]],\n",
       "\n",
       "         [[0.32, 0.31],\n",
       "          [0.82, 0.86],\n",
       "          [0.98, 0.65],\n",
       "          [0.74, 0.46]],\n",
       "\n",
       "         [[0.21, 0.01],\n",
       "          [0.80, 0.43],\n",
       "          [0.71, 0.52],\n",
       "          [0.03, 0.25]]],\n",
       "\n",
       "\n",
       "        [[[0.64, 0.40],\n",
       "          [0.02, 0.68],\n",
       "          [0.52, 0.34],\n",
       "          [0.70, 0.61]],\n",
       "\n",
       "         [[0.32, 0.95],\n",
       "          [0.75, 0.56],\n",
       "          [0.40, 0.08],\n",
       "          [0.89, 0.37]],\n",
       "\n",
       "         [[0.18, 0.82],\n",
       "          [0.68, 0.62],\n",
       "          [0.40, 0.34],\n",
       "          [0.58, 0.89]]],\n",
       "\n",
       "\n",
       "        [[[0.57, 0.26],\n",
       "          [1.00, 0.51],\n",
       "          [0.90, 0.62],\n",
       "          [0.95, 0.79]],\n",
       "\n",
       "         [[0.25, 0.85],\n",
       "          [0.50, 0.10],\n",
       "          [0.40, 0.05],\n",
       "          [0.24, 0.15]],\n",
       "\n",
       "         [[0.84, 0.39],\n",
       "          [0.41, 0.74],\n",
       "          [0.70, 0.17],\n",
       "          [0.68, 0.71]]],\n",
       "\n",
       "\n",
       "        [[[0.10, 0.93],\n",
       "          [0.20, 0.30],\n",
       "          [0.09, 0.96],\n",
       "          [0.60, 0.92]],\n",
       "\n",
       "         [[0.53, 0.77],\n",
       "          [0.34, 0.10],\n",
       "          [0.58, 0.46],\n",
       "          [0.45, 0.25]],\n",
       "\n",
       "         [[0.51, 0.64],\n",
       "          [0.68, 0.10],\n",
       "          [0.74, 0.55],\n",
       "          [0.84, 0.85]]],\n",
       "\n",
       "\n",
       "        [[[0.11, 0.98],\n",
       "          [0.01, 0.79],\n",
       "          [0.54, 0.74],\n",
       "          [0.23, 0.80]],\n",
       "\n",
       "         [[0.25, 0.06],\n",
       "          [0.67, 0.77],\n",
       "          [1.00, 0.45],\n",
       "          [0.98, 0.82]],\n",
       "\n",
       "         [[0.25, 0.11],\n",
       "          [0.78, 0.23],\n",
       "          [0.73, 0.07],\n",
       "          [0.86, 0.65]]]])"
      ]
     },
     "execution_count": 152,
     "metadata": {},
     "output_type": "execute_result"
    }
   ],
   "source": [
    "shape = (5,3,4,2)\n",
    "tensor = torch.rand(shape)\n",
    "tensor"
   ]
  },
  {
   "cell_type": "markdown",
   "id": "a5779b40",
   "metadata": {},
   "source": [
    "Suma de tensores con escalares"
   ]
  },
  {
   "cell_type": "code",
   "execution_count": 153,
   "id": "dd01ffcd",
   "metadata": {},
   "outputs": [
    {
     "data": {
      "text/plain": [
       "(tensor([0.44, 0.73]), tensor([1.44, 1.73]))"
      ]
     },
     "execution_count": 153,
     "metadata": {},
     "output_type": "execute_result"
    }
   ],
   "source": [
    "tensor = torch.rand(2)\n",
    "tensor, tensor + 1"
   ]
  },
  {
   "cell_type": "markdown",
   "id": "d68c2033",
   "metadata": {},
   "source": [
    "Multiplicación de tensores por escalar"
   ]
  },
  {
   "cell_type": "code",
   "execution_count": 154,
   "id": "c4dd1c60",
   "metadata": {},
   "outputs": [
    {
     "data": {
      "text/plain": [
       "(tensor([1., 1., 1.]), tensor([2., 2., 2.]), tensor([45., 45., 45.]))"
      ]
     },
     "execution_count": 154,
     "metadata": {},
     "output_type": "execute_result"
    }
   ],
   "source": [
    "tensor = torch.ones(3)\n",
    "tensor, tensor * 2, tensor * 45"
   ]
  },
  {
   "cell_type": "markdown",
   "id": "8a60eb6e",
   "metadata": {},
   "source": [
    "También podemos hacer multiplicaciones de matrices con tensores"
   ]
  },
  {
   "cell_type": "code",
   "execution_count": 162,
   "id": "b727cfe1",
   "metadata": {},
   "outputs": [
    {
     "data": {
      "text/plain": [
       "(tensor([[0.14, 0.53],\n",
       "         [0.23, 0.31]]),\n",
       " torch.Size([2, 2]))"
      ]
     },
     "execution_count": 162,
     "metadata": {},
     "output_type": "execute_result"
    }
   ],
   "source": [
    "a = torch.rand(2,3)\n",
    "b = torch.rand(3,2)\n",
    "a @ b, (a @ b).shape"
   ]
  },
  {
   "cell_type": "markdown",
   "id": "a9bcef56",
   "metadata": {},
   "source": [
    "### Optimizer, Data Set y Data Loader"
   ]
  },
  {
   "cell_type": "code",
   "execution_count": 69,
   "id": "e543fefc",
   "metadata": {},
   "outputs": [],
   "source": [
    "class Optimizer():\n",
    "    def __init__(self, params, lr=0.5): \n",
    "        #Hacemos los params list porque puede ser un generator, que recuerda\n",
    "        #que es un iterable\n",
    "        self.params = list(params)\n",
    "        self.lr = lr\n",
    "\n",
    "    def step(self):\n",
    "        with torch.no_grad():\n",
    "            for p in self.params: p -= p.grad * self.lr\n",
    "\n",
    "    def zero_grad(self):\n",
    "        for p in self.params: p.grad.data.zero_()"
   ]
  },
  {
   "cell_type": "code",
   "execution_count": 70,
   "id": "dfadb6be",
   "metadata": {},
   "outputs": [],
   "source": [
    "class Dataset():\n",
    "    def __init__(self, x, y): self.x,self.y = x,y\n",
    "    def __len__(self): return len(self.x)\n",
    "    #El __getitem__ es lo que nos da los valores cuando hacemos por ejemplo \n",
    "    #Dataset[n:m]\n",
    "    def __getitem__(self, i): return self.x[i],self.y[i]"
   ]
  },
  {
   "cell_type": "code",
   "execution_count": 71,
   "id": "b9957ac7",
   "metadata": {},
   "outputs": [],
   "source": [
    "class DataLoaders:\n",
    "    def __init__(self, *dls): self.train,self.valid = dls[:2]\n",
    "\n",
    "    @classmethod\n",
    "    def from_dd(cls, dd, batch_size, as_tuple=True, **kwargs):\n",
    "        f = collate_dict(dd['train'])\n",
    "        return cls(*get_dls(*dd.values(), bs=batch_size, collate_fn=f, **kwargs))"
   ]
  },
  {
   "cell_type": "markdown",
   "id": "58f7ccfb",
   "metadata": {},
   "source": [
    "Una función `collate` se encarga de convertir un conjunto de datos en otro que nos interesa, en este caso tenemos una función `collate_dict`que se encarga de convertir un diccionario en un DataSet de tuplas de la forma `(x , y)`, con `x` siendo los datos de entrenamiento y `y` las labels"
   ]
  },
  {
   "cell_type": "code",
   "execution_count": 72,
   "id": "a8aa1adc",
   "metadata": {},
   "outputs": [],
   "source": [
    "def collate_dict(ds):\n",
    "    get = itemgetter(*ds.features)\n",
    "    def _f(b): return get(default_collate(b))\n",
    "    return _f"
   ]
  },
  {
   "cell_type": "markdown",
   "id": "409a28dc",
   "metadata": {},
   "source": [
    "Definir la accuracy aquí con Ernesto"
   ]
  },
  {
   "cell_type": "code",
   "execution_count": 73,
   "id": "00d78c20",
   "metadata": {},
   "outputs": [],
   "source": [
    "def accuracy(out, yb): return (out.argmax(dim=1)==yb).float().mean()"
   ]
  },
  {
   "cell_type": "code",
   "execution_count": 74,
   "id": "c305ce14",
   "metadata": {},
   "outputs": [],
   "source": [
    "def report(loss, preds, yb): print(f'{loss:.2f}, {accuracy(preds, yb):.2f}')"
   ]
  },
  {
   "cell_type": "code",
   "execution_count": 68,
   "id": "7dfc4ce0",
   "metadata": {},
   "outputs": [],
   "source": [
    "def inplace(f):\n",
    "    def _f(b):\n",
    "        f(b)\n",
    "        return b\n",
    "    return _f"
   ]
  },
  {
   "cell_type": "markdown",
   "id": "0add1eb0",
   "metadata": {},
   "source": [
    "## Función de Entrenamiento"
   ]
  },
  {
   "cell_type": "markdown",
   "id": "4601a6de",
   "metadata": {},
   "source": [
    "Teoría de la fit"
   ]
  },
  {
   "cell_type": "code",
   "execution_count": 75,
   "id": "6c5cd897",
   "metadata": {},
   "outputs": [],
   "source": [
    "def fit(epochs, model, loss_func, opt, train_dl, valid_dl):\n",
    "    for epoch in range(epochs):\n",
    "        model.train()\n",
    "        for xb,yb in train_dl:\n",
    "            loss = loss_func(model(xb), yb)\n",
    "            loss.backward()\n",
    "            opt.step()\n",
    "            opt.zero_grad()\n",
    "\n",
    "        model.eval()\n",
    "        with torch.no_grad():\n",
    "            tot_loss,tot_acc,count = 0.,0.,0\n",
    "            for xb,yb in valid_dl:\n",
    "                pred = model(xb)\n",
    "                n = len(xb)\n",
    "                count += n\n",
    "                tot_loss += loss_func(pred,yb).item()*n\n",
    "                tot_acc  += accuracy (pred,yb).item()*n\n",
    "        print(epoch, tot_loss/count, tot_acc/count)\n",
    "    return tot_loss/count, tot_acc/count"
   ]
  },
  {
   "cell_type": "markdown",
   "id": "b26adbc4",
   "metadata": {},
   "source": [
    "La función `get_dls` se encarga de crear los Data Loaders de los Data Sets que pasamos.\n",
    "\n",
    "* `train_ds`: Data set de entrenamiento.\n",
    "* `valid_ds`: Data set de validación.\n",
    "* `bs`: _Batch size_.\n",
    "* `**kwargs`: Otros argumentos nombrados, como <kbd>shuffle = False</kbd>.\n",
    "* `shuffle = True`: Crea data loaders tomando datos aleatorios del data set, \n",
    "* `shuffle = False`: Crea los data loaders en orden\n",
    "\n",
    "Ejemplo para llamar la función:\n",
    "```\n",
    "DataLoaders = get_dls(train_ds, valid_ds, 256, shuffle = False, collate_fn = collate_dict)\n",
    "```"
   ]
  },
  {
   "cell_type": "code",
   "execution_count": 76,
   "id": "15e55b16",
   "metadata": {},
   "outputs": [],
   "source": [
    "def get_dls(train_ds, valid_ds, bs, **kwargs):\n",
    "    return (DataLoader(train_ds, batch_size=bs, shuffle=True, **kwargs),\n",
    "            DataLoader(valid_ds, batch_size=bs*2, **kwargs))"
   ]
  },
  {
   "cell_type": "raw",
   "id": "d2cc36d9",
   "metadata": {},
   "source": [
    "def conv(ni, nf, ks=3, stride=2, act=True):\n",
    "    res = nn.Conv2d(ni, nf, stride=stride, kernel_size=ks, padding=ks//2)\n",
    "    if act: res = nn.Sequential(res, nn.ReLU())\n",
    "    return res"
   ]
  },
  {
   "cell_type": "markdown",
   "id": "4dd4110a",
   "metadata": {},
   "source": [
    "En esta parte solo definimos unas funciones para envíar los datos al dispositivo\n",
    "\n",
    "* `mps`: Para dispositivos Apple que usen un chip M1 en adelante.\n",
    "* `cuda`: Para dispositivos que tengan tarjetas gráficas compatibles de NVIDIA\n",
    "* `cpu`: En caso de no tener alguno de estos dispositivos lo enviamos a la CPU"
   ]
  },
  {
   "cell_type": "code",
   "execution_count": 77,
   "id": "21d2a8d9",
   "metadata": {},
   "outputs": [],
   "source": [
    "def_device = 'mps' if torch.backends.mps.is_available() else 'cuda' if torch.cuda.is_available() else 'cpu'\n",
    "\n",
    "def to_device(x, device=def_device):\n",
    "    if isinstance(x, torch.Tensor): return x.to(device)\n",
    "    if isinstance(x, Mapping): return {k:v.to(device) for k,v in x.items()}\n",
    "    return type(x)(to_device(o, device) for o in x)\n",
    "\n",
    "def collate_device(b): return to_device(default_collate(b))"
   ]
  },
  {
   "cell_type": "markdown",
   "id": "cc43a478",
   "metadata": {},
   "source": [
    "### Funciones de Impresion de Imágenes"
   ]
  },
  {
   "cell_type": "markdown",
   "id": "893e5009",
   "metadata": {},
   "source": [
    "Las siguientes 3 celdas solo son funciones para mostrar las imágenes, no es necesario prestarles demasiada atención"
   ]
  },
  {
   "cell_type": "code",
   "execution_count": 78,
   "id": "62d2c60b",
   "metadata": {},
   "outputs": [],
   "source": [
    "@fc.delegates(plt.Axes.imshow)\n",
    "def show_image(im, ax=None, figsize=None, title=None, noframe=True, **kwargs):\n",
    "    \"Show a PIL or PyTorch image on `ax`.\"\n",
    "    if fc.hasattrs(im, ('cpu','permute','detach')):\n",
    "        im = im.detach().cpu()\n",
    "        if len(im.shape)==3 and im.shape[0]<5: im=im.permute(1,2,0)\n",
    "    elif not isinstance(im,np.ndarray): im=np.array(im)\n",
    "    if im.shape[-1]==1: im=im[...,0]\n",
    "    if ax is None: _,ax = plt.subplots(figsize=figsize)\n",
    "    ax.imshow(im, **kwargs)\n",
    "    if title is not None: ax.set_title(title)\n",
    "    ax.set_xticks([]) \n",
    "    ax.set_yticks([]) \n",
    "    if noframe: ax.axis('off')\n",
    "    return ax"
   ]
  },
  {
   "cell_type": "code",
   "execution_count": 79,
   "id": "1fa667d6",
   "metadata": {},
   "outputs": [],
   "source": [
    "@fc.delegates(plt.subplots, keep=True)\n",
    "def subplots(\n",
    "    nrows:int=1, # Number of rows in returned axes grid\n",
    "    ncols:int=1, # Number of columns in returned axes grid\n",
    "    figsize:tuple=None, # Width, height in inches of the returned figure\n",
    "    imsize:int=3, # Size (in inches) of images that will be displayed in the returned figure\n",
    "    suptitle:str=None, # Title to be set to returned figure\n",
    "    **kwargs\n",
    "): # fig and axs\n",
    "    \"A figure and set of subplots to display images of `imsize` inches\"\n",
    "    if figsize is None: figsize=(ncols*imsize, nrows*imsize)\n",
    "    fig,ax = plt.subplots(nrows, ncols, figsize=figsize, **kwargs)\n",
    "    if suptitle is not None: fig.suptitle(suptitle)\n",
    "    if nrows*ncols==1: ax = np.array([ax])\n",
    "    return fig,ax"
   ]
  },
  {
   "cell_type": "code",
   "execution_count": 80,
   "id": "2bb2f59a",
   "metadata": {},
   "outputs": [],
   "source": [
    "@fc.delegates(subplots)\n",
    "def get_grid(\n",
    "    n:int, # Number of axes\n",
    "    nrows:int=None, # Number of rows, defaulting to `int(math.sqrt(n))`\n",
    "    ncols:int=None, # Number of columns, defaulting to `ceil(n/rows)`\n",
    "    title:str=None, # If passed, title set to the figure\n",
    "    weight:str='bold', # Title font weight\n",
    "    size:int=14, # Title font size\n",
    "    **kwargs,\n",
    "): # fig and axs\n",
    "    \"Return a grid of `n` axes, `rows` by `cols`\"\n",
    "    if nrows: ncols = ncols or int(np.floor(n/nrows))\n",
    "    elif ncols: nrows = nrows or int(np.ceil(n/ncols))\n",
    "    else:\n",
    "        nrows = int(math.sqrt(n))\n",
    "        ncols = int(np.floor(n/nrows))\n",
    "    fig,axs = subplots(nrows, ncols, **kwargs)\n",
    "    for i in range(n, nrows*ncols): axs.flat[i].set_axis_off()\n",
    "    if title is not None: fig.suptitle(title, weight=weight, size=size)\n",
    "    return fig,axs"
   ]
  },
  {
   "cell_type": "code",
   "execution_count": 81,
   "id": "2d69963f",
   "metadata": {},
   "outputs": [],
   "source": [
    "@fc.delegates(subplots)\n",
    "def show_images(ims:list, # Images to show\n",
    "                nrows:int|None=None, # Number of rows in grid\n",
    "                ncols:int|None=None, # Number of columns in grid (auto-calculated if None)\n",
    "                titles:list|None=None, # Optional list of titles for each image\n",
    "                **kwargs):\n",
    "    \"Show all images `ims` as subplots with `rows` using `titles`\"\n",
    "    axs = get_grid(len(ims), nrows, ncols, **kwargs)[1].flat\n",
    "    for im,t,ax in zip_longest(ims, titles or [], axs): show_image(im, ax=ax, title=t)"
   ]
  },
  {
   "cell_type": "markdown",
   "id": "862b82bd",
   "metadata": {},
   "source": [
    "Configuración adicional para mostrar las imágenes"
   ]
  },
  {
   "cell_type": "code",
   "execution_count": 82,
   "id": "f37e9297",
   "metadata": {},
   "outputs": [],
   "source": [
    "torch.set_printoptions(precision=2, linewidth=140, sci_mode=False)\n",
    "torch.manual_seed(1)\n",
    "mpl.rcParams['image.cmap'] = 'gray'\n",
    "mpl.rcParams['figure.dpi'] = 70"
   ]
  },
  {
   "cell_type": "markdown",
   "id": "86ebbc4d",
   "metadata": {},
   "source": [
    "## Presentación de los Datos"
   ]
  },
  {
   "cell_type": "markdown",
   "id": "2670f19b",
   "metadata": {},
   "source": [
    "Vamos a tomar los datos de **Fashion Mnist**, es un conjunto de datos que consiste en 60.000 ejemplar de entrenamiento y 10.000 ejemplar de validación, cada ejemplar consiste en una imagen de 28x28 pixeles en escala de grises además de una etiqueta correspondiente."
   ]
  },
  {
   "cell_type": "code",
   "execution_count": 83,
   "id": "8cde1d4d",
   "metadata": {},
   "outputs": [
    {
     "name": "stdout",
     "output_type": "stream",
     "text": [
      "Fashion-MNIST is a dataset of Zalando's article images—consisting of a training set of\n",
      "60,000 examples and a test set of 10,000 examples. Each example is a 28x28 grayscale image,\n",
      "associated with a label from 10 classes. We intend Fashion-MNIST to serve as a direct drop-in\n",
      "replacement for the original MNIST dataset for benchmarking machine learning algorithms.\n",
      "It shares the same image size and structure of training and testing splits.\n",
      "\n"
     ]
    }
   ],
   "source": [
    "name = \"fashion_mnist\"\n",
    "ds_builder = load_dataset_builder(name, trust_remote_code=True)\n",
    "print(ds_builder.info.description)"
   ]
  },
  {
   "cell_type": "markdown",
   "id": "0d9a48bd",
   "metadata": {},
   "source": [
    "Con `ds_builder.info.features` podemos ver las caracteríticas de los datos."
   ]
  },
  {
   "cell_type": "code",
   "execution_count": 84,
   "id": "122de261",
   "metadata": {
    "scrolled": true
   },
   "outputs": [
    {
     "data": {
      "text/plain": [
       "{'image': Image(mode=None, decode=True, id=None),\n",
       " 'label': ClassLabel(names=['T - shirt / top', 'Trouser', 'Pullover', 'Dress', 'Coat', 'Sandal', 'Shirt', 'Sneaker', 'Bag', 'Ankle boot'], id=None)}"
      ]
     },
     "execution_count": 84,
     "metadata": {},
     "output_type": "execute_result"
    }
   ],
   "source": [
    "ds_builder.info.features"
   ]
  },
  {
   "cell_type": "markdown",
   "id": "8af7f508",
   "metadata": {},
   "source": [
    "Con `ds_builder.info.splits` podemos ver como están separados los datos."
   ]
  },
  {
   "cell_type": "code",
   "execution_count": 85,
   "id": "5bcf927a",
   "metadata": {},
   "outputs": [
    {
     "data": {
      "text/plain": [
       "{'train': SplitInfo(name='train', num_bytes=31296607, num_examples=60000, shard_lengths=None, dataset_name='fashion_mnist'),\n",
       " 'test': SplitInfo(name='test', num_bytes=5233810, num_examples=10000, shard_lengths=None, dataset_name='fashion_mnist')}"
      ]
     },
     "execution_count": 85,
     "metadata": {},
     "output_type": "execute_result"
    }
   ],
   "source": [
    "ds_builder.info.splits"
   ]
  },
  {
   "cell_type": "code",
   "execution_count": 86,
   "id": "e3bd38a9",
   "metadata": {},
   "outputs": [],
   "source": [
    "x,y = 'image','label'\n",
    "dsd = load_dataset(name, trust_remote_code=True)"
   ]
  },
  {
   "cell_type": "markdown",
   "id": "ee8cef86",
   "metadata": {},
   "source": [
    "Tengo algo de dudas con el inplace, preguntar a erneston\n",
    "\n",
    "Esta función simplemente se encarga de transformar los datos en tensores"
   ]
  },
  {
   "cell_type": "code",
   "execution_count": 87,
   "id": "e6b32b13",
   "metadata": {},
   "outputs": [],
   "source": [
    "@inplace\n",
    "def transformi(b): b[x] = [TF.to_tensor(o) for o in b[x]]"
   ]
  },
  {
   "cell_type": "code",
   "execution_count": 88,
   "id": "72e01ef7",
   "metadata": {},
   "outputs": [],
   "source": [
    "batch_size = 256\n",
    "transformed_dataset = dsd.with_transform(transformi)"
   ]
  },
  {
   "cell_type": "code",
   "execution_count": 89,
   "id": "20f68855",
   "metadata": {},
   "outputs": [
    {
     "data": {
      "text/plain": [
       "DatasetDict({\n",
       "    train: Dataset({\n",
       "        features: ['image', 'label'],\n",
       "        num_rows: 60000\n",
       "    })\n",
       "    test: Dataset({\n",
       "        features: ['image', 'label'],\n",
       "        num_rows: 10000\n",
       "    })\n",
       "})"
      ]
     },
     "execution_count": 89,
     "metadata": {},
     "output_type": "execute_result"
    }
   ],
   "source": [
    "transformed_dataset"
   ]
  },
  {
   "cell_type": "code",
   "execution_count": 90,
   "id": "12d1b32e",
   "metadata": {},
   "outputs": [
    {
     "data": {
      "text/plain": [
       "Dataset({\n",
       "    features: ['image', 'label'],\n",
       "    num_rows: 60000\n",
       "})"
      ]
     },
     "execution_count": 90,
     "metadata": {},
     "output_type": "execute_result"
    }
   ],
   "source": [
    "transformed_dataset['train']"
   ]
  },
  {
   "cell_type": "markdown",
   "id": "f01f0918",
   "metadata": {},
   "source": [
    "Aquí podemos ver la primera imagen del Dataset de entrenamiento."
   ]
  },
  {
   "cell_type": "code",
   "execution_count": 95,
   "id": "060638ab",
   "metadata": {},
   "outputs": [
    {
     "data": {
      "image/png": "[encoded data removed]",
      "text/plain": [
       "<Figure size 70x70 with 1 Axes>"
      ]
     },
     "metadata": {},
     "output_type": "display_data"
    }
   ],
   "source": [
    "ds = transformed_dataset['train']\n",
    "img = ds[0]['image']\n",
    "show_image(img, figsize=(1,1));"
   ]
  },
  {
   "cell_type": "code",
   "execution_count": 96,
   "id": "e84e4bb6",
   "metadata": {},
   "outputs": [],
   "source": [
    "collate_function = collate_dict(ds)"
   ]
  },
  {
   "cell_type": "markdown",
   "id": "ddc9ef0c",
   "metadata": {},
   "source": [
    "Aquí definimos una función para crear los data loaders en nuestro caso"
   ]
  },
  {
   "cell_type": "code",
   "execution_count": 97,
   "id": "831feeb9",
   "metadata": {},
   "outputs": [],
   "source": [
    "def collate_(b): return to_device(collate_function(b))\n",
    "def data_loaders(dsd, bs, **kwargs): return {k:DataLoader(v, bs, **kwargs) for k,v in dsd.items()}"
   ]
  },
  {
   "cell_type": "code",
   "execution_count": 98,
   "id": "3e772860",
   "metadata": {},
   "outputs": [],
   "source": [
    "dls = data_loaders(transformed_dataset, batch_size, collate_fn = collate_)"
   ]
  },
  {
   "cell_type": "code",
   "execution_count": 99,
   "id": "979ec730",
   "metadata": {},
   "outputs": [
    {
     "data": {
      "text/plain": [
       "{'train': <torch.utils.data.dataloader.DataLoader at 0x14f9c8e8dd0>,\n",
       " 'test': <torch.utils.data.dataloader.DataLoader at 0x14fa206e010>}"
      ]
     },
     "execution_count": 99,
     "metadata": {},
     "output_type": "execute_result"
    }
   ],
   "source": [
    "dls"
   ]
  },
  {
   "cell_type": "markdown",
   "id": "99f788a8",
   "metadata": {},
   "source": [
    "- `dt`: Data Loader Training\n",
    "- `dv`: data Loader Validation"
   ]
  },
  {
   "cell_type": "code",
   "execution_count": 100,
   "id": "be1623e6",
   "metadata": {},
   "outputs": [],
   "source": [
    "dt = dls['train']\n",
    "dv = dls['test']"
   ]
  },
  {
   "cell_type": "code",
   "execution_count": 102,
   "id": "f4067c24",
   "metadata": {},
   "outputs": [],
   "source": [
    "x_batch, y_batch = next(iter(dt))"
   ]
  },
  {
   "cell_type": "markdown",
   "id": "8c38e5c7",
   "metadata": {},
   "source": [
    "Aquí podemos ver que el `x_batch` consiste de 256 imágenes de 28x28."
   ]
  },
  {
   "cell_type": "code",
   "execution_count": 103,
   "id": "716293e0",
   "metadata": {},
   "outputs": [
    {
     "data": {
      "text/plain": [
       "torch.Size([256, 1, 28, 28])"
      ]
     },
     "execution_count": 103,
     "metadata": {},
     "output_type": "execute_result"
    }
   ],
   "source": [
    "x_batch.shape"
   ]
  },
  {
   "cell_type": "markdown",
   "id": "a5a4db0b",
   "metadata": {},
   "source": [
    "Y aquí podemos ver que `y_batch` simplemente tiene las 256 etiquetas"
   ]
  },
  {
   "cell_type": "code",
   "execution_count": 104,
   "id": "5c186676",
   "metadata": {},
   "outputs": [
    {
     "data": {
      "text/plain": [
       "torch.Size([256])"
      ]
     },
     "execution_count": 104,
     "metadata": {},
     "output_type": "execute_result"
    }
   ],
   "source": [
    "y_batch.shape"
   ]
  },
  {
   "cell_type": "code",
   "execution_count": 163,
   "id": "4f06a45d",
   "metadata": {},
   "outputs": [
    {
     "data": {
      "text/plain": [
       "tensor(0, device='cuda:0')"
      ]
     },
     "execution_count": 163,
     "metadata": {},
     "output_type": "execute_result"
    }
   ],
   "source": [
    "y_batch[1]"
   ]
  },
  {
   "cell_type": "code",
   "execution_count": 164,
   "id": "bd65900d",
   "metadata": {
    "scrolled": true
   },
   "outputs": [
    {
     "data": {
      "text/plain": [
       "tensor([[[[0., 0., 0.,  ..., 0., 0., 0.],\n",
       "          [0., 0., 0.,  ..., 0., 0., 0.],\n",
       "          [0., 0., 0.,  ..., 0., 0., 0.],\n",
       "          ...,\n",
       "          [0., 0., 0.,  ..., 0., 0., 0.],\n",
       "          [0., 0., 0.,  ..., 0., 0., 0.],\n",
       "          [0., 0., 0.,  ..., 0., 0., 0.]]],\n",
       "\n",
       "\n",
       "        [[[0., 0., 0.,  ..., 0., 0., 0.],\n",
       "          [0., 0., 0.,  ..., 0., 0., 0.],\n",
       "          [0., 0., 0.,  ..., 0., 0., 0.],\n",
       "          ...,\n",
       "          [0., 0., 0.,  ..., 0., 0., 0.],\n",
       "          [0., 0., 0.,  ..., 0., 0., 0.],\n",
       "          [0., 0., 0.,  ..., 0., 0., 0.]]],\n",
       "\n",
       "\n",
       "        [[[0., 0., 0.,  ..., 0., 0., 0.],\n",
       "          [0., 0., 0.,  ..., 0., 0., 0.],\n",
       "          [0., 0., 0.,  ..., 0., 0., 0.],\n",
       "          ...,\n",
       "          [0., 0., 0.,  ..., 0., 0., 0.],\n",
       "          [0., 0., 0.,  ..., 0., 0., 0.],\n",
       "          [0., 0., 0.,  ..., 0., 0., 0.]]],\n",
       "\n",
       "\n",
       "        ...,\n",
       "\n",
       "\n",
       "        [[[0., 0., 0.,  ..., 0., 0., 0.],\n",
       "          [0., 0., 0.,  ..., 0., 0., 0.],\n",
       "          [0., 0., 0.,  ..., 0., 0., 0.],\n",
       "          ...,\n",
       "          [0., 0., 0.,  ..., 0., 0., 0.],\n",
       "          [0., 0., 0.,  ..., 0., 0., 0.],\n",
       "          [0., 0., 0.,  ..., 0., 0., 0.]]],\n",
       "\n",
       "\n",
       "        [[[0., 0., 0.,  ..., 0., 0., 0.],\n",
       "          [0., 0., 0.,  ..., 0., 0., 0.],\n",
       "          [0., 0., 0.,  ..., 0., 0., 0.],\n",
       "          ...,\n",
       "          [0., 0., 0.,  ..., 0., 0., 0.],\n",
       "          [0., 0., 0.,  ..., 0., 0., 0.],\n",
       "          [0., 0., 0.,  ..., 0., 0., 0.]]],\n",
       "\n",
       "\n",
       "        [[[0., 0., 0.,  ..., 0., 0., 0.],\n",
       "          [0., 0., 0.,  ..., 0., 0., 0.],\n",
       "          [0., 0., 0.,  ..., 0., 0., 0.],\n",
       "          ...,\n",
       "          [0., 0., 0.,  ..., 0., 0., 0.],\n",
       "          [0., 0., 0.,  ..., 0., 0., 0.],\n",
       "          [0., 0., 0.,  ..., 0., 0., 0.]]]], device='cuda:0')"
      ]
     },
     "execution_count": 164,
     "metadata": {},
     "output_type": "execute_result"
    }
   ],
   "source": [
    "x_batch"
   ]
  },
  {
   "cell_type": "code",
   "execution_count": 165,
   "id": "8a5a3308",
   "metadata": {
    "scrolled": false
   },
   "outputs": [
    {
     "data": {
      "text/plain": [
       "tensor([9, 0, 0, 3, 0, 2, 7, 2, 5, 5, 0, 9, 5, 5, 7, 9, 1, 0, 6, 4, 3, 1, 4, 8, 4, 3, 0, 2, 4, 4, 5, 3, 6, 6, 0, 8, 5, 2, 1, 6, 6, 7, 9, 5,\n",
       "        9, 2, 7, 3, 0, 3, 3, 3, 7, 2, 2, 6, 6, 8, 3, 3, 5, 0, 5, 5, 0, 2, 0, 0, 4, 1, 3, 1, 6, 3, 1, 4, 4, 6, 1, 9, 1, 3, 5, 7, 9, 7, 1, 7,\n",
       "        9, 9, 9, 3, 2, 9, 3, 6, 4, 1, 1, 8, 8, 0, 1, 1, 6, 8, 1, 9, 7, 8, 8, 9, 6, 6, 3, 1, 5, 4, 6, 7, 5, 5, 9, 2, 2, 2, 7, 6, 4, 1, 8, 7,\n",
       "        7, 5, 4, 2, 9, 1, 7, 4, 6, 9, 7, 1, 8, 7, 1, 2, 8, 0, 9, 1, 8, 7, 0, 5, 8, 6, 7, 2, 0, 8, 7, 1, 6, 2, 1, 9, 6, 0, 1, 0, 5, 5, 1, 7,\n",
       "        0, 5, 8, 4, 0, 4, 0, 6, 6, 4, 0, 0, 4, 7, 3, 0, 5, 8, 4, 1, 1, 2, 9, 2, 8, 5, 0, 6, 3, 4, 6, 0, 9, 1, 7, 3, 8, 5, 8, 3, 8, 5, 2, 0,\n",
       "        8, 7, 0, 3, 5, 0, 6, 5, 2, 7, 5, 2, 6, 8, 2, 6, 8, 0, 4, 4, 4, 4, 4, 1, 5, 6, 5, 3, 3, 7, 3, 3, 6, 2, 8, 4], device='cuda:0')"
      ]
     },
     "execution_count": 165,
     "metadata": {},
     "output_type": "execute_result"
    }
   ],
   "source": [
    "y_batch"
   ]
  },
  {
   "cell_type": "code",
   "execution_count": 166,
   "id": "1cfee4f1",
   "metadata": {},
   "outputs": [],
   "source": [
    "labels = ds.features[y].names"
   ]
  },
  {
   "cell_type": "code",
   "execution_count": 167,
   "id": "2c0823a3",
   "metadata": {},
   "outputs": [
    {
     "data": {
      "text/plain": [
       "['T - shirt / top',\n",
       " 'Trouser',\n",
       " 'Pullover',\n",
       " 'Dress',\n",
       " 'Coat',\n",
       " 'Sandal',\n",
       " 'Shirt',\n",
       " 'Sneaker',\n",
       " 'Bag',\n",
       " 'Ankle boot']"
      ]
     },
     "execution_count": 167,
     "metadata": {},
     "output_type": "execute_result"
    }
   ],
   "source": [
    "labels"
   ]
  },
  {
   "cell_type": "code",
   "execution_count": 168,
   "id": "6cd92f5e",
   "metadata": {},
   "outputs": [],
   "source": [
    "label_getter = itemgetter(*y_batch[:16])\n",
    "titles = label_getter(labels)"
   ]
  },
  {
   "cell_type": "code",
   "execution_count": 169,
   "id": "210821eb",
   "metadata": {},
   "outputs": [
    {
     "data": {
      "image/png": "[encoded data removed]",
      "text/plain": [
       "<Figure size 476x476 with 16 Axes>"
      ]
     },
     "metadata": {},
     "output_type": "display_data"
    }
   ],
   "source": [
    "show_images(x_batch[:16], imsize=1.7, titles=titles)"
   ]
  },
  {
   "cell_type": "markdown",
   "id": "3826da7c",
   "metadata": {},
   "source": [
    "## Convolutional Neural Network"
   ]
  },
  {
   "cell_type": "code",
   "execution_count": 19,
   "id": "6eaddd69",
   "metadata": {},
   "outputs": [],
   "source": [
    "MNIST_URL='https://github.com/mnielsen/neural-networks-and-deep-learning/blob/master/data/mnist.pkl.gz?raw=true'\n",
    "path_data = Path('data')\n",
    "#El mdkir crea un directorio,] exist_ok=True es para que no de error cuando vea que el directorio ya existe previamente\n",
    "path_data.mkdir(exist_ok=True)\n",
    "path_gz = path_data/'mnist.pkl.gz'"
   ]
  },
  {
   "cell_type": "code",
   "execution_count": 20,
   "id": "764a4112",
   "metadata": {},
   "outputs": [],
   "source": [
    "from urllib.request import urlopen\n",
    "from shutil import copyfileobj\n",
    "\n",
    "with urlopen(MNIST_URL) as in_stream, open(path_gz, 'wb') as out_file:\n",
    "    copyfileobj(in_stream, out_file)\n",
    "#destructuring\n",
    "with gzip.open(path_gz, 'rb') as f: ((x_train, y_train), (x_valid, y_valid), _) = pickle.load(f, encoding='latin-1')\n",
    "x_train, y_train, x_valid, y_valid = map(tensor, [x_train, y_train, x_valid, y_valid])"
   ]
  },
  {
   "cell_type": "markdown",
   "id": "fcceeb3b",
   "metadata": {},
   "source": [
    "## Teoría Aquí"
   ]
  },
  {
   "cell_type": "markdown",
   "id": "3490d58e",
   "metadata": {},
   "source": [
    "### Understanding the Convolution Equations"
   ]
  },
  {
   "cell_type": "markdown",
   "id": "7648c60f",
   "metadata": {},
   "source": [
    "Vamos a tomar una imagen de nuestro training data y una imagen de nuestro validation data"
   ]
  },
  {
   "cell_type": "code",
   "execution_count": 21,
   "id": "1f0ab680",
   "metadata": {},
   "outputs": [],
   "source": [
    "x_imgs = x_train.view(-1,28,28)\n",
    "xv_imgs = x_valid.view(-1,28,28)"
   ]
  },
  {
   "cell_type": "code",
   "execution_count": 22,
   "id": "130d8651",
   "metadata": {},
   "outputs": [
    {
     "data": {
      "image/png": "[encoded data removed]",
      "text/plain": [
       "<Figure size 448x336 with 1 Axes>"
      ]
     },
     "metadata": {},
     "output_type": "display_data"
    }
   ],
   "source": [
    "im3 = x_imgs[7]\n",
    "show_image(im3);"
   ]
  },
  {
   "cell_type": "code",
   "execution_count": 23,
   "id": "793a31c2",
   "metadata": {},
   "outputs": [],
   "source": [
    "top_edge = tensor([[-1,-1,-1],\n",
    "                   [ 0, 0, 0],\n",
    "                   [ 1, 1, 1]]).float()"
   ]
  },
  {
   "cell_type": "code",
   "execution_count": 24,
   "id": "f7b9bd5a",
   "metadata": {},
   "outputs": [
    {
     "data": {
      "image/png": "[encoded data removed]",
      "text/plain": [
       "<Figure size 448x336 with 1 Axes>"
      ]
     },
     "metadata": {},
     "output_type": "display_data"
    }
   ],
   "source": [
    "show_image(top_edge, noframe=False);"
   ]
  },
  {
   "cell_type": "markdown",
   "id": "80649a3d",
   "metadata": {},
   "source": [
    "The filter will take any window of size 3×3 in our images, and if we name the pixel values like this:\n",
    "\n",
    "$$\\begin{matrix} a1 & a2 & a3 \\\\ a4 & a5 & a6 \\\\ a7 & a8 & a9 \\end{matrix}$$\n",
    "\n",
    "it will return $-a1-a2-a3+a7+a8+a9$."
   ]
  },
  {
   "cell_type": "markdown",
   "id": "5f66dbf8",
   "metadata": {},
   "source": [
    "Aquí estamos viendo la imagen que sacamos de nuestros datos y en especifico estamos mirando las `primeras 13 filas` y las `primeras 23 columnas`"
   ]
  },
  {
   "cell_type": "code",
   "execution_count": 25,
   "id": "6b55d253",
   "metadata": {},
   "outputs": [
    {
     "data": {
      "text/html": [
       "<style type=\"text/css\">\n",
       "#T_ad5e0_row0_col0, #T_ad5e0_row0_col1, #T_ad5e0_row0_col2, #T_ad5e0_row0_col3, #T_ad5e0_row0_col4, #T_ad5e0_row0_col5, #T_ad5e0_row0_col6, #T_ad5e0_row0_col7, #T_ad5e0_row0_col8, #T_ad5e0_row0_col9, #T_ad5e0_row0_col10, #T_ad5e0_row0_col11, #T_ad5e0_row0_col12, #T_ad5e0_row0_col13, #T_ad5e0_row0_col14, #T_ad5e0_row0_col15, #T_ad5e0_row0_col16, #T_ad5e0_row0_col17, #T_ad5e0_row0_col18, #T_ad5e0_row0_col19, #T_ad5e0_row0_col20, #T_ad5e0_row0_col21, #T_ad5e0_row0_col22, #T_ad5e0_row1_col0, #T_ad5e0_row1_col1, #T_ad5e0_row1_col2, #T_ad5e0_row1_col3, #T_ad5e0_row1_col4, #T_ad5e0_row1_col5, #T_ad5e0_row1_col6, #T_ad5e0_row1_col7, #T_ad5e0_row1_col8, #T_ad5e0_row1_col9, #T_ad5e0_row1_col10, #T_ad5e0_row1_col11, #T_ad5e0_row1_col12, #T_ad5e0_row1_col13, #T_ad5e0_row1_col14, #T_ad5e0_row1_col15, #T_ad5e0_row1_col16, #T_ad5e0_row1_col17, #T_ad5e0_row1_col18, #T_ad5e0_row1_col19, #T_ad5e0_row1_col20, #T_ad5e0_row1_col21, #T_ad5e0_row1_col22, #T_ad5e0_row2_col0, #T_ad5e0_row2_col1, #T_ad5e0_row2_col2, #T_ad5e0_row2_col3, #T_ad5e0_row2_col4, #T_ad5e0_row2_col5, #T_ad5e0_row2_col6, #T_ad5e0_row2_col7, #T_ad5e0_row2_col8, #T_ad5e0_row2_col9, #T_ad5e0_row2_col10, #T_ad5e0_row2_col11, #T_ad5e0_row2_col12, #T_ad5e0_row2_col13, #T_ad5e0_row2_col14, #T_ad5e0_row2_col15, #T_ad5e0_row2_col16, #T_ad5e0_row2_col17, #T_ad5e0_row2_col18, #T_ad5e0_row2_col19, #T_ad5e0_row2_col20, #T_ad5e0_row2_col21, #T_ad5e0_row2_col22, #T_ad5e0_row3_col0, #T_ad5e0_row3_col1, #T_ad5e0_row3_col2, #T_ad5e0_row3_col3, #T_ad5e0_row3_col4, #T_ad5e0_row3_col5, #T_ad5e0_row3_col6, #T_ad5e0_row3_col7, #T_ad5e0_row3_col8, #T_ad5e0_row3_col9, #T_ad5e0_row3_col10, #T_ad5e0_row3_col11, #T_ad5e0_row3_col12, #T_ad5e0_row3_col13, #T_ad5e0_row3_col14, #T_ad5e0_row3_col15, #T_ad5e0_row3_col16, #T_ad5e0_row3_col17, #T_ad5e0_row3_col18, #T_ad5e0_row3_col19, #T_ad5e0_row3_col20, #T_ad5e0_row3_col21, #T_ad5e0_row3_col22, #T_ad5e0_row4_col0, #T_ad5e0_row4_col1, #T_ad5e0_row4_col2, #T_ad5e0_row4_col3, #T_ad5e0_row4_col4, #T_ad5e0_row4_col5, #T_ad5e0_row4_col6, #T_ad5e0_row4_col7, #T_ad5e0_row4_col8, #T_ad5e0_row4_col9, #T_ad5e0_row4_col10, #T_ad5e0_row4_col11, #T_ad5e0_row4_col12, #T_ad5e0_row4_col13, #T_ad5e0_row4_col14, #T_ad5e0_row4_col15, #T_ad5e0_row4_col16, #T_ad5e0_row4_col17, #T_ad5e0_row4_col18, #T_ad5e0_row4_col19, #T_ad5e0_row4_col20, #T_ad5e0_row4_col21, #T_ad5e0_row4_col22, #T_ad5e0_row5_col0, #T_ad5e0_row5_col1, #T_ad5e0_row5_col2, #T_ad5e0_row5_col3, #T_ad5e0_row5_col4, #T_ad5e0_row5_col5, #T_ad5e0_row5_col6, #T_ad5e0_row5_col7, #T_ad5e0_row5_col8, #T_ad5e0_row5_col9, #T_ad5e0_row5_col10, #T_ad5e0_row5_col22, #T_ad5e0_row6_col0, #T_ad5e0_row6_col1, #T_ad5e0_row6_col2, #T_ad5e0_row6_col3, #T_ad5e0_row6_col4, #T_ad5e0_row6_col5, #T_ad5e0_row6_col6, #T_ad5e0_row6_col7, #T_ad5e0_row6_col8, #T_ad5e0_row7_col0, #T_ad5e0_row7_col1, #T_ad5e0_row7_col2, #T_ad5e0_row7_col3, #T_ad5e0_row7_col4, #T_ad5e0_row7_col5, #T_ad5e0_row7_col6, #T_ad5e0_row7_col7, #T_ad5e0_row7_col8, #T_ad5e0_row8_col0, #T_ad5e0_row8_col1, #T_ad5e0_row8_col2, #T_ad5e0_row8_col3, #T_ad5e0_row8_col4, #T_ad5e0_row8_col5, #T_ad5e0_row8_col6, #T_ad5e0_row8_col7, #T_ad5e0_row8_col8, #T_ad5e0_row9_col0, #T_ad5e0_row9_col1, #T_ad5e0_row9_col2, #T_ad5e0_row9_col3, #T_ad5e0_row9_col4, #T_ad5e0_row9_col5, #T_ad5e0_row9_col6, #T_ad5e0_row9_col7, #T_ad5e0_row9_col8, #T_ad5e0_row9_col13, #T_ad5e0_row9_col14, #T_ad5e0_row9_col15, #T_ad5e0_row9_col16, #T_ad5e0_row10_col0, #T_ad5e0_row10_col1, #T_ad5e0_row10_col2, #T_ad5e0_row10_col3, #T_ad5e0_row10_col4, #T_ad5e0_row10_col5, #T_ad5e0_row10_col6, #T_ad5e0_row10_col7, #T_ad5e0_row10_col8, #T_ad5e0_row10_col9, #T_ad5e0_row10_col10, #T_ad5e0_row10_col11, #T_ad5e0_row10_col12, #T_ad5e0_row10_col13, #T_ad5e0_row10_col14, #T_ad5e0_row10_col15, #T_ad5e0_row10_col16, #T_ad5e0_row10_col22, #T_ad5e0_row11_col0, #T_ad5e0_row11_col1, #T_ad5e0_row11_col2, #T_ad5e0_row11_col3, #T_ad5e0_row11_col4, #T_ad5e0_row11_col5, #T_ad5e0_row11_col6, #T_ad5e0_row11_col7, #T_ad5e0_row11_col8, #T_ad5e0_row11_col9, #T_ad5e0_row11_col10, #T_ad5e0_row11_col11, #T_ad5e0_row11_col12, #T_ad5e0_row11_col13, #T_ad5e0_row11_col14, #T_ad5e0_row11_col15, #T_ad5e0_row11_col22, #T_ad5e0_row12_col0, #T_ad5e0_row12_col1, #T_ad5e0_row12_col2, #T_ad5e0_row12_col3, #T_ad5e0_row12_col4, #T_ad5e0_row12_col5, #T_ad5e0_row12_col6, #T_ad5e0_row12_col7, #T_ad5e0_row12_col8, #T_ad5e0_row12_col9, #T_ad5e0_row12_col10, #T_ad5e0_row12_col11, #T_ad5e0_row12_col12, #T_ad5e0_row12_col13, #T_ad5e0_row12_col22 {\n",
       "  font-size: 7pt;\n",
       "  background-color: #ffffff;\n",
       "  color: #000000;\n",
       "}\n",
       "#T_ad5e0_row5_col11 {\n",
       "  font-size: 7pt;\n",
       "  background-color: #ececec;\n",
       "  color: #000000;\n",
       "}\n",
       "#T_ad5e0_row5_col12 {\n",
       "  font-size: 7pt;\n",
       "  background-color: #e8e8e8;\n",
       "  color: #000000;\n",
       "}\n",
       "#T_ad5e0_row5_col13 {\n",
       "  font-size: 7pt;\n",
       "  background-color: #b0b0b0;\n",
       "  color: #000000;\n",
       "}\n",
       "#T_ad5e0_row5_col14, #T_ad5e0_row5_col15, #T_ad5e0_row5_col16, #T_ad5e0_row5_col17, #T_ad5e0_row5_col18, #T_ad5e0_row5_col19, #T_ad5e0_row6_col13, #T_ad5e0_row6_col20, #T_ad5e0_row7_col9, #T_ad5e0_row7_col10, #T_ad5e0_row7_col11, #T_ad5e0_row7_col12, #T_ad5e0_row7_col13, #T_ad5e0_row7_col20, #T_ad5e0_row7_col21, #T_ad5e0_row7_col22, #T_ad5e0_row8_col10, #T_ad5e0_row8_col11, #T_ad5e0_row8_col20, #T_ad5e0_row8_col21, #T_ad5e0_row8_col22, #T_ad5e0_row9_col20, #T_ad5e0_row10_col20, #T_ad5e0_row11_col20 {\n",
       "  font-size: 7pt;\n",
       "  background-color: #000000;\n",
       "  color: #f1f1f1;\n",
       "}\n",
       "#T_ad5e0_row5_col20 {\n",
       "  font-size: 7pt;\n",
       "  background-color: #626262;\n",
       "  color: #f1f1f1;\n",
       "}\n",
       "#T_ad5e0_row5_col21 {\n",
       "  font-size: 7pt;\n",
       "  background-color: #fcfcfc;\n",
       "  color: #000000;\n",
       "}\n",
       "#T_ad5e0_row6_col9 {\n",
       "  font-size: 7pt;\n",
       "  background-color: #dbdbdb;\n",
       "  color: #000000;\n",
       "}\n",
       "#T_ad5e0_row6_col10 {\n",
       "  font-size: 7pt;\n",
       "  background-color: #878787;\n",
       "  color: #f1f1f1;\n",
       "}\n",
       "#T_ad5e0_row6_col11 {\n",
       "  font-size: 7pt;\n",
       "  background-color: #212121;\n",
       "  color: #f1f1f1;\n",
       "}\n",
       "#T_ad5e0_row6_col12 {\n",
       "  font-size: 7pt;\n",
       "  background-color: #1e1e1e;\n",
       "  color: #f1f1f1;\n",
       "}\n",
       "#T_ad5e0_row6_col14, #T_ad5e0_row7_col14 {\n",
       "  font-size: 7pt;\n",
       "  background-color: #020202;\n",
       "  color: #f1f1f1;\n",
       "}\n",
       "#T_ad5e0_row6_col15, #T_ad5e0_row6_col16, #T_ad5e0_row6_col17, #T_ad5e0_row6_col18, #T_ad5e0_row6_col19, #T_ad5e0_row7_col15, #T_ad5e0_row7_col16, #T_ad5e0_row7_col17, #T_ad5e0_row7_col18, #T_ad5e0_row7_col19, #T_ad5e0_row8_col18, #T_ad5e0_row8_col19, #T_ad5e0_row9_col19, #T_ad5e0_row10_col19, #T_ad5e0_row11_col18, #T_ad5e0_row11_col19, #T_ad5e0_row12_col17, #T_ad5e0_row12_col18, #T_ad5e0_row12_col19 {\n",
       "  font-size: 7pt;\n",
       "  background-color: #010101;\n",
       "  color: #f1f1f1;\n",
       "}\n",
       "#T_ad5e0_row6_col21 {\n",
       "  font-size: 7pt;\n",
       "  background-color: #727272;\n",
       "  color: #f1f1f1;\n",
       "}\n",
       "#T_ad5e0_row6_col22 {\n",
       "  font-size: 7pt;\n",
       "  background-color: #dcdcdc;\n",
       "  color: #000000;\n",
       "}\n",
       "#T_ad5e0_row8_col9 {\n",
       "  font-size: 7pt;\n",
       "  background-color: #777777;\n",
       "  color: #f1f1f1;\n",
       "}\n",
       "#T_ad5e0_row8_col12 {\n",
       "  font-size: 7pt;\n",
       "  background-color: #1a1a1a;\n",
       "  color: #f1f1f1;\n",
       "}\n",
       "#T_ad5e0_row8_col13 {\n",
       "  font-size: 7pt;\n",
       "  background-color: #8f8f8f;\n",
       "  color: #f1f1f1;\n",
       "}\n",
       "#T_ad5e0_row8_col14, #T_ad5e0_row8_col15, #T_ad5e0_row8_col16 {\n",
       "  font-size: 7pt;\n",
       "  background-color: #909090;\n",
       "  color: #f1f1f1;\n",
       "}\n",
       "#T_ad5e0_row8_col17, #T_ad5e0_row11_col17 {\n",
       "  font-size: 7pt;\n",
       "  background-color: #525252;\n",
       "  color: #f1f1f1;\n",
       "}\n",
       "#T_ad5e0_row9_col9 {\n",
       "  font-size: 7pt;\n",
       "  background-color: #fdfdfd;\n",
       "  color: #000000;\n",
       "}\n",
       "#T_ad5e0_row9_col10, #T_ad5e0_row9_col11, #T_ad5e0_row9_col22 {\n",
       "  font-size: 7pt;\n",
       "  background-color: #f1f1f1;\n",
       "  color: #000000;\n",
       "}\n",
       "#T_ad5e0_row9_col12 {\n",
       "  font-size: 7pt;\n",
       "  background-color: #f4f4f4;\n",
       "  color: #000000;\n",
       "}\n",
       "#T_ad5e0_row9_col17, #T_ad5e0_row11_col21 {\n",
       "  font-size: 7pt;\n",
       "  background-color: #f8f8f8;\n",
       "  color: #000000;\n",
       "}\n",
       "#T_ad5e0_row9_col18 {\n",
       "  font-size: 7pt;\n",
       "  background-color: #1f1f1f;\n",
       "  color: #f1f1f1;\n",
       "}\n",
       "#T_ad5e0_row9_col21 {\n",
       "  font-size: 7pt;\n",
       "  background-color: #646464;\n",
       "  color: #f1f1f1;\n",
       "}\n",
       "#T_ad5e0_row10_col17 {\n",
       "  font-size: 7pt;\n",
       "  background-color: #c5c5c5;\n",
       "  color: #000000;\n",
       "}\n",
       "#T_ad5e0_row10_col18 {\n",
       "  font-size: 7pt;\n",
       "  background-color: #0c0c0c;\n",
       "  color: #f1f1f1;\n",
       "}\n",
       "#T_ad5e0_row10_col21 {\n",
       "  font-size: 7pt;\n",
       "  background-color: #828282;\n",
       "  color: #f1f1f1;\n",
       "}\n",
       "#T_ad5e0_row11_col16 {\n",
       "  font-size: 7pt;\n",
       "  background-color: #c3c3c3;\n",
       "  color: #000000;\n",
       "}\n",
       "#T_ad5e0_row12_col14 {\n",
       "  font-size: 7pt;\n",
       "  background-color: #c1c1c1;\n",
       "  color: #000000;\n",
       "}\n",
       "#T_ad5e0_row12_col15 {\n",
       "  font-size: 7pt;\n",
       "  background-color: #323232;\n",
       "  color: #f1f1f1;\n",
       "}\n",
       "#T_ad5e0_row12_col16 {\n",
       "  font-size: 7pt;\n",
       "  background-color: #070707;\n",
       "  color: #f1f1f1;\n",
       "}\n",
       "#T_ad5e0_row12_col20 {\n",
       "  font-size: 7pt;\n",
       "  background-color: #3c3c3c;\n",
       "  color: #f1f1f1;\n",
       "}\n",
       "#T_ad5e0_row12_col21 {\n",
       "  font-size: 7pt;\n",
       "  background-color: #fbfbfb;\n",
       "  color: #000000;\n",
       "}\n",
       "</style>\n",
       "<table id=\"T_ad5e0\">\n",
       "  <thead>\n",
       "    <tr>\n",
       "      <th class=\"blank level0\" >&nbsp;</th>\n",
       "      <th id=\"T_ad5e0_level0_col0\" class=\"col_heading level0 col0\" >0</th>\n",
       "      <th id=\"T_ad5e0_level0_col1\" class=\"col_heading level0 col1\" >1</th>\n",
       "      <th id=\"T_ad5e0_level0_col2\" class=\"col_heading level0 col2\" >2</th>\n",
       "      <th id=\"T_ad5e0_level0_col3\" class=\"col_heading level0 col3\" >3</th>\n",
       "      <th id=\"T_ad5e0_level0_col4\" class=\"col_heading level0 col4\" >4</th>\n",
       "      <th id=\"T_ad5e0_level0_col5\" class=\"col_heading level0 col5\" >5</th>\n",
       "      <th id=\"T_ad5e0_level0_col6\" class=\"col_heading level0 col6\" >6</th>\n",
       "      <th id=\"T_ad5e0_level0_col7\" class=\"col_heading level0 col7\" >7</th>\n",
       "      <th id=\"T_ad5e0_level0_col8\" class=\"col_heading level0 col8\" >8</th>\n",
       "      <th id=\"T_ad5e0_level0_col9\" class=\"col_heading level0 col9\" >9</th>\n",
       "      <th id=\"T_ad5e0_level0_col10\" class=\"col_heading level0 col10\" >10</th>\n",
       "      <th id=\"T_ad5e0_level0_col11\" class=\"col_heading level0 col11\" >11</th>\n",
       "      <th id=\"T_ad5e0_level0_col12\" class=\"col_heading level0 col12\" >12</th>\n",
       "      <th id=\"T_ad5e0_level0_col13\" class=\"col_heading level0 col13\" >13</th>\n",
       "      <th id=\"T_ad5e0_level0_col14\" class=\"col_heading level0 col14\" >14</th>\n",
       "      <th id=\"T_ad5e0_level0_col15\" class=\"col_heading level0 col15\" >15</th>\n",
       "      <th id=\"T_ad5e0_level0_col16\" class=\"col_heading level0 col16\" >16</th>\n",
       "      <th id=\"T_ad5e0_level0_col17\" class=\"col_heading level0 col17\" >17</th>\n",
       "      <th id=\"T_ad5e0_level0_col18\" class=\"col_heading level0 col18\" >18</th>\n",
       "      <th id=\"T_ad5e0_level0_col19\" class=\"col_heading level0 col19\" >19</th>\n",
       "      <th id=\"T_ad5e0_level0_col20\" class=\"col_heading level0 col20\" >20</th>\n",
       "      <th id=\"T_ad5e0_level0_col21\" class=\"col_heading level0 col21\" >21</th>\n",
       "      <th id=\"T_ad5e0_level0_col22\" class=\"col_heading level0 col22\" >22</th>\n",
       "    </tr>\n",
       "  </thead>\n",
       "  <tbody>\n",
       "    <tr>\n",
       "      <th id=\"T_ad5e0_level0_row0\" class=\"row_heading level0 row0\" >0</th>\n",
       "      <td id=\"T_ad5e0_row0_col0\" class=\"data row0 col0\" >0.00</td>\n",
       "      <td id=\"T_ad5e0_row0_col1\" class=\"data row0 col1\" >0.00</td>\n",
       "      <td id=\"T_ad5e0_row0_col2\" class=\"data row0 col2\" >0.00</td>\n",
       "      <td id=\"T_ad5e0_row0_col3\" class=\"data row0 col3\" >0.00</td>\n",
       "      <td id=\"T_ad5e0_row0_col4\" class=\"data row0 col4\" >0.00</td>\n",
       "      <td id=\"T_ad5e0_row0_col5\" class=\"data row0 col5\" >0.00</td>\n",
       "      <td id=\"T_ad5e0_row0_col6\" class=\"data row0 col6\" >0.00</td>\n",
       "      <td id=\"T_ad5e0_row0_col7\" class=\"data row0 col7\" >0.00</td>\n",
       "      <td id=\"T_ad5e0_row0_col8\" class=\"data row0 col8\" >0.00</td>\n",
       "      <td id=\"T_ad5e0_row0_col9\" class=\"data row0 col9\" >0.00</td>\n",
       "      <td id=\"T_ad5e0_row0_col10\" class=\"data row0 col10\" >0.00</td>\n",
       "      <td id=\"T_ad5e0_row0_col11\" class=\"data row0 col11\" >0.00</td>\n",
       "      <td id=\"T_ad5e0_row0_col12\" class=\"data row0 col12\" >0.00</td>\n",
       "      <td id=\"T_ad5e0_row0_col13\" class=\"data row0 col13\" >0.00</td>\n",
       "      <td id=\"T_ad5e0_row0_col14\" class=\"data row0 col14\" >0.00</td>\n",
       "      <td id=\"T_ad5e0_row0_col15\" class=\"data row0 col15\" >0.00</td>\n",
       "      <td id=\"T_ad5e0_row0_col16\" class=\"data row0 col16\" >0.00</td>\n",
       "      <td id=\"T_ad5e0_row0_col17\" class=\"data row0 col17\" >0.00</td>\n",
       "      <td id=\"T_ad5e0_row0_col18\" class=\"data row0 col18\" >0.00</td>\n",
       "      <td id=\"T_ad5e0_row0_col19\" class=\"data row0 col19\" >0.00</td>\n",
       "      <td id=\"T_ad5e0_row0_col20\" class=\"data row0 col20\" >0.00</td>\n",
       "      <td id=\"T_ad5e0_row0_col21\" class=\"data row0 col21\" >0.00</td>\n",
       "      <td id=\"T_ad5e0_row0_col22\" class=\"data row0 col22\" >0.00</td>\n",
       "    </tr>\n",
       "    <tr>\n",
       "      <th id=\"T_ad5e0_level0_row1\" class=\"row_heading level0 row1\" >1</th>\n",
       "      <td id=\"T_ad5e0_row1_col0\" class=\"data row1 col0\" >0.00</td>\n",
       "      <td id=\"T_ad5e0_row1_col1\" class=\"data row1 col1\" >0.00</td>\n",
       "      <td id=\"T_ad5e0_row1_col2\" class=\"data row1 col2\" >0.00</td>\n",
       "      <td id=\"T_ad5e0_row1_col3\" class=\"data row1 col3\" >0.00</td>\n",
       "      <td id=\"T_ad5e0_row1_col4\" class=\"data row1 col4\" >0.00</td>\n",
       "      <td id=\"T_ad5e0_row1_col5\" class=\"data row1 col5\" >0.00</td>\n",
       "      <td id=\"T_ad5e0_row1_col6\" class=\"data row1 col6\" >0.00</td>\n",
       "      <td id=\"T_ad5e0_row1_col7\" class=\"data row1 col7\" >0.00</td>\n",
       "      <td id=\"T_ad5e0_row1_col8\" class=\"data row1 col8\" >0.00</td>\n",
       "      <td id=\"T_ad5e0_row1_col9\" class=\"data row1 col9\" >0.00</td>\n",
       "      <td id=\"T_ad5e0_row1_col10\" class=\"data row1 col10\" >0.00</td>\n",
       "      <td id=\"T_ad5e0_row1_col11\" class=\"data row1 col11\" >0.00</td>\n",
       "      <td id=\"T_ad5e0_row1_col12\" class=\"data row1 col12\" >0.00</td>\n",
       "      <td id=\"T_ad5e0_row1_col13\" class=\"data row1 col13\" >0.00</td>\n",
       "      <td id=\"T_ad5e0_row1_col14\" class=\"data row1 col14\" >0.00</td>\n",
       "      <td id=\"T_ad5e0_row1_col15\" class=\"data row1 col15\" >0.00</td>\n",
       "      <td id=\"T_ad5e0_row1_col16\" class=\"data row1 col16\" >0.00</td>\n",
       "      <td id=\"T_ad5e0_row1_col17\" class=\"data row1 col17\" >0.00</td>\n",
       "      <td id=\"T_ad5e0_row1_col18\" class=\"data row1 col18\" >0.00</td>\n",
       "      <td id=\"T_ad5e0_row1_col19\" class=\"data row1 col19\" >0.00</td>\n",
       "      <td id=\"T_ad5e0_row1_col20\" class=\"data row1 col20\" >0.00</td>\n",
       "      <td id=\"T_ad5e0_row1_col21\" class=\"data row1 col21\" >0.00</td>\n",
       "      <td id=\"T_ad5e0_row1_col22\" class=\"data row1 col22\" >0.00</td>\n",
       "    </tr>\n",
       "    <tr>\n",
       "      <th id=\"T_ad5e0_level0_row2\" class=\"row_heading level0 row2\" >2</th>\n",
       "      <td id=\"T_ad5e0_row2_col0\" class=\"data row2 col0\" >0.00</td>\n",
       "      <td id=\"T_ad5e0_row2_col1\" class=\"data row2 col1\" >0.00</td>\n",
       "      <td id=\"T_ad5e0_row2_col2\" class=\"data row2 col2\" >0.00</td>\n",
       "      <td id=\"T_ad5e0_row2_col3\" class=\"data row2 col3\" >0.00</td>\n",
       "      <td id=\"T_ad5e0_row2_col4\" class=\"data row2 col4\" >0.00</td>\n",
       "      <td id=\"T_ad5e0_row2_col5\" class=\"data row2 col5\" >0.00</td>\n",
       "      <td id=\"T_ad5e0_row2_col6\" class=\"data row2 col6\" >0.00</td>\n",
       "      <td id=\"T_ad5e0_row2_col7\" class=\"data row2 col7\" >0.00</td>\n",
       "      <td id=\"T_ad5e0_row2_col8\" class=\"data row2 col8\" >0.00</td>\n",
       "      <td id=\"T_ad5e0_row2_col9\" class=\"data row2 col9\" >0.00</td>\n",
       "      <td id=\"T_ad5e0_row2_col10\" class=\"data row2 col10\" >0.00</td>\n",
       "      <td id=\"T_ad5e0_row2_col11\" class=\"data row2 col11\" >0.00</td>\n",
       "      <td id=\"T_ad5e0_row2_col12\" class=\"data row2 col12\" >0.00</td>\n",
       "      <td id=\"T_ad5e0_row2_col13\" class=\"data row2 col13\" >0.00</td>\n",
       "      <td id=\"T_ad5e0_row2_col14\" class=\"data row2 col14\" >0.00</td>\n",
       "      <td id=\"T_ad5e0_row2_col15\" class=\"data row2 col15\" >0.00</td>\n",
       "      <td id=\"T_ad5e0_row2_col16\" class=\"data row2 col16\" >0.00</td>\n",
       "      <td id=\"T_ad5e0_row2_col17\" class=\"data row2 col17\" >0.00</td>\n",
       "      <td id=\"T_ad5e0_row2_col18\" class=\"data row2 col18\" >0.00</td>\n",
       "      <td id=\"T_ad5e0_row2_col19\" class=\"data row2 col19\" >0.00</td>\n",
       "      <td id=\"T_ad5e0_row2_col20\" class=\"data row2 col20\" >0.00</td>\n",
       "      <td id=\"T_ad5e0_row2_col21\" class=\"data row2 col21\" >0.00</td>\n",
       "      <td id=\"T_ad5e0_row2_col22\" class=\"data row2 col22\" >0.00</td>\n",
       "    </tr>\n",
       "    <tr>\n",
       "      <th id=\"T_ad5e0_level0_row3\" class=\"row_heading level0 row3\" >3</th>\n",
       "      <td id=\"T_ad5e0_row3_col0\" class=\"data row3 col0\" >0.00</td>\n",
       "      <td id=\"T_ad5e0_row3_col1\" class=\"data row3 col1\" >0.00</td>\n",
       "      <td id=\"T_ad5e0_row3_col2\" class=\"data row3 col2\" >0.00</td>\n",
       "      <td id=\"T_ad5e0_row3_col3\" class=\"data row3 col3\" >0.00</td>\n",
       "      <td id=\"T_ad5e0_row3_col4\" class=\"data row3 col4\" >0.00</td>\n",
       "      <td id=\"T_ad5e0_row3_col5\" class=\"data row3 col5\" >0.00</td>\n",
       "      <td id=\"T_ad5e0_row3_col6\" class=\"data row3 col6\" >0.00</td>\n",
       "      <td id=\"T_ad5e0_row3_col7\" class=\"data row3 col7\" >0.00</td>\n",
       "      <td id=\"T_ad5e0_row3_col8\" class=\"data row3 col8\" >0.00</td>\n",
       "      <td id=\"T_ad5e0_row3_col9\" class=\"data row3 col9\" >0.00</td>\n",
       "      <td id=\"T_ad5e0_row3_col10\" class=\"data row3 col10\" >0.00</td>\n",
       "      <td id=\"T_ad5e0_row3_col11\" class=\"data row3 col11\" >0.00</td>\n",
       "      <td id=\"T_ad5e0_row3_col12\" class=\"data row3 col12\" >0.00</td>\n",
       "      <td id=\"T_ad5e0_row3_col13\" class=\"data row3 col13\" >0.00</td>\n",
       "      <td id=\"T_ad5e0_row3_col14\" class=\"data row3 col14\" >0.00</td>\n",
       "      <td id=\"T_ad5e0_row3_col15\" class=\"data row3 col15\" >0.00</td>\n",
       "      <td id=\"T_ad5e0_row3_col16\" class=\"data row3 col16\" >0.00</td>\n",
       "      <td id=\"T_ad5e0_row3_col17\" class=\"data row3 col17\" >0.00</td>\n",
       "      <td id=\"T_ad5e0_row3_col18\" class=\"data row3 col18\" >0.00</td>\n",
       "      <td id=\"T_ad5e0_row3_col19\" class=\"data row3 col19\" >0.00</td>\n",
       "      <td id=\"T_ad5e0_row3_col20\" class=\"data row3 col20\" >0.00</td>\n",
       "      <td id=\"T_ad5e0_row3_col21\" class=\"data row3 col21\" >0.00</td>\n",
       "      <td id=\"T_ad5e0_row3_col22\" class=\"data row3 col22\" >0.00</td>\n",
       "    </tr>\n",
       "    <tr>\n",
       "      <th id=\"T_ad5e0_level0_row4\" class=\"row_heading level0 row4\" >4</th>\n",
       "      <td id=\"T_ad5e0_row4_col0\" class=\"data row4 col0\" >0.00</td>\n",
       "      <td id=\"T_ad5e0_row4_col1\" class=\"data row4 col1\" >0.00</td>\n",
       "      <td id=\"T_ad5e0_row4_col2\" class=\"data row4 col2\" >0.00</td>\n",
       "      <td id=\"T_ad5e0_row4_col3\" class=\"data row4 col3\" >0.00</td>\n",
       "      <td id=\"T_ad5e0_row4_col4\" class=\"data row4 col4\" >0.00</td>\n",
       "      <td id=\"T_ad5e0_row4_col5\" class=\"data row4 col5\" >0.00</td>\n",
       "      <td id=\"T_ad5e0_row4_col6\" class=\"data row4 col6\" >0.00</td>\n",
       "      <td id=\"T_ad5e0_row4_col7\" class=\"data row4 col7\" >0.00</td>\n",
       "      <td id=\"T_ad5e0_row4_col8\" class=\"data row4 col8\" >0.00</td>\n",
       "      <td id=\"T_ad5e0_row4_col9\" class=\"data row4 col9\" >0.00</td>\n",
       "      <td id=\"T_ad5e0_row4_col10\" class=\"data row4 col10\" >0.00</td>\n",
       "      <td id=\"T_ad5e0_row4_col11\" class=\"data row4 col11\" >0.00</td>\n",
       "      <td id=\"T_ad5e0_row4_col12\" class=\"data row4 col12\" >0.00</td>\n",
       "      <td id=\"T_ad5e0_row4_col13\" class=\"data row4 col13\" >0.00</td>\n",
       "      <td id=\"T_ad5e0_row4_col14\" class=\"data row4 col14\" >0.00</td>\n",
       "      <td id=\"T_ad5e0_row4_col15\" class=\"data row4 col15\" >0.00</td>\n",
       "      <td id=\"T_ad5e0_row4_col16\" class=\"data row4 col16\" >0.00</td>\n",
       "      <td id=\"T_ad5e0_row4_col17\" class=\"data row4 col17\" >0.00</td>\n",
       "      <td id=\"T_ad5e0_row4_col18\" class=\"data row4 col18\" >0.00</td>\n",
       "      <td id=\"T_ad5e0_row4_col19\" class=\"data row4 col19\" >0.00</td>\n",
       "      <td id=\"T_ad5e0_row4_col20\" class=\"data row4 col20\" >0.00</td>\n",
       "      <td id=\"T_ad5e0_row4_col21\" class=\"data row4 col21\" >0.00</td>\n",
       "      <td id=\"T_ad5e0_row4_col22\" class=\"data row4 col22\" >0.00</td>\n",
       "    </tr>\n",
       "    <tr>\n",
       "      <th id=\"T_ad5e0_level0_row5\" class=\"row_heading level0 row5\" >5</th>\n",
       "      <td id=\"T_ad5e0_row5_col0\" class=\"data row5 col0\" >0.00</td>\n",
       "      <td id=\"T_ad5e0_row5_col1\" class=\"data row5 col1\" >0.00</td>\n",
       "      <td id=\"T_ad5e0_row5_col2\" class=\"data row5 col2\" >0.00</td>\n",
       "      <td id=\"T_ad5e0_row5_col3\" class=\"data row5 col3\" >0.00</td>\n",
       "      <td id=\"T_ad5e0_row5_col4\" class=\"data row5 col4\" >0.00</td>\n",
       "      <td id=\"T_ad5e0_row5_col5\" class=\"data row5 col5\" >0.00</td>\n",
       "      <td id=\"T_ad5e0_row5_col6\" class=\"data row5 col6\" >0.00</td>\n",
       "      <td id=\"T_ad5e0_row5_col7\" class=\"data row5 col7\" >0.00</td>\n",
       "      <td id=\"T_ad5e0_row5_col8\" class=\"data row5 col8\" >0.00</td>\n",
       "      <td id=\"T_ad5e0_row5_col9\" class=\"data row5 col9\" >0.00</td>\n",
       "      <td id=\"T_ad5e0_row5_col10\" class=\"data row5 col10\" >0.00</td>\n",
       "      <td id=\"T_ad5e0_row5_col11\" class=\"data row5 col11\" >0.15</td>\n",
       "      <td id=\"T_ad5e0_row5_col12\" class=\"data row5 col12\" >0.17</td>\n",
       "      <td id=\"T_ad5e0_row5_col13\" class=\"data row5 col13\" >0.41</td>\n",
       "      <td id=\"T_ad5e0_row5_col14\" class=\"data row5 col14\" >1.00</td>\n",
       "      <td id=\"T_ad5e0_row5_col15\" class=\"data row5 col15\" >0.99</td>\n",
       "      <td id=\"T_ad5e0_row5_col16\" class=\"data row5 col16\" >0.99</td>\n",
       "      <td id=\"T_ad5e0_row5_col17\" class=\"data row5 col17\" >0.99</td>\n",
       "      <td id=\"T_ad5e0_row5_col18\" class=\"data row5 col18\" >0.99</td>\n",
       "      <td id=\"T_ad5e0_row5_col19\" class=\"data row5 col19\" >0.99</td>\n",
       "      <td id=\"T_ad5e0_row5_col20\" class=\"data row5 col20\" >0.68</td>\n",
       "      <td id=\"T_ad5e0_row5_col21\" class=\"data row5 col21\" >0.02</td>\n",
       "      <td id=\"T_ad5e0_row5_col22\" class=\"data row5 col22\" >0.00</td>\n",
       "    </tr>\n",
       "    <tr>\n",
       "      <th id=\"T_ad5e0_level0_row6\" class=\"row_heading level0 row6\" >6</th>\n",
       "      <td id=\"T_ad5e0_row6_col0\" class=\"data row6 col0\" >0.00</td>\n",
       "      <td id=\"T_ad5e0_row6_col1\" class=\"data row6 col1\" >0.00</td>\n",
       "      <td id=\"T_ad5e0_row6_col2\" class=\"data row6 col2\" >0.00</td>\n",
       "      <td id=\"T_ad5e0_row6_col3\" class=\"data row6 col3\" >0.00</td>\n",
       "      <td id=\"T_ad5e0_row6_col4\" class=\"data row6 col4\" >0.00</td>\n",
       "      <td id=\"T_ad5e0_row6_col5\" class=\"data row6 col5\" >0.00</td>\n",
       "      <td id=\"T_ad5e0_row6_col6\" class=\"data row6 col6\" >0.00</td>\n",
       "      <td id=\"T_ad5e0_row6_col7\" class=\"data row6 col7\" >0.00</td>\n",
       "      <td id=\"T_ad5e0_row6_col8\" class=\"data row6 col8\" >0.00</td>\n",
       "      <td id=\"T_ad5e0_row6_col9\" class=\"data row6 col9\" >0.17</td>\n",
       "      <td id=\"T_ad5e0_row6_col10\" class=\"data row6 col10\" >0.54</td>\n",
       "      <td id=\"T_ad5e0_row6_col11\" class=\"data row6 col11\" >0.88</td>\n",
       "      <td id=\"T_ad5e0_row6_col12\" class=\"data row6 col12\" >0.88</td>\n",
       "      <td id=\"T_ad5e0_row6_col13\" class=\"data row6 col13\" >0.98</td>\n",
       "      <td id=\"T_ad5e0_row6_col14\" class=\"data row6 col14\" >0.99</td>\n",
       "      <td id=\"T_ad5e0_row6_col15\" class=\"data row6 col15\" >0.98</td>\n",
       "      <td id=\"T_ad5e0_row6_col16\" class=\"data row6 col16\" >0.98</td>\n",
       "      <td id=\"T_ad5e0_row6_col17\" class=\"data row6 col17\" >0.98</td>\n",
       "      <td id=\"T_ad5e0_row6_col18\" class=\"data row6 col18\" >0.98</td>\n",
       "      <td id=\"T_ad5e0_row6_col19\" class=\"data row6 col19\" >0.98</td>\n",
       "      <td id=\"T_ad5e0_row6_col20\" class=\"data row6 col20\" >0.98</td>\n",
       "      <td id=\"T_ad5e0_row6_col21\" class=\"data row6 col21\" >0.62</td>\n",
       "      <td id=\"T_ad5e0_row6_col22\" class=\"data row6 col22\" >0.05</td>\n",
       "    </tr>\n",
       "    <tr>\n",
       "      <th id=\"T_ad5e0_level0_row7\" class=\"row_heading level0 row7\" >7</th>\n",
       "      <td id=\"T_ad5e0_row7_col0\" class=\"data row7 col0\" >0.00</td>\n",
       "      <td id=\"T_ad5e0_row7_col1\" class=\"data row7 col1\" >0.00</td>\n",
       "      <td id=\"T_ad5e0_row7_col2\" class=\"data row7 col2\" >0.00</td>\n",
       "      <td id=\"T_ad5e0_row7_col3\" class=\"data row7 col3\" >0.00</td>\n",
       "      <td id=\"T_ad5e0_row7_col4\" class=\"data row7 col4\" >0.00</td>\n",
       "      <td id=\"T_ad5e0_row7_col5\" class=\"data row7 col5\" >0.00</td>\n",
       "      <td id=\"T_ad5e0_row7_col6\" class=\"data row7 col6\" >0.00</td>\n",
       "      <td id=\"T_ad5e0_row7_col7\" class=\"data row7 col7\" >0.00</td>\n",
       "      <td id=\"T_ad5e0_row7_col8\" class=\"data row7 col8\" >0.00</td>\n",
       "      <td id=\"T_ad5e0_row7_col9\" class=\"data row7 col9\" >0.70</td>\n",
       "      <td id=\"T_ad5e0_row7_col10\" class=\"data row7 col10\" >0.98</td>\n",
       "      <td id=\"T_ad5e0_row7_col11\" class=\"data row7 col11\" >0.98</td>\n",
       "      <td id=\"T_ad5e0_row7_col12\" class=\"data row7 col12\" >0.98</td>\n",
       "      <td id=\"T_ad5e0_row7_col13\" class=\"data row7 col13\" >0.98</td>\n",
       "      <td id=\"T_ad5e0_row7_col14\" class=\"data row7 col14\" >0.99</td>\n",
       "      <td id=\"T_ad5e0_row7_col15\" class=\"data row7 col15\" >0.98</td>\n",
       "      <td id=\"T_ad5e0_row7_col16\" class=\"data row7 col16\" >0.98</td>\n",
       "      <td id=\"T_ad5e0_row7_col17\" class=\"data row7 col17\" >0.98</td>\n",
       "      <td id=\"T_ad5e0_row7_col18\" class=\"data row7 col18\" >0.98</td>\n",
       "      <td id=\"T_ad5e0_row7_col19\" class=\"data row7 col19\" >0.98</td>\n",
       "      <td id=\"T_ad5e0_row7_col20\" class=\"data row7 col20\" >0.98</td>\n",
       "      <td id=\"T_ad5e0_row7_col21\" class=\"data row7 col21\" >0.98</td>\n",
       "      <td id=\"T_ad5e0_row7_col22\" class=\"data row7 col22\" >0.23</td>\n",
       "    </tr>\n",
       "    <tr>\n",
       "      <th id=\"T_ad5e0_level0_row8\" class=\"row_heading level0 row8\" >8</th>\n",
       "      <td id=\"T_ad5e0_row8_col0\" class=\"data row8 col0\" >0.00</td>\n",
       "      <td id=\"T_ad5e0_row8_col1\" class=\"data row8 col1\" >0.00</td>\n",
       "      <td id=\"T_ad5e0_row8_col2\" class=\"data row8 col2\" >0.00</td>\n",
       "      <td id=\"T_ad5e0_row8_col3\" class=\"data row8 col3\" >0.00</td>\n",
       "      <td id=\"T_ad5e0_row8_col4\" class=\"data row8 col4\" >0.00</td>\n",
       "      <td id=\"T_ad5e0_row8_col5\" class=\"data row8 col5\" >0.00</td>\n",
       "      <td id=\"T_ad5e0_row8_col6\" class=\"data row8 col6\" >0.00</td>\n",
       "      <td id=\"T_ad5e0_row8_col7\" class=\"data row8 col7\" >0.00</td>\n",
       "      <td id=\"T_ad5e0_row8_col8\" class=\"data row8 col8\" >0.00</td>\n",
       "      <td id=\"T_ad5e0_row8_col9\" class=\"data row8 col9\" >0.43</td>\n",
       "      <td id=\"T_ad5e0_row8_col10\" class=\"data row8 col10\" >0.98</td>\n",
       "      <td id=\"T_ad5e0_row8_col11\" class=\"data row8 col11\" >0.98</td>\n",
       "      <td id=\"T_ad5e0_row8_col12\" class=\"data row8 col12\" >0.90</td>\n",
       "      <td id=\"T_ad5e0_row8_col13\" class=\"data row8 col13\" >0.52</td>\n",
       "      <td id=\"T_ad5e0_row8_col14\" class=\"data row8 col14\" >0.52</td>\n",
       "      <td id=\"T_ad5e0_row8_col15\" class=\"data row8 col15\" >0.52</td>\n",
       "      <td id=\"T_ad5e0_row8_col16\" class=\"data row8 col16\" >0.52</td>\n",
       "      <td id=\"T_ad5e0_row8_col17\" class=\"data row8 col17\" >0.74</td>\n",
       "      <td id=\"T_ad5e0_row8_col18\" class=\"data row8 col18\" >0.98</td>\n",
       "      <td id=\"T_ad5e0_row8_col19\" class=\"data row8 col19\" >0.98</td>\n",
       "      <td id=\"T_ad5e0_row8_col20\" class=\"data row8 col20\" >0.98</td>\n",
       "      <td id=\"T_ad5e0_row8_col21\" class=\"data row8 col21\" >0.98</td>\n",
       "      <td id=\"T_ad5e0_row8_col22\" class=\"data row8 col22\" >0.23</td>\n",
       "    </tr>\n",
       "    <tr>\n",
       "      <th id=\"T_ad5e0_level0_row9\" class=\"row_heading level0 row9\" >9</th>\n",
       "      <td id=\"T_ad5e0_row9_col0\" class=\"data row9 col0\" >0.00</td>\n",
       "      <td id=\"T_ad5e0_row9_col1\" class=\"data row9 col1\" >0.00</td>\n",
       "      <td id=\"T_ad5e0_row9_col2\" class=\"data row9 col2\" >0.00</td>\n",
       "      <td id=\"T_ad5e0_row9_col3\" class=\"data row9 col3\" >0.00</td>\n",
       "      <td id=\"T_ad5e0_row9_col4\" class=\"data row9 col4\" >0.00</td>\n",
       "      <td id=\"T_ad5e0_row9_col5\" class=\"data row9 col5\" >0.00</td>\n",
       "      <td id=\"T_ad5e0_row9_col6\" class=\"data row9 col6\" >0.00</td>\n",
       "      <td id=\"T_ad5e0_row9_col7\" class=\"data row9 col7\" >0.00</td>\n",
       "      <td id=\"T_ad5e0_row9_col8\" class=\"data row9 col8\" >0.00</td>\n",
       "      <td id=\"T_ad5e0_row9_col9\" class=\"data row9 col9\" >0.02</td>\n",
       "      <td id=\"T_ad5e0_row9_col10\" class=\"data row9 col10\" >0.11</td>\n",
       "      <td id=\"T_ad5e0_row9_col11\" class=\"data row9 col11\" >0.11</td>\n",
       "      <td id=\"T_ad5e0_row9_col12\" class=\"data row9 col12\" >0.09</td>\n",
       "      <td id=\"T_ad5e0_row9_col13\" class=\"data row9 col13\" >0.00</td>\n",
       "      <td id=\"T_ad5e0_row9_col14\" class=\"data row9 col14\" >0.00</td>\n",
       "      <td id=\"T_ad5e0_row9_col15\" class=\"data row9 col15\" >0.00</td>\n",
       "      <td id=\"T_ad5e0_row9_col16\" class=\"data row9 col16\" >0.00</td>\n",
       "      <td id=\"T_ad5e0_row9_col17\" class=\"data row9 col17\" >0.05</td>\n",
       "      <td id=\"T_ad5e0_row9_col18\" class=\"data row9 col18\" >0.88</td>\n",
       "      <td id=\"T_ad5e0_row9_col19\" class=\"data row9 col19\" >0.98</td>\n",
       "      <td id=\"T_ad5e0_row9_col20\" class=\"data row9 col20\" >0.98</td>\n",
       "      <td id=\"T_ad5e0_row9_col21\" class=\"data row9 col21\" >0.67</td>\n",
       "      <td id=\"T_ad5e0_row9_col22\" class=\"data row9 col22\" >0.03</td>\n",
       "    </tr>\n",
       "    <tr>\n",
       "      <th id=\"T_ad5e0_level0_row10\" class=\"row_heading level0 row10\" >10</th>\n",
       "      <td id=\"T_ad5e0_row10_col0\" class=\"data row10 col0\" >0.00</td>\n",
       "      <td id=\"T_ad5e0_row10_col1\" class=\"data row10 col1\" >0.00</td>\n",
       "      <td id=\"T_ad5e0_row10_col2\" class=\"data row10 col2\" >0.00</td>\n",
       "      <td id=\"T_ad5e0_row10_col3\" class=\"data row10 col3\" >0.00</td>\n",
       "      <td id=\"T_ad5e0_row10_col4\" class=\"data row10 col4\" >0.00</td>\n",
       "      <td id=\"T_ad5e0_row10_col5\" class=\"data row10 col5\" >0.00</td>\n",
       "      <td id=\"T_ad5e0_row10_col6\" class=\"data row10 col6\" >0.00</td>\n",
       "      <td id=\"T_ad5e0_row10_col7\" class=\"data row10 col7\" >0.00</td>\n",
       "      <td id=\"T_ad5e0_row10_col8\" class=\"data row10 col8\" >0.00</td>\n",
       "      <td id=\"T_ad5e0_row10_col9\" class=\"data row10 col9\" >0.00</td>\n",
       "      <td id=\"T_ad5e0_row10_col10\" class=\"data row10 col10\" >0.00</td>\n",
       "      <td id=\"T_ad5e0_row10_col11\" class=\"data row10 col11\" >0.00</td>\n",
       "      <td id=\"T_ad5e0_row10_col12\" class=\"data row10 col12\" >0.00</td>\n",
       "      <td id=\"T_ad5e0_row10_col13\" class=\"data row10 col13\" >0.00</td>\n",
       "      <td id=\"T_ad5e0_row10_col14\" class=\"data row10 col14\" >0.00</td>\n",
       "      <td id=\"T_ad5e0_row10_col15\" class=\"data row10 col15\" >0.00</td>\n",
       "      <td id=\"T_ad5e0_row10_col16\" class=\"data row10 col16\" >0.00</td>\n",
       "      <td id=\"T_ad5e0_row10_col17\" class=\"data row10 col17\" >0.33</td>\n",
       "      <td id=\"T_ad5e0_row10_col18\" class=\"data row10 col18\" >0.95</td>\n",
       "      <td id=\"T_ad5e0_row10_col19\" class=\"data row10 col19\" >0.98</td>\n",
       "      <td id=\"T_ad5e0_row10_col20\" class=\"data row10 col20\" >0.98</td>\n",
       "      <td id=\"T_ad5e0_row10_col21\" class=\"data row10 col21\" >0.56</td>\n",
       "      <td id=\"T_ad5e0_row10_col22\" class=\"data row10 col22\" >0.00</td>\n",
       "    </tr>\n",
       "    <tr>\n",
       "      <th id=\"T_ad5e0_level0_row11\" class=\"row_heading level0 row11\" >11</th>\n",
       "      <td id=\"T_ad5e0_row11_col0\" class=\"data row11 col0\" >0.00</td>\n",
       "      <td id=\"T_ad5e0_row11_col1\" class=\"data row11 col1\" >0.00</td>\n",
       "      <td id=\"T_ad5e0_row11_col2\" class=\"data row11 col2\" >0.00</td>\n",
       "      <td id=\"T_ad5e0_row11_col3\" class=\"data row11 col3\" >0.00</td>\n",
       "      <td id=\"T_ad5e0_row11_col4\" class=\"data row11 col4\" >0.00</td>\n",
       "      <td id=\"T_ad5e0_row11_col5\" class=\"data row11 col5\" >0.00</td>\n",
       "      <td id=\"T_ad5e0_row11_col6\" class=\"data row11 col6\" >0.00</td>\n",
       "      <td id=\"T_ad5e0_row11_col7\" class=\"data row11 col7\" >0.00</td>\n",
       "      <td id=\"T_ad5e0_row11_col8\" class=\"data row11 col8\" >0.00</td>\n",
       "      <td id=\"T_ad5e0_row11_col9\" class=\"data row11 col9\" >0.00</td>\n",
       "      <td id=\"T_ad5e0_row11_col10\" class=\"data row11 col10\" >0.00</td>\n",
       "      <td id=\"T_ad5e0_row11_col11\" class=\"data row11 col11\" >0.00</td>\n",
       "      <td id=\"T_ad5e0_row11_col12\" class=\"data row11 col12\" >0.00</td>\n",
       "      <td id=\"T_ad5e0_row11_col13\" class=\"data row11 col13\" >0.00</td>\n",
       "      <td id=\"T_ad5e0_row11_col14\" class=\"data row11 col14\" >0.00</td>\n",
       "      <td id=\"T_ad5e0_row11_col15\" class=\"data row11 col15\" >0.00</td>\n",
       "      <td id=\"T_ad5e0_row11_col16\" class=\"data row11 col16\" >0.34</td>\n",
       "      <td id=\"T_ad5e0_row11_col17\" class=\"data row11 col17\" >0.74</td>\n",
       "      <td id=\"T_ad5e0_row11_col18\" class=\"data row11 col18\" >0.98</td>\n",
       "      <td id=\"T_ad5e0_row11_col19\" class=\"data row11 col19\" >0.98</td>\n",
       "      <td id=\"T_ad5e0_row11_col20\" class=\"data row11 col20\" >0.98</td>\n",
       "      <td id=\"T_ad5e0_row11_col21\" class=\"data row11 col21\" >0.05</td>\n",
       "      <td id=\"T_ad5e0_row11_col22\" class=\"data row11 col22\" >0.00</td>\n",
       "    </tr>\n",
       "    <tr>\n",
       "      <th id=\"T_ad5e0_level0_row12\" class=\"row_heading level0 row12\" >12</th>\n",
       "      <td id=\"T_ad5e0_row12_col0\" class=\"data row12 col0\" >0.00</td>\n",
       "      <td id=\"T_ad5e0_row12_col1\" class=\"data row12 col1\" >0.00</td>\n",
       "      <td id=\"T_ad5e0_row12_col2\" class=\"data row12 col2\" >0.00</td>\n",
       "      <td id=\"T_ad5e0_row12_col3\" class=\"data row12 col3\" >0.00</td>\n",
       "      <td id=\"T_ad5e0_row12_col4\" class=\"data row12 col4\" >0.00</td>\n",
       "      <td id=\"T_ad5e0_row12_col5\" class=\"data row12 col5\" >0.00</td>\n",
       "      <td id=\"T_ad5e0_row12_col6\" class=\"data row12 col6\" >0.00</td>\n",
       "      <td id=\"T_ad5e0_row12_col7\" class=\"data row12 col7\" >0.00</td>\n",
       "      <td id=\"T_ad5e0_row12_col8\" class=\"data row12 col8\" >0.00</td>\n",
       "      <td id=\"T_ad5e0_row12_col9\" class=\"data row12 col9\" >0.00</td>\n",
       "      <td id=\"T_ad5e0_row12_col10\" class=\"data row12 col10\" >0.00</td>\n",
       "      <td id=\"T_ad5e0_row12_col11\" class=\"data row12 col11\" >0.00</td>\n",
       "      <td id=\"T_ad5e0_row12_col12\" class=\"data row12 col12\" >0.00</td>\n",
       "      <td id=\"T_ad5e0_row12_col13\" class=\"data row12 col13\" >0.00</td>\n",
       "      <td id=\"T_ad5e0_row12_col14\" class=\"data row12 col14\" >0.36</td>\n",
       "      <td id=\"T_ad5e0_row12_col15\" class=\"data row12 col15\" >0.83</td>\n",
       "      <td id=\"T_ad5e0_row12_col16\" class=\"data row12 col16\" >0.96</td>\n",
       "      <td id=\"T_ad5e0_row12_col17\" class=\"data row12 col17\" >0.98</td>\n",
       "      <td id=\"T_ad5e0_row12_col18\" class=\"data row12 col18\" >0.98</td>\n",
       "      <td id=\"T_ad5e0_row12_col19\" class=\"data row12 col19\" >0.98</td>\n",
       "      <td id=\"T_ad5e0_row12_col20\" class=\"data row12 col20\" >0.80</td>\n",
       "      <td id=\"T_ad5e0_row12_col21\" class=\"data row12 col21\" >0.04</td>\n",
       "      <td id=\"T_ad5e0_row12_col22\" class=\"data row12 col22\" >0.00</td>\n",
       "    </tr>\n",
       "  </tbody>\n",
       "</table>\n"
      ],
      "text/plain": [
       "<pandas.io.formats.style.Styler at 0x26f6b260710>"
      ]
     },
     "execution_count": 25,
     "metadata": {},
     "output_type": "execute_result"
    }
   ],
   "source": [
    "df = pd.DataFrame(im3[:13,:23])\n",
    "df.style.format(precision=2).set_properties(**{'font-size':'7pt'}).background_gradient('Greys')"
   ]
  },
  {
   "cell_type": "markdown",
   "id": "5c4a2a1a",
   "metadata": {},
   "source": [
    "Ahora vamos a aplicar el kernel `top_edge` a una posición que va desde 3 a 6 (sin incluir el 6) y las columnas desde 14 a 17 (sin incluir el 17)"
   ]
  },
  {
   "cell_type": "code",
   "execution_count": 177,
   "id": "0ea35175",
   "metadata": {},
   "outputs": [
    {
     "data": {
      "text/plain": [
       "tensor(2.97)"
      ]
     },
     "execution_count": 177,
     "metadata": {},
     "output_type": "execute_result"
    }
   ],
   "source": [
    "(im3[3:6,14:17] * top_edge).sum()"
   ]
  },
  {
   "cell_type": "code",
   "execution_count": 178,
   "id": "f4364530",
   "metadata": {},
   "outputs": [
    {
     "data": {
      "text/plain": [
       "tensor(-2.96)"
      ]
     },
     "execution_count": 178,
     "metadata": {},
     "output_type": "execute_result"
    }
   ],
   "source": [
    "(im3[7:10,14:17] * top_edge).sum()"
   ]
  },
  {
   "cell_type": "markdown",
   "id": "1189d9a1",
   "metadata": {},
   "source": [
    "Como se puede ver con el nombre del kernel `top_edge` está haciendo una multiplicación que se encagaría de \"detectar\" los lados superiores, da positivo si es un top edge y negativo si es un bottom edge"
   ]
  },
  {
   "cell_type": "markdown",
   "id": "a171db0a",
   "metadata": {},
   "source": [
    "Ahora vamos a definir una función que haga esa multiplicación del kernel por nosotros"
   ]
  },
  {
   "cell_type": "code",
   "execution_count": 179,
   "id": "e90768b3",
   "metadata": {},
   "outputs": [],
   "source": [
    "def apply_kernel(row, col, kernel): return (im3[row-1:row+2,col-1:col+2] * kernel).sum()"
   ]
  },
  {
   "cell_type": "markdown",
   "id": "03774d20",
   "metadata": {},
   "source": [
    "Y le pasamos el centro donde queremos aplicar el kernel, por ejemplo para aplica el que tenemos arriba (im3[3:6, 14:17]) le pasamos el centro (4,16)"
   ]
  },
  {
   "cell_type": "code",
   "execution_count": 180,
   "id": "c456f87f",
   "metadata": {},
   "outputs": [
    {
     "data": {
      "text/plain": [
       "tensor(2.97)"
      ]
     },
     "execution_count": 180,
     "metadata": {},
     "output_type": "execute_result"
    }
   ],
   "source": [
    "apply_kernel(4,15,top_edge)"
   ]
  },
  {
   "cell_type": "markdown",
   "id": "64e7c3b6",
   "metadata": {},
   "source": [
    "Aquí estamos haciendo una list comprehension inside a list comprehension que nos devuelve las tuplas\n"
   ]
  },
  {
   "cell_type": "code",
   "execution_count": 181,
   "id": "f91e2f1a",
   "metadata": {},
   "outputs": [
    {
     "data": {
      "text/plain": [
       "[[(0, 0), (0, 1), (0, 2), (0, 3), (0, 4)],\n",
       " [(1, 0), (1, 1), (1, 2), (1, 3), (1, 4)],\n",
       " [(2, 0), (2, 1), (2, 2), (2, 3), (2, 4)],\n",
       " [(3, 0), (3, 1), (3, 2), (3, 3), (3, 4)],\n",
       " [(4, 0), (4, 1), (4, 2), (4, 3), (4, 4)]]"
      ]
     },
     "execution_count": 181,
     "metadata": {},
     "output_type": "execute_result"
    }
   ],
   "source": [
    "[[(i,j) for j in range(5)] for i in range(5)]"
   ]
  },
  {
   "cell_type": "markdown",
   "id": "e6c50f00",
   "metadata": {},
   "source": [
    "y aquí podemos aplicarlo con nuestro kernel"
   ]
  },
  {
   "cell_type": "code",
   "execution_count": 182,
   "id": "bd6bea1c",
   "metadata": {},
   "outputs": [
    {
     "data": {
      "image/png": "[encoded data removed]",
      "text/plain": [
       "<Figure size 448x336 with 1 Axes>"
      ]
     },
     "metadata": {},
     "output_type": "display_data"
    }
   ],
   "source": [
    "rng = range(1,27)\n",
    "top_edge3 = tensor([[apply_kernel(i,j,top_edge) for j in rng] for i in rng])\n",
    "show_image(top_edge3);"
   ]
  },
  {
   "cell_type": "markdown",
   "id": "ca60b876",
   "metadata": {},
   "source": [
    "Y lo que estamos haciendo aquí es resaltar las top edges y __esto es una convolutión__"
   ]
  },
  {
   "cell_type": "markdown",
   "id": "e0e19350",
   "metadata": {},
   "source": [
    "Ahora podemos hacer lo mismo con los bordes izquierdos"
   ]
  },
  {
   "cell_type": "code",
   "execution_count": 183,
   "id": "34e804ea",
   "metadata": {},
   "outputs": [],
   "source": [
    "left_edge = tensor([[-1,0,1],\n",
    "                    [-1,0,1],\n",
    "                    [-1,0,1]]).float()"
   ]
  },
  {
   "cell_type": "code",
   "execution_count": 184,
   "id": "0905430d",
   "metadata": {},
   "outputs": [
    {
     "data": {
      "image/png": "[encoded data removed]",
      "text/plain": [
       "<Figure size 448x336 with 1 Axes>"
      ]
     },
     "metadata": {},
     "output_type": "display_data"
    }
   ],
   "source": [
    "show_image(left_edge, noframe=False);"
   ]
  },
  {
   "cell_type": "code",
   "execution_count": 185,
   "id": "9363d468",
   "metadata": {},
   "outputs": [
    {
     "data": {
      "image/png": "[encoded data removed]",
      "text/plain": [
       "<Figure size 448x336 with 1 Axes>"
      ]
     },
     "metadata": {},
     "output_type": "display_data"
    }
   ],
   "source": [
    "left_edge3 = tensor([[apply_kernel(i,j,left_edge) for j in rng] for i in rng])\n",
    "show_image(left_edge3);"
   ]
  },
  {
   "cell_type": "markdown",
   "id": "ee89f9d6",
   "metadata": {},
   "source": [
    "Esto es basicamente lo que está pasando con todas estas convolutions"
   ]
  },
  {
   "cell_type": "markdown",
   "id": "15eb603f",
   "metadata": {},
   "source": [
    "### Convolutions in PyTorch"
   ]
  },
  {
   "cell_type": "code",
   "execution_count": 186,
   "id": "66da30f3",
   "metadata": {},
   "outputs": [],
   "source": [
    "import torch.nn.functional as F\n",
    "import torch"
   ]
  },
  {
   "attachments": {
    "image.png": {
     "image/png": "[encoded data removed]"
    }
   },
   "cell_type": "markdown",
   "id": "6fb50db4",
   "metadata": {},
   "source": [
    "![image.png](attachment:image.png)"
   ]
  },
  {
   "cell_type": "markdown",
   "id": "375618ad",
   "metadata": {},
   "source": [
    "Here's a sample [numpy implementation](https://github.com/3outeille/CNNumpy/blob/5394f13e7ed67a808a3e39fd381f168825d65ff5/src/fast/utils.py#L360)."
   ]
  },
  {
   "cell_type": "markdown",
   "id": "26c9cfcd",
   "metadata": {},
   "source": [
    "Aquí lo que vamos a hacer es convertir todo el proceso de la convolution en una multiplicación de matrices"
   ]
  },
  {
   "cell_type": "code",
   "execution_count": 187,
   "id": "a0be5e19",
   "metadata": {},
   "outputs": [
    {
     "data": {
      "text/plain": [
       "torch.Size([28, 28])"
      ]
     },
     "execution_count": 187,
     "metadata": {},
     "output_type": "execute_result"
    }
   ],
   "source": [
    "im3.shape "
   ]
  },
  {
   "cell_type": "markdown",
   "id": "6318554f",
   "metadata": {},
   "source": [
    "Aquí le agregamos dimensiones a la imagen porque es algo que espera PyTorch para poder usar el unfold"
   ]
  },
  {
   "cell_type": "code",
   "execution_count": 188,
   "id": "b5e75cee",
   "metadata": {},
   "outputs": [
    {
     "data": {
      "text/plain": [
       "torch.Size([1, 1, 28, 28])"
      ]
     },
     "execution_count": 188,
     "metadata": {},
     "output_type": "execute_result"
    }
   ],
   "source": [
    "inp = im3[None,None,:,:].float()\n",
    "inp.shape"
   ]
  },
  {
   "cell_type": "code",
   "execution_count": 189,
   "id": "efb16491",
   "metadata": {},
   "outputs": [
    {
     "data": {
      "text/plain": [
       "torch.Size([9, 676])"
      ]
     },
     "execution_count": 189,
     "metadata": {},
     "output_type": "execute_result"
    }
   ],
   "source": [
    "inp_unf = F.unfold(inp, (3,3))[0]\n",
    "inp_unf.shape"
   ]
  },
  {
   "cell_type": "markdown",
   "id": "cb68252c",
   "metadata": {},
   "source": [
    "Aquí estamos convirtiendo nuestro kernel en un vector\n",
    "- `view` cambia la forma de un tensor, y con el -1 lo que estamos diciendo es que tire todo a esa dimensión"
   ]
  },
  {
   "cell_type": "code",
   "execution_count": 190,
   "id": "46aeb696",
   "metadata": {},
   "outputs": [
    {
     "data": {
      "text/plain": [
       "torch.Size([9])"
      ]
     },
     "execution_count": 190,
     "metadata": {},
     "output_type": "execute_result"
    }
   ],
   "source": [
    "w = left_edge.view(-1)\n",
    "w.shape"
   ]
  },
  {
   "cell_type": "markdown",
   "id": "36a01f93",
   "metadata": {},
   "source": [
    "Y aquí hacemos la multiplicación de matrices para que nos de el mismo resultado"
   ]
  },
  {
   "cell_type": "code",
   "execution_count": 191,
   "id": "8877e03c",
   "metadata": {},
   "outputs": [
    {
     "data": {
      "text/plain": [
       "torch.Size([676])"
      ]
     },
     "execution_count": 191,
     "metadata": {},
     "output_type": "execute_result"
    }
   ],
   "source": [
    "out_unf = w@inp_unf\n",
    "out_unf.shape"
   ]
  },
  {
   "cell_type": "code",
   "execution_count": 192,
   "id": "0e783ede",
   "metadata": {},
   "outputs": [
    {
     "data": {
      "image/png": "[encoded data removed]",
      "text/plain": [
       "<Figure size 448x336 with 1 Axes>"
      ]
     },
     "metadata": {},
     "output_type": "display_data"
    }
   ],
   "source": [
    "out = out_unf.view(26,26)\n",
    "show_image(out);"
   ]
  },
  {
   "cell_type": "code",
   "execution_count": 193,
   "id": "40b182b0",
   "metadata": {},
   "outputs": [
    {
     "name": "stdout",
     "output_type": "stream",
     "text": [
      "19.3 ms ± 1.12 ms per loop (mean ± std. dev. of 7 runs, 1 loop each)\n"
     ]
    }
   ],
   "source": [
    "%timeit -n 1 tensor([[apply_kernel(i,j,left_edge) for j in rng] for i in rng]);"
   ]
  },
  {
   "cell_type": "code",
   "execution_count": 194,
   "id": "68c89999",
   "metadata": {
    "scrolled": true
   },
   "outputs": [
    {
     "name": "stdout",
     "output_type": "stream",
     "text": [
      "116 µs ± 35.5 µs per loop (mean ± std. dev. of 7 runs, 100 loops each)\n"
     ]
    }
   ],
   "source": [
    "%timeit -n 100 (w@F.unfold(inp, (3,3))[0]).view(26,26);"
   ]
  },
  {
   "cell_type": "markdown",
   "id": "cee57eb8",
   "metadata": {},
   "source": [
    "Y como se puede ver en los resultados de tiempo este proceso es mucho más rapido que nuestra implementación from scratch"
   ]
  },
  {
   "cell_type": "markdown",
   "id": "3f831e00",
   "metadata": {},
   "source": [
    "Pytorch ya tiene su implementación de las convolutions usando `F.conv2d`"
   ]
  },
  {
   "cell_type": "code",
   "execution_count": 195,
   "id": "258f8905",
   "metadata": {},
   "outputs": [
    {
     "name": "stdout",
     "output_type": "stream",
     "text": [
      "56.5 µs ± 13.8 µs per loop (mean ± std. dev. of 7 runs, 100 loops each)\n"
     ]
    }
   ],
   "source": [
    "%timeit -n 100 F.conv2d(inp, left_edge[None,None])"
   ]
  },
  {
   "cell_type": "code",
   "execution_count": 196,
   "id": "ffa3171b",
   "metadata": {},
   "outputs": [],
   "source": [
    "diag1_edge = tensor([[ 0,-1, 1],\n",
    "                     [-1, 1, 0],\n",
    "                     [ 1, 0, 0]]).float()"
   ]
  },
  {
   "cell_type": "code",
   "execution_count": 197,
   "id": "fd897640",
   "metadata": {},
   "outputs": [
    {
     "data": {
      "image/png": "[encoded data removed]",
      "text/plain": [
       "<Figure size 448x336 with 1 Axes>"
      ]
     },
     "metadata": {},
     "output_type": "display_data"
    }
   ],
   "source": [
    "show_image(diag1_edge, noframe=False);"
   ]
  },
  {
   "cell_type": "code",
   "execution_count": 198,
   "id": "7ef8340c",
   "metadata": {},
   "outputs": [],
   "source": [
    "diag2_edge = tensor([[ 1,-1, 0],\n",
    "                     [ 0, 1,-1],\n",
    "                     [ 0, 0, 1]]).float()"
   ]
  },
  {
   "cell_type": "code",
   "execution_count": 199,
   "id": "c8c8eb1f",
   "metadata": {},
   "outputs": [
    {
     "data": {
      "image/png": "[encoded data removed]",
      "text/plain": [
       "<Figure size 448x336 with 1 Axes>"
      ]
     },
     "metadata": {},
     "output_type": "display_data"
    }
   ],
   "source": [
    "show_image(diag2_edge, noframe=False);"
   ]
  },
  {
   "cell_type": "code",
   "execution_count": 200,
   "id": "c9eb194b",
   "metadata": {},
   "outputs": [
    {
     "data": {
      "text/plain": [
       "torch.Size([16, 1, 28, 28])"
      ]
     },
     "execution_count": 200,
     "metadata": {},
     "output_type": "execute_result"
    }
   ],
   "source": [
    "xb = x_imgs[:16][:,None]\n",
    "xb.shape"
   ]
  },
  {
   "cell_type": "code",
   "execution_count": 201,
   "id": "5411cd63",
   "metadata": {},
   "outputs": [
    {
     "data": {
      "text/plain": [
       "torch.Size([4, 1, 3, 3])"
      ]
     },
     "execution_count": 201,
     "metadata": {},
     "output_type": "execute_result"
    }
   ],
   "source": [
    "edge_kernels = torch.stack([left_edge, top_edge, diag1_edge, diag2_edge])[:,None]\n",
    "edge_kernels.shape"
   ]
  },
  {
   "cell_type": "code",
   "execution_count": 202,
   "id": "91b971e9",
   "metadata": {},
   "outputs": [
    {
     "data": {
      "text/plain": [
       "torch.Size([16, 4, 26, 26])"
      ]
     },
     "execution_count": 202,
     "metadata": {},
     "output_type": "execute_result"
    }
   ],
   "source": [
    "batch_features = F.conv2d(xb, edge_kernels)\n",
    "batch_features.shape"
   ]
  },
  {
   "cell_type": "markdown",
   "id": "b67191fe",
   "metadata": {},
   "source": [
    "The output shape shows we gave 64 images in the mini-batch, 4 kernels, and 26×26 edge maps (we started with 28×28 images, but lost one pixel from each side as discussed earlier). We can see we get the same results as when we did this manually:"
   ]
  },
  {
   "cell_type": "code",
   "execution_count": 203,
   "id": "c598af1c",
   "metadata": {
    "scrolled": true
   },
   "outputs": [
    {
     "data": {
      "image/png": "[encoded data removed]",
      "text/plain": [
       "<Figure size 448x336 with 1 Axes>"
      ]
     },
     "metadata": {},
     "output_type": "display_data"
    }
   ],
   "source": [
    "img0 = xb[1,0]\n",
    "show_image(img0);"
   ]
  },
  {
   "cell_type": "code",
   "execution_count": 204,
   "id": "f6924429",
   "metadata": {},
   "outputs": [
    {
     "data": {
      "image/png": "[encoded data removed]",
      "text/plain": [
       "<Figure size 420x420 with 4 Axes>"
      ]
     },
     "metadata": {},
     "output_type": "display_data"
    }
   ],
   "source": [
    "show_images([batch_features[1,i] for i in range(4)])"
   ]
  },
  {
   "cell_type": "markdown",
   "id": "2366c3df",
   "metadata": {},
   "source": [
    "### Strides and Padding"
   ]
  },
  {
   "cell_type": "markdown",
   "id": "030cd31c",
   "metadata": {},
   "source": [
    "No hay necesidad de mover la matriz de a uno, se puede hacer de diferentes numeros y eso es llamado the _stride_"
   ]
  },
  {
   "cell_type": "markdown",
   "id": "6cfedabe",
   "metadata": {},
   "source": [
    "## Creating the CNN"
   ]
  },
  {
   "cell_type": "code",
   "execution_count": 205,
   "id": "06929e2d",
   "metadata": {},
   "outputs": [],
   "source": [
    "n,m = x_train.shape\n",
    "c = y_train.max()+1\n",
    "nh = 50"
   ]
  },
  {
   "cell_type": "code",
   "execution_count": 206,
   "id": "9c752197",
   "metadata": {},
   "outputs": [],
   "source": [
    "model = nn.Sequential(nn.Linear(m,nh), nn.ReLU(), nn.Linear(nh,10))"
   ]
  },
  {
   "cell_type": "code",
   "execution_count": 207,
   "id": "e70f90db",
   "metadata": {},
   "outputs": [],
   "source": [
    "broken_cnn = nn.Sequential(\n",
    "    nn.Conv2d(1,30, kernel_size=3, padding=1),\n",
    "    nn.ReLU(),\n",
    "    nn.Conv2d(30,10, kernel_size=3, padding=1)\n",
    ")"
   ]
  },
  {
   "cell_type": "code",
   "execution_count": 208,
   "id": "e09d359d",
   "metadata": {},
   "outputs": [
    {
     "data": {
      "text/plain": [
       "torch.Size([16, 10, 28, 28])"
      ]
     },
     "execution_count": 208,
     "metadata": {},
     "output_type": "execute_result"
    }
   ],
   "source": [
    "broken_cnn(xb).shape"
   ]
  },
  {
   "cell_type": "markdown",
   "id": "dd66a1bd",
   "metadata": {},
   "source": [
    "Así es como definiamos antes nuestro modelos, pero con una CNN no es tan simple, para hacer nuestra vida más simple vamos a hacer la siguiente función y con la etiqueta de _`#|export`_ para nuestra librería de miniai"
   ]
  },
  {
   "cell_type": "markdown",
   "id": "569f0cb6",
   "metadata": {},
   "source": [
    "- `ni`: number of inputs\n",
    "- `nf`: Number of filters, es una manera de decir la cantidad de channels que tendrá nuestra conv net, es como decir el number of outputs\n",
    "- `ks`: kernel size\n",
    "- `stride`: Lo que vimos arriba\n",
    "- `act`: Activation, esto decide si luego de nuestra conv net se va a activar un ReLU"
   ]
  },
  {
   "cell_type": "code",
   "execution_count": 209,
   "id": "236deb48",
   "metadata": {},
   "outputs": [],
   "source": [
    "def conv(ni, nf, ks=3, stride=2, act=True):\n",
    "    res = nn.Conv2d(ni, nf, stride=stride, kernel_size=ks, padding=ks//2)\n",
    "    if act: res = nn.Sequential(res, nn.ReLU())\n",
    "    return res"
   ]
  },
  {
   "cell_type": "markdown",
   "id": "0d1b4438",
   "metadata": {},
   "source": [
    "## Entrenando la CNN"
   ]
  },
  {
   "cell_type": "code",
   "execution_count": 210,
   "id": "694b2e3f",
   "metadata": {},
   "outputs": [],
   "source": [
    "learning_rate = 0.4"
   ]
  },
  {
   "cell_type": "code",
   "execution_count": 211,
   "id": "15f84902",
   "metadata": {},
   "outputs": [],
   "source": [
    "cnn = nn.Sequential(\n",
    "    conv(1 ,4),            #14x14\n",
    "    conv(4 ,8),            #7x7\n",
    "    conv(8 ,16),           #4x4\n",
    "    conv(16,16),           #2x2\n",
    "    conv(16,10, act=False),\n",
    "    nn.Flatten()).to(def_device)"
   ]
  },
  {
   "cell_type": "code",
   "execution_count": 212,
   "id": "6a7fd4aa",
   "metadata": {
    "scrolled": true
   },
   "outputs": [
    {
     "name": "stdout",
     "output_type": "stream",
     "text": [
      "0 0.7604680015563965 0.704\n",
      "1 0.5455606720924377 0.8041\n",
      "2 0.4685450321674347 0.8297\n",
      "3 0.4387235179901123 0.8399\n",
      "4 0.42149679222106934 0.8451\n"
     ]
    }
   ],
   "source": [
    "opt = optim.SGD(cnn.parameters(), lr=learning_rate)\n",
    "loss,acc = fit(5, cnn, F.cross_entropy, opt, dt, dv)"
   ]
  },
  {
   "cell_type": "code",
   "execution_count": 213,
   "id": "1599564a",
   "metadata": {
    "scrolled": true
   },
   "outputs": [
    {
     "data": {
      "text/plain": [
       "{'image': <PIL.PngImagePlugin.PngImageFile image mode=L size=28x28>,\n",
       " 'label': 9}"
      ]
     },
     "execution_count": 213,
     "metadata": {},
     "output_type": "execute_result"
    }
   ],
   "source": [
    "dsd['train'][0]"
   ]
  },
  {
   "cell_type": "markdown",
   "id": "560d2509",
   "metadata": {},
   "source": [
    "## Autoencoder"
   ]
  },
  {
   "cell_type": "markdown",
   "id": "f1611a78",
   "metadata": {},
   "source": [
    "Aqui vamos a crear una `deconvolutional function`, que hará lo contrario de la convolution que definimos antes"
   ]
  },
  {
   "cell_type": "code",
   "execution_count": 214,
   "id": "2f78513c",
   "metadata": {},
   "outputs": [],
   "source": [
    "def deconv(ni, nf, ks=3, act=True):\n",
    "    layers = [nn.UpsamplingNearest2d(scale_factor=2),\n",
    "              nn.Conv2d(ni, nf, stride=1, kernel_size=ks, padding=ks//2)]\n",
    "    if act: layers.append(nn.ReLU())\n",
    "    return nn.Sequential(*layers)"
   ]
  },
  {
   "cell_type": "markdown",
   "id": "f7c4433f",
   "metadata": {},
   "source": [
    "Aquí definimos dos funciones para el `fit` que teníamos antes "
   ]
  },
  {
   "cell_type": "code",
   "execution_count": 215,
   "id": "a7dccd54",
   "metadata": {},
   "outputs": [],
   "source": [
    "def eval(model, loss_func, valid_dl, epoch=0):\n",
    "    model.eval()\n",
    "    with torch.no_grad():\n",
    "        tot_loss,count = 0.,0\n",
    "        for xb,_ in valid_dl:\n",
    "            pred = model(xb)\n",
    "            n = len(xb)\n",
    "            count += n\n",
    "            tot_loss += loss_func(pred,xb).item()*n\n",
    "    print(epoch, f'{tot_loss/count:.3f}')"
   ]
  },
  {
   "cell_type": "markdown",
   "id": "12df647e",
   "metadata": {},
   "source": [
    "La diferencia es que ahora en la parte de `Loss` no se está calculando un loss con respecto a un validation set, sino que se está comparando consigo mismo, porque necesitamos entrenarlo para que recree lo que le entro, así funciona un autoencoder"
   ]
  },
  {
   "cell_type": "code",
   "execution_count": 216,
   "id": "9ca68cbf",
   "metadata": {},
   "outputs": [],
   "source": [
    "def fit(epochs, model, loss_func, opt, train_dl, valid_dl):\n",
    "    for epoch in range(epochs):\n",
    "        model.train()\n",
    "        for xb,_ in train_dl:\n",
    "            loss = loss_func(model(xb), xb)\n",
    "            loss.backward()\n",
    "            opt.step()\n",
    "            opt.zero_grad()\n",
    "        eval(model, loss_func, valid_dl, epoch)"
   ]
  },
  {
   "cell_type": "markdown",
   "id": "f0ab0229",
   "metadata": {},
   "source": [
    "Y Aquí definimos nuestro Autoencoder\n",
    "\n",
    "`nn.Sigmoid` hace que todos los valores estén dentro de 0 y 1"
   ]
  },
  {
   "cell_type": "code",
   "execution_count": 217,
   "id": "8eaa59af",
   "metadata": {},
   "outputs": [],
   "source": [
    "autoencoder = nn.Sequential(   #28x28\n",
    "    nn.ZeroPad2d(2),  #32x32\n",
    "    conv(1,2),        #16x16\n",
    "    conv(2,4),        #8x8\n",
    "#     conv(4,8),        #4x4\n",
    "#     deconv(8,4),      #8x8\n",
    "    deconv(4,2),      #16x16\n",
    "    deconv(2,1, act=False), #32x32\n",
    "    nn.ZeroPad2d(-2), #28x28\n",
    "    nn.Sigmoid()\n",
    ").to(def_device)"
   ]
  },
  {
   "cell_type": "code",
   "execution_count": 218,
   "id": "8b4f58f3",
   "metadata": {
    "scrolled": true
   },
   "outputs": [
    {
     "name": "stdout",
     "output_type": "stream",
     "text": [
      "0 0.179\n"
     ]
    }
   ],
   "source": [
    "eval(autoencoder, F.mse_loss, dv)"
   ]
  },
  {
   "cell_type": "code",
   "execution_count": 219,
   "id": "ffe37104",
   "metadata": {},
   "outputs": [
    {
     "name": "stdout",
     "output_type": "stream",
     "text": [
      "0 0.015\n",
      "1 0.013\n",
      "2 0.013\n",
      "3 0.012\n",
      "4 0.012\n"
     ]
    }
   ],
   "source": [
    "opt = optim.AdamW(autoencoder.parameters(), lr=0.01)\n",
    "fit(5, autoencoder, F.mse_loss, opt, dt, dv)"
   ]
  },
  {
   "cell_type": "code",
   "execution_count": 220,
   "id": "19082f0e",
   "metadata": {},
   "outputs": [
    {
     "name": "stdout",
     "output_type": "stream",
     "text": [
      "0 0.012\n",
      "1 0.012\n",
      "2 0.012\n",
      "3 0.012\n",
      "4 0.012\n"
     ]
    }
   ],
   "source": [
    "opt = optim.SGD(autoencoder.parameters(), lr=0.1)\n",
    "fit(5, autoencoder, F.mse_loss, opt, dt, dv)"
   ]
  },
  {
   "cell_type": "code",
   "execution_count": 221,
   "id": "c78c145f",
   "metadata": {
    "scrolled": true
   },
   "outputs": [
    {
     "data": {
      "image/png": "[encoded data removed]",
      "text/plain": [
       "<Figure size 420x420 with 16 Axes>"
      ]
     },
     "metadata": {},
     "output_type": "display_data"
    }
   ],
   "source": [
    "p = autoencoder(x_batch)\n",
    "show_images(p[:16].data.cpu(), imsize=1.5)"
   ]
  },
  {
   "cell_type": "code",
   "execution_count": 222,
   "id": "65b5c3b2",
   "metadata": {
    "scrolled": true
   },
   "outputs": [
    {
     "data": {
      "image/png": "[encoded data removed]",
      "text/plain": [
       "<Figure size 420x420 with 16 Axes>"
      ]
     },
     "metadata": {},
     "output_type": "display_data"
    }
   ],
   "source": [
    "show_images(x_batch[:16].data.cpu(), imsize=1.5)"
   ]
  },
  {
   "cell_type": "code",
   "execution_count": null,
   "id": "16f90ac0",
   "metadata": {},
   "outputs": [],
   "source": []
  }
 ],
 "metadata": {
  "kernelspec": {
   "display_name": "Python 3 (ipykernel)",
   "language": "python",
   "name": "python3"
  },
  "language_info": {
   "codemirror_mode": {
    "name": "ipython",
    "version": 3
   },
   "file_extension": ".py",
   "mimetype": "text/x-python",
   "name": "python",
   "nbconvert_exporter": "python",
   "pygments_lexer": "ipython3",
   "version": "3.11.7"
  }
 },
 "nbformat": 4,
 "nbformat_minor": 5
}
